{
  "cells": [
    {
      "cell_type": "code",
      "execution_count": null,
      "metadata": {
        "id": "f1d0d95e-fb94-4b12-90ab-64bf3dc9920c"
      },
      "outputs": [],
      "source": [
        "import requests\n",
        "from bs4 import BeautifulSoup\n",
        "from multiprocessing.dummy import Pool as ThreadPool\n",
        "import time\n",
        "from itertools import chain\n",
        "import re\n",
        "import json\n",
        "import numpy as np\n",
        "import pandas as pd\n",
        "import nltk\n",
        "from nltk.corpus import stopwords\n",
        "from nltk.stem import WordNetLemmatizer\n",
        "from nltk.tokenize import word_tokenize\n",
        "from nltk.stem.snowball import SnowballStemmer\n",
        "from sklearn.feature_extraction.text import TfidfVectorizer\n",
        "from sklearn.model_selection import train_test_split, RepeatedStratifiedKFold, cross_val_score, GridSearchCV\n",
        "import matplotlib.pyplot as plt\n",
        "from imblearn.over_sampling import SMOTE\n",
        "from sklearn.metrics import accuracy_score, confusion_matrix, classification_report\n",
        "import seaborn as sns"
      ],
      "id": "f1d0d95e-fb94-4b12-90ab-64bf3dc9920c"
    },
    {
      "cell_type": "markdown",
      "metadata": {
        "id": "46e2064f-6451-404a-8097-ac80b25bca47"
      },
      "source": [
        "# Парсинг данных"
      ],
      "id": "46e2064f-6451-404a-8097-ac80b25bca47"
    },
    {
      "cell_type": "code",
      "source": [
        "pool = ThreadPool(80)\n",
        "urls = [f\"https://www.banki.ru/services/responses/bank/alfabank/?page={i}\" for i in range(1, 81)]\n",
        "start_time1 = time.time()\n",
        "results = pool.map(requests.get, urls)\n",
        "start_time2 = time.time()\n",
        "print(f\"Время отправки и получения запросов: {start_time2-start_time1} секунд.\")\n",
        "bs_results = pool.map(BeautifulSoup, [res.text for res in results])\n",
        "start_time3 = time.time()\n",
        "print(f\"Время обработки полученных запросов: {start_time3-start_time2} секунд.\")\n",
        "pool.close()\n",
        "pool.join()\n",
        "len(bs_results)"
      ],
      "metadata": {
        "colab": {
          "base_uri": "https://localhost:8080/"
        },
        "id": "Z8b7Wr2OFEi_",
        "outputId": "0b9cf377-f265-4fc0-e8b3-bd7617087e51"
      },
      "id": "Z8b7Wr2OFEi_",
      "execution_count": null,
      "outputs": [
        {
          "output_type": "stream",
          "name": "stdout",
          "text": [
            "Время отправки и получения запросов: 27.220414400100708 секунд.\n"
          ]
        },
        {
          "output_type": "stream",
          "name": "stderr",
          "text": [
            "/usr/lib/python3.10/multiprocessing/pool.py:48: GuessedAtParserWarning: No parser was explicitly specified, so I'm using the best available HTML parser for this system (\"lxml\"). This usually isn't a problem, but if you run this code on another system, or in a different virtual environment, it may use a different parser and behave differently.\n",
            "\n",
            "The code that caused this warning is on line 48 of the file /usr/lib/python3.10/multiprocessing/pool.py. To get rid of this warning, pass the additional argument 'features=\"lxml\"' to the BeautifulSoup constructor.\n",
            "\n",
            "  return list(map(*args))\n"
          ]
        },
        {
          "output_type": "stream",
          "name": "stdout",
          "text": [
            "Время обработки полученных запросов: 16.302439212799072 секунд.\n"
          ]
        },
        {
          "output_type": "execute_result",
          "data": {
            "text/plain": [
              "80"
            ]
          },
          "metadata": {},
          "execution_count": 2
        }
      ]
    },
    {
      "cell_type": "code",
      "execution_count": null,
      "metadata": {
        "colab": {
          "base_uri": "https://localhost:8080/"
        },
        "id": "6e5ca3d8-5403-4bbe-acd8-76781d3e03f0",
        "outputId": "725ce043-8234-4770-ed7e-03e088efb78c"
      },
      "outputs": [
        {
          "output_type": "execute_result",
          "data": {
            "text/plain": [
              "(2000, 'https://www.banki.ru/services/responses/bank/response/11115860/')"
            ]
          },
          "metadata": {},
          "execution_count": 3
        }
      ],
      "source": [
        "bs_links = list(filter(lambda x: x,\n",
        "                      (map(lambda x: \"https://www.banki.ru\" + x.find(\"a\", {\"class\": \"link-simple\"})['href']\n",
        "                      if x.find(\"a\", {\"class\": \"link-simple\"}) else None,\n",
        "                      chain.from_iterable([bs.find_all(\"div\", {\"class\": \"la8a5ef73\"}) for bs in bs_results])))))\n",
        "len(bs_links), bs_links[0]"
      ],
      "id": "6e5ca3d8-5403-4bbe-acd8-76781d3e03f0"
    },
    {
      "cell_type": "code",
      "execution_count": null,
      "metadata": {
        "id": "srxIzwDvBY1g",
        "colab": {
          "base_uri": "https://localhost:8080/"
        },
        "outputId": "cc9dbab6-a0cc-4709-b3b8-8a05de4e8b0b"
      },
      "outputs": [
        {
          "output_type": "stream",
          "name": "stdout",
          "text": [
            "1/25\n",
            "2/25\n",
            "3/25\n",
            "4/25\n",
            "5/25\n",
            "6/25\n",
            "7/25\n",
            "8/25\n",
            "9/25\n",
            "10/25\n",
            "11/25\n",
            "12/25\n",
            "13/25\n",
            "14/25\n",
            "15/25\n",
            "16/25\n",
            "17/25\n",
            "18/25\n",
            "19/25\n",
            "20/25\n",
            "21/25\n",
            "22/25\n",
            "23/25\n",
            "24/25\n",
            "25/25\n",
            "Время получения ссылок: 407.1162357330322 секунд.\n"
          ]
        },
        {
          "output_type": "execute_result",
          "data": {
            "text/plain": [
              "2000"
            ]
          },
          "metadata": {},
          "execution_count": 4
        }
      ],
      "source": [
        "start_time = time.time()\n",
        "pool = ThreadPool(80)\n",
        "bs_reviews = []\n",
        "for i in range(25):\n",
        "  bs_reviews = list(chain(bs_reviews, pool.map(requests.get, [link for link in bs_links[i*80:80*(i+1)]])))\n",
        "  print(f\"{i+1}/25\")\n",
        "pool.close()\n",
        "end_time = time.time()\n",
        "print(f\"Время получения ссылок: {end_time-start_time} секунд.\")\n",
        "len(bs_reviews)"
      ],
      "id": "srxIzwDvBY1g"
    },
    {
      "cell_type": "code",
      "source": [
        "#Получаем данные отзыва в формате json\n",
        "data = json.loads('[' + re.sub(r'[\\n\\r/\\xa0\\\\\\t]', '', ','.join([\"\".join(BeautifulSoup(review.text).find(\"main\", {\"class\": \"page-container__body\"}).find(\"script\", {\"type\": \"application/ld+json\"}, 'html.parser').contents) for review in bs_reviews]).replace(\"&lt;\", \"\").replace('p&gt;', \"\").replace(\"/p&gt;\", \"\")) + ']')\n",
        "data[0]"
      ],
      "metadata": {
        "id": "oVLXLCiNseLF",
        "colab": {
          "base_uri": "https://localhost:8080/"
        },
        "outputId": "decc3f6a-5e9e-4c8c-d036-7694d3fe3267"
      },
      "id": "oVLXLCiNseLF",
      "execution_count": null,
      "outputs": [
        {
          "output_type": "execute_result",
          "data": {
            "text/plain": [
              "{'@context': 'https:schema.org',\n",
              " '@type': 'Review',\n",
              " 'itemReviewed': {'@type': 'Organization', 'name': 'Альфа-Банк'},\n",
              " 'reviewRating': {'@type': 'Rating',\n",
              "  'bestRating': '5',\n",
              "  'ratingValue': '1',\n",
              "  'worstRating': '1'},\n",
              " 'name': 'Реферальная программа приведи друга и невыполнение условий по ней',\n",
              " 'author': {'@type': 'Person',\n",
              "  'name': 'user-690015321985',\n",
              "  'reviewBody': 'Добрый день.Хочу поделиться отзывом о реферальной программе банка. В целом она прекрасна, за дебетовую карту вы получаете 1500, друг 500, за кредитную 2500, друг так же 500.Но есть одно НО! По какой-то причине банк решил не выплачивать вознаграждение ни мне ни другу, хотя все условия были выполнены в полном объеме. Когда я обратился в службу поддержки, то мне посочувствовали, пообещали принять меры в будущем. Это все прекрасно, а общанные выплаты где? Кажется должно быть все честно, разве нет? После повторного обращения по этому же вопросу от 7 сентября, ответа я так и не получил... Продолжаю ждать и надеяться на справедливый исход.'}}"
            ]
          },
          "metadata": {},
          "execution_count": 5
        }
      ]
    },
    {
      "cell_type": "code",
      "source": [
        "len(data)"
      ],
      "metadata": {
        "colab": {
          "base_uri": "https://localhost:8080/"
        },
        "id": "jwk915iZ5ZK1",
        "outputId": "3be26932-c3f5-4dd9-e173-d6a651b37c28"
      },
      "id": "jwk915iZ5ZK1",
      "execution_count": null,
      "outputs": [
        {
          "output_type": "execute_result",
          "data": {
            "text/plain": [
              "2000"
            ]
          },
          "metadata": {},
          "execution_count": 6
        }
      ]
    },
    {
      "cell_type": "markdown",
      "source": [
        "# Удаление лишних данных"
      ],
      "metadata": {
        "id": "FfE6Bh6D0nOI"
      },
      "id": "FfE6Bh6D0nOI"
    },
    {
      "cell_type": "code",
      "source": [
        "df = pd.json_normalize(data)\n",
        "df.head()"
      ],
      "metadata": {
        "colab": {
          "base_uri": "https://localhost:8080/",
          "height": 449
        },
        "id": "rkSj_P7W6nQm",
        "outputId": "c94fea6e-6426-4ea8-d4b0-2d70a46a0a08"
      },
      "id": "rkSj_P7W6nQm",
      "execution_count": null,
      "outputs": [
        {
          "output_type": "execute_result",
          "data": {
            "text/plain": [
              "           @context   @type  \\\n",
              "0  https:schema.org  Review   \n",
              "1  https:schema.org  Review   \n",
              "2  https:schema.org  Review   \n",
              "3  https:schema.org  Review   \n",
              "4  https:schema.org  Review   \n",
              "\n",
              "                                                name itemReviewed.@type  \\\n",
              "0  Реферальная программа приведи друга и невыполн...       Organization   \n",
              "1       Это было самое быстрое решение моего вопроса       Organization   \n",
              "2                   Невыплата бонуса за рекомендацию       Organization   \n",
              "3  Любая консультация онлайн, без звонка и посеще...       Organization   \n",
              "4   Ужасное отношение, неправомерно забирают деньги!       Organization   \n",
              "\n",
              "  itemReviewed.name reviewRating.@type reviewRating.bestRating  \\\n",
              "0        Альфа-Банк             Rating                       5   \n",
              "1        Альфа-Банк             Rating                       5   \n",
              "2        Альфа-Банк             Rating                       5   \n",
              "3        Альфа-Банк             Rating                       5   \n",
              "4        Альфа-Банк             Rating                       5   \n",
              "\n",
              "  reviewRating.ratingValue reviewRating.worstRating author.@type  \\\n",
              "0                        1                        1       Person   \n",
              "1                        5                        1       Person   \n",
              "2                        2                        1       Person   \n",
              "3                        4                        1       Person   \n",
              "4                        1                        1       Person   \n",
              "\n",
              "         author.name                                  author.reviewBody  \n",
              "0  user-690015321985  Добрый день.Хочу поделиться отзывом о рефераль...  \n",
              "1   user-18439682174  15 сентября обратилась в чат мобильного прилож...  \n",
              "2        user2203223  С банком знакома давно и пользуюсь услугами,вс...  \n",
              "3  user-825111845185  Очень удобно, что в наше время можно обратитьс...  \n",
              "4      user-15293283  14 сентября 2023 примерно в 14.30 снимал скруп...  "
            ],
            "text/html": [
              "\n",
              "  <div id=\"df-f66d9049-c7bf-47ec-8927-c38ed54aa96b\" class=\"colab-df-container\">\n",
              "    <div>\n",
              "<style scoped>\n",
              "    .dataframe tbody tr th:only-of-type {\n",
              "        vertical-align: middle;\n",
              "    }\n",
              "\n",
              "    .dataframe tbody tr th {\n",
              "        vertical-align: top;\n",
              "    }\n",
              "\n",
              "    .dataframe thead th {\n",
              "        text-align: right;\n",
              "    }\n",
              "</style>\n",
              "<table border=\"1\" class=\"dataframe\">\n",
              "  <thead>\n",
              "    <tr style=\"text-align: right;\">\n",
              "      <th></th>\n",
              "      <th>@context</th>\n",
              "      <th>@type</th>\n",
              "      <th>name</th>\n",
              "      <th>itemReviewed.@type</th>\n",
              "      <th>itemReviewed.name</th>\n",
              "      <th>reviewRating.@type</th>\n",
              "      <th>reviewRating.bestRating</th>\n",
              "      <th>reviewRating.ratingValue</th>\n",
              "      <th>reviewRating.worstRating</th>\n",
              "      <th>author.@type</th>\n",
              "      <th>author.name</th>\n",
              "      <th>author.reviewBody</th>\n",
              "    </tr>\n",
              "  </thead>\n",
              "  <tbody>\n",
              "    <tr>\n",
              "      <th>0</th>\n",
              "      <td>https:schema.org</td>\n",
              "      <td>Review</td>\n",
              "      <td>Реферальная программа приведи друга и невыполн...</td>\n",
              "      <td>Organization</td>\n",
              "      <td>Альфа-Банк</td>\n",
              "      <td>Rating</td>\n",
              "      <td>5</td>\n",
              "      <td>1</td>\n",
              "      <td>1</td>\n",
              "      <td>Person</td>\n",
              "      <td>user-690015321985</td>\n",
              "      <td>Добрый день.Хочу поделиться отзывом о рефераль...</td>\n",
              "    </tr>\n",
              "    <tr>\n",
              "      <th>1</th>\n",
              "      <td>https:schema.org</td>\n",
              "      <td>Review</td>\n",
              "      <td>Это было самое быстрое решение моего вопроса</td>\n",
              "      <td>Organization</td>\n",
              "      <td>Альфа-Банк</td>\n",
              "      <td>Rating</td>\n",
              "      <td>5</td>\n",
              "      <td>5</td>\n",
              "      <td>1</td>\n",
              "      <td>Person</td>\n",
              "      <td>user-18439682174</td>\n",
              "      <td>15 сентября обратилась в чат мобильного прилож...</td>\n",
              "    </tr>\n",
              "    <tr>\n",
              "      <th>2</th>\n",
              "      <td>https:schema.org</td>\n",
              "      <td>Review</td>\n",
              "      <td>Невыплата бонуса за рекомендацию</td>\n",
              "      <td>Organization</td>\n",
              "      <td>Альфа-Банк</td>\n",
              "      <td>Rating</td>\n",
              "      <td>5</td>\n",
              "      <td>2</td>\n",
              "      <td>1</td>\n",
              "      <td>Person</td>\n",
              "      <td>user2203223</td>\n",
              "      <td>С банком знакома давно и пользуюсь услугами,вс...</td>\n",
              "    </tr>\n",
              "    <tr>\n",
              "      <th>3</th>\n",
              "      <td>https:schema.org</td>\n",
              "      <td>Review</td>\n",
              "      <td>Любая консультация онлайн, без звонка и посеще...</td>\n",
              "      <td>Organization</td>\n",
              "      <td>Альфа-Банк</td>\n",
              "      <td>Rating</td>\n",
              "      <td>5</td>\n",
              "      <td>4</td>\n",
              "      <td>1</td>\n",
              "      <td>Person</td>\n",
              "      <td>user-825111845185</td>\n",
              "      <td>Очень удобно, что в наше время можно обратитьс...</td>\n",
              "    </tr>\n",
              "    <tr>\n",
              "      <th>4</th>\n",
              "      <td>https:schema.org</td>\n",
              "      <td>Review</td>\n",
              "      <td>Ужасное отношение, неправомерно забирают деньги!</td>\n",
              "      <td>Organization</td>\n",
              "      <td>Альфа-Банк</td>\n",
              "      <td>Rating</td>\n",
              "      <td>5</td>\n",
              "      <td>1</td>\n",
              "      <td>1</td>\n",
              "      <td>Person</td>\n",
              "      <td>user-15293283</td>\n",
              "      <td>14 сентября 2023 примерно в 14.30 снимал скруп...</td>\n",
              "    </tr>\n",
              "  </tbody>\n",
              "</table>\n",
              "</div>\n",
              "    <div class=\"colab-df-buttons\">\n",
              "\n",
              "  <div class=\"colab-df-container\">\n",
              "    <button class=\"colab-df-convert\" onclick=\"convertToInteractive('df-f66d9049-c7bf-47ec-8927-c38ed54aa96b')\"\n",
              "            title=\"Convert this dataframe to an interactive table.\"\n",
              "            style=\"display:none;\">\n",
              "\n",
              "  <svg xmlns=\"http://www.w3.org/2000/svg\" height=\"24px\" viewBox=\"0 -960 960 960\">\n",
              "    <path d=\"M120-120v-720h720v720H120Zm60-500h600v-160H180v160Zm220 220h160v-160H400v160Zm0 220h160v-160H400v160ZM180-400h160v-160H180v160Zm440 0h160v-160H620v160ZM180-180h160v-160H180v160Zm440 0h160v-160H620v160Z\"/>\n",
              "  </svg>\n",
              "    </button>\n",
              "\n",
              "  <style>\n",
              "    .colab-df-container {\n",
              "      display:flex;\n",
              "      gap: 12px;\n",
              "    }\n",
              "\n",
              "    .colab-df-convert {\n",
              "      background-color: #E8F0FE;\n",
              "      border: none;\n",
              "      border-radius: 50%;\n",
              "      cursor: pointer;\n",
              "      display: none;\n",
              "      fill: #1967D2;\n",
              "      height: 32px;\n",
              "      padding: 0 0 0 0;\n",
              "      width: 32px;\n",
              "    }\n",
              "\n",
              "    .colab-df-convert:hover {\n",
              "      background-color: #E2EBFA;\n",
              "      box-shadow: 0px 1px 2px rgba(60, 64, 67, 0.3), 0px 1px 3px 1px rgba(60, 64, 67, 0.15);\n",
              "      fill: #174EA6;\n",
              "    }\n",
              "\n",
              "    .colab-df-buttons div {\n",
              "      margin-bottom: 4px;\n",
              "    }\n",
              "\n",
              "    [theme=dark] .colab-df-convert {\n",
              "      background-color: #3B4455;\n",
              "      fill: #D2E3FC;\n",
              "    }\n",
              "\n",
              "    [theme=dark] .colab-df-convert:hover {\n",
              "      background-color: #434B5C;\n",
              "      box-shadow: 0px 1px 3px 1px rgba(0, 0, 0, 0.15);\n",
              "      filter: drop-shadow(0px 1px 2px rgba(0, 0, 0, 0.3));\n",
              "      fill: #FFFFFF;\n",
              "    }\n",
              "  </style>\n",
              "\n",
              "    <script>\n",
              "      const buttonEl =\n",
              "        document.querySelector('#df-f66d9049-c7bf-47ec-8927-c38ed54aa96b button.colab-df-convert');\n",
              "      buttonEl.style.display =\n",
              "        google.colab.kernel.accessAllowed ? 'block' : 'none';\n",
              "\n",
              "      async function convertToInteractive(key) {\n",
              "        const element = document.querySelector('#df-f66d9049-c7bf-47ec-8927-c38ed54aa96b');\n",
              "        const dataTable =\n",
              "          await google.colab.kernel.invokeFunction('convertToInteractive',\n",
              "                                                    [key], {});\n",
              "        if (!dataTable) return;\n",
              "\n",
              "        const docLinkHtml = 'Like what you see? Visit the ' +\n",
              "          '<a target=\"_blank\" href=https://colab.research.google.com/notebooks/data_table.ipynb>data table notebook</a>'\n",
              "          + ' to learn more about interactive tables.';\n",
              "        element.innerHTML = '';\n",
              "        dataTable['output_type'] = 'display_data';\n",
              "        await google.colab.output.renderOutput(dataTable, element);\n",
              "        const docLink = document.createElement('div');\n",
              "        docLink.innerHTML = docLinkHtml;\n",
              "        element.appendChild(docLink);\n",
              "      }\n",
              "    </script>\n",
              "  </div>\n",
              "\n",
              "\n",
              "<div id=\"df-805aef13-7534-4163-843c-28bb33e05d55\">\n",
              "  <button class=\"colab-df-quickchart\" onclick=\"quickchart('df-805aef13-7534-4163-843c-28bb33e05d55')\"\n",
              "            title=\"Suggest charts.\"\n",
              "            style=\"display:none;\">\n",
              "\n",
              "<svg xmlns=\"http://www.w3.org/2000/svg\" height=\"24px\"viewBox=\"0 0 24 24\"\n",
              "     width=\"24px\">\n",
              "    <g>\n",
              "        <path d=\"M19 3H5c-1.1 0-2 .9-2 2v14c0 1.1.9 2 2 2h14c1.1 0 2-.9 2-2V5c0-1.1-.9-2-2-2zM9 17H7v-7h2v7zm4 0h-2V7h2v10zm4 0h-2v-4h2v4z\"/>\n",
              "    </g>\n",
              "</svg>\n",
              "  </button>\n",
              "\n",
              "<style>\n",
              "  .colab-df-quickchart {\n",
              "      --bg-color: #E8F0FE;\n",
              "      --fill-color: #1967D2;\n",
              "      --hover-bg-color: #E2EBFA;\n",
              "      --hover-fill-color: #174EA6;\n",
              "      --disabled-fill-color: #AAA;\n",
              "      --disabled-bg-color: #DDD;\n",
              "  }\n",
              "\n",
              "  [theme=dark] .colab-df-quickchart {\n",
              "      --bg-color: #3B4455;\n",
              "      --fill-color: #D2E3FC;\n",
              "      --hover-bg-color: #434B5C;\n",
              "      --hover-fill-color: #FFFFFF;\n",
              "      --disabled-bg-color: #3B4455;\n",
              "      --disabled-fill-color: #666;\n",
              "  }\n",
              "\n",
              "  .colab-df-quickchart {\n",
              "    background-color: var(--bg-color);\n",
              "    border: none;\n",
              "    border-radius: 50%;\n",
              "    cursor: pointer;\n",
              "    display: none;\n",
              "    fill: var(--fill-color);\n",
              "    height: 32px;\n",
              "    padding: 0;\n",
              "    width: 32px;\n",
              "  }\n",
              "\n",
              "  .colab-df-quickchart:hover {\n",
              "    background-color: var(--hover-bg-color);\n",
              "    box-shadow: 0 1px 2px rgba(60, 64, 67, 0.3), 0 1px 3px 1px rgba(60, 64, 67, 0.15);\n",
              "    fill: var(--button-hover-fill-color);\n",
              "  }\n",
              "\n",
              "  .colab-df-quickchart-complete:disabled,\n",
              "  .colab-df-quickchart-complete:disabled:hover {\n",
              "    background-color: var(--disabled-bg-color);\n",
              "    fill: var(--disabled-fill-color);\n",
              "    box-shadow: none;\n",
              "  }\n",
              "\n",
              "  .colab-df-spinner {\n",
              "    border: 2px solid var(--fill-color);\n",
              "    border-color: transparent;\n",
              "    border-bottom-color: var(--fill-color);\n",
              "    animation:\n",
              "      spin 1s steps(1) infinite;\n",
              "  }\n",
              "\n",
              "  @keyframes spin {\n",
              "    0% {\n",
              "      border-color: transparent;\n",
              "      border-bottom-color: var(--fill-color);\n",
              "      border-left-color: var(--fill-color);\n",
              "    }\n",
              "    20% {\n",
              "      border-color: transparent;\n",
              "      border-left-color: var(--fill-color);\n",
              "      border-top-color: var(--fill-color);\n",
              "    }\n",
              "    30% {\n",
              "      border-color: transparent;\n",
              "      border-left-color: var(--fill-color);\n",
              "      border-top-color: var(--fill-color);\n",
              "      border-right-color: var(--fill-color);\n",
              "    }\n",
              "    40% {\n",
              "      border-color: transparent;\n",
              "      border-right-color: var(--fill-color);\n",
              "      border-top-color: var(--fill-color);\n",
              "    }\n",
              "    60% {\n",
              "      border-color: transparent;\n",
              "      border-right-color: var(--fill-color);\n",
              "    }\n",
              "    80% {\n",
              "      border-color: transparent;\n",
              "      border-right-color: var(--fill-color);\n",
              "      border-bottom-color: var(--fill-color);\n",
              "    }\n",
              "    90% {\n",
              "      border-color: transparent;\n",
              "      border-bottom-color: var(--fill-color);\n",
              "    }\n",
              "  }\n",
              "</style>\n",
              "\n",
              "  <script>\n",
              "    async function quickchart(key) {\n",
              "      const quickchartButtonEl =\n",
              "        document.querySelector('#' + key + ' button');\n",
              "      quickchartButtonEl.disabled = true;  // To prevent multiple clicks.\n",
              "      quickchartButtonEl.classList.add('colab-df-spinner');\n",
              "      try {\n",
              "        const charts = await google.colab.kernel.invokeFunction(\n",
              "            'suggestCharts', [key], {});\n",
              "      } catch (error) {\n",
              "        console.error('Error during call to suggestCharts:', error);\n",
              "      }\n",
              "      quickchartButtonEl.classList.remove('colab-df-spinner');\n",
              "      quickchartButtonEl.classList.add('colab-df-quickchart-complete');\n",
              "    }\n",
              "    (() => {\n",
              "      let quickchartButtonEl =\n",
              "        document.querySelector('#df-805aef13-7534-4163-843c-28bb33e05d55 button');\n",
              "      quickchartButtonEl.style.display =\n",
              "        google.colab.kernel.accessAllowed ? 'block' : 'none';\n",
              "    })();\n",
              "  </script>\n",
              "</div>\n",
              "    </div>\n",
              "  </div>\n"
            ]
          },
          "metadata": {},
          "execution_count": 7
        }
      ]
    },
    {
      "cell_type": "code",
      "source": [
        "df.isnull().sum()"
      ],
      "metadata": {
        "colab": {
          "base_uri": "https://localhost:8080/"
        },
        "id": "b1ksS2Oj7agB",
        "outputId": "843f1ad6-e20e-4d16-ce4f-809557ab00f8"
      },
      "id": "b1ksS2Oj7agB",
      "execution_count": null,
      "outputs": [
        {
          "output_type": "execute_result",
          "data": {
            "text/plain": [
              "@context                    0\n",
              "@type                       0\n",
              "name                        0\n",
              "itemReviewed.@type          0\n",
              "itemReviewed.name           0\n",
              "reviewRating.@type          0\n",
              "reviewRating.bestRating     0\n",
              "reviewRating.ratingValue    0\n",
              "reviewRating.worstRating    0\n",
              "author.@type                0\n",
              "author.name                 0\n",
              "author.reviewBody           0\n",
              "dtype: int64"
            ]
          },
          "metadata": {},
          "execution_count": 8
        }
      ]
    },
    {
      "cell_type": "code",
      "source": [
        "df.info()"
      ],
      "metadata": {
        "colab": {
          "base_uri": "https://localhost:8080/"
        },
        "id": "eAVakdbM7er9",
        "outputId": "e21ed793-e7be-47b7-c04b-10697116f066"
      },
      "id": "eAVakdbM7er9",
      "execution_count": null,
      "outputs": [
        {
          "output_type": "stream",
          "name": "stdout",
          "text": [
            "<class 'pandas.core.frame.DataFrame'>\n",
            "RangeIndex: 2000 entries, 0 to 1999\n",
            "Data columns (total 12 columns):\n",
            " #   Column                    Non-Null Count  Dtype \n",
            "---  ------                    --------------  ----- \n",
            " 0   @context                  2000 non-null   object\n",
            " 1   @type                     2000 non-null   object\n",
            " 2   name                      2000 non-null   object\n",
            " 3   itemReviewed.@type        2000 non-null   object\n",
            " 4   itemReviewed.name         2000 non-null   object\n",
            " 5   reviewRating.@type        2000 non-null   object\n",
            " 6   reviewRating.bestRating   2000 non-null   object\n",
            " 7   reviewRating.ratingValue  2000 non-null   object\n",
            " 8   reviewRating.worstRating  2000 non-null   object\n",
            " 9   author.@type              2000 non-null   object\n",
            " 10  author.name               2000 non-null   object\n",
            " 11  author.reviewBody         2000 non-null   object\n",
            "dtypes: object(12)\n",
            "memory usage: 187.6+ KB\n"
          ]
        }
      ]
    },
    {
      "cell_type": "markdown",
      "source": [
        "Во избежание избыточности признаков, по количеству уникальных значений можно отсечь некоторые данные, так как нас не интересуют колонки с только одним уникальным значением"
      ],
      "metadata": {
        "id": "2Oj7AFl96-o4"
      },
      "id": "2Oj7AFl96-o4"
    },
    {
      "cell_type": "code",
      "source": [
        "df.nunique()"
      ],
      "metadata": {
        "colab": {
          "base_uri": "https://localhost:8080/"
        },
        "id": "0-NHHCbX66IM",
        "outputId": "2ef0b2b2-a6d7-4427-e77a-cbf48e84c1d3"
      },
      "id": "0-NHHCbX66IM",
      "execution_count": null,
      "outputs": [
        {
          "output_type": "execute_result",
          "data": {
            "text/plain": [
              "@context                       1\n",
              "@type                          1\n",
              "name                        1734\n",
              "itemReviewed.@type             1\n",
              "itemReviewed.name              1\n",
              "reviewRating.@type             1\n",
              "reviewRating.bestRating        1\n",
              "reviewRating.ratingValue       5\n",
              "reviewRating.worstRating       1\n",
              "author.@type                   1\n",
              "author.name                 1859\n",
              "author.reviewBody           1999\n",
              "dtype: int64"
            ]
          },
          "metadata": {},
          "execution_count": 10
        }
      ]
    },
    {
      "cell_type": "code",
      "source": [
        "df.drop([\"@context\", \"@type\", \"itemReviewed.@type\", \"itemReviewed.name\", \"reviewRating.@type\",\"reviewRating.bestRating\", \"reviewRating.worstRating\", \"author.@type\"], axis=1, inplace=True)"
      ],
      "metadata": {
        "id": "WCFMVvWo8ilB"
      },
      "id": "WCFMVvWo8ilB",
      "execution_count": null,
      "outputs": []
    },
    {
      "cell_type": "markdown",
      "source": [
        "Также нас не интересуют имена пользователей, оставивших отзыв, ибо они не могут повлиять на обучение модели"
      ],
      "metadata": {
        "id": "iTGGbW0K8mD6"
      },
      "id": "iTGGbW0K8mD6"
    },
    {
      "cell_type": "code",
      "source": [
        "df.drop(\"author.name\", axis=1, inplace=True)\n",
        "df.head()"
      ],
      "metadata": {
        "colab": {
          "base_uri": "https://localhost:8080/",
          "height": 206
        },
        "id": "pKmBn9sz8lz_",
        "outputId": "3459f922-1af4-4012-ea06-aa1ec1d6a414"
      },
      "id": "pKmBn9sz8lz_",
      "execution_count": null,
      "outputs": [
        {
          "output_type": "execute_result",
          "data": {
            "text/plain": [
              "                                                name reviewRating.ratingValue  \\\n",
              "0  Реферальная программа приведи друга и невыполн...                        1   \n",
              "1       Это было самое быстрое решение моего вопроса                        5   \n",
              "2                   Невыплата бонуса за рекомендацию                        2   \n",
              "3  Любая консультация онлайн, без звонка и посеще...                        4   \n",
              "4   Ужасное отношение, неправомерно забирают деньги!                        1   \n",
              "\n",
              "                                   author.reviewBody  \n",
              "0  Добрый день.Хочу поделиться отзывом о рефераль...  \n",
              "1  15 сентября обратилась в чат мобильного прилож...  \n",
              "2  С банком знакома давно и пользуюсь услугами,вс...  \n",
              "3  Очень удобно, что в наше время можно обратитьс...  \n",
              "4  14 сентября 2023 примерно в 14.30 снимал скруп...  "
            ],
            "text/html": [
              "\n",
              "  <div id=\"df-9168f43a-04ac-4e8e-b850-a5763b689491\" class=\"colab-df-container\">\n",
              "    <div>\n",
              "<style scoped>\n",
              "    .dataframe tbody tr th:only-of-type {\n",
              "        vertical-align: middle;\n",
              "    }\n",
              "\n",
              "    .dataframe tbody tr th {\n",
              "        vertical-align: top;\n",
              "    }\n",
              "\n",
              "    .dataframe thead th {\n",
              "        text-align: right;\n",
              "    }\n",
              "</style>\n",
              "<table border=\"1\" class=\"dataframe\">\n",
              "  <thead>\n",
              "    <tr style=\"text-align: right;\">\n",
              "      <th></th>\n",
              "      <th>name</th>\n",
              "      <th>reviewRating.ratingValue</th>\n",
              "      <th>author.reviewBody</th>\n",
              "    </tr>\n",
              "  </thead>\n",
              "  <tbody>\n",
              "    <tr>\n",
              "      <th>0</th>\n",
              "      <td>Реферальная программа приведи друга и невыполн...</td>\n",
              "      <td>1</td>\n",
              "      <td>Добрый день.Хочу поделиться отзывом о рефераль...</td>\n",
              "    </tr>\n",
              "    <tr>\n",
              "      <th>1</th>\n",
              "      <td>Это было самое быстрое решение моего вопроса</td>\n",
              "      <td>5</td>\n",
              "      <td>15 сентября обратилась в чат мобильного прилож...</td>\n",
              "    </tr>\n",
              "    <tr>\n",
              "      <th>2</th>\n",
              "      <td>Невыплата бонуса за рекомендацию</td>\n",
              "      <td>2</td>\n",
              "      <td>С банком знакома давно и пользуюсь услугами,вс...</td>\n",
              "    </tr>\n",
              "    <tr>\n",
              "      <th>3</th>\n",
              "      <td>Любая консультация онлайн, без звонка и посеще...</td>\n",
              "      <td>4</td>\n",
              "      <td>Очень удобно, что в наше время можно обратитьс...</td>\n",
              "    </tr>\n",
              "    <tr>\n",
              "      <th>4</th>\n",
              "      <td>Ужасное отношение, неправомерно забирают деньги!</td>\n",
              "      <td>1</td>\n",
              "      <td>14 сентября 2023 примерно в 14.30 снимал скруп...</td>\n",
              "    </tr>\n",
              "  </tbody>\n",
              "</table>\n",
              "</div>\n",
              "    <div class=\"colab-df-buttons\">\n",
              "\n",
              "  <div class=\"colab-df-container\">\n",
              "    <button class=\"colab-df-convert\" onclick=\"convertToInteractive('df-9168f43a-04ac-4e8e-b850-a5763b689491')\"\n",
              "            title=\"Convert this dataframe to an interactive table.\"\n",
              "            style=\"display:none;\">\n",
              "\n",
              "  <svg xmlns=\"http://www.w3.org/2000/svg\" height=\"24px\" viewBox=\"0 -960 960 960\">\n",
              "    <path d=\"M120-120v-720h720v720H120Zm60-500h600v-160H180v160Zm220 220h160v-160H400v160Zm0 220h160v-160H400v160ZM180-400h160v-160H180v160Zm440 0h160v-160H620v160ZM180-180h160v-160H180v160Zm440 0h160v-160H620v160Z\"/>\n",
              "  </svg>\n",
              "    </button>\n",
              "\n",
              "  <style>\n",
              "    .colab-df-container {\n",
              "      display:flex;\n",
              "      gap: 12px;\n",
              "    }\n",
              "\n",
              "    .colab-df-convert {\n",
              "      background-color: #E8F0FE;\n",
              "      border: none;\n",
              "      border-radius: 50%;\n",
              "      cursor: pointer;\n",
              "      display: none;\n",
              "      fill: #1967D2;\n",
              "      height: 32px;\n",
              "      padding: 0 0 0 0;\n",
              "      width: 32px;\n",
              "    }\n",
              "\n",
              "    .colab-df-convert:hover {\n",
              "      background-color: #E2EBFA;\n",
              "      box-shadow: 0px 1px 2px rgba(60, 64, 67, 0.3), 0px 1px 3px 1px rgba(60, 64, 67, 0.15);\n",
              "      fill: #174EA6;\n",
              "    }\n",
              "\n",
              "    .colab-df-buttons div {\n",
              "      margin-bottom: 4px;\n",
              "    }\n",
              "\n",
              "    [theme=dark] .colab-df-convert {\n",
              "      background-color: #3B4455;\n",
              "      fill: #D2E3FC;\n",
              "    }\n",
              "\n",
              "    [theme=dark] .colab-df-convert:hover {\n",
              "      background-color: #434B5C;\n",
              "      box-shadow: 0px 1px 3px 1px rgba(0, 0, 0, 0.15);\n",
              "      filter: drop-shadow(0px 1px 2px rgba(0, 0, 0, 0.3));\n",
              "      fill: #FFFFFF;\n",
              "    }\n",
              "  </style>\n",
              "\n",
              "    <script>\n",
              "      const buttonEl =\n",
              "        document.querySelector('#df-9168f43a-04ac-4e8e-b850-a5763b689491 button.colab-df-convert');\n",
              "      buttonEl.style.display =\n",
              "        google.colab.kernel.accessAllowed ? 'block' : 'none';\n",
              "\n",
              "      async function convertToInteractive(key) {\n",
              "        const element = document.querySelector('#df-9168f43a-04ac-4e8e-b850-a5763b689491');\n",
              "        const dataTable =\n",
              "          await google.colab.kernel.invokeFunction('convertToInteractive',\n",
              "                                                    [key], {});\n",
              "        if (!dataTable) return;\n",
              "\n",
              "        const docLinkHtml = 'Like what you see? Visit the ' +\n",
              "          '<a target=\"_blank\" href=https://colab.research.google.com/notebooks/data_table.ipynb>data table notebook</a>'\n",
              "          + ' to learn more about interactive tables.';\n",
              "        element.innerHTML = '';\n",
              "        dataTable['output_type'] = 'display_data';\n",
              "        await google.colab.output.renderOutput(dataTable, element);\n",
              "        const docLink = document.createElement('div');\n",
              "        docLink.innerHTML = docLinkHtml;\n",
              "        element.appendChild(docLink);\n",
              "      }\n",
              "    </script>\n",
              "  </div>\n",
              "\n",
              "\n",
              "<div id=\"df-cba35203-3cb0-4513-b676-73ad524984a2\">\n",
              "  <button class=\"colab-df-quickchart\" onclick=\"quickchart('df-cba35203-3cb0-4513-b676-73ad524984a2')\"\n",
              "            title=\"Suggest charts.\"\n",
              "            style=\"display:none;\">\n",
              "\n",
              "<svg xmlns=\"http://www.w3.org/2000/svg\" height=\"24px\"viewBox=\"0 0 24 24\"\n",
              "     width=\"24px\">\n",
              "    <g>\n",
              "        <path d=\"M19 3H5c-1.1 0-2 .9-2 2v14c0 1.1.9 2 2 2h14c1.1 0 2-.9 2-2V5c0-1.1-.9-2-2-2zM9 17H7v-7h2v7zm4 0h-2V7h2v10zm4 0h-2v-4h2v4z\"/>\n",
              "    </g>\n",
              "</svg>\n",
              "  </button>\n",
              "\n",
              "<style>\n",
              "  .colab-df-quickchart {\n",
              "      --bg-color: #E8F0FE;\n",
              "      --fill-color: #1967D2;\n",
              "      --hover-bg-color: #E2EBFA;\n",
              "      --hover-fill-color: #174EA6;\n",
              "      --disabled-fill-color: #AAA;\n",
              "      --disabled-bg-color: #DDD;\n",
              "  }\n",
              "\n",
              "  [theme=dark] .colab-df-quickchart {\n",
              "      --bg-color: #3B4455;\n",
              "      --fill-color: #D2E3FC;\n",
              "      --hover-bg-color: #434B5C;\n",
              "      --hover-fill-color: #FFFFFF;\n",
              "      --disabled-bg-color: #3B4455;\n",
              "      --disabled-fill-color: #666;\n",
              "  }\n",
              "\n",
              "  .colab-df-quickchart {\n",
              "    background-color: var(--bg-color);\n",
              "    border: none;\n",
              "    border-radius: 50%;\n",
              "    cursor: pointer;\n",
              "    display: none;\n",
              "    fill: var(--fill-color);\n",
              "    height: 32px;\n",
              "    padding: 0;\n",
              "    width: 32px;\n",
              "  }\n",
              "\n",
              "  .colab-df-quickchart:hover {\n",
              "    background-color: var(--hover-bg-color);\n",
              "    box-shadow: 0 1px 2px rgba(60, 64, 67, 0.3), 0 1px 3px 1px rgba(60, 64, 67, 0.15);\n",
              "    fill: var(--button-hover-fill-color);\n",
              "  }\n",
              "\n",
              "  .colab-df-quickchart-complete:disabled,\n",
              "  .colab-df-quickchart-complete:disabled:hover {\n",
              "    background-color: var(--disabled-bg-color);\n",
              "    fill: var(--disabled-fill-color);\n",
              "    box-shadow: none;\n",
              "  }\n",
              "\n",
              "  .colab-df-spinner {\n",
              "    border: 2px solid var(--fill-color);\n",
              "    border-color: transparent;\n",
              "    border-bottom-color: var(--fill-color);\n",
              "    animation:\n",
              "      spin 1s steps(1) infinite;\n",
              "  }\n",
              "\n",
              "  @keyframes spin {\n",
              "    0% {\n",
              "      border-color: transparent;\n",
              "      border-bottom-color: var(--fill-color);\n",
              "      border-left-color: var(--fill-color);\n",
              "    }\n",
              "    20% {\n",
              "      border-color: transparent;\n",
              "      border-left-color: var(--fill-color);\n",
              "      border-top-color: var(--fill-color);\n",
              "    }\n",
              "    30% {\n",
              "      border-color: transparent;\n",
              "      border-left-color: var(--fill-color);\n",
              "      border-top-color: var(--fill-color);\n",
              "      border-right-color: var(--fill-color);\n",
              "    }\n",
              "    40% {\n",
              "      border-color: transparent;\n",
              "      border-right-color: var(--fill-color);\n",
              "      border-top-color: var(--fill-color);\n",
              "    }\n",
              "    60% {\n",
              "      border-color: transparent;\n",
              "      border-right-color: var(--fill-color);\n",
              "    }\n",
              "    80% {\n",
              "      border-color: transparent;\n",
              "      border-right-color: var(--fill-color);\n",
              "      border-bottom-color: var(--fill-color);\n",
              "    }\n",
              "    90% {\n",
              "      border-color: transparent;\n",
              "      border-bottom-color: var(--fill-color);\n",
              "    }\n",
              "  }\n",
              "</style>\n",
              "\n",
              "  <script>\n",
              "    async function quickchart(key) {\n",
              "      const quickchartButtonEl =\n",
              "        document.querySelector('#' + key + ' button');\n",
              "      quickchartButtonEl.disabled = true;  // To prevent multiple clicks.\n",
              "      quickchartButtonEl.classList.add('colab-df-spinner');\n",
              "      try {\n",
              "        const charts = await google.colab.kernel.invokeFunction(\n",
              "            'suggestCharts', [key], {});\n",
              "      } catch (error) {\n",
              "        console.error('Error during call to suggestCharts:', error);\n",
              "      }\n",
              "      quickchartButtonEl.classList.remove('colab-df-spinner');\n",
              "      quickchartButtonEl.classList.add('colab-df-quickchart-complete');\n",
              "    }\n",
              "    (() => {\n",
              "      let quickchartButtonEl =\n",
              "        document.querySelector('#df-cba35203-3cb0-4513-b676-73ad524984a2 button');\n",
              "      quickchartButtonEl.style.display =\n",
              "        google.colab.kernel.accessAllowed ? 'block' : 'none';\n",
              "    })();\n",
              "  </script>\n",
              "</div>\n",
              "    </div>\n",
              "  </div>\n"
            ]
          },
          "metadata": {},
          "execution_count": 12
        }
      ]
    },
    {
      "cell_type": "markdown",
      "source": [
        "Сменим названия колонок для удобства и читабельности"
      ],
      "metadata": {
        "id": "IiLCN8M3BK75"
      },
      "id": "IiLCN8M3BK75"
    },
    {
      "cell_type": "code",
      "source": [
        "df.rename(columns = {'name':'review_name', 'reviewRating.ratingValue':'review_rate', 'author.reviewBody':'review_body'}, inplace = True )\n",
        "df.columns"
      ],
      "metadata": {
        "colab": {
          "base_uri": "https://localhost:8080/"
        },
        "id": "oRuNKDNEAyh0",
        "outputId": "02eefc7f-c368-4ec5-b11d-12913eb55e39"
      },
      "id": "oRuNKDNEAyh0",
      "execution_count": null,
      "outputs": [
        {
          "output_type": "execute_result",
          "data": {
            "text/plain": [
              "Index(['review_name', 'review_rate', 'review_body'], dtype='object')"
            ]
          },
          "metadata": {},
          "execution_count": 13
        }
      ]
    },
    {
      "cell_type": "code",
      "source": [
        "df[\"review_rate\"] = df[\"review_rate\"].apply(int)"
      ],
      "metadata": {
        "id": "jAQ-UJ77JaiP"
      },
      "id": "jAQ-UJ77JaiP",
      "execution_count": null,
      "outputs": []
    },
    {
      "cell_type": "markdown",
      "source": [
        "Процентаж отзывов по количеству рейтинга"
      ],
      "metadata": {
        "id": "k31utKABKVZ3"
      },
      "id": "k31utKABKVZ3"
    },
    {
      "cell_type": "code",
      "source": [
        "df[\"review_rate\"].value_counts().plot.pie(y=\"\", figsize=(5,5))"
      ],
      "metadata": {
        "colab": {
          "base_uri": "https://localhost:8080/",
          "height": 439
        },
        "id": "wuD4XsIzJNhe",
        "outputId": "efb6ba72-e4a4-474e-bca6-796ca08eaf09"
      },
      "id": "wuD4XsIzJNhe",
      "execution_count": null,
      "outputs": [
        {
          "output_type": "execute_result",
          "data": {
            "text/plain": [
              "<Axes: ylabel='review_rate'>"
            ]
          },
          "metadata": {},
          "execution_count": 43
        },
        {
          "output_type": "display_data",
          "data": {
            "text/plain": [
              "<Figure size 500x500 with 1 Axes>"
            ],
            "image/png": "[encoded data removed]"
          },
          "metadata": {}
        }
      ]
    },
    {
      "cell_type": "markdown",
      "source": [
        "Зависимость оценки от количества символов в шапке отзыва"
      ],
      "metadata": {
        "id": "yAE0bVnNEiIR"
      },
      "id": "yAE0bVnNEiIR"
    },
    {
      "cell_type": "code",
      "source": [
        "df2 = pd.DataFrame()\n",
        "df2[\"rate\"] = df[\"review_rate\"]\n",
        "df2[\"head_length\"] = df[\"review_name\"].apply(len)\n",
        "df2.groupby([\"rate\"]).mean().plot.bar()"
      ],
      "metadata": {
        "colab": {
          "base_uri": "https://localhost:8080/",
          "height": 461
        },
        "id": "nHsiGf5mIcKZ",
        "outputId": "d8417889-f731-42a5-aabc-dc44012c23be"
      },
      "id": "nHsiGf5mIcKZ",
      "execution_count": null,
      "outputs": [
        {
          "output_type": "execute_result",
          "data": {
            "text/plain": [
              "<Axes: xlabel='rate'>"
            ]
          },
          "metadata": {},
          "execution_count": 32
        },
        {
          "output_type": "display_data",
          "data": {
            "text/plain": [
              "<Figure size 640x480 with 1 Axes>"
            ],
            "image/png": "[encoded data removed]"
          },
          "metadata": {}
        }
      ]
    },
    {
      "cell_type": "markdown",
      "source": [
        "Зависимость оценки от количества символов в теле отзыва"
      ],
      "metadata": {
        "id": "FPECE-QkE4Wc"
      },
      "id": "FPECE-QkE4Wc"
    },
    {
      "cell_type": "code",
      "source": [
        "df3 = pd.DataFrame()\n",
        "df3[\"rate\"] = df[\"review_rate\"]\n",
        "df3[\"body_length\"] = df[\"review_body\"].apply(len)\n",
        "df3.groupby([\"rate\"]).mean().plot.bar()"
      ],
      "metadata": {
        "colab": {
          "base_uri": "https://localhost:8080/",
          "height": 461
        },
        "id": "S_m_VeZ-Gwsk",
        "outputId": "c21984a6-b3f9-4ed9-c5f0-d7afc983960d"
      },
      "id": "S_m_VeZ-Gwsk",
      "execution_count": null,
      "outputs": [
        {
          "output_type": "execute_result",
          "data": {
            "text/plain": [
              "<Axes: xlabel='rate'>"
            ]
          },
          "metadata": {},
          "execution_count": 34
        },
        {
          "output_type": "display_data",
          "data": {
            "text/plain": [
              "<Figure size 640x480 with 1 Axes>"
            ],
            "image/png": "[encoded data removed]"
          },
          "metadata": {}
        }
      ]
    },
    {
      "cell_type": "markdown",
      "source": [
        "# Очистка данных"
      ],
      "metadata": {
        "id": "r7Uu7hCWBfRO"
      },
      "id": "r7Uu7hCWBfRO"
    },
    {
      "cell_type": "code",
      "source": [
        "nltk.download('stopwords')\n",
        "nltk.download('punkt')\n",
        "nltk.download('wordnet')"
      ],
      "metadata": {
        "colab": {
          "base_uri": "https://localhost:8080/"
        },
        "id": "NJflLMKjAVXD",
        "outputId": "26658772-9cba-4a6c-a9f8-187b42a3defc"
      },
      "id": "NJflLMKjAVXD",
      "execution_count": null,
      "outputs": [
        {
          "output_type": "stream",
          "name": "stderr",
          "text": [
            "[nltk_data] Downloading package stopwords to /root/nltk_data...\n",
            "[nltk_data]   Package stopwords is already up-to-date!\n",
            "[nltk_data] Downloading package punkt to /root/nltk_data...\n",
            "[nltk_data]   Package punkt is already up-to-date!\n",
            "[nltk_data] Downloading package wordnet to /root/nltk_data...\n",
            "[nltk_data]   Package wordnet is already up-to-date!\n"
          ]
        },
        {
          "output_type": "execute_result",
          "data": {
            "text/plain": [
              "True"
            ]
          },
          "metadata": {},
          "execution_count": 15
        }
      ]
    },
    {
      "cell_type": "code",
      "source": [
        "stem = SnowballStemmer('russian')\n",
        "lemma = WordNetLemmatizer()\n",
        "stop_words = set(stopwords.words('russian'))"
      ],
      "metadata": {
        "id": "QwdWmCk0M9w6"
      },
      "id": "QwdWmCk0M9w6",
      "execution_count": null,
      "outputs": []
    },
    {
      "cell_type": "code",
      "source": [
        "def cleanalyzer(text):\n",
        "    text = (re.sub(r'\\d+', '', text)).lower() # убираем цифры (даты), приводим к нижнему регистру\n",
        "    text = word_tokenize(text) # разбиваем на слова\n",
        "    text = [lemma.lemmatize(word) for word in text if word not in stop_words] # приводим слова, не относящиеся к стоп-словам, к лемме\n",
        "    text = [word for word in text if len(word) > 3 and len(word) < 30] # убираем слова, не попадающие длиной в промежуток\n",
        "    text = [stem.stem(word) for word in text] # отрезаем лишнее от корней оставшихся слов\n",
        "    text = ' '.join(text) # приводим к строке\n",
        "    return text"
      ],
      "metadata": {
        "id": "41jGxm6PNAnA"
      },
      "id": "41jGxm6PNAnA",
      "execution_count": null,
      "outputs": []
    },
    {
      "cell_type": "code",
      "source": [
        "df[\"review_name\"] = df[\"review_name\"].apply(cleanalyzer)\n",
        "df[\"review_body\"] = df[\"review_body\"].apply(cleanalyzer)"
      ],
      "metadata": {
        "id": "0JTREHChNSkw"
      },
      "id": "0JTREHChNSkw",
      "execution_count": null,
      "outputs": []
    },
    {
      "cell_type": "code",
      "source": [
        "df.head()"
      ],
      "metadata": {
        "colab": {
          "base_uri": "https://localhost:8080/",
          "height": 206
        },
        "id": "vKYabcISN6MS",
        "outputId": "aabbc90c-4fde-4f9b-f2f4-d33aa2382bfc"
      },
      "id": "vKYabcISN6MS",
      "execution_count": null,
      "outputs": [
        {
          "output_type": "execute_result",
          "data": {
            "text/plain": [
              "                                       review_name review_rate  \\\n",
              "0  реферальн программ привед друг невыполнен услов           1   \n",
              "1                        сам быстр решен мо вопрос           5   \n",
              "2                        невыплат бонус рекомендац           2   \n",
              "3    люб консультац онлайн звонк посещен офис банк           4   \n",
              "4           ужасн отношен неправомерн забира деньг           1   \n",
              "\n",
              "                                         review_body  \n",
              "0  добр день.хоч подел отзыв реферальн программ б...  \n",
              "1  сентябр обрат мобильн приложен даб узна имеющ ...  \n",
              "2  банк знаком давн польз услуг кэшбэк бонус прих...  \n",
              "3  очен удобн наш врем обрат помощ онлайн нужн ид...  \n",
              "4  сентябр примерн снима скрупн сумм сторон банко...  "
            ],
            "text/html": [
              "\n",
              "  <div id=\"df-9eac0f94-acbf-46ae-a7ae-690bd9338107\" class=\"colab-df-container\">\n",
              "    <div>\n",
              "<style scoped>\n",
              "    .dataframe tbody tr th:only-of-type {\n",
              "        vertical-align: middle;\n",
              "    }\n",
              "\n",
              "    .dataframe tbody tr th {\n",
              "        vertical-align: top;\n",
              "    }\n",
              "\n",
              "    .dataframe thead th {\n",
              "        text-align: right;\n",
              "    }\n",
              "</style>\n",
              "<table border=\"1\" class=\"dataframe\">\n",
              "  <thead>\n",
              "    <tr style=\"text-align: right;\">\n",
              "      <th></th>\n",
              "      <th>review_name</th>\n",
              "      <th>review_rate</th>\n",
              "      <th>review_body</th>\n",
              "    </tr>\n",
              "  </thead>\n",
              "  <tbody>\n",
              "    <tr>\n",
              "      <th>0</th>\n",
              "      <td>реферальн программ привед друг невыполнен услов</td>\n",
              "      <td>1</td>\n",
              "      <td>добр день.хоч подел отзыв реферальн программ б...</td>\n",
              "    </tr>\n",
              "    <tr>\n",
              "      <th>1</th>\n",
              "      <td>сам быстр решен мо вопрос</td>\n",
              "      <td>5</td>\n",
              "      <td>сентябр обрат мобильн приложен даб узна имеющ ...</td>\n",
              "    </tr>\n",
              "    <tr>\n",
              "      <th>2</th>\n",
              "      <td>невыплат бонус рекомендац</td>\n",
              "      <td>2</td>\n",
              "      <td>банк знаком давн польз услуг кэшбэк бонус прих...</td>\n",
              "    </tr>\n",
              "    <tr>\n",
              "      <th>3</th>\n",
              "      <td>люб консультац онлайн звонк посещен офис банк</td>\n",
              "      <td>4</td>\n",
              "      <td>очен удобн наш врем обрат помощ онлайн нужн ид...</td>\n",
              "    </tr>\n",
              "    <tr>\n",
              "      <th>4</th>\n",
              "      <td>ужасн отношен неправомерн забира деньг</td>\n",
              "      <td>1</td>\n",
              "      <td>сентябр примерн снима скрупн сумм сторон банко...</td>\n",
              "    </tr>\n",
              "  </tbody>\n",
              "</table>\n",
              "</div>\n",
              "    <div class=\"colab-df-buttons\">\n",
              "\n",
              "  <div class=\"colab-df-container\">\n",
              "    <button class=\"colab-df-convert\" onclick=\"convertToInteractive('df-9eac0f94-acbf-46ae-a7ae-690bd9338107')\"\n",
              "            title=\"Convert this dataframe to an interactive table.\"\n",
              "            style=\"display:none;\">\n",
              "\n",
              "  <svg xmlns=\"http://www.w3.org/2000/svg\" height=\"24px\" viewBox=\"0 -960 960 960\">\n",
              "    <path d=\"M120-120v-720h720v720H120Zm60-500h600v-160H180v160Zm220 220h160v-160H400v160Zm0 220h160v-160H400v160ZM180-400h160v-160H180v160Zm440 0h160v-160H620v160ZM180-180h160v-160H180v160Zm440 0h160v-160H620v160Z\"/>\n",
              "  </svg>\n",
              "    </button>\n",
              "\n",
              "  <style>\n",
              "    .colab-df-container {\n",
              "      display:flex;\n",
              "      gap: 12px;\n",
              "    }\n",
              "\n",
              "    .colab-df-convert {\n",
              "      background-color: #E8F0FE;\n",
              "      border: none;\n",
              "      border-radius: 50%;\n",
              "      cursor: pointer;\n",
              "      display: none;\n",
              "      fill: #1967D2;\n",
              "      height: 32px;\n",
              "      padding: 0 0 0 0;\n",
              "      width: 32px;\n",
              "    }\n",
              "\n",
              "    .colab-df-convert:hover {\n",
              "      background-color: #E2EBFA;\n",
              "      box-shadow: 0px 1px 2px rgba(60, 64, 67, 0.3), 0px 1px 3px 1px rgba(60, 64, 67, 0.15);\n",
              "      fill: #174EA6;\n",
              "    }\n",
              "\n",
              "    .colab-df-buttons div {\n",
              "      margin-bottom: 4px;\n",
              "    }\n",
              "\n",
              "    [theme=dark] .colab-df-convert {\n",
              "      background-color: #3B4455;\n",
              "      fill: #D2E3FC;\n",
              "    }\n",
              "\n",
              "    [theme=dark] .colab-df-convert:hover {\n",
              "      background-color: #434B5C;\n",
              "      box-shadow: 0px 1px 3px 1px rgba(0, 0, 0, 0.15);\n",
              "      filter: drop-shadow(0px 1px 2px rgba(0, 0, 0, 0.3));\n",
              "      fill: #FFFFFF;\n",
              "    }\n",
              "  </style>\n",
              "\n",
              "    <script>\n",
              "      const buttonEl =\n",
              "        document.querySelector('#df-9eac0f94-acbf-46ae-a7ae-690bd9338107 button.colab-df-convert');\n",
              "      buttonEl.style.display =\n",
              "        google.colab.kernel.accessAllowed ? 'block' : 'none';\n",
              "\n",
              "      async function convertToInteractive(key) {\n",
              "        const element = document.querySelector('#df-9eac0f94-acbf-46ae-a7ae-690bd9338107');\n",
              "        const dataTable =\n",
              "          await google.colab.kernel.invokeFunction('convertToInteractive',\n",
              "                                                    [key], {});\n",
              "        if (!dataTable) return;\n",
              "\n",
              "        const docLinkHtml = 'Like what you see? Visit the ' +\n",
              "          '<a target=\"_blank\" href=https://colab.research.google.com/notebooks/data_table.ipynb>data table notebook</a>'\n",
              "          + ' to learn more about interactive tables.';\n",
              "        element.innerHTML = '';\n",
              "        dataTable['output_type'] = 'display_data';\n",
              "        await google.colab.output.renderOutput(dataTable, element);\n",
              "        const docLink = document.createElement('div');\n",
              "        docLink.innerHTML = docLinkHtml;\n",
              "        element.appendChild(docLink);\n",
              "      }\n",
              "    </script>\n",
              "  </div>\n",
              "\n",
              "\n",
              "<div id=\"df-b01afde5-ec56-4cd2-a4cf-8e249516e59e\">\n",
              "  <button class=\"colab-df-quickchart\" onclick=\"quickchart('df-b01afde5-ec56-4cd2-a4cf-8e249516e59e')\"\n",
              "            title=\"Suggest charts.\"\n",
              "            style=\"display:none;\">\n",
              "\n",
              "<svg xmlns=\"http://www.w3.org/2000/svg\" height=\"24px\"viewBox=\"0 0 24 24\"\n",
              "     width=\"24px\">\n",
              "    <g>\n",
              "        <path d=\"M19 3H5c-1.1 0-2 .9-2 2v14c0 1.1.9 2 2 2h14c1.1 0 2-.9 2-2V5c0-1.1-.9-2-2-2zM9 17H7v-7h2v7zm4 0h-2V7h2v10zm4 0h-2v-4h2v4z\"/>\n",
              "    </g>\n",
              "</svg>\n",
              "  </button>\n",
              "\n",
              "<style>\n",
              "  .colab-df-quickchart {\n",
              "      --bg-color: #E8F0FE;\n",
              "      --fill-color: #1967D2;\n",
              "      --hover-bg-color: #E2EBFA;\n",
              "      --hover-fill-color: #174EA6;\n",
              "      --disabled-fill-color: #AAA;\n",
              "      --disabled-bg-color: #DDD;\n",
              "  }\n",
              "\n",
              "  [theme=dark] .colab-df-quickchart {\n",
              "      --bg-color: #3B4455;\n",
              "      --fill-color: #D2E3FC;\n",
              "      --hover-bg-color: #434B5C;\n",
              "      --hover-fill-color: #FFFFFF;\n",
              "      --disabled-bg-color: #3B4455;\n",
              "      --disabled-fill-color: #666;\n",
              "  }\n",
              "\n",
              "  .colab-df-quickchart {\n",
              "    background-color: var(--bg-color);\n",
              "    border: none;\n",
              "    border-radius: 50%;\n",
              "    cursor: pointer;\n",
              "    display: none;\n",
              "    fill: var(--fill-color);\n",
              "    height: 32px;\n",
              "    padding: 0;\n",
              "    width: 32px;\n",
              "  }\n",
              "\n",
              "  .colab-df-quickchart:hover {\n",
              "    background-color: var(--hover-bg-color);\n",
              "    box-shadow: 0 1px 2px rgba(60, 64, 67, 0.3), 0 1px 3px 1px rgba(60, 64, 67, 0.15);\n",
              "    fill: var(--button-hover-fill-color);\n",
              "  }\n",
              "\n",
              "  .colab-df-quickchart-complete:disabled,\n",
              "  .colab-df-quickchart-complete:disabled:hover {\n",
              "    background-color: var(--disabled-bg-color);\n",
              "    fill: var(--disabled-fill-color);\n",
              "    box-shadow: none;\n",
              "  }\n",
              "\n",
              "  .colab-df-spinner {\n",
              "    border: 2px solid var(--fill-color);\n",
              "    border-color: transparent;\n",
              "    border-bottom-color: var(--fill-color);\n",
              "    animation:\n",
              "      spin 1s steps(1) infinite;\n",
              "  }\n",
              "\n",
              "  @keyframes spin {\n",
              "    0% {\n",
              "      border-color: transparent;\n",
              "      border-bottom-color: var(--fill-color);\n",
              "      border-left-color: var(--fill-color);\n",
              "    }\n",
              "    20% {\n",
              "      border-color: transparent;\n",
              "      border-left-color: var(--fill-color);\n",
              "      border-top-color: var(--fill-color);\n",
              "    }\n",
              "    30% {\n",
              "      border-color: transparent;\n",
              "      border-left-color: var(--fill-color);\n",
              "      border-top-color: var(--fill-color);\n",
              "      border-right-color: var(--fill-color);\n",
              "    }\n",
              "    40% {\n",
              "      border-color: transparent;\n",
              "      border-right-color: var(--fill-color);\n",
              "      border-top-color: var(--fill-color);\n",
              "    }\n",
              "    60% {\n",
              "      border-color: transparent;\n",
              "      border-right-color: var(--fill-color);\n",
              "    }\n",
              "    80% {\n",
              "      border-color: transparent;\n",
              "      border-right-color: var(--fill-color);\n",
              "      border-bottom-color: var(--fill-color);\n",
              "    }\n",
              "    90% {\n",
              "      border-color: transparent;\n",
              "      border-bottom-color: var(--fill-color);\n",
              "    }\n",
              "  }\n",
              "</style>\n",
              "\n",
              "  <script>\n",
              "    async function quickchart(key) {\n",
              "      const quickchartButtonEl =\n",
              "        document.querySelector('#' + key + ' button');\n",
              "      quickchartButtonEl.disabled = true;  // To prevent multiple clicks.\n",
              "      quickchartButtonEl.classList.add('colab-df-spinner');\n",
              "      try {\n",
              "        const charts = await google.colab.kernel.invokeFunction(\n",
              "            'suggestCharts', [key], {});\n",
              "      } catch (error) {\n",
              "        console.error('Error during call to suggestCharts:', error);\n",
              "      }\n",
              "      quickchartButtonEl.classList.remove('colab-df-spinner');\n",
              "      quickchartButtonEl.classList.add('colab-df-quickchart-complete');\n",
              "    }\n",
              "    (() => {\n",
              "      let quickchartButtonEl =\n",
              "        document.querySelector('#df-b01afde5-ec56-4cd2-a4cf-8e249516e59e button');\n",
              "      quickchartButtonEl.style.display =\n",
              "        google.colab.kernel.accessAllowed ? 'block' : 'none';\n",
              "    })();\n",
              "  </script>\n",
              "</div>\n",
              "    </div>\n",
              "  </div>\n"
            ]
          },
          "metadata": {},
          "execution_count": 19
        }
      ]
    },
    {
      "cell_type": "markdown",
      "source": [
        "# Векторизация"
      ],
      "metadata": {
        "id": "jFL0gDjaz02w"
      },
      "id": "jFL0gDjaz02w"
    },
    {
      "cell_type": "code",
      "source": [
        "vectorizer_name = TfidfVectorizer()\n",
        "vectorizer_body = TfidfVectorizer()"
      ],
      "metadata": {
        "id": "6uXzwzKCK7MH"
      },
      "id": "6uXzwzKCK7MH",
      "execution_count": null,
      "outputs": []
    },
    {
      "cell_type": "code",
      "source": [
        "y = df['review_rate']\n",
        "X_name = vectorizer_name.fit_transform(df['review_name'])\n",
        "X_1 = pd.DataFrame(X_name.toarray(), columns=vectorizer_name.get_feature_names_out())\n",
        "X_body = vectorizer_body.fit_transform(df['review_body'])\n",
        "X_2 = pd.DataFrame(X_body.toarray(), columns=vectorizer_body.get_feature_names_out())"
      ],
      "metadata": {
        "id": "a49OnH-3USNk"
      },
      "id": "a49OnH-3USNk",
      "execution_count": null,
      "outputs": []
    },
    {
      "cell_type": "code",
      "source": [
        "y.shape, X_1.shape, X_2.shape"
      ],
      "metadata": {
        "colab": {
          "base_uri": "https://localhost:8080/"
        },
        "id": "LXmyCmj9XRvT",
        "outputId": "ae44caff-1b78-4af1-dceb-b9f63f2e27e7"
      },
      "id": "LXmyCmj9XRvT",
      "execution_count": null,
      "outputs": [
        {
          "output_type": "execute_result",
          "data": {
            "text/plain": [
              "((2000,), (2000, 1041), (2000, 8594))"
            ]
          },
          "metadata": {},
          "execution_count": 22
        }
      ]
    },
    {
      "cell_type": "code",
      "source": [
        "X = pd.concat([X_1, X_2], axis=1)\n",
        "X.shape"
      ],
      "metadata": {
        "colab": {
          "base_uri": "https://localhost:8080/"
        },
        "id": "FnoNgWfYdC53",
        "outputId": "1b883e0d-3912-4393-f165-1436cd19bd37"
      },
      "id": "FnoNgWfYdC53",
      "execution_count": null,
      "outputs": [
        {
          "output_type": "execute_result",
          "data": {
            "text/plain": [
              "(2000, 9635)"
            ]
          },
          "metadata": {},
          "execution_count": 23
        }
      ]
    },
    {
      "cell_type": "markdown",
      "source": [
        "# Различные виды классификации"
      ],
      "metadata": {
        "id": "O65CGzpUeByX"
      },
      "id": "O65CGzpUeByX"
    },
    {
      "cell_type": "code",
      "source": [
        "from sklearn.naive_bayes import GaussianNB\n",
        "from sklearn.neighbors import KNeighborsClassifier\n",
        "from sklearn.ensemble import RandomForestClassifier\n",
        "from sklearn.linear_model import LogisticRegression\n",
        "from sklearn.linear_model import RidgeClassifier\n",
        "Gaussian = GaussianNB()\n",
        "KNeighbors = KNeighborsClassifier()\n",
        "RandomForest = RandomForestClassifier(n_estimators=100)\n",
        "LogRegression = LogisticRegression()\n",
        "Ridge = RidgeClassifier()"
      ],
      "metadata": {
        "id": "_Hp8d8yGOXYX"
      },
      "id": "_Hp8d8yGOXYX",
      "execution_count": null,
      "outputs": []
    },
    {
      "cell_type": "code",
      "source": [
        "def execute_model(X, y, model):\n",
        "\tstart = time.time()\n",
        "\tcv = RepeatedStratifiedKFold(n_splits=10, n_repeats=3, random_state=1)\n",
        "\tscores = cross_val_score(model, X, y, scoring='accuracy', cv=cv, n_jobs=-1)\n",
        "\ttrain_time = time.time() - start\n",
        "\treturn scores, train_time"
      ],
      "metadata": {
        "id": "A4izUEThgPXT"
      },
      "id": "A4izUEThgPXT",
      "execution_count": null,
      "outputs": []
    },
    {
      "cell_type": "code",
      "source": [
        "results = pd.DataFrame({\"model\": [], \"mean accuracy\":[], \"train time\": []})\n",
        "all_scores = []\n",
        "for i in [Gaussian, KNeighbors, RandomForest, LogRegression, Ridge]:\n",
        "  print(f\"начинается обучение модели {i}\")\n",
        "  scores, train_time = execute_model(X, y, i)\n",
        "  results.loc[len(results.index)] = [i, np.mean(scores), train_time]\n",
        "  all_scores.append(scores)\n",
        "results"
      ],
      "metadata": {
        "colab": {
          "base_uri": "https://localhost:8080/",
          "height": 1000
        },
        "id": "wtr-q5yRgmJZ",
        "outputId": "0651f3ac-c2a3-4534-86a0-bc6aaa3149ad"
      },
      "id": "wtr-q5yRgmJZ",
      "execution_count": null,
      "outputs": [
        {
          "output_type": "stream",
          "name": "stdout",
          "text": [
            "начинается обучение модели GaussianNB()\n",
            "начинается обучение модели KNeighborsClassifier()\n",
            "начинается обучение модели RandomForestClassifier()\n",
            "начинается обучение модели LogisticRegression()\n",
            "начинается обучение модели RidgeClassifier()\n"
          ]
        },
        {
          "output_type": "execute_result",
          "data": {
            "text/plain": [
              "                      model  mean accuracy  train time\n",
              "0              GaussianNB()       0.870833   29.767088\n",
              "1    KNeighborsClassifier()       0.875333   28.950815\n",
              "2  RandomForestClassifier()       0.874000  108.437292\n",
              "3      LogisticRegression()       0.888000  137.257087\n",
              "4         RidgeClassifier()       0.898167   63.782209"
            ],
            "text/html": [
              "\n",
              "  <div id=\"df-e991523a-8443-42ea-af6c-6092642bf549\" class=\"colab-df-container\">\n",
              "    <div>\n",
              "<style scoped>\n",
              "    .dataframe tbody tr th:only-of-type {\n",
              "        vertical-align: middle;\n",
              "    }\n",
              "\n",
              "    .dataframe tbody tr th {\n",
              "        vertical-align: top;\n",
              "    }\n",
              "\n",
              "    .dataframe thead th {\n",
              "        text-align: right;\n",
              "    }\n",
              "</style>\n",
              "<table border=\"1\" class=\"dataframe\">\n",
              "  <thead>\n",
              "    <tr style=\"text-align: right;\">\n",
              "      <th></th>\n",
              "      <th>model</th>\n",
              "      <th>mean accuracy</th>\n",
              "      <th>train time</th>\n",
              "    </tr>\n",
              "  </thead>\n",
              "  <tbody>\n",
              "    <tr>\n",
              "      <th>0</th>\n",
              "      <td>GaussianNB()</td>\n",
              "      <td>0.870833</td>\n",
              "      <td>29.767088</td>\n",
              "    </tr>\n",
              "    <tr>\n",
              "      <th>1</th>\n",
              "      <td>KNeighborsClassifier()</td>\n",
              "      <td>0.875333</td>\n",
              "      <td>28.950815</td>\n",
              "    </tr>\n",
              "    <tr>\n",
              "      <th>2</th>\n",
              "      <td>RandomForestClassifier()</td>\n",
              "      <td>0.874000</td>\n",
              "      <td>108.437292</td>\n",
              "    </tr>\n",
              "    <tr>\n",
              "      <th>3</th>\n",
              "      <td>LogisticRegression()</td>\n",
              "      <td>0.888000</td>\n",
              "      <td>137.257087</td>\n",
              "    </tr>\n",
              "    <tr>\n",
              "      <th>4</th>\n",
              "      <td>RidgeClassifier()</td>\n",
              "      <td>0.898167</td>\n",
              "      <td>63.782209</td>\n",
              "    </tr>\n",
              "  </tbody>\n",
              "</table>\n",
              "</div>\n",
              "    <div class=\"colab-df-buttons\">\n",
              "\n",
              "  <div class=\"colab-df-container\">\n",
              "    <button class=\"colab-df-convert\" onclick=\"convertToInteractive('df-e991523a-8443-42ea-af6c-6092642bf549')\"\n",
              "            title=\"Convert this dataframe to an interactive table.\"\n",
              "            style=\"display:none;\">\n",
              "\n",
              "  <svg xmlns=\"http://www.w3.org/2000/svg\" height=\"24px\" viewBox=\"0 -960 960 960\">\n",
              "    <path d=\"M120-120v-720h720v720H120Zm60-500h600v-160H180v160Zm220 220h160v-160H400v160Zm0 220h160v-160H400v160ZM180-400h160v-160H180v160Zm440 0h160v-160H620v160ZM180-180h160v-160H180v160Zm440 0h160v-160H620v160Z\"/>\n",
              "  </svg>\n",
              "    </button>\n",
              "\n",
              "  <style>\n",
              "    .colab-df-container {\n",
              "      display:flex;\n",
              "      gap: 12px;\n",
              "    }\n",
              "\n",
              "    .colab-df-convert {\n",
              "      background-color: #E8F0FE;\n",
              "      border: none;\n",
              "      border-radius: 50%;\n",
              "      cursor: pointer;\n",
              "      display: none;\n",
              "      fill: #1967D2;\n",
              "      height: 32px;\n",
              "      padding: 0 0 0 0;\n",
              "      width: 32px;\n",
              "    }\n",
              "\n",
              "    .colab-df-convert:hover {\n",
              "      background-color: #E2EBFA;\n",
              "      box-shadow: 0px 1px 2px rgba(60, 64, 67, 0.3), 0px 1px 3px 1px rgba(60, 64, 67, 0.15);\n",
              "      fill: #174EA6;\n",
              "    }\n",
              "\n",
              "    .colab-df-buttons div {\n",
              "      margin-bottom: 4px;\n",
              "    }\n",
              "\n",
              "    [theme=dark] .colab-df-convert {\n",
              "      background-color: #3B4455;\n",
              "      fill: #D2E3FC;\n",
              "    }\n",
              "\n",
              "    [theme=dark] .colab-df-convert:hover {\n",
              "      background-color: #434B5C;\n",
              "      box-shadow: 0px 1px 3px 1px rgba(0, 0, 0, 0.15);\n",
              "      filter: drop-shadow(0px 1px 2px rgba(0, 0, 0, 0.3));\n",
              "      fill: #FFFFFF;\n",
              "    }\n",
              "  </style>\n",
              "\n",
              "    <script>\n",
              "      const buttonEl =\n",
              "        document.querySelector('#df-e991523a-8443-42ea-af6c-6092642bf549 button.colab-df-convert');\n",
              "      buttonEl.style.display =\n",
              "        google.colab.kernel.accessAllowed ? 'block' : 'none';\n",
              "\n",
              "      async function convertToInteractive(key) {\n",
              "        const element = document.querySelector('#df-e991523a-8443-42ea-af6c-6092642bf549');\n",
              "        const dataTable =\n",
              "          await google.colab.kernel.invokeFunction('convertToInteractive',\n",
              "                                                    [key], {});\n",
              "        if (!dataTable) return;\n",
              "\n",
              "        const docLinkHtml = 'Like what you see? Visit the ' +\n",
              "          '<a target=\"_blank\" href=https://colab.research.google.com/notebooks/data_table.ipynb>data table notebook</a>'\n",
              "          + ' to learn more about interactive tables.';\n",
              "        element.innerHTML = '';\n",
              "        dataTable['output_type'] = 'display_data';\n",
              "        await google.colab.output.renderOutput(dataTable, element);\n",
              "        const docLink = document.createElement('div');\n",
              "        docLink.innerHTML = docLinkHtml;\n",
              "        element.appendChild(docLink);\n",
              "      }\n",
              "    </script>\n",
              "  </div>\n",
              "\n",
              "\n",
              "<div id=\"df-df7de7e0-eea6-408b-9a5b-62c1eed43fbf\">\n",
              "  <button class=\"colab-df-quickchart\" onclick=\"quickchart('df-df7de7e0-eea6-408b-9a5b-62c1eed43fbf')\"\n",
              "            title=\"Suggest charts.\"\n",
              "            style=\"display:none;\">\n",
              "\n",
              "<svg xmlns=\"http://www.w3.org/2000/svg\" height=\"24px\"viewBox=\"0 0 24 24\"\n",
              "     width=\"24px\">\n",
              "    <g>\n",
              "        <path d=\"M19 3H5c-1.1 0-2 .9-2 2v14c0 1.1.9 2 2 2h14c1.1 0 2-.9 2-2V5c0-1.1-.9-2-2-2zM9 17H7v-7h2v7zm4 0h-2V7h2v10zm4 0h-2v-4h2v4z\"/>\n",
              "    </g>\n",
              "</svg>\n",
              "  </button>\n",
              "\n",
              "<style>\n",
              "  .colab-df-quickchart {\n",
              "      --bg-color: #E8F0FE;\n",
              "      --fill-color: #1967D2;\n",
              "      --hover-bg-color: #E2EBFA;\n",
              "      --hover-fill-color: #174EA6;\n",
              "      --disabled-fill-color: #AAA;\n",
              "      --disabled-bg-color: #DDD;\n",
              "  }\n",
              "\n",
              "  [theme=dark] .colab-df-quickchart {\n",
              "      --bg-color: #3B4455;\n",
              "      --fill-color: #D2E3FC;\n",
              "      --hover-bg-color: #434B5C;\n",
              "      --hover-fill-color: #FFFFFF;\n",
              "      --disabled-bg-color: #3B4455;\n",
              "      --disabled-fill-color: #666;\n",
              "  }\n",
              "\n",
              "  .colab-df-quickchart {\n",
              "    background-color: var(--bg-color);\n",
              "    border: none;\n",
              "    border-radius: 50%;\n",
              "    cursor: pointer;\n",
              "    display: none;\n",
              "    fill: var(--fill-color);\n",
              "    height: 32px;\n",
              "    padding: 0;\n",
              "    width: 32px;\n",
              "  }\n",
              "\n",
              "  .colab-df-quickchart:hover {\n",
              "    background-color: var(--hover-bg-color);\n",
              "    box-shadow: 0 1px 2px rgba(60, 64, 67, 0.3), 0 1px 3px 1px rgba(60, 64, 67, 0.15);\n",
              "    fill: var(--button-hover-fill-color);\n",
              "  }\n",
              "\n",
              "  .colab-df-quickchart-complete:disabled,\n",
              "  .colab-df-quickchart-complete:disabled:hover {\n",
              "    background-color: var(--disabled-bg-color);\n",
              "    fill: var(--disabled-fill-color);\n",
              "    box-shadow: none;\n",
              "  }\n",
              "\n",
              "  .colab-df-spinner {\n",
              "    border: 2px solid var(--fill-color);\n",
              "    border-color: transparent;\n",
              "    border-bottom-color: var(--fill-color);\n",
              "    animation:\n",
              "      spin 1s steps(1) infinite;\n",
              "  }\n",
              "\n",
              "  @keyframes spin {\n",
              "    0% {\n",
              "      border-color: transparent;\n",
              "      border-bottom-color: var(--fill-color);\n",
              "      border-left-color: var(--fill-color);\n",
              "    }\n",
              "    20% {\n",
              "      border-color: transparent;\n",
              "      border-left-color: var(--fill-color);\n",
              "      border-top-color: var(--fill-color);\n",
              "    }\n",
              "    30% {\n",
              "      border-color: transparent;\n",
              "      border-left-color: var(--fill-color);\n",
              "      border-top-color: var(--fill-color);\n",
              "      border-right-color: var(--fill-color);\n",
              "    }\n",
              "    40% {\n",
              "      border-color: transparent;\n",
              "      border-right-color: var(--fill-color);\n",
              "      border-top-color: var(--fill-color);\n",
              "    }\n",
              "    60% {\n",
              "      border-color: transparent;\n",
              "      border-right-color: var(--fill-color);\n",
              "    }\n",
              "    80% {\n",
              "      border-color: transparent;\n",
              "      border-right-color: var(--fill-color);\n",
              "      border-bottom-color: var(--fill-color);\n",
              "    }\n",
              "    90% {\n",
              "      border-color: transparent;\n",
              "      border-bottom-color: var(--fill-color);\n",
              "    }\n",
              "  }\n",
              "</style>\n",
              "\n",
              "  <script>\n",
              "    async function quickchart(key) {\n",
              "      const quickchartButtonEl =\n",
              "        document.querySelector('#' + key + ' button');\n",
              "      quickchartButtonEl.disabled = true;  // To prevent multiple clicks.\n",
              "      quickchartButtonEl.classList.add('colab-df-spinner');\n",
              "      try {\n",
              "        const charts = await google.colab.kernel.invokeFunction(\n",
              "            'suggestCharts', [key], {});\n",
              "      } catch (error) {\n",
              "        console.error('Error during call to suggestCharts:', error);\n",
              "      }\n",
              "      quickchartButtonEl.classList.remove('colab-df-spinner');\n",
              "      quickchartButtonEl.classList.add('colab-df-quickchart-complete');\n",
              "    }\n",
              "    (() => {\n",
              "      let quickchartButtonEl =\n",
              "        document.querySelector('#df-df7de7e0-eea6-408b-9a5b-62c1eed43fbf button');\n",
              "      quickchartButtonEl.style.display =\n",
              "        google.colab.kernel.accessAllowed ? 'block' : 'none';\n",
              "    })();\n",
              "  </script>\n",
              "</div>\n",
              "    </div>\n",
              "  </div>\n"
            ]
          },
          "metadata": {},
          "execution_count": 26
        },
        {
          "output_type": "stream",
          "name": "stderr",
          "text": [
            "ERROR:root:Internal Python error in the inspect module.\n",
            "Below is the traceback from this internal error.\n",
            "\n"
          ]
        },
        {
          "output_type": "stream",
          "name": "stdout",
          "text": [
            "Traceback (most recent call last):\n",
            "  File \"/usr/local/lib/python3.10/dist-packages/pandas/core/algorithms.py\", line 1870, in safe_sort\n",
            "    sorter = values.argsort()\n",
            "TypeError: '<' not supported between instances of 'KNeighborsClassifier' and 'GaussianNB'\n",
            "\n",
            "During handling of the above exception, another exception occurred:\n",
            "\n",
            "Traceback (most recent call last):\n",
            "  File \"/usr/local/lib/python3.10/dist-packages/IPython/core/interactiveshell.py\", line 2764, in user_expressions\n",
            "    value = self._format_user_obj(eval(expr, global_ns, user_ns))\n",
            "  File \"<string>\", line 1, in <module>\n",
            "  File \"/usr/local/lib/python3.10/dist-packages/google/colab/output/_js.py\", line 97, in _invoke_function\n",
            "    return callback(*args, **kwargs)\n",
            "  File \"/usr/local/lib/python3.10/dist-packages/google/colab/_quickchart_hint_button.py\", line 193, in _suggest_charts\n",
            "    for chart_section in _quickchart.find_charts(\n",
            "  File \"/usr/local/lib/python3.10/dist-packages/google/colab/_quickchart.py\", line 79, in find_charts\n",
            "    _quickchart_helpers.categorical_histograms_section(\n",
            "  File \"/usr/local/lib/python3.10/dist-packages/google/colab/_quickchart_helpers.py\", line 299, in categorical_histograms_section\n",
            "    return _chart_section(\n",
            "  File \"/usr/local/lib/python3.10/dist-packages/google/colab/_quickchart_helpers.py\", line 422, in _chart_section\n",
            "    charts = [\n",
            "  File \"/usr/local/lib/python3.10/dist-packages/google/colab/_quickchart_helpers.py\", line 423, in <listcomp>\n",
            "    ChartWithCode(\n",
            "  File \"/usr/local/lib/python3.10/dist-packages/google/colab/_quickchart_helpers.py\", line 168, in __init__\n",
            "    self._chart = plot_func(df, figscale=figscale, *args, **kwargs)\n",
            "  File \"/usr/local/lib/python3.10/dist-packages/google/colab/_quickchart_lib.py\", line 82, in categorical_histogram\n",
            "    df.groupby(colname).size().plot(kind='barh', color=sns.palettes.mpl_palette(mpl_palette_name), figsize=(8*figscale, 4.8*figscale))\n",
            "  File \"/usr/local/lib/python3.10/dist-packages/pandas/core/groupby/groupby.py\", line 2420, in size\n",
            "    result = self.grouper.size()\n",
            "  File \"/usr/local/lib/python3.10/dist-packages/pandas/core/groupby/ops.py\", line 912, in size\n",
            "    ids, _, ngroups = self.group_info\n",
            "  File \"pandas/_libs/properties.pyx\", line 36, in pandas._libs.properties.CachedProperty.__get__\n",
            "  File \"/usr/local/lib/python3.10/dist-packages/pandas/core/groupby/ops.py\", line 946, in group_info\n",
            "    comp_ids, obs_group_ids = self._get_compressed_codes()\n",
            "  File \"/usr/local/lib/python3.10/dist-packages/pandas/core/groupby/ops.py\", line 977, in _get_compressed_codes\n",
            "    return ping.codes, np.arange(len(ping.group_index), dtype=np.intp)\n",
            "  File \"/usr/local/lib/python3.10/dist-packages/pandas/core/groupby/grouper.py\", line 621, in codes\n",
            "    return self._codes_and_uniques[0]\n",
            "  File \"pandas/_libs/properties.pyx\", line 36, in pandas._libs.properties.CachedProperty.__get__\n",
            "  File \"/usr/local/lib/python3.10/dist-packages/pandas/core/groupby/grouper.py\", line 692, in _codes_and_uniques\n",
            "    codes, uniques = algorithms.factorize(  # type: ignore[assignment]\n",
            "  File \"/usr/local/lib/python3.10/dist-packages/pandas/core/algorithms.py\", line 832, in factorize\n",
            "    uniques, codes = safe_sort(\n",
            "  File \"/usr/local/lib/python3.10/dist-packages/pandas/core/algorithms.py\", line 1883, in safe_sort\n",
            "    ordered = _sort_mixed(values)\n",
            "  File \"/usr/local/lib/python3.10/dist-packages/pandas/core/algorithms.py\", line 1936, in _sort_mixed\n",
            "    nums = np.sort(values[~str_pos & ~none_pos])\n",
            "  File \"<__array_function__ internals>\", line 180, in sort\n",
            "  File \"/usr/local/lib/python3.10/dist-packages/numpy/core/fromnumeric.py\", line 1004, in sort\n",
            "    a.sort(axis=axis, kind=kind, order=order)\n",
            "TypeError: '<' not supported between instances of 'KNeighborsClassifier' and 'GaussianNB'\n",
            "\n",
            "During handling of the above exception, another exception occurred:\n",
            "\n",
            "Traceback (most recent call last):\n",
            "  File \"/usr/local/lib/python3.10/dist-packages/IPython/core/ultratb.py\", line 1101, in get_records\n",
            "    return _fixed_getinnerframes(etb, number_of_lines_of_context, tb_offset)\n",
            "  File \"/usr/local/lib/python3.10/dist-packages/IPython/core/ultratb.py\", line 248, in wrapped\n",
            "    return f(*args, **kwargs)\n",
            "  File \"/usr/local/lib/python3.10/dist-packages/IPython/core/ultratb.py\", line 281, in _fixed_getinnerframes\n",
            "    records = fix_frame_records_filenames(inspect.getinnerframes(etb, context))\n",
            "  File \"/usr/lib/python3.10/inspect.py\", line 1662, in getinnerframes\n",
            "    frameinfo = (tb.tb_frame,) + getframeinfo(tb, context)\n",
            "AttributeError: 'tuple' object has no attribute 'tb_frame'\n"
          ]
        }
      ]
    },
    {
      "cell_type": "markdown",
      "source": [
        "Сравнивая результаты обучения различных моделей, можно придти к выводу, что наиболее оптимальной моделью будет Модель ближайших соседей"
      ],
      "metadata": {
        "id": "1I-VurUVs9na"
      },
      "id": "1I-VurUVs9na"
    },
    {
      "cell_type": "code",
      "source": [
        "import matplotlib.pyplot as plt\n",
        "from imblearn.over_sampling import SMOTE\n",
        "from sklearn.model_selection import GridSearchCV\n",
        "from sklearn.metrics import accuracy_score, confusion_matrix, classification_report\n",
        "import seaborn as sns"
      ],
      "metadata": {
        "id": "iZBt9KLGlb7b"
      },
      "id": "iZBt9KLGlb7b",
      "execution_count": null,
      "outputs": []
    },
    {
      "cell_type": "markdown",
      "source": [
        "## Улучшение модели ближайших соседей\n"
      ],
      "metadata": {
        "id": "pr_XlpK7nz-I"
      },
      "id": "pr_XlpK7nz-I"
    },
    {
      "cell_type": "code",
      "source": [
        "smote = SMOTE(sampling_strategy = \"all\")\n",
        "X, y = smote.fit_resample(X,y)\n",
        "y = pd.Series(y)\n",
        "ax = y.value_counts().plot.pie(autopct='%.2f')\n",
        "_ = ax.set_title(\"sampling\")"
      ],
      "metadata": {
        "colab": {
          "base_uri": "https://localhost:8080/",
          "height": 428
        },
        "id": "4W9eoL8NrXPj",
        "outputId": "d32e2027-00ca-477b-a095-48f058b524a4"
      },
      "execution_count": null,
      "outputs": [
        {
          "output_type": "display_data",
          "data": {
            "text/plain": [
              "<Figure size 640x480 with 1 Axes>"
            ],
            "image/png": "[encoded data removed]"
          },
          "metadata": {}
        }
      ],
      "id": "4W9eoL8NrXPj"
    },
    {
      "cell_type": "code",
      "source": [
        "X_train, X_test, y_train, y_test = train_test_split(X, y, random_state = 42, test_size = 0.2)"
      ],
      "metadata": {
        "id": "1bGrfacErdlu"
      },
      "execution_count": null,
      "outputs": [],
      "id": "1bGrfacErdlu"
    },
    {
      "cell_type": "code",
      "source": [
        "model = KNeighborsClassifier()\n",
        "parameters = {'n_neighbors': range(50, 150, 20)}"
      ],
      "metadata": {
        "id": "Ebl_QonDnzWQ"
      },
      "id": "Ebl_QonDnzWQ",
      "execution_count": null,
      "outputs": []
    },
    {
      "cell_type": "code",
      "source": [
        "Kneighbors_reg = GridSearchCV(model, parameters, scoring='balanced_accuracy',cv=RepeatedStratifiedKFold(n_splits=10, n_repeats=3, random_state=1))"
      ],
      "metadata": {
        "id": "T0mXHl57oeGF"
      },
      "id": "T0mXHl57oeGF",
      "execution_count": null,
      "outputs": []
    },
    {
      "cell_type": "code",
      "source": [
        "Kneighbors_reg.fit(X,y)"
      ],
      "metadata": {
        "colab": {
          "base_uri": "https://localhost:8080/",
          "height": 117
        },
        "id": "zfiI8tO8ogpt",
        "outputId": "e796ee4c-f477-477d-ac96-2a2dbe0f64b7"
      },
      "id": "zfiI8tO8ogpt",
      "execution_count": null,
      "outputs": [
        {
          "output_type": "execute_result",
          "data": {
            "text/plain": [
              "GridSearchCV(cv=RepeatedStratifiedKFold(n_repeats=3, n_splits=10, random_state=1),\n",
              "             estimator=KNeighborsClassifier(),\n",
              "             param_grid={'n_neighbors': range(50, 150, 20)},\n",
              "             scoring='balanced_accuracy')"
            ],
            "text/html": [
              "<style>#sk-container-id-1 {color: black;background-color: white;}#sk-container-id-1 pre{padding: 0;}#sk-container-id-1 div.sk-toggleable {background-color: white;}#sk-container-id-1 label.sk-toggleable__label {cursor: pointer;display: block;width: 100%;margin-bottom: 0;padding: 0.3em;box-sizing: border-box;text-align: center;}#sk-container-id-1 label.sk-toggleable__label-arrow:before {content: \"▸\";float: left;margin-right: 0.25em;color: #696969;}#sk-container-id-1 label.sk-toggleable__label-arrow:hover:before {color: black;}#sk-container-id-1 div.sk-estimator:hover label.sk-toggleable__label-arrow:before {color: black;}#sk-container-id-1 div.sk-toggleable__content {max-height: 0;max-width: 0;overflow: hidden;text-align: left;background-color: #f0f8ff;}#sk-container-id-1 div.sk-toggleable__content pre {margin: 0.2em;color: black;border-radius: 0.25em;background-color: #f0f8ff;}#sk-container-id-1 input.sk-toggleable__control:checked~div.sk-toggleable__content {max-height: 200px;max-width: 100%;overflow: auto;}#sk-container-id-1 input.sk-toggleable__control:checked~label.sk-toggleable__label-arrow:before {content: \"▾\";}#sk-container-id-1 div.sk-estimator input.sk-toggleable__control:checked~label.sk-toggleable__label {background-color: #d4ebff;}#sk-container-id-1 div.sk-label input.sk-toggleable__control:checked~label.sk-toggleable__label {background-color: #d4ebff;}#sk-container-id-1 input.sk-hidden--visually {border: 0;clip: rect(1px 1px 1px 1px);clip: rect(1px, 1px, 1px, 1px);height: 1px;margin: -1px;overflow: hidden;padding: 0;position: absolute;width: 1px;}#sk-container-id-1 div.sk-estimator {font-family: monospace;background-color: #f0f8ff;border: 1px dotted black;border-radius: 0.25em;box-sizing: border-box;margin-bottom: 0.5em;}#sk-container-id-1 div.sk-estimator:hover {background-color: #d4ebff;}#sk-container-id-1 div.sk-parallel-item::after {content: \"\";width: 100%;border-bottom: 1px solid gray;flex-grow: 1;}#sk-container-id-1 div.sk-label:hover label.sk-toggleable__label {background-color: #d4ebff;}#sk-container-id-1 div.sk-serial::before {content: \"\";position: absolute;border-left: 1px solid gray;box-sizing: border-box;top: 0;bottom: 0;left: 50%;z-index: 0;}#sk-container-id-1 div.sk-serial {display: flex;flex-direction: column;align-items: center;background-color: white;padding-right: 0.2em;padding-left: 0.2em;position: relative;}#sk-container-id-1 div.sk-item {position: relative;z-index: 1;}#sk-container-id-1 div.sk-parallel {display: flex;align-items: stretch;justify-content: center;background-color: white;position: relative;}#sk-container-id-1 div.sk-item::before, #sk-container-id-1 div.sk-parallel-item::before {content: \"\";position: absolute;border-left: 1px solid gray;box-sizing: border-box;top: 0;bottom: 0;left: 50%;z-index: -1;}#sk-container-id-1 div.sk-parallel-item {display: flex;flex-direction: column;z-index: 1;position: relative;background-color: white;}#sk-container-id-1 div.sk-parallel-item:first-child::after {align-self: flex-end;width: 50%;}#sk-container-id-1 div.sk-parallel-item:last-child::after {align-self: flex-start;width: 50%;}#sk-container-id-1 div.sk-parallel-item:only-child::after {width: 0;}#sk-container-id-1 div.sk-dashed-wrapped {border: 1px dashed gray;margin: 0 0.4em 0.5em 0.4em;box-sizing: border-box;padding-bottom: 0.4em;background-color: white;}#sk-container-id-1 div.sk-label label {font-family: monospace;font-weight: bold;display: inline-block;line-height: 1.2em;}#sk-container-id-1 div.sk-label-container {text-align: center;}#sk-container-id-1 div.sk-container {/* jupyter's `normalize.less` sets `[hidden] { display: none; }` but bootstrap.min.css set `[hidden] { display: none !important; }` so we also need the `!important` here to be able to override the default hidden behavior on the sphinx rendered scikit-learn.org. See: https://github.com/scikit-learn/scikit-learn/issues/21755 */display: inline-block !important;position: relative;}#sk-container-id-1 div.sk-text-repr-fallback {display: none;}</style><div id=\"sk-container-id-1\" class=\"sk-top-container\"><div class=\"sk-text-repr-fallback\"><pre>GridSearchCV(cv=RepeatedStratifiedKFold(n_repeats=3, n_splits=10, random_state=1),\n",
              "             estimator=KNeighborsClassifier(),\n",
              "             param_grid={&#x27;n_neighbors&#x27;: range(50, 150, 20)},\n",
              "             scoring=&#x27;balanced_accuracy&#x27;)</pre><b>In a Jupyter environment, please rerun this cell to show the HTML representation or trust the notebook. <br />On GitHub, the HTML representation is unable to render, please try loading this page with nbviewer.org.</b></div><div class=\"sk-container\" hidden><div class=\"sk-item sk-dashed-wrapped\"><div class=\"sk-label-container\"><div class=\"sk-label sk-toggleable\"><input class=\"sk-toggleable__control sk-hidden--visually\" id=\"sk-estimator-id-1\" type=\"checkbox\" ><label for=\"sk-estimator-id-1\" class=\"sk-toggleable__label sk-toggleable__label-arrow\">GridSearchCV</label><div class=\"sk-toggleable__content\"><pre>GridSearchCV(cv=RepeatedStratifiedKFold(n_repeats=3, n_splits=10, random_state=1),\n",
              "             estimator=KNeighborsClassifier(),\n",
              "             param_grid={&#x27;n_neighbors&#x27;: range(50, 150, 20)},\n",
              "             scoring=&#x27;balanced_accuracy&#x27;)</pre></div></div></div><div class=\"sk-parallel\"><div class=\"sk-parallel-item\"><div class=\"sk-item\"><div class=\"sk-label-container\"><div class=\"sk-label sk-toggleable\"><input class=\"sk-toggleable__control sk-hidden--visually\" id=\"sk-estimator-id-2\" type=\"checkbox\" ><label for=\"sk-estimator-id-2\" class=\"sk-toggleable__label sk-toggleable__label-arrow\">estimator: KNeighborsClassifier</label><div class=\"sk-toggleable__content\"><pre>KNeighborsClassifier()</pre></div></div></div><div class=\"sk-serial\"><div class=\"sk-item\"><div class=\"sk-estimator sk-toggleable\"><input class=\"sk-toggleable__control sk-hidden--visually\" id=\"sk-estimator-id-3\" type=\"checkbox\" ><label for=\"sk-estimator-id-3\" class=\"sk-toggleable__label sk-toggleable__label-arrow\">KNeighborsClassifier</label><div class=\"sk-toggleable__content\"><pre>KNeighborsClassifier()</pre></div></div></div></div></div></div></div></div></div></div>"
            ]
          },
          "metadata": {},
          "execution_count": 32
        }
      ]
    },
    {
      "cell_type": "code",
      "source": [
        "print(Kneighbors_reg.best_estimator_)"
      ],
      "metadata": {
        "colab": {
          "base_uri": "https://localhost:8080/"
        },
        "id": "Pr86LgFaojWM",
        "outputId": "b430068f-f2ca-483f-bcc3-8dcfd2a98868"
      },
      "id": "Pr86LgFaojWM",
      "execution_count": null,
      "outputs": [
        {
          "output_type": "stream",
          "name": "stdout",
          "text": [
            "KNeighborsClassifier(n_neighbors=50)\n"
          ]
        }
      ]
    },
    {
      "cell_type": "code",
      "source": [
        "best_model = Kneighbors_reg.best_estimator_\n",
        "best_model.fit(X_train,y_train)"
      ],
      "metadata": {
        "colab": {
          "base_uri": "https://localhost:8080/",
          "height": 74
        },
        "id": "6JIeoxHlo4vR",
        "outputId": "b9834df4-d288-46bf-8654-095c16de317a"
      },
      "id": "6JIeoxHlo4vR",
      "execution_count": null,
      "outputs": [
        {
          "output_type": "execute_result",
          "data": {
            "text/plain": [
              "KNeighborsClassifier(n_neighbors=50)"
            ],
            "text/html": [
              "<style>#sk-container-id-2 {color: black;background-color: white;}#sk-container-id-2 pre{padding: 0;}#sk-container-id-2 div.sk-toggleable {background-color: white;}#sk-container-id-2 label.sk-toggleable__label {cursor: pointer;display: block;width: 100%;margin-bottom: 0;padding: 0.3em;box-sizing: border-box;text-align: center;}#sk-container-id-2 label.sk-toggleable__label-arrow:before {content: \"▸\";float: left;margin-right: 0.25em;color: #696969;}#sk-container-id-2 label.sk-toggleable__label-arrow:hover:before {color: black;}#sk-container-id-2 div.sk-estimator:hover label.sk-toggleable__label-arrow:before {color: black;}#sk-container-id-2 div.sk-toggleable__content {max-height: 0;max-width: 0;overflow: hidden;text-align: left;background-color: #f0f8ff;}#sk-container-id-2 div.sk-toggleable__content pre {margin: 0.2em;color: black;border-radius: 0.25em;background-color: #f0f8ff;}#sk-container-id-2 input.sk-toggleable__control:checked~div.sk-toggleable__content {max-height: 200px;max-width: 100%;overflow: auto;}#sk-container-id-2 input.sk-toggleable__control:checked~label.sk-toggleable__label-arrow:before {content: \"▾\";}#sk-container-id-2 div.sk-estimator input.sk-toggleable__control:checked~label.sk-toggleable__label {background-color: #d4ebff;}#sk-container-id-2 div.sk-label input.sk-toggleable__control:checked~label.sk-toggleable__label {background-color: #d4ebff;}#sk-container-id-2 input.sk-hidden--visually {border: 0;clip: rect(1px 1px 1px 1px);clip: rect(1px, 1px, 1px, 1px);height: 1px;margin: -1px;overflow: hidden;padding: 0;position: absolute;width: 1px;}#sk-container-id-2 div.sk-estimator {font-family: monospace;background-color: #f0f8ff;border: 1px dotted black;border-radius: 0.25em;box-sizing: border-box;margin-bottom: 0.5em;}#sk-container-id-2 div.sk-estimator:hover {background-color: #d4ebff;}#sk-container-id-2 div.sk-parallel-item::after {content: \"\";width: 100%;border-bottom: 1px solid gray;flex-grow: 1;}#sk-container-id-2 div.sk-label:hover label.sk-toggleable__label {background-color: #d4ebff;}#sk-container-id-2 div.sk-serial::before {content: \"\";position: absolute;border-left: 1px solid gray;box-sizing: border-box;top: 0;bottom: 0;left: 50%;z-index: 0;}#sk-container-id-2 div.sk-serial {display: flex;flex-direction: column;align-items: center;background-color: white;padding-right: 0.2em;padding-left: 0.2em;position: relative;}#sk-container-id-2 div.sk-item {position: relative;z-index: 1;}#sk-container-id-2 div.sk-parallel {display: flex;align-items: stretch;justify-content: center;background-color: white;position: relative;}#sk-container-id-2 div.sk-item::before, #sk-container-id-2 div.sk-parallel-item::before {content: \"\";position: absolute;border-left: 1px solid gray;box-sizing: border-box;top: 0;bottom: 0;left: 50%;z-index: -1;}#sk-container-id-2 div.sk-parallel-item {display: flex;flex-direction: column;z-index: 1;position: relative;background-color: white;}#sk-container-id-2 div.sk-parallel-item:first-child::after {align-self: flex-end;width: 50%;}#sk-container-id-2 div.sk-parallel-item:last-child::after {align-self: flex-start;width: 50%;}#sk-container-id-2 div.sk-parallel-item:only-child::after {width: 0;}#sk-container-id-2 div.sk-dashed-wrapped {border: 1px dashed gray;margin: 0 0.4em 0.5em 0.4em;box-sizing: border-box;padding-bottom: 0.4em;background-color: white;}#sk-container-id-2 div.sk-label label {font-family: monospace;font-weight: bold;display: inline-block;line-height: 1.2em;}#sk-container-id-2 div.sk-label-container {text-align: center;}#sk-container-id-2 div.sk-container {/* jupyter's `normalize.less` sets `[hidden] { display: none; }` but bootstrap.min.css set `[hidden] { display: none !important; }` so we also need the `!important` here to be able to override the default hidden behavior on the sphinx rendered scikit-learn.org. See: https://github.com/scikit-learn/scikit-learn/issues/21755 */display: inline-block !important;position: relative;}#sk-container-id-2 div.sk-text-repr-fallback {display: none;}</style><div id=\"sk-container-id-2\" class=\"sk-top-container\"><div class=\"sk-text-repr-fallback\"><pre>KNeighborsClassifier(n_neighbors=50)</pre><b>In a Jupyter environment, please rerun this cell to show the HTML representation or trust the notebook. <br />On GitHub, the HTML representation is unable to render, please try loading this page with nbviewer.org.</b></div><div class=\"sk-container\" hidden><div class=\"sk-item\"><div class=\"sk-estimator sk-toggleable\"><input class=\"sk-toggleable__control sk-hidden--visually\" id=\"sk-estimator-id-4\" type=\"checkbox\" checked><label for=\"sk-estimator-id-4\" class=\"sk-toggleable__label sk-toggleable__label-arrow\">KNeighborsClassifier</label><div class=\"sk-toggleable__content\"><pre>KNeighborsClassifier(n_neighbors=50)</pre></div></div></div></div></div>"
            ]
          },
          "metadata": {},
          "execution_count": 34
        }
      ]
    },
    {
      "cell_type": "code",
      "source": [
        "def showStats(model, X_train, X_test, y_train, y_test):\n",
        "  y_pred_model = model.predict(X_test)\n",
        "  print('model Classification Train accuracy %s' % model.score(X_train, y_train))\n",
        "  print('model Classification Test accuracy %s' % accuracy_score(y_pred_model, y_test))\n",
        "  print(classification_report(y_test, y_pred_model))\n",
        "  sns.heatmap(confusion_matrix(y_test, y_pred_model), annot=True)"
      ],
      "metadata": {
        "id": "cJxy9M6iqrdH"
      },
      "id": "cJxy9M6iqrdH",
      "execution_count": null,
      "outputs": []
    },
    {
      "cell_type": "code",
      "source": [
        "showStats(best_model, X_train, X_test, y_train, y_test)"
      ],
      "metadata": {
        "colab": {
          "base_uri": "https://localhost:8080/",
          "height": 685
        },
        "id": "65NjPqiSqvW9",
        "outputId": "038d0cc2-698a-43d5-c1a4-11a7f6994b63"
      },
      "id": "65NjPqiSqvW9",
      "execution_count": null,
      "outputs": [
        {
          "output_type": "stream",
          "name": "stdout",
          "text": [
            "model Classification Train accuracy 0.7372273249138921\n",
            "model Classification Test accuracy 0.7273249138920781\n",
            "              precision    recall  f1-score   support\n",
            "\n",
            "           1       0.97      0.64      0.77       345\n",
            "           2       0.54      1.00      0.70       347\n",
            "           3       0.85      1.00      0.92       359\n",
            "           4       0.75      0.94      0.84       339\n",
            "           5       0.95      0.06      0.11       352\n",
            "\n",
            "    accuracy                           0.73      1742\n",
            "   macro avg       0.81      0.73      0.67      1742\n",
            "weighted avg       0.81      0.73      0.67      1742\n",
            "\n"
          ]
        },
        {
          "output_type": "display_data",
          "data": {
            "text/plain": [
              "<Figure size 640x480 with 2 Axes>"
            ],
            "image/png": "[encoded data removed]"
          },
          "metadata": {}
        }
      ]
    },
    {
      "cell_type": "markdown",
      "source": [
        "# Тест"
      ],
      "metadata": {
        "id": "KN16ySRVLNoq"
      },
      "id": "KN16ySRVLNoq"
    },
    {
      "cell_type": "code",
      "source": [
        "def test_pred(test_df):\n",
        "  test_df['review_name'] = test_df['review_name'].apply(cleanalyzer)\n",
        "  test_df['review_body'] = test_df['review_body'].apply(cleanalyzer)\n",
        "\n",
        "  X_name_test = vectorizer_name.transform(test_df['review_name'])\n",
        "  X_1_test = pd.DataFrame(X_name_test.toarray(), columns=vectorizer_name.get_feature_names_out())\n",
        "\n",
        "  X_body_test = vectorizer_body.transform(test_df['review_body'])\n",
        "  X_2_test = pd.DataFrame(X_body_test.toarray(), columns=vectorizer_body.get_feature_names_out())\n",
        "\n",
        "  X_test = pd.concat([X_1_test, X_2_test], axis=1)\n",
        "\n",
        "  return best_model.predict(X_test)"
      ],
      "metadata": {
        "id": "DM9vZZSyLSwX"
      },
      "id": "DM9vZZSyLSwX",
      "execution_count": null,
      "outputs": []
    },
    {
      "cell_type": "code",
      "source": [
        "df2 = pd.DataFrame({\"review_name\": [\"Восстановление карты\", \"Альфабанк просто лучший банк!\", \"Альфабанк это Дно\", \"Нет возможности получить у вас карту, не объясняют толком причину отказа\", \"Неплохой банк\"],\n",
        "                    \"review_body\": ['Банкомат \"зажевал карту, позвонила на горячую линию банка, специалист оперативно помог в решении вопроса: заблокировал карту, оформил новую, новая карта достаточно быстро была доставлена заказным письмом за счет банка по почте РФ. Спасибо большое специалисту банка за компетентность и помощь, банку - за заботу о своем клиенте!',#4\n",
        "                             'Здравствуйте! Альфабанк лучший банк. Обслуживание топ- все операторы милашки! Нет навязчивых звонков! Понятные условия всех услуг! Люблю! Всегда с удовольствием звоню на горячую линию, нет заученных дурацких фраз, всегда помогут подскажут. отделения тоже чистые, удобные, современные. Спасибо , ребят!', #5\n",
        "                             'У супруги была кредитная карта это Альфабанк(Днище) банка.27.04.2022 г супруга скоропостижно скончалась.Сообщил об этом по телефону в банк, сказали принести свидетелтство о смерти. Принес.Через 6 месяцев начались звонки о просроченной задолжности. Обьяснил ситуацию. Со мной связался представитель банка. Я ему предложил отправить фото/ксерокс свидетельства о смерти так как был в командировке в другом городе.Знаете, что делает банк? Подает в суд на человека который умер. Достоверно об этом зная и имея возможности убедиться в этом. Он просто подает в суд, вводя в заблужление и сотрудников судебной системы и ФССП.Я был уверен, что это дно, но тут снизу постучал Альфабанк', #1\n",
        "                             'Доброго времени суток! Обратилась через мобильное приложение для выпуска дебетовой карты 09.09. выбрала доставку курьером . Через несколько часов пришла смс от банка \" по решению банка мы не можем активировать вашу карту\". Позвонила на горячую линию уточнить причину, так как из смс ничего не понятно. Там посоветовали обратится в отделение банка с паспортом. Быстро поехала в ближайшее отделение узнать. Девушка просканировала мои докуметы, начала заводить заявку и ей выдало, что по техническим причинам мы вам ничего выдать и открыть не можем. Толком ответить , что под этим подразумевется мне не смогли. Так же не было предложено просто открытие счета, без выпуска карты.Сказали, что если вдруг мне позвонят. Сроков никаких не назвали. Знаю, что банк знает эти причины, но своим новым клиентам их оглашать не хочет. Из-за чего еще больше вопросов возникает со стороны возможного клиента. Остался не приятный осадок от такого отношения', #3\n",
        "                             'Неплохой банк, но напрягают постоянные задержки и ошибки в работе приложения и некачественное обслуживание. Не самый хороший, но и не самый плохой банк',\n",
        "                             ]})"
      ],
      "metadata": {
        "id": "-S309i3qMEFR"
      },
      "id": "-S309i3qMEFR",
      "execution_count": null,
      "outputs": []
    },
    {
      "cell_type": "code",
      "source": [
        "print(test_pred(df2))"
      ],
      "metadata": {
        "colab": {
          "base_uri": "https://localhost:8080/"
        },
        "id": "MWfU9tarMa0s",
        "outputId": "78709bd6-19a3-4e41-f0ab-65b7ddb7775c"
      },
      "id": "MWfU9tarMa0s",
      "execution_count": null,
      "outputs": [
        {
          "output_type": "stream",
          "name": "stdout",
          "text": [
            "['2' '2' '2' '2' '2']\n"
          ]
        }
      ]
    },
    {
      "cell_type": "markdown",
      "source": [
        "# Выводы"
      ],
      "metadata": {
        "id": "PWfShZymsNRZ"
      },
      "id": "PWfShZymsNRZ"
    },
    {
      "cell_type": "markdown",
      "source": [
        "Для предсказания оценки отзыва по его содержанию о работе АльфаБанка из совокупности отзывов наиболее оптимальной моделью по скорости и точности на этапе сравнения с другими моделями показала себя KneighborsClassifier. Точность данной модели с учетом попытки ее улучшения (кросс-валидация, фолдировка, сэмплинг, векторизация, жадный поиск) стала равна 0.73, что на 0.15 меньше изначального результата до дообучения. Как итог: модель переобучена в результате чрезмерного увеличения параметра соседей (по дефолту стояло 5, но при семплинге задавался рейндж от 50 до 150, и модель выбрала наименьший вариант, что все равно превышало идеальный). Как можно заметить из heatmap, самым частым случаем для ошибок модели является оценка \"2\", что и показывают тесты (модель неправильно определила оценку в 3 случаях из 5, ошибочнл приняв ее за 2)"
      ],
      "metadata": {
        "id": "HHN85Ox7oNEs"
      },
      "id": "HHN85Ox7oNEs"
    },
    {
      "cell_type": "markdown",
      "source": [
        "![image.png](data:image/png;base64,iVBORw0KGgoAAAANSUhEUgAAAZ4AAAC/CAYAAADO+7ooAAAAAXNSR0IArs4c6QAAAARnQU1BAACxjwv8YQUAAAAJcEhZcwAADsMAAA7DAcdvqGQAADapSURBVHhe7Z1Nb1RH1sfPPCs+AEgoIprB7mTBCllIaKKhY9BYsrKLsLywWKQtXqyIZSAWYEUR2HECSxQZYtmzQJZwjNhFlhwRp4kSoRCLFYtgWzMKmrFifwB2fs6pl3ur6r51293X2Px/ozvu+9K3qk6dOufUqWryl02GAAAAgJL4P/MXAAAAKAU4HgAAAKUCxwMAAKBU4HgAAACUChwPAACAUoHjAQAAUCpwPAAAAEoFjgcAAECpwPEAAAAoFTgeAAAApQLHA3YVS+Md1NExSLNr5kIeT8f4WXleH4Nz6+YGAOWwPjeodG/sqblQIk2NlZKB4wF7l2NXaHV1lVZnz5oLAPiU5RiW/93ioMcEVcXB1CItvzQfXyPgeAAAoE0c6JtSwc9U3wFzpTy6hjno4rKvHDMXXiPgeEAbWafZQY7KxsdoUKW7xmjWRJgdg7N81zxlr5kjjOJ0ykAffXfNxYglGnO+2zG+ZK63CRVpjtGYqdPg3GxUfhw163ZHdXLaqlibNfJI3ldt5fNZp81NpQhz3q0J5MVt8SSW9X1zPaqLfc7K20TgIoO4v/x3u/1on3VJ1wMrS/9d256pmPofv7yoTif7bbm2HFOutN+RidcXWbISCtK8W+9n03/9k+ps8fJx8/04pRbK0ZWRKpfHo9YB/s6cracr3xLGlPxnEQBoD39u3q8d3jx8eHTzN/7f6GH+/MVvm5u/jvK12ub9//ET39b48+HN0V/NN4Lz376Q7+tnk+fmnbX7XBLzv/ubNT6vfavOYlR5Kde3gvMuXVepi2mntM1rs+C0W8H3vzD1FYK66fbFz+tz+64i8t+dkFeIkV9cV4dQtuGztqxaTfddWDaf2z5NyijZ7y7Je+b7We1oguxybRk1bpOUE9a5SNaGjOvb62cmqzyHtLbF48eRoelL/VyDY2qbYMYD2s/5XuoyH8/+034S1umH7zji7B6ncyYdcKDvIsmKzOT3EmUt0bzMcM5fpP6Dcjfg6TxJ3Hf2435SiYyDJ6m3m6PA736II8+20E29/zCpk+5eOunWbe0HmpcmfXXOtLmLes/zn7vzJqI8QP3Dpr7CoQq/jeu8/Ic+V5yluWFXTsu03NACcf671+du+/IKWPrXMC3yN8Y/cstujsV3L+rUzrFe1Y9Ru45dcVI+B6jyrvy17Vqib2Tm4eiBi68TzNNvaJgfz2pHS+FyeseknAN08gORpq1zI/1YxFb7eZs4Otv9wUlfhiWNKTgesIP8Qcs8sDNZ44FoPqax/m99N06THFcGaUd5uSy2ykmBJNODXirkPTH2raP43d1UOWQ+plKhSpqTb5DuytvmUxddkY0dkWH10zfJlCnzbsU3ghG+8176XplG6i1l7SKWh16vmYqCoHb2405R1piC4wGvFwXOxuXA3yrq79lZvYgaHVMlRMJZmMi3+6snfp1Wr+gZ0NMxta4Q3f95XD3fEhp6d9Eup3ZE3bJe0seRNEf4Rh5z4khCfl/OjKq7PpK2TNL8Uz0LjmeUO0Q7+3EHKWtMwfGAHaSLzn0l8/hh+sYsgK7/NM+m0aR7zDQ/SlPxYPciZZPOmfw6XEDfQWxq4vI3JrWWTuVvehjr9FZryXr3gX/0KuOYJa+uf6rkGA3/K7vmOpXEjuTKFurdXSE1H1qbpdvejMfMaBw9SGDkOtkvDsxJdW4Ta2i3ut25nf2Yy5ZSew1Q0piC4wE7iqQvJPq1U/vjl4nGf7bpjAPUP6Yj3T6Z9vcTzXm/yemiKxJpssE6blMefNjdQVEqJNgB1Njuoa3CdZ6a48Fr6mwPuzPo2DkaVwZUX79dmVPnLaHo3Qf7aSohL+cHhvK7J5Hv3T5zTw6z24m/+6UECerecZr/oJl6s0w+5vfact9bpovBb6tk66+rB+rwdlPZNRYma81vK3Cbpdw4NervnsukQNZZurflXXghXn9IHeJ+tLsH/R17jf6QNH9MtYq/yA4D8xkAAF5fZIty/7ITmIDdCmY8AIBdwBKNyeyhlbMdsGNgxgMAeI2RjQlmZ1X3OD3ZyY0joGXA8QAAACgVpNoAAACUChwPAACAUoHjAQAAUCpwPAAAAEoFjgcAAECpwPEAAAAoFTgeAAAApRL9jufFixfqAgAAANAM77zzjvnUGJHjefXqlboAAAAANMO+ffvMp8ZAqg0AAECpwPEAAAAoFTgeAAAApQLHAwAAoFTgeAAAAJQKHA8AAIBSgeMBAABQKnA8AAAASgWOBwAAQKk04Xg26MGFI3TkiDluPTPXQdtZuhnL3RxDDzfMzR1k7QENHRmiB2vmfDuYNt5cMucRWu+i9qbIQh0XHvCTIc/opqnfxsOh10NmpdLkmFX9GT8fyyt4j3s47xQZx/dusvRdpC/Sv6fx7yf0wOv38N3l8OxWXL+i9mXrWmOyDPU8fl8gR+fI7K9Q1pn9rPH7sUXjO6BBxyMNqdLIY3MqTA3kCBe0CqXsZ4hmnj+n59ExQ51Xq8WGpN0cPE0Tzyfo9EFz3gKmzzRgVE5cp7onjzpdpxGqBvJ4dmuA6J6u3/4Pb1DP/LW2DKLXlWe3eMy+MxPL6EXemGWDdmqEaLRuntc6ph3Afjp9x5U3H/dqfL1K188clQeUoaxe7Yz0tD66QgNRMCD2Y4CmB7PqIsZ0gFZs2Y+u08oZx+CJET6zQtcfpb27HGQcDryI9c6vg65/3L7nNLRSzZB1A7IUx3Bmmmr37DNuXxylS+53+aiPVvl6jYY+3C8PFPR7Xj8zqh8pkvXze500cqr1jr4xx7P2Iy2I07EDnhVDmlqf/7HUzn/jYCUYmKrxYL7E6ubCyid9MLXgKEQykvIHth9FqqjGGbx50VzmvXDGE0RSXrSk7t2kB240FRqPEzWqnZimgaYd6n56v1c00oHLm2BDUesy5zLgL/Ag+qxcg7VjSPunHGOm2l/LHrNrK7TCo7rn79p4iY71DBKt/CftadYnNozV0Rsm6GDduyPntUhP9384RLXHC/Sj6v+XtMr2o3Yqrov0V33lpT5dWiA2s5HhpIPvU8+JOi38ost+9miaaHAoCnD2/72HqtG7y+AZLUxx/S+c5pprvPaZ+s98Eo/So2euE12d9sZROqEs+cq9EaqzE7sU6a52NvG5A/fztat1dlLGRhT1e0E/b/xnhcdhD71vg8muHm4Zf6fFsm7M8fx3ler8p9r7vha8Ugz++3iVVQq0Cxlw7mD2ULMN65DMjDSKcnQUVL/aWIQvTigrmsu75yGOhSOpzihK40iLjYdv6KdpZGXI3J/hgTtC17yosINqn4tDHUimWnLZoB/nOUqLBpsevGT11SKDqFSDtYOoMdtJndaACG91ZBvsg/wsf8Mae2tsO//qSVCx8XCCpjkIvWEdhXEs/rOHqCNyHvKZe/+RNcPSX3Wqdh7Sp12XWB+c4EoFurFxPPoJ64tj1Dd+WaC6axzbTorhVwbc4UQHtzKk2GAnZWmcXOSk80k4qaJ+L+jn/X/tZLvu6IhyqsH7WkBDjkd5wVRa7wmBZYNWXqQP/CRm+u4MThUVms/Nsv/DCXp+J47uXDLvKUfoDs6UWYibTjCRVhT1Wvg9N9hp5qbc2GFVvZmVpIHrtPpfcz9Tdq4xfAMIjaEyOlmIca1Tz3zVyHSCOh6lRdnPaFoibCf611Sp4y3zUbGfOqN/KV/r5wwNRP21euE5TUTG1qJn5kdUKiieAUSYdQ+VCvo8XT/LQht8MwtTAY0fRKn75nM2ebI0sjBHaiCWmN0Ycvu9oJ8lCHjUQwunTNl3OjjoDDMu26eJzQVg5/GVMU0ho7QYD95ixdfotIE15v5iYt69dOI6VnlQbQVZj7mel3JLrPGwUWMnNn3Hzq4kAg8NoaCNYcLZAT1jNQ5By3SIVtn4JNYpTFqpJ+GQ8tA6MdFp1xXq1HGHdSTRv3pmIc/IGknivpoZxXVrblbcOtR6j6TAo0CP6/1IUmvWmB9hw80zenM3k0xZ1mnk1AL1GFnoNa9ke7c08yvoZ5WCP7VKQ7bsC6s89hsZ983RkONR069UWj8FAxZtJP0cezwwVarKXBWsw4nSYmYdrjHse016TEU7dsaRd8/FOpx4kVgvem4FjpCbTLlJTj1KJ4RpEIdDnVut0y4kTIXnyEUbMXdNjPv9Xo3qwTqFXm/p4bsh7oxT0LNORbiGE/XvRKZBO3qKtdtbw3TRs+U4dVcekdMJZwFmxq/HJs8g3hJZ59vHbFnyLOaR835+91CivSZdGaaThZx+z+9n8043vc/OfmaQx/291sq6sRmP5Aj5T7xAZTcbpOU1QauQwRcO/HQkTyvKykqfkSJrDJOyU05tmhY8o593jxHjYmYiyRTKFohSbtdowVwqxgz0nJTSy5WtzcJ2HWrMBqlwyf9va20ka/1Br+H4QZKedcaL2NmEG1189KaZ9B1iZaLroQO74tSTNvB59jFPlqETTyFYB4toS7+3nsYcT7SZwKRcTBon1duC1qGijWkaSMwwZBAMsPl3cZWVZx9eqi1c3NW5ZUti4DspgLx7CdxIS23L3J6R1ym3OtXdbfwZ6Jy7jR6zBq+OwqNF7b2MipLdSNXsPMsYs3qn2AhNRwEF65DabeVEv2ZHVFoKU+2ccoIkvWhujJ3aGTVNE5Hz4Lp8Jv2l10hsOje97OS79W5PDrTCtY02orYoEzud1MBOz/aj2fma2WmWWLtxKJClt8ap1nICJ5W2iUAo6Pf8fja7DUuQdRP/6WsxdrKIa05lz7qzmA3aiCyqsnJ4hPL3nmFFeSS5W532UjMQye1GzqhGM/eIBmThUA2koG/V9+3vc3LuqXcuUI8512kI/ZRah5H8sPr9Bd8n/1lBPU+mHVL/qD4Opt7yuwPVjjRZCFKe8115t6wp+LMvMRCymBrXYW+TN2ZFFvI7J2dh2dMRJlXH5Ddl6RG/BClxsBGmo3R5Uc8F/RWWXbX9bfDf7epnCYRycZDf2ij55dY/RdYFsgz1PCrHoOQx35PhCAtsdUE/+7JOlp1Gs//p6yYcDwC7CDW4ZJHUGdgymB/1+IMQALBtmnU82NUG9iYq5eCuRXEUeIdnXyWmZwAA6cDxgD3L0U9miMw/vbLx8Bot9Kb8NgQAUDpItQEAANgWSLUBAAB4rYHjAQAAUCpwPAAAAEoFjgcAAECpwPEAAAAoFTgeAAAApQLHAwAAoFTgeAAAAJRK9ANSAAAAoAww4wEAAFAqcDwAAABKBY4HAABAqcDxAAAAKBU4HgAAAKUCxwMAAKBU4HgAAACUChwPAACAUoHjAQAAUCrNO56nY9TR0UGDc+vmwuvD+twgdYwvmbOYpfEOVeexp3xi6q8+e6zT7GDj7VJlDc7yt4pR5afUy1J0vy0YOcTHGLk1aKZ9W8UvQ8vf1uVRS8pforGOQZpd02W9jjrbXlyZ8lGkY2uzNBjpgzsWgve4R/TOtGdcnfLvJ/tC+iq+nxifnr76uloW1o6k18Gvf5Gsle5nvissSw6tx5b87zdal3h8uBSV3RLkn8xplN++OLx5+LA+at/+aa6+Pvz5bW3z8Be/mTONrvPoZnT111HTBuea4s/N+7X2tEvVIaiXS9H9VpOQCaNkd7i2ef9/znntPkulJP53f7OW6JPtIe0c/dWcqP6N2/cm4OtVkX7/tjnqjWt9HssvQI0jR57Sf5n6osuO6xK+Oyhb6YLz7qCs0nWTUbJ0yvTrELYvX9bhWEvqvsgjZywoecT3t1YXLXOvHoqCsltEgzMeHa303SXq7u42115/xHP33e2m8Z+vUJe5pug+S2e7J6mvcJaRHTmEMwI3Shicm1Xf86O2ee9dyRmXez+MMHIiV4lSuR6ztnx1Lyfi4cix7+5Zmlv1ZXKgb4rmzi/S8L/SZZKIgjzZ5UVYDchQotn3hmmRuE/4GYmGQ/mGMzRXflK3MZa5jtaN7Fgut38fp3PH9DPcQur/uELDV7Y7i9olSPtF9z+yvSztP0uL3/2Q3v61ZVqmbur9xwFzoYt6zxMt/zvtae7T/knq/upL6j9oLr1cpsV3K1xKCms/0PyiWxf97snvjS48neeeP0sX+8y3D56k3u5Fmv9Jl730/STR+YtRWQf+0Uvdi/P0Q6uj8EyWaJ5t39mP+6P2Hei7SGejOvxBy4t8/5+xrE9+0E2Ly3+Yc5d1+uG7RV92B/vp4vlJum1ngdIX3RV6W58FsC34WmR/Lhq/zdZFj+U+Wj5/lns8ILfs1tFEqk0M+CpN8eDdDYjh0k5nKu7giAqdGxun7rt9KQ7AIgazj2h2lVZX5XhC47/3paZrdFlizPWzF5eHeSAF3F2mCstP7j/5qpsm+4Pp8V3+hi1rlg3ke9b5iNM5TsPvznn18Iz74jDNV57o+8Nv8/OsVF+Z86DeehD3+o7Y0DUs30/eUQ6cjfgT9T4+Zs9yfa3spH5Z5eXdczh2hVZ/5v5g4yMynLIGyCJOp58i+cqzy/2+c568vEwX1X3d30v/Gib64KRvCI/1OgN0jyOOgPW84ur+oUq2wT7Iz/I3rLEX/RdjW/lb0pWsz92mye5x+tLpp/V/s9v6/bYTHDj6zYZ1yvSLxhhyaxyl/91AyDgq6wRDvVz/aZ4Wu3vpZGJct4suusK6dSUKYhjlqC1vU4UteORIrXOpZJvvNLlGzoH7TgLR45EsXV3XjsX/vpRv+66BulT0WJ76KMWW55bdOhp0PBwtTaUZ8NcTcQTHL3PvOFFSAh4MX6Y5AIMaXOfnHGVjGbCzosvfBM/rjj07Gw+cro/EiAaEERur7bLboW5Zx87RuFWkp9/Q8CIb5Gjg6Xp0373tKIQbqYZI31ljvk7Lv/PTOQMiDTXwp+JoTxlw8zGJW15I3r0sdITnylf3HfmzM8+Z6nYmB7c7QN8AwshVOZcsxLg+od7vjhuDc1sFSp6xVSzRNzy23Ohf+IOt4SL1RsHJk6+WefYaji0JROTdfcHYspjZMc9+yZ0RWMys9/hlovExv/yykcBmMRrTWq/niANCJbvjtPxx9hiQGYhnd9Ts1HxmxIkvLlbiQMsLRIVuqhwyHxUHqPKu+dhAXbr6smVXXHZr2Hu72jgSV4o5WzSj4S7q+5INfHrKTQaSvEt3njlUOihEIpBAEXIHeDq+M9CKJBGQKEJzBoQVT1Iql40B2fYCfYxKfylZsOEw1/LLa0VddIQ32S/lxocKLDJJ6RNFLFcQoDYWaCOlZ6cXafm9lE0AJi3WGziNMDixYytKHym0UVSOqcKzo4Q+6JmF3L+4zDoTjks1M4rrlje224nKAEiGIwoGtcO8bbMO7MArX7OeptgVQae1dVpZ6fMVooscBFvkvjcD5HbnpcF9mqtLyPbKbpy953g4GlDptWN2RpPnrXkg5KXcOCrTneceTqe8rtgBKumrxWE9bVaKtzXDax3O8cs2EprzZzyZ5RXca4KzUcrTOVLSggovDeLztuQh3hQWl9kFO+TIRaev3DUxdgKzEjT4M/y8VK2PG4UnKVqn6fqnpHPnvbJjgjWiEomcjmsHwjWqyK64WQkf5aitHrPDlugqLxPh6+0iLb80HxV6hq/YQl2KaMeY2XuOx01pqaiLvXXegnKUcvuU5s0lQQn79+UGInSdvvEUIWeAZ+E7gzglduBvPLdpwoB4qNw6K7Zak9GDOG9AKweTiEJtKlEGSYHTTSkvIu9eLjpnnb7InUHOjFDNZN8EZD0nTOfKus+21kaCtZkIHWX7wZuT7lQpsvSUtpCudxadnktbWy0XXQ+91tnq4NNdT0tvr+itdkxp40HP8LPT7Y1SVHbr2IMzHheZ2nN0LpF2TpRtHdSiY5P0TpFh+tTphPQBkszZqvyv+dwwTkSyPvepWtdRUYta73HTgawcV9z8ckhSebwoVU2dZZrvGwJpm6Svwty9JVZ0eb+bassrr6AuDcF9qNJ1nzoRW/K9PinBgGJra1y7Enb0F70UCctMdkOFGy4MegYyTN9EzoOdidq5Fu+e0gFPWgrTzEC+jseG0mEyMyijw3Hajevi6LAda+ll2/53Zl7syNTGoWiXXPtZGj+u2vPEXeu0qDXP7PaFhHZkaZzHUzTbNLvQEu21s5ikPPRmDxNQNFkXn6KyW4jZVt045ncw2b8H2DnUfva038PY3+7IPfmc9hsAtZc+aJe5Zn+7lL2P3+zzN8/Vvr2/Oersj/d/T8EEv1OQ+/o79h3h3nqzN9/ez3mXIqfeFv1bAueZYO++177gfaO/Br8VyCsv516yjKzfJiTr6/ZTQr6Mlmn8jEZ+oxDKdi+TozdKFsHvdMK+CmQa/n4kxB0Dyefs70bMEb47KDvsO7//S+7DUC7OEf4WKbrnjoEUWefLqri9/v0CWXt1cVDtKnp3e2T9F/k/44NAy5DUg+wK2j07Afccslj+nmyxdnPxY9TxfW/22hAAoBT2eKqtDJJpH2/qC3YGlWqapPkofSOppuVS0zMAgHQw42kFKrp21nW6M3LBoGTimefJnwbpU/qyyd8QAQDaARwPAACAUkGqDQAAQKnA8QAAACgVOB4AAAClAscDAACgVOB4AAAAlAocDwAAgFKB4wEAAFAq0e94Xr16pS4AAAAAzbBv3z7zqTEw4wEAAFAqcDwAAABKBY4HAABAqcDxAAAAKBU4HgAAAKUCxwMAAKBU4HgAAACUChwPAACAUoHjAQAAUCpNOZ5nt47QkSP2uEnPzPWt84xuRu8Ljlvbf3s2utybS+a0peS06cID2jBPlcbSzfRy5bpXP78/Nx4Otb2+fhkb9OBCXJfFlpQvfTFED9Z0WUMPS5f+DuPKlI+iMbX2gIYifTjiyCt4j3ukvjNtfBXVxR83ib7y9FX3advIGDNKX6M6hPYvGPcN2y8tl/z2umVl25f4HQV1Cfo5tIN+O9sj64YdjzidgSlzopimgZYYpipdf/Scnj93jxmqTQ3sYkOR1iY+7pym/eaJnUQFEGeIZpy61UdXaKDdAzpg/4cTsUzWfqSFxzVTp0vU7d7bIs9uDRDdm6DTB6WsG9Qzf63U9u00z25VaeSdGdPHdbr+Im9MsbE6NUI0WjfPz1Dn1aoxSvvp9J1YV9Rxr8bXWc/PHJUHPETu0+azJb8uYnwHaCW1bEYM5ZmVeEzd66SRU60IfFMQg38mrD3D16tXO6Mxo8aLFzRxmwcblXXMxsNrNPLYnFhUHeL2+mUdpUumDvaoj1b5eo2GPpTRIk7HlWVQF5Gl18916rgTOx9xOm472yXrBh3PM1pQTscaBnYMcvp4gX5sy0A+SjUWZn3+x9ixBV7a88Tq3k164HrqwCl6XvzWgrkakx3NSEdyWUtO+erdblTRvMHOL89pS9QOtzw+vCgm454dRI9HqGrL4GsDU9KPl1jKMeIEZgbrNHLPfW+MP9t1ylBsoW6MkoG0T+rJg6EuwQw/I4MkumeeVW1x3uNGaVK3mw9t/5i+YJ2YeHGdal36GWU8L/Ag+szXiz2LtH/KdQzS/po/plzWVmiFHUnP362rP0o9g0Qr/0l7mvuU9ao6ekM5dQ/RL7YOyj5YiuqyNM3G1xpOQY//6UdaV57dY90YHIrL6qrR9RPTtBBE6tvD6Ckb/NqgGHIXdix3pL21aMzs/3CIapH9e0mr7Dxqp+L2vd/L9mvlpTnPgOVybb6TaifMueHZIx6zTnv3/72Hqlm2Vt5xtU61e2Y8Ly3wKHJl6ct645cFqp+4TjeC+9N3ZFxs0I/zda+d7ZF1o45HKSUz2GMqdIg6lLA6qTNUvHbAwhUv3XnPeGHx4ifYSHpGhJV3ZcjcZ8fIxvaa8fJixFwvPsPPujFNeF9H/64z4LLuEN1w3l09MkEdJiLJM9hpFJfntEVF/TIoJHrXz/tRTBgtOve6LunIlBWtbhyNVmrbjz5HP+Hvf5K8o2a7bMTrpr7qnTwj1cY/p/zcew5Sz0fX2ezpwGYiGhQG5UCdGRo/u3LGd/bTV1dpSN3XMxwxVtT7PsvOoavHMRZ7nP+ustYG4/OtjmwDdpCf5W8s/GL7RgebnX8N+oLZeDhB057xsohD4n76pMecGwrqsvEfti4nOtiqxOz/ayfr2AK/cYNWXvDcqtO7S53vcJ8bx9QqOpSeTlCNi/bRjsWXhdhAKy9tD+P6GAPu1TmEx8ZnC9TzeY06zBVLOA61s+ih91NsrXbKM3TJBlgyloKgUsnX5Z1Of1wIj1e5leyEeGbrjz/d9lbTmOM5eJomZFBbYagIhf9mGLDt84wNCXecNRym/Ei4fFUiCh83otLRmo44kl786CdmxqbQZUURAyNpGfHyE46BrF2waR/9bjciOXqK3/ZihUuysCM6FUfn+rCOpcHyouiJWyAD3VUuUZDPrxNdnTbvdElTHkvaIC5GDQQ37SUG3HxMkld+3r0sdLTpykv04cYo+c7e00XdzqTRdI3FG0BgzLVzyUJSOHXqma8afdWBVaxzFqO/0XiIET1dcaNll6K6hMZQHJP5KIR9eagzHP/b5SidztXLKnW8ZT4qtPPTaL2e4bmell2VVi8U6LnY0HecWVwaZpZfvUp0/fOUtHNiJpmG319q9hQFjYIeX1nYICPOHLSGpjYXKFT0yRWVKDolOm6eNCOto+Rkx8VpmyoLszGyohXz0aQYspUqnXzjzcqQWOMxhnML5b1c4baysngyUqkpgZVeptJXjcEIUoytRKW/VPluDj+v/FbUTfff9BkpNz7y+1++E8pY0HIuTIG8iUhWwRhMra9DtMrjMjE7NamcntAQqbRRT8os6E1A26WJTn/dxE85u9iZYYH9VLOXuC/c9LKQNxPS6EyJF7RKEH+v5oyna0QXJNuQRGdmMpzeNmnO8bhOp2UL5b6RnpHZhJejFKzDidM2ekHtDSJauHQP48ysgkq6SqUBs5R+a4bXOpw4PejOGJm88huuWz61KM3oHFkD16aGU2h9pPwao9InDjlysbn/OLLlGRAbqHowq05P1dq0UY5NKKqLlzFgVHouJlxrUsFYqdRp9b/mo0LPqhVp6yqfs75PTaSu/epNL84MvhCdZfFTiyaTE6aTI2KnkxgnkUOTY4JOE8s6mJFGTueRTl23msYdT1ucTpKjn8j6TbBjTjpWymVBNZemEfTsxldcJ29pctuZStVqtlCeMpbhwEzDpkTVGozkx5OotGDGPeVgErMSreDa8BcMlrzyG6hbOmn9V0BOSql8g7VDqFQVG3fX8Ikxz42Qi9DrPm4aWKF2JLqZCz0jlqhazZgK6qLWcwLHpNYllINLC5b0eEnUo21k2RB3M0ajaBnGM46qWrZQWQEVkMm6aMpMM0TJPKN8NXs1QXoDWSkVTDipTlnT1UFme5yO0KDjkamhqBJjo1Z1NL+bqxgTLUg5bmTsKiY7wcZTbTbdE0du/nZPs4PmTLy4r7c4hrOuVtF8eXoHTbxZQoidRFJR8zYQSLQzMyi7x9zNDPp9ItO03L0QDzopz5VfXvlN1i0V23/uVuiiwanXcnznLmiD1ewa166EHf2Qt+mFZSY7szIiZL1zaoSmo3SOHvPeDqfUNDFjg4ro0DNiCVZUoFhUF7NzKl7jNOsSxrEcPRPMHswuuES6r20kbYhe+zBOXK15uvXn9n0W7MSLCLdDS6DNOhk5iWRZYu8GwrWctA0bCu43s106NUhXTsmx28G7xQ6k7XptNY05HjWVLBFRZBUZx7uztLE0Du9OB9XlfqM7lPj7eueY/v5E53UvVSRbid372tu3T/DNl8fK+kg2E9iFX/7OfI+ZeWpH7d5TO9BspKN2ckmwECubbBZwy1fvM2m05GJy+H5ZB9CDRU/988ovqFujqP4jJ6Ku0kJvxsBS6Cg5OUvaapS6O1HZgxfxgrf8jiaWmU5fR+sGMubUbkErY52m8WScaeyKya8L68kd/dsdW7ZE6/66hPyexNRN/calvYYxQWBD1HiJMj/iTNz6c/vI1fNA1kUEZen2+rOPtJ2AgnKI/DdaV40OE2gmZCkbd+y7tcPnke3ZBjmyg7yt8ZdNRj68evVKXQBgTyCR3SnZYu0YKEkXP+ppKP0AAGicffv2mU+N0fyuNgB2Ayq94/7wTdI7HDnmbj0FAJQBHA/Ys8jvtcj80FTW0RZ6U35pDwAoHaTaAAAAbAuk2gAAALzWwPEAAAAoFTgeAAAApQLHAwAAoFTgeAAAAJQKHA8AAIBSgeMBAABQKtHveAAAAIAywIwHAABAqcDxAAAAKBU4HgAAAKUCxwMAAKBU4HgAAACUChwPAACAUoHjAQAAUCpwPAAAAEoFjgcAAECpNOF4lmiso4M6zDE4t26u72akTYM0u2ZOW4qW19hTc5rD+twgdYwvmbMmv+f0SXy0q03tZWmc6x7JoRXE/Suy2hs62wzrNDvo6EWRbNdmadDRo1Bevr4ldUz1X3R/jKXvUlSXAvvydCz+brv1W8oanOUa+3jtd+97dXOP7Ho2J0v3GV9O7hHLrEDWmf0cfM89WjouGfknc4r5c/N+7fDm4cP+Ufv2T3N/t/Lb5ujh2ub9/5nTHeLPb2ubh7/4zZw1Ttb31PXDo9y6N5vfvji8OfqrOVE6vPN9XSbS/lg/9BjOHrMyFtz7+jyS36+jrFOO/NR5rGOhzqnz2n0uVZNfl/A8KPt/9zdrOWW3FPVurqtTdyFsn9+eEGMvM+4nxmeiPdL+xtuXX7d02WbKOiTs9xbRmONRHe90hu2cTMHvFkToBUK1bVVH+KxRMHN/9Ft3gKQNnvhZ2/Faacx1Jd+kIihFss84Cqa+m9oHyXd45YTt8Oo2unlfnrV9Lff4831bB1ueJ5dAcTPaqsi5lxjMObKXZ2ssb2mnfSZRh8B4qPeF1/YqSs5BP+e1P+V5LWP9tNIf77v+2En0nXqf0dWiuqh+9g2tq9uJd/O3ZNx5/b1t9JgRPRv9ImxraLyZlDpb9FhLv5f6rrA9abqbhZJt8N08Wafcd/vZR8sk/d72aCzVdrCfplZXaXWqnw6YS8LZf3aZT3sUmUL3L9P4z9x2af9shYbfi6fFS+PHaZjG6YncW31Cle+GaVHfCuDp8XvDVJk171mdo8rl4yqddqBvip581U10fi4hX0Gm5H2/2zJW+dll6ktJA+Qh7zj+XW/0Dt0OmwrRdaOvnuh7P1do/nLQisVhmq+Y+8Pc50ouRHP2fT+P03K/kwrIaGv+vYAC2QuLl+epYu6LDCf74/TO0r+4TR+c9OV5rJfOLs7TD0FaY0/ycpl1sUKVg+ZcOFSh7qz2H+Rn+RvzP1nNWqL5u0SVv2kJHvhbhQXufPfpPE0673+7wjp8dz6S//pP87TYXaG35aSgLuv/XiayzxpUeep967T8u9z27lLlXaLJ71ub/qmoMTBF57honwPUP7VKU32xNi19P8ljtpeSFnCJvuHxc3b2Sso9Ifkuoj9o2R1yLC+ieToepbqSqTiL6Pki244rx8yFon4v6GeX9bnbNNk9Tl96dW0NTW8uULnH/kkW7Grc2D3JOs1+PUndX31J/bYTj12hufOLNPwvUXjpsG4aH7POghXq47PqUzFddIWNZbH8jBJ/HDskcVRpDspFKQydpV71fnkHOfVkVDsm6bbkdsWAuMrFQcbF8/pjTDf1/sN+W8vFG1j8nS+/IiOXkLy2Zt0rkr3h/MXo/oF/9HItl2lZDVBtrJKD6W2qdLuDbo8TGHNtdLKQvnhCvd8dN8butnLqUd+w/Fd/7qX594wx/LrCgUysA0ovZ4n6jLE8vnzR19Oiurxb8XVajKX5KIR9qRxdS+mi/gYMrF2b6bt7luYkCAuwxvpc4diOCb8jjnhxsRIHdilBl2Jtlm6LDfooqEeurAv6OSJpe1pJ046na1iEMUfUz5VuMvLeXegoJFPh19jIpUUW5qNPF51TEbkZtI0u1KkyuqlyyJyncbfPKFB8HL8sSmuMgnoHG2xrMMzRx1GOoKLNYNDnD2otl6gt5jgezZLy2tqoHApkX4h8P01uOlJeXP7DnIMIteB8nJY/NsZu9SIts87YhWdlcN9bpovWGH68zBG5O/vn/lTOSN9/UrnNfRxuMNj9KAcrbfy5QrcTM5F1+uG7ReoOZ9o5qGxEEBjqMpzALi3oYvSsspdOujaoiIJ+jlAzWhu8tp6GHI/18nHlJHLkP29K2qIFRAo7y7Mi4ywSnb0VJEVnBrukvKRbur86FyutgqMim7JyDn+63xwy4w3fp9JwTF5b2yYHF+Vs02l9pPwas7jMLtghRy7aiLmROkfG3EeLl79h52EMqqtXidk/64Q3M/+SxrvNrFooqsvvy34Qq1JGMcv/9nXkDy83tQMcPEm94ex57Qea54Anzg7kEzmdn6fimX0GSb3NcXI5ss7v55jsVGJraMjx6DQGt8dWTglYPgQR/55CO9dMhVfTV+5Q1/EGgyUVSVmw4ZU1icXvfsifMZp87PJLc16ErMUpJXLWTQreoXLpwaDPH9Tpckklr625ciiQfRFhGsdhxw1WWajZd4p+Nhsht4KCuuj1I99Yqpm4Mnxps1SdSi1vjVlvYS76iUMzMxCZIerMROh09JbmMBgTvfXWubKcXEv63QQSbZRvg5sLxLvLh0mdw33PLKK30SPuPHrNZvHypxRNp5+OUV+UU+2iXon4rth0o16XSCdU3Ean5CY19XX4m4GcFIaKRCUVZtMANr3lfsepj1pwH6ZPraKrvLH+mE6KXLzBktfWRuVQJPsi9FpO0tmmLVTvUdRanZueMetmGTqngkvWg2+ivuG+6pd1NpnlHKCTH3CA4EbFibHAOufo6frcpzS8eJYuyqy6qC7HzvmzIy5FrS8Yw9f1Ec/k7952dOEb9e52pYGSJMeh1z6DCmrCtaoUZKaj1ojcdFpElqz9snSQmxL4F8g6v58NaoZUkOLfLmZ3WwP4W4f97Y27FbuFMjyc7YZq22TKdYUvE72d2m6jDLY0e+/hI7H1VK7Ld4PvMWo7afTduA7Z26ltveItnf47/PfH5evvqO3U9r1p2zMZf3t22lbT+J5Xx5x7iW2zObJPPBvUM32LqMg22Za9S96YTeqZrwfh88k+977LZOmppsh++GMx0Xe547C1qHambGf22xdul9bty9uWrOXlt9M93O/6sk62N6uOmgJZF/SzlnXWdvDW8Bf5P+ODwHaRhTu1AJsWyeweVO5ZdiWl7NrZNaT1hcwWv+/d3e0CYA/Q9K42YAnTRnxF7anfZenHROrOT3PsWlTKYZLmnbTe7NfLDabqAADtBDOe7SBGu99Z15EdZrswmpaFTru9Wtg7v9GS4EB+pzBFJ38apE/py23t5AMAtAY4HgAAAKWCVBsAAIBSgeMBAABQKnA8AAAASgWOBwAAQKnA8QAAACgVOB4AAAClAscDAACgVOB4AAAAlEr0A9JXr16pCwAAAEAz7Nu3z3xqDMx4AAAAlAocDwAAgFKB4wEAAFAqcDwAAABKBY4HAABAqcDxAAAAKBU4HgAAAKUCxwMAAKBU4HgAAACUyhYczwY9uHCEjhw5QjeXzCWQwTO6yXISWSWOW8/MM4J+LkueGw+H6MiFByz5FrJ0M6jTTa5FTFvKDPDLiPVK6rLYkvJFrkP0YE2XNfSwna15HXFlyoencymsPaChSB+OJOSl+iu67+uL8OxW/N20+xpdp6SuB2MlVS+Co6g9LcZvf9gGv57ZutZYe/yytA675Ms6kGVCTv79Zvu5FTTteDYeXqORx+YENECVrj96Ts+fu8cM1aYGnA4/Spf4+qUuc9pmlNKeIZpx6lQfXaGBFAVvJ/s/nKDnd07TfjlZ+5EWHtdMnS5Rt3tvizy7NUB0b4JOH5SyblDP/LVS27fTPLtVpZF3Zkwf1+n6C1fnQtgYnRohGq2b52eo82o1Mq5ijKpXKdblRx004RgluT8wZfvP6FMicBCjy3VK2A+5PkDTg7auz2nmnRGqKoO5n07fMWXa416Nr/O4OnNUfbsUOFDz23+dVs7Y8WLaFcnal51PA+0Jy7rXSSOnYlnL+B14cZ3q5vu+rMWpDNBK1I9hv2tZx/eb6+dW0Zzj4Yjo2tW6OQFb5yjVRqtUn//RURY3gnIjkiGaXjGXLe5shRXugTgSN6oJZjPeAOB72kBc4lrEiBOYGazTyL10FfMjLD68KMqPoBq9pyIrGTBSXzZ6dZpm56cjsOieeTavTVK3mw9ttG6MAevqBA/OWuTMecBf4AH8WWgM9yjS/inXOEv7a47OBayt0Aobv56/W1d/lHoGiVb+I09v0I/zdaqO3lBOXHHwNA0NTtOEMWgvV9guDPZEOrX/7z1UfbxKL8256s8jYpxrJGbWY2manRHr5CexRh79hI2ecx7D+nRm2q9L22FjfScok9s/8VwHNTpocmWtZTf9KH0s+STbs/EfHvAneuh9W1ZXD8uM+0c5uWe0MEVUuxAHZfs/HKLa4wX6Ue4vLfAoqtHQh9Fdv9+NrOP72hbpuhb3c6towvGwgMQ4nLhO11mooF2IoXYikkc9tDLlOHtJh7Ci1u6ZiOTCKo2wIkaIgXZnM15kxm9/NO0ZCJeswR5GWCpC4xmbNv5hBOVGWHn3HLouqXpWecBIvSeiQWEoaJMwfXWVhtR9bQye3ePovff9aHAqZADbAbrX+e8qO/JO6rQGRHirg51BRvsP8rP8jYVfbN9oA9f511iC7mdLfUW7lkOdVdaJBf6WZuOXBbYVHXTInBP16P77pMecx+TpZMjGwwmaZht0I9SRdmIcS+yUA1wnpDDO4VRxi9Las/+vnURuPylnYvsyJTuiggaDjKUgqFSOzKCdmtsvpjyn7/L6uVU07HgkbcF+ma5/fppFALbHMzaUHFmEhlEIIxZW6hsckVjUgB6ciRWvq0bXT5jPJjKr3XMUT32fzExmg1Ze8KS+01W7YpRDctNeKgLLQqcSEs5DkXcvi6I2GTzDpduZHECHqOOEa1z3OIGB0c4lCzFodeqZr5pZ5QR1PLIGbj+938tR8Rkn5aJmVOYzo9Km90jNWOX71ZUhT2f2f3jaM4YhopPerNqbNVv0uHGj/fIQ2blrYGlpaQm05J5OGxanzjPaowKxHlo4Zcq608FBn+9MXCTIqg8OOY7PJaWMdzr98iQgUR+K+7lVNOZ4VHqGlaPU6e1eoU4jVoGiQ88C0gxwZkRikJSG7zj2U+c75iO9pNXHHP2f8curtig9qtMluv4coxrMVP6qMVheXj/vXqNspU3ynSp1vGVOI7SsWh297QlkJn2kSqsXzKzy+RCtst7a2alOxepUqOqDz4iGnIBIOQ1lIPX3650T/FzjawOiIwunbNl6ZpxwPiYo6yk06O2A285tvmHap9ddQuejA6uo/UX6ntEeNc5O2Rk8HxdWqZqx/qqyEZI6z0pLNuwENUX93CoacDw64hSsAREnJIgxSKRNQADPEu1CHR8zKk3p5lhbT5SGcw+lmFszvNbhVK92mnTXjD/jUdN7vi7psscjPEhYYa3RyLvXBNltSsFNPQSolNCbgrPGosiRi06NuWtiPAO6J0HDdOQ81MzXyp5nMxQFQWnrDjd4Jt742kCVA7HYOOqAxU3/CM2k5FoPG3dv1i+ZhuzZs17jyk/rprfHrrPU4us8htLWXyOnkzobip1OYpy8WPEdokrLxmT3c+tobnMB2DZHP+FojgdkcsePRud3fYPh5mjFcPqOQ6eVNJJKsgvC6Rw9lRzQlsSCvkIPBG34s6f7CpXr5ufUGlBQRt69XIrblCAnpaQWwd8EVPrELkgbxMC4i9bbIrkGtFWSOp1G4+smLUfpUyBLF7XxpdmdX9tpj07p6XXXlDGpZq9mbTVwOpn2JdOht66fXRpwPPH00R46atdRaHP5eqDk+bmJ/tMifxVJOZEiK5G7k1BFUtHCPqN2qZjPJlKsX3W3DWsljWamKnqSqbQ/UMTpSPoqK38eG355n5tqC97PxJFc3r1GaaBNCfRazup/zWnE1ta4diXs6Ie8KJllJjuz0tYVGR2hj9C0u7NS7bbSkXcYlKg132iGZHZx3Ynv659dNDazV7uyXJ02dfX0xOy6S6ZPy0B2fpG/I1KNO7PhIByzUv/P8tZdmMz26HUWd6aplzriXXNqmzyx03FnYBF6E5hsi0+1zYm6mjUg4wDz+7l1YMazE0j0b3aGJY2nOHq9t17lWE+tUo+bYzXfjdY87nSoXYaRMWXHUpdBEq0rVWmh11dCmUrr3+3YZ+I0WjIXrB0l2fqodQCZtbGhUVsww/smEjOpvex7TdBAm3x0SjE5S9JrP5m7k/YYanYtayVGZvI7k1hmkopxtqWLXqndglbGOk1jn1e5f/ltjbpnUjyO4ROdcu/r34IUzJAjZGPDDFFUtvlNjKsnabv0SkTaX+9diNp35MwKt8/uZAvGbKL+gayFnPaostzxqXax2q3bZrHfpq2dQ96vdsnx7WhdNTpsoBnWVc+M7Lgv6udW8ZdNRj68evVKXQC7D8n1TnTmGeI3EEk3qAVax/hJSuRRT/baEABgS+zbt898agzMeHYZiXUYFQG9OVF8w6hU0zQteOkbjlLL/LU7ACAVzHh2HbK+wVP5aF1Hds25P14DMZLikN+jTND7vwzRNbqBWSEAbaDZGQ8cDwAAgG2BVBsAAIDXGjgeAAAApQLHAwAAoFTgeAAAAJQKHA8AAIBSgeMBAABQKnA8AAAASiX6HQ8AAADQfoj+Hza+WF4MTv5tAAAAAElFTkSuQmCC)"
      ],
      "metadata": {
        "id": "ZnbVhWjDKkBX"
      },
      "id": "ZnbVhWjDKkBX"
    },
    {
      "cell_type": "code",
      "source": [],
      "metadata": {
        "id": "GjEHNtZDKkmO"
      },
      "id": "GjEHNtZDKkmO",
      "execution_count": null,
      "outputs": []
    }
  ],
  "metadata": {
    "colab": {
      "provenance": []
    },
    "kernelspec": {
      "display_name": "Python 3 (ipykernel)",
      "language": "python",
      "name": "python3"
    },
    "language_info": {
      "codemirror_mode": {
        "name": "ipython",
        "version": 3
      },
      "file_extension": ".py",
      "mimetype": "text/x-python",
      "name": "python",
      "nbconvert_exporter": "python",
      "pygments_lexer": "ipython3",
      "version": "3.11.5"
    }
  },
  "nbformat": 4,
  "nbformat_minor": 5
}
