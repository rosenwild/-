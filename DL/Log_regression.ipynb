{
  "cells": [
    {
      "cell_type": "code",
      "execution_count": null,
      "id": "1405e338",
      "metadata": {
        "id": "1405e338",
        "outputId": "312a8f85-1a71-446b-bb5a-8d70ca11dbf9"
      },
      "outputs": [
        {
          "name": "stdout",
          "output_type": "stream",
          "text": [
            "Requirement already satisfied: matplotlib in c:\\users\\user\\appdata\\local\\programs\\python\\python312\\lib\\site-packages (3.8.4)\n",
            "Requirement already satisfied: contourpy>=1.0.1 in c:\\users\\user\\appdata\\local\\programs\\python\\python312\\lib\\site-packages (from matplotlib) (1.2.1)\n",
            "Requirement already satisfied: cycler>=0.10 in c:\\users\\user\\appdata\\local\\programs\\python\\python312\\lib\\site-packages (from matplotlib) (0.12.1)\n",
            "Requirement already satisfied: fonttools>=4.22.0 in c:\\users\\user\\appdata\\local\\programs\\python\\python312\\lib\\site-packages (from matplotlib) (4.51.0)\n",
            "Requirement already satisfied: kiwisolver>=1.3.1 in c:\\users\\user\\appdata\\local\\programs\\python\\python312\\lib\\site-packages (from matplotlib) (1.4.5)\n",
            "Requirement already satisfied: numpy>=1.21 in c:\\users\\user\\appdata\\local\\programs\\python\\python312\\lib\\site-packages (from matplotlib) (1.26.4)\n",
            "Requirement already satisfied: packaging>=20.0 in c:\\users\\user\\appdata\\local\\programs\\python\\python312\\lib\\site-packages (from matplotlib) (24.0)\n",
            "Requirement already satisfied: pillow>=8 in c:\\users\\user\\appdata\\local\\programs\\python\\python312\\lib\\site-packages (from matplotlib) (10.3.0)\n",
            "Requirement already satisfied: pyparsing>=2.3.1 in c:\\users\\user\\appdata\\local\\programs\\python\\python312\\lib\\site-packages (from matplotlib) (3.1.2)\n",
            "Requirement already satisfied: python-dateutil>=2.7 in c:\\users\\user\\appdata\\local\\programs\\python\\python312\\lib\\site-packages (from matplotlib) (2.9.0.post0)\n",
            "Requirement already satisfied: six>=1.5 in c:\\users\\user\\appdata\\local\\programs\\python\\python312\\lib\\site-packages (from python-dateutil>=2.7->matplotlib) (1.16.0)\n",
            "Note: you may need to restart the kernel to use updated packages.\n"
          ]
        }
      ],
      "source": [
        "pip install matplotlib"
      ]
    },
    {
      "cell_type": "code",
      "execution_count": null,
      "id": "73ec807c",
      "metadata": {
        "id": "73ec807c"
      },
      "outputs": [],
      "source": [
        "#Загрузим необходимые библиотеки\n",
        "import numpy as np\n",
        "import pandas as pd\n",
        "import matplotlib.pyplot as plt\n",
        "import time"
      ]
    },
    {
      "cell_type": "code",
      "execution_count": null,
      "id": "d35debbb",
      "metadata": {
        "id": "d35debbb"
      },
      "outputs": [],
      "source": [
        "# #Исходные данные: x - расходы на рекламу, Y - объемы продаж\n",
        "# x = np.array([39, 36, 60, 21, 27, 12, 51, 57, 54, 42, 18, 9, 48, 66, 6, 30, 24, 33, 15, 21]).reshape(20, 1)\n",
        "# Y = np.array([1, 0, 1, 1, 1, 0, 1, 1, 1, 0, 0, 0, 1, 1, 0, 0, 0, 1, 0, 0]).reshape(20, 1)\n",
        "# display(x, Y)\n"
      ]
    },
    {
      "cell_type": "markdown",
      "id": "5e4d302b",
      "metadata": {
        "id": "5e4d302b"
      },
      "source": [
        "Реализовать класс модели логистической регрессии с использованием:\n",
        "а) максимизации логарифмического правдоподобия методом градиентного подъема\n",
        "б) минимизации функции потерь (кросс-энтропии) методом градиентного спуска\n",
        "\n",
        "Сравнить результаты (время исполнения и достигнутые значения accuracy и f1) в случаях а и б при одном и том же числе шагов и скорости обучения.\n",
        "\n"
      ]
    },
    {
      "cell_type": "code",
      "execution_count": null,
      "id": "11276174",
      "metadata": {
        "id": "11276174"
      },
      "outputs": [],
      "source": [
        "# #Реализуем цикл градиентного спуска\n",
        "# class LogisticRegressionGD(object):\n",
        "#     def __init__(self):\n",
        "#         self.a = None\n",
        "#     def sigmoid(self, z):\n",
        "#         return 1/(1 + np.exp(-z))\n",
        "#     def predict(self, x):\n",
        "#         return self.sigmoid(np.matmul(x , self.a))\n",
        "#     def coefs(self):\n",
        "#         return self.a\n",
        "#     def LogLikelihood(self, x, Y):\n",
        "#         return (np.matmul(np.transpose(Y), np.log(self.predict(x) + 1e-8)) + np.matmul(np.ones((1, Y.shape[0])) - np.transpose(Y),\n",
        "#                                                                                       np.log(np.ones((Y.shape[0], 1)) - self.predict(x) + 1e-8)))[0][0]\n",
        "#     def CrossEntropy(self, x, Y):\n",
        "#         return (np.matmul(np.transpose(Y), np.log(self.predict(x) + 1e-8)) - np.matmul(np.ones((1, Y.shape[0])) - np.transpose(Y),\n",
        "#                                                                                       np.log(np.ones((Y.shape[0], 1)) - self.predict(x) + 1e-8)))[0][0]\n",
        "#     def accuracy(self, x, Y):\n",
        "#         return (Y == self.predict(x)).mean()\n",
        "\n",
        "#     def fit(self, x, Y, alpha = 0.001, epsylon = 0.001, max_steps = 5000, Rtype = \"LL\"):\n",
        "#         self.a = np.zeros(x.shape[1]).reshape(x.shape[1],1)\n",
        "#         steps, errors = [], []\n",
        "#         step = 0\n",
        "#         for _ in range(max_steps):\n",
        "#             if Rtype == \"LL\":\n",
        "#                 new_error = self.LogLikelihood(x, Y)\n",
        "#                 dT_a = np.matmul(np.transpose(x), Y - self.predict(x))\n",
        "#                 display(np.transpose(x).shape, (Y - self.predict(x)).shape)\n",
        "#                 display(\"old a = \",self.a, \"new_error = \", new_error, \"dT_a = \", dT_a)\n",
        "#                 self.a += alpha*dT_a\n",
        "#                 display(\"new a = \",self.a)\n",
        "#             elif Rtype == \"CE\":\n",
        "#                 new_error = self.CrossEntropy(x, Y)\n",
        "#                 dT_a = -np.matmul(np.transpose(x), Y - self.predict(x))\n",
        "#                 #display(\"old a = \", self.a, \"new_error = \", new_error, \"dT_a = \", dT_a)\n",
        "#                 self.a -= alpha*dT_a\n",
        "#                 #display(\"new a = \",self.a)\n",
        "#             step += 1\n",
        "#             steps.append(step)\n",
        "#             errors.append(new_error)\n",
        "#             print(step, new_error)\n",
        "#             if abs(new_error) < epsylon:\n",
        "#                 break\n",
        "#         return steps, errors"
      ]
    },
    {
      "cell_type": "code",
      "execution_count": null,
      "id": "c6cb8bf4",
      "metadata": {
        "id": "c6cb8bf4"
      },
      "outputs": [],
      "source": [
        "# x_ = x.copy()\n",
        "\n",
        "# intercept = np.ones((x.shape[0], 1))\n",
        "# x_ = np.concatenate((intercept, x), axis = 1)\n"
      ]
    },
    {
      "cell_type": "code",
      "execution_count": null,
      "id": "b39931e1",
      "metadata": {
        "id": "b39931e1"
      },
      "outputs": [],
      "source": [
        "# start_time = time.time()\n",
        "# regr = LogisticRegressionGD()\n",
        "# steps, errors =  regr.fit(x_, Y, alpha = 0.0005, epsylon = 0.001, max_steps = 20000, Rtype = \"LL\")\n",
        "\n",
        "# display('Время обучения: ', time.time() - start_time, 'сек.')"
      ]
    },
    {
      "cell_type": "code",
      "execution_count": null,
      "id": "1cb46b41",
      "metadata": {
        "id": "1cb46b41",
        "scrolled": true
      },
      "outputs": [],
      "source": [
        "# display(regr.coefs())\n",
        "\n",
        "# Y_Pred = regr.predict(x_)\n",
        "\n",
        "\n",
        "\n",
        "# plt.scatter(x, Y)\n",
        "# plt.scatter(x, Y_Pred)\n",
        "\n",
        "\n"
      ]
    },
    {
      "cell_type": "code",
      "execution_count": null,
      "id": "de3f3b73",
      "metadata": {
        "id": "de3f3b73",
        "scrolled": true
      },
      "outputs": [],
      "source": [
        "# plt.plot(steps, errors)"
      ]
    },
    {
      "cell_type": "code",
      "execution_count": null,
      "id": "110d2ef9",
      "metadata": {
        "id": "110d2ef9"
      },
      "outputs": [],
      "source": []
    },
    {
      "cell_type": "markdown",
      "id": "f0807362",
      "metadata": {
        "id": "f0807362"
      },
      "source": [
        "Реализовать расчеты способами а и б для набора данных из файла insclass_train.csv/\n",
        "Для 151 406 договоров страхования транспортных средств известны значения ряда признаков, в том числе пол, возраст, стаж вождения и коэффициент бонус-малус водителя, тип, марка, модель, год выпуска, страна – производитель, мощность и объем двигателя, а также признак target, равный 1, если заключение договора с клиентом является рисковым, и 0 в противном случае (файл insclass_train.csv).\n",
        "\n",
        "Требуется построить модель, предсказывающую значение признака target для 22 624 договоров из тестового набора данных (файл insclass_test.csv).\n",
        "\n",
        "В обучающем наборе данных для каждого договора известны следующие поля:\n",
        "\n",
        "variable_1 - агрегированный коэффициент бонус-малус (повышающий или понижающий стоимость полиса в зависимости от аварийности в предыдущие периоды);\n",
        "variable_2 - индикатор расторжения договора по инициативе страхователя (клиента);\n",
        "variable_3 - индикатор расторжения договора по инициативе страховщика (страховой компании);\n",
        "variable_4 - идентификатор года выпуска транспортного средства;\n",
        "variable_5 - идентификатор страны - производителя транспортного средства;\n",
        "variable_6 - мощность двигателя в лошадиных силах;\n",
        "variable_7 - объем двигателя в куб. см;\n",
        "variable_8 - идентификатор стороны расположения руля (левый или правый);\n",
        "variable_9 - пробег транспортного средства, покрываемый гарантией производителя;\n",
        "variable_10 - индикатор действия гарантии на транспортное средство;\n",
        "variable_11 - \"мультидрайв\" - индикатор допуска к управлению транспортным средством более одного водителя;\n",
        "variable_12 - возраст транспортного средства (в мес.);\n",
        "variable_13 - возраст водителя с максимальным стажем;\n",
        "variable_14 - коэффициент возраст-стаж;\n",
        "variable_15 - коэффициент краткосрочности;\n",
        "variable_16 - коэффициент мощности;\n",
        "variable_17 - коэффициент \"мультидрайв\";\n",
        "variable_18 - территориальный коэффициент;\n",
        "variable_19 - коэффициент \"КНДР\";\n",
        "variable_20 - идентификатор канала продаж;\n",
        "variable_21 - марка транспортного средства;\n",
        "variable_22 - модель транспортного средства;\n",
        "variable_23 - индикатор отечественных транспортных средств;\n",
        "variable_24 - пол водителя с максимальным коэффициентом \"возраст-стаж\";\n",
        "variable_25 - индикатор пролонгации;\n",
        "variable_26 - индикатор совпадения собственника транспортного средства и водителя;\n",
        "variable_27 - стаж водителя с максимальным коэффициентом \"возраст-стаж\";\n",
        "variable_28 - тип транспортного средства;\n",
        "target - класс риска, равный 1, если заключение договора с клиентом является рисковым, и 0 в противном случае."
      ]
    },
    {
      "cell_type": "code",
      "execution_count": null,
      "id": "kiE-3_z5fFPa",
      "metadata": {
        "colab": {
          "base_uri": "https://localhost:8080/"
        },
        "id": "kiE-3_z5fFPa",
        "outputId": "f6a2e6ba-169a-4aa7-d425-10c1b273a0df"
      },
      "outputs": [
        {
          "name": "stdout",
          "output_type": "stream",
          "text": [
            "<class 'pandas.core.frame.DataFrame'>\n",
            "RangeIndex: 151406 entries, 0 to 151405\n",
            "Data columns (total 29 columns):\n",
            " #   Column       Non-Null Count   Dtype  \n",
            "---  ------       --------------   -----  \n",
            " 0   variable_1   151406 non-null  object \n",
            " 1   variable_2   151406 non-null  int64  \n",
            " 2   variable_3   151406 non-null  int64  \n",
            " 3   variable_4   151406 non-null  int64  \n",
            " 4   variable_5   151406 non-null  object \n",
            " 5   variable_6   151295 non-null  float64\n",
            " 6   variable_7   55767 non-null   float64\n",
            " 7   variable_8   121507 non-null  float64\n",
            " 8   variable_9   16970 non-null   float64\n",
            " 9   variable_10  151406 non-null  int64  \n",
            " 10  variable_11  151406 non-null  int64  \n",
            " 11  variable_12  149878 non-null  float64\n",
            " 12  variable_13  149749 non-null  float64\n",
            " 13  variable_14  148479 non-null  float64\n",
            " 14  variable_15  13 non-null      float64\n",
            " 15  variable_16  151394 non-null  float64\n",
            " 16  variable_17  151394 non-null  float64\n",
            " 17  variable_18  151394 non-null  float64\n",
            " 18  variable_19  151406 non-null  float64\n",
            " 19  variable_20  151405 non-null  object \n",
            " 20  variable_21  151406 non-null  object \n",
            " 21  variable_22  151406 non-null  object \n",
            " 22  variable_23  151406 non-null  int64  \n",
            " 23  variable_24  149199 non-null  float64\n",
            " 24  variable_25  151406 non-null  int64  \n",
            " 25  variable_26  151406 non-null  int64  \n",
            " 26  variable_27  149339 non-null  float64\n",
            " 27  variable_28  151406 non-null  object \n",
            " 28  target       151406 non-null  int64  \n",
            "dtypes: float64(14), int64(9), object(6)\n",
            "memory usage: 33.5+ MB\n"
          ]
        }
      ],
      "source": [
        "df = pd.read_csv(r'insclass_train.csv')\n",
        "df.info()"
      ]
    },
    {
      "cell_type": "code",
      "execution_count": null,
      "id": "0i-F1yZyiZv9",
      "metadata": {
        "colab": {
          "base_uri": "https://localhost:8080/",
          "height": 255
        },
        "id": "0i-F1yZyiZv9",
        "outputId": "78c38a9d-83f5-4477-b617-7687473aeedb"
      },
      "outputs": [
        {
          "data": {
            "text/html": [
              "<div>\n",
              "<style scoped>\n",
              "    .dataframe tbody tr th:only-of-type {\n",
              "        vertical-align: middle;\n",
              "    }\n",
              "\n",
              "    .dataframe tbody tr th {\n",
              "        vertical-align: top;\n",
              "    }\n",
              "\n",
              "    .dataframe thead th {\n",
              "        text-align: right;\n",
              "    }\n",
              "</style>\n",
              "<table border=\"1\" class=\"dataframe\">\n",
              "  <thead>\n",
              "    <tr style=\"text-align: right;\">\n",
              "      <th></th>\n",
              "      <th>variable_1</th>\n",
              "      <th>variable_2</th>\n",
              "      <th>variable_3</th>\n",
              "      <th>variable_4</th>\n",
              "      <th>variable_5</th>\n",
              "      <th>variable_6</th>\n",
              "      <th>variable_8</th>\n",
              "      <th>variable_10</th>\n",
              "      <th>variable_11</th>\n",
              "      <th>variable_12</th>\n",
              "      <th>...</th>\n",
              "      <th>variable_20</th>\n",
              "      <th>variable_21</th>\n",
              "      <th>variable_22</th>\n",
              "      <th>variable_23</th>\n",
              "      <th>variable_24</th>\n",
              "      <th>variable_25</th>\n",
              "      <th>variable_26</th>\n",
              "      <th>variable_27</th>\n",
              "      <th>variable_28</th>\n",
              "      <th>target</th>\n",
              "    </tr>\n",
              "  </thead>\n",
              "  <tbody>\n",
              "    <tr>\n",
              "      <th>0</th>\n",
              "      <td>w200</td>\n",
              "      <td>0</td>\n",
              "      <td>0</td>\n",
              "      <td>14</td>\n",
              "      <td>q2</td>\n",
              "      <td>98.0</td>\n",
              "      <td>0.0</td>\n",
              "      <td>0</td>\n",
              "      <td>0</td>\n",
              "      <td>166.266987</td>\n",
              "      <td>...</td>\n",
              "      <td>C</td>\n",
              "      <td>j2</td>\n",
              "      <td>h45</td>\n",
              "      <td>0</td>\n",
              "      <td>0.0</td>\n",
              "      <td>0</td>\n",
              "      <td>1</td>\n",
              "      <td>19.323463</td>\n",
              "      <td>t1</td>\n",
              "      <td>0</td>\n",
              "    </tr>\n",
              "    <tr>\n",
              "      <th>1</th>\n",
              "      <td>w160</td>\n",
              "      <td>0</td>\n",
              "      <td>0</td>\n",
              "      <td>7</td>\n",
              "      <td>q11</td>\n",
              "      <td>106.0</td>\n",
              "      <td>0.0</td>\n",
              "      <td>0</td>\n",
              "      <td>0</td>\n",
              "      <td>80.338555</td>\n",
              "      <td>...</td>\n",
              "      <td>C</td>\n",
              "      <td>j33</td>\n",
              "      <td>h234</td>\n",
              "      <td>0</td>\n",
              "      <td>1.0</td>\n",
              "      <td>0</td>\n",
              "      <td>1</td>\n",
              "      <td>41.177900</td>\n",
              "      <td>t1</td>\n",
              "      <td>0</td>\n",
              "    </tr>\n",
              "    <tr>\n",
              "      <th>2</th>\n",
              "      <td>w200</td>\n",
              "      <td>0</td>\n",
              "      <td>0</td>\n",
              "      <td>4</td>\n",
              "      <td>q3</td>\n",
              "      <td>123.0</td>\n",
              "      <td>0.0</td>\n",
              "      <td>0</td>\n",
              "      <td>0</td>\n",
              "      <td>38.519899</td>\n",
              "      <td>...</td>\n",
              "      <td>B</td>\n",
              "      <td>j12</td>\n",
              "      <td>h28</td>\n",
              "      <td>0</td>\n",
              "      <td>0.0</td>\n",
              "      <td>0</td>\n",
              "      <td>1</td>\n",
              "      <td>3.614395</td>\n",
              "      <td>t1</td>\n",
              "      <td>0</td>\n",
              "    </tr>\n",
              "    <tr>\n",
              "      <th>3</th>\n",
              "      <td>w200</td>\n",
              "      <td>0</td>\n",
              "      <td>0</td>\n",
              "      <td>9</td>\n",
              "      <td>q3</td>\n",
              "      <td>102.0</td>\n",
              "      <td>0.0</td>\n",
              "      <td>0</td>\n",
              "      <td>0</td>\n",
              "      <td>109.845800</td>\n",
              "      <td>...</td>\n",
              "      <td>C</td>\n",
              "      <td>j12</td>\n",
              "      <td>h64</td>\n",
              "      <td>0</td>\n",
              "      <td>1.0</td>\n",
              "      <td>0</td>\n",
              "      <td>0</td>\n",
              "      <td>49.041674</td>\n",
              "      <td>t1</td>\n",
              "      <td>0</td>\n",
              "    </tr>\n",
              "    <tr>\n",
              "      <th>4</th>\n",
              "      <td>w200</td>\n",
              "      <td>0</td>\n",
              "      <td>0</td>\n",
              "      <td>18</td>\n",
              "      <td>q20</td>\n",
              "      <td>117.0</td>\n",
              "      <td>0.0</td>\n",
              "      <td>0</td>\n",
              "      <td>0</td>\n",
              "      <td>224.168209</td>\n",
              "      <td>...</td>\n",
              "      <td>C</td>\n",
              "      <td>j111</td>\n",
              "      <td>h991</td>\n",
              "      <td>0</td>\n",
              "      <td>1.0</td>\n",
              "      <td>0</td>\n",
              "      <td>0</td>\n",
              "      <td>17.909612</td>\n",
              "      <td>t1</td>\n",
              "      <td>0</td>\n",
              "    </tr>\n",
              "  </tbody>\n",
              "</table>\n",
              "<p>5 rows × 26 columns</p>\n",
              "</div>"
            ],
            "text/plain": [
              "  variable_1  variable_2  variable_3  variable_4 variable_5  variable_6  \\\n",
              "0       w200           0           0          14         q2        98.0   \n",
              "1       w160           0           0           7        q11       106.0   \n",
              "2       w200           0           0           4         q3       123.0   \n",
              "3       w200           0           0           9         q3       102.0   \n",
              "4       w200           0           0          18        q20       117.0   \n",
              "\n",
              "   variable_8  variable_10  variable_11  variable_12  ...  variable_20  \\\n",
              "0         0.0            0            0   166.266987  ...            C   \n",
              "1         0.0            0            0    80.338555  ...            C   \n",
              "2         0.0            0            0    38.519899  ...            B   \n",
              "3         0.0            0            0   109.845800  ...            C   \n",
              "4         0.0            0            0   224.168209  ...            C   \n",
              "\n",
              "   variable_21  variable_22  variable_23  variable_24  variable_25  \\\n",
              "0           j2          h45            0          0.0            0   \n",
              "1          j33         h234            0          1.0            0   \n",
              "2          j12          h28            0          0.0            0   \n",
              "3          j12          h64            0          1.0            0   \n",
              "4         j111         h991            0          1.0            0   \n",
              "\n",
              "  variable_26 variable_27 variable_28  target  \n",
              "0           1   19.323463          t1       0  \n",
              "1           1   41.177900          t1       0  \n",
              "2           1    3.614395          t1       0  \n",
              "3           0   49.041674          t1       0  \n",
              "4           0   17.909612          t1       0  \n",
              "\n",
              "[5 rows x 26 columns]"
            ]
          },
          "execution_count": 10,
          "metadata": {},
          "output_type": "execute_result"
        }
      ],
      "source": [
        "df.drop(df.columns[[6, 8, 14]], axis=1, inplace=True)\n",
        "df.head()"
      ]
    },
    {
      "cell_type": "code",
      "execution_count": null,
      "id": "kM5HpAF7xLoS",
      "metadata": {
        "id": "kM5HpAF7xLoS"
      },
      "outputs": [],
      "source": [
        "df.dropna(inplace=True)"
      ]
    },
    {
      "cell_type": "code",
      "execution_count": null,
      "id": "XRjeoChZ1OjT",
      "metadata": {
        "colab": {
          "base_uri": "https://localhost:8080/"
        },
        "id": "XRjeoChZ1OjT",
        "outputId": "11851c2a-1485-43d2-a89f-770b0b6899b8"
      },
      "outputs": [
        {
          "name": "stdout",
          "output_type": "stream",
          "text": [
            "Requirement already satisfied: category_encoders in c:\\users\\user\\appdata\\local\\programs\\python\\python312\\lib\\site-packages (2.6.3)\n",
            "Requirement already satisfied: numpy>=1.14.0 in c:\\users\\user\\appdata\\local\\programs\\python\\python312\\lib\\site-packages (from category_encoders) (1.26.4)\n",
            "Requirement already satisfied: scikit-learn>=0.20.0 in c:\\users\\user\\appdata\\local\\programs\\python\\python312\\lib\\site-packages (from category_encoders) (1.4.2)\n",
            "Requirement already satisfied: scipy>=1.0.0 in c:\\users\\user\\appdata\\local\\programs\\python\\python312\\lib\\site-packages (from category_encoders) (1.13.0)\n",
            "Requirement already satisfied: statsmodels>=0.9.0 in c:\\users\\user\\appdata\\local\\programs\\python\\python312\\lib\\site-packages (from category_encoders) (0.14.2)\n",
            "Requirement already satisfied: pandas>=1.0.5 in c:\\users\\user\\appdata\\local\\programs\\python\\python312\\lib\\site-packages (from category_encoders) (2.2.2)\n",
            "Requirement already satisfied: patsy>=0.5.1 in c:\\users\\user\\appdata\\local\\programs\\python\\python312\\lib\\site-packages (from category_encoders) (0.5.6)\n",
            "Requirement already satisfied: python-dateutil>=2.8.2 in c:\\users\\user\\appdata\\local\\programs\\python\\python312\\lib\\site-packages (from pandas>=1.0.5->category_encoders) (2.9.0.post0)\n",
            "Requirement already satisfied: pytz>=2020.1 in c:\\users\\user\\appdata\\local\\programs\\python\\python312\\lib\\site-packages (from pandas>=1.0.5->category_encoders) (2024.1)\n",
            "Requirement already satisfied: tzdata>=2022.7 in c:\\users\\user\\appdata\\local\\programs\\python\\python312\\lib\\site-packages (from pandas>=1.0.5->category_encoders) (2024.1)\n",
            "Requirement already satisfied: six in c:\\users\\user\\appdata\\local\\programs\\python\\python312\\lib\\site-packages (from patsy>=0.5.1->category_encoders) (1.16.0)\n",
            "Requirement already satisfied: joblib>=1.2.0 in c:\\users\\user\\appdata\\local\\programs\\python\\python312\\lib\\site-packages (from scikit-learn>=0.20.0->category_encoders) (1.4.0)\n",
            "Requirement already satisfied: threadpoolctl>=2.0.0 in c:\\users\\user\\appdata\\local\\programs\\python\\python312\\lib\\site-packages (from scikit-learn>=0.20.0->category_encoders) (3.5.0)\n",
            "Requirement already satisfied: packaging>=21.3 in c:\\users\\user\\appdata\\local\\programs\\python\\python312\\lib\\site-packages (from statsmodels>=0.9.0->category_encoders) (24.0)\n"
          ]
        }
      ],
      "source": [
        "!pip install category_encoders\n",
        "\n",
        "import category_encoders as ce"
      ]
    },
    {
      "cell_type": "code",
      "execution_count": null,
      "id": "f1464aba",
      "metadata": {
        "id": "f1464aba",
        "outputId": "3227d938-db2e-4df2-c123-33946b9ae34b"
      },
      "outputs": [
        {
          "name": "stdout",
          "output_type": "stream",
          "text": [
            "<class 'pandas.core.frame.DataFrame'>\n",
            "Index: 118800 entries, 31282 to 125631\n",
            "Data columns (total 26 columns):\n",
            " #   Column       Non-Null Count   Dtype  \n",
            "---  ------       --------------   -----  \n",
            " 0   variable_1   118800 non-null  object \n",
            " 1   variable_2   118800 non-null  int64  \n",
            " 2   variable_3   118800 non-null  int64  \n",
            " 3   variable_4   118800 non-null  int64  \n",
            " 4   variable_5   118800 non-null  object \n",
            " 5   variable_6   118800 non-null  float64\n",
            " 6   variable_8   118800 non-null  float64\n",
            " 7   variable_10  118800 non-null  int64  \n",
            " 8   variable_11  118800 non-null  int64  \n",
            " 9   variable_12  118800 non-null  float64\n",
            " 10  variable_13  118800 non-null  float64\n",
            " 11  variable_14  118800 non-null  float64\n",
            " 12  variable_16  118800 non-null  float64\n",
            " 13  variable_17  118800 non-null  float64\n",
            " 14  variable_18  118800 non-null  float64\n",
            " 15  variable_19  118800 non-null  float64\n",
            " 16  variable_20  118800 non-null  object \n",
            " 17  variable_21  118800 non-null  object \n",
            " 18  variable_22  118800 non-null  object \n",
            " 19  variable_23  118800 non-null  int64  \n",
            " 20  variable_24  118800 non-null  float64\n",
            " 21  variable_25  118800 non-null  int64  \n",
            " 22  variable_26  118800 non-null  int64  \n",
            " 23  variable_27  118800 non-null  float64\n",
            " 24  variable_28  118800 non-null  object \n",
            " 25  target       118800 non-null  int64  \n",
            "dtypes: float64(11), int64(9), object(6)\n",
            "memory usage: 24.5+ MB\n"
          ]
        }
      ],
      "source": [
        "df_sampled = df.sample(frac=1, random_state=1)\n",
        "df_sampled.info()"
      ]
    },
    {
      "cell_type": "code",
      "execution_count": null,
      "id": "f80f6bf8-af57-40ea-91dc-ae1ba9824365",
      "metadata": {
        "id": "f80f6bf8-af57-40ea-91dc-ae1ba9824365",
        "outputId": "0627f760-06d9-4914-d6e4-f3fbce4bdd9c"
      },
      "outputs": [
        {
          "data": {
            "text/plain": [
              "(109391, 9409)"
            ]
          },
          "execution_count": 14,
          "metadata": {},
          "output_type": "execute_result"
        }
      ],
      "source": [
        "df_sampled.loc[df['target']==0]['target'].count(), df_sampled.loc[df['target']==1]['target'].count()"
      ]
    },
    {
      "cell_type": "code",
      "execution_count": null,
      "id": "7af0687c",
      "metadata": {
        "id": "7af0687c"
      },
      "outputs": [],
      "source": [
        "float64_cols = list(df.select_dtypes(include='float64'))\n",
        "int64_cols = list(df.select_dtypes(include='int64'))\n",
        "df_sampled[float64_cols] = df_sampled[float64_cols].astype('float32')\n",
        "df_sampled[int64_cols] = df_sampled[int64_cols].astype('int16')"
      ]
    },
    {
      "cell_type": "code",
      "execution_count": null,
      "id": "9a006040",
      "metadata": {
        "id": "9a006040",
        "outputId": "a45ce845-ce41-409e-844b-44735099541b"
      },
      "outputs": [
        {
          "name": "stdout",
          "output_type": "stream",
          "text": [
            "<class 'pandas.core.frame.DataFrame'>\n",
            "Index: 118800 entries, 31282 to 125631\n",
            "Data columns (total 26 columns):\n",
            " #   Column       Non-Null Count   Dtype  \n",
            "---  ------       --------------   -----  \n",
            " 0   variable_1   118800 non-null  object \n",
            " 1   variable_2   118800 non-null  int16  \n",
            " 2   variable_3   118800 non-null  int16  \n",
            " 3   variable_4   118800 non-null  int16  \n",
            " 4   variable_5   118800 non-null  object \n",
            " 5   variable_6   118800 non-null  float32\n",
            " 6   variable_8   118800 non-null  float32\n",
            " 7   variable_10  118800 non-null  int16  \n",
            " 8   variable_11  118800 non-null  int16  \n",
            " 9   variable_12  118800 non-null  float32\n",
            " 10  variable_13  118800 non-null  float32\n",
            " 11  variable_14  118800 non-null  float32\n",
            " 12  variable_16  118800 non-null  float32\n",
            " 13  variable_17  118800 non-null  float32\n",
            " 14  variable_18  118800 non-null  float32\n",
            " 15  variable_19  118800 non-null  float32\n",
            " 16  variable_20  118800 non-null  object \n",
            " 17  variable_21  118800 non-null  object \n",
            " 18  variable_22  118800 non-null  object \n",
            " 19  variable_23  118800 non-null  int16  \n",
            " 20  variable_24  118800 non-null  float32\n",
            " 21  variable_25  118800 non-null  int16  \n",
            " 22  variable_26  118800 non-null  int16  \n",
            " 23  variable_27  118800 non-null  float32\n",
            " 24  variable_28  118800 non-null  object \n",
            " 25  target       118800 non-null  int16  \n",
            "dtypes: float32(11), int16(9), object(6)\n",
            "memory usage: 13.4+ MB\n"
          ]
        }
      ],
      "source": [
        "df_sampled.info()"
      ]
    },
    {
      "cell_type": "code",
      "execution_count": null,
      "id": "960fc6a3",
      "metadata": {
        "id": "960fc6a3"
      },
      "outputs": [],
      "source": [
        "cat_cols = ['variable_1', 'variable_5', 'variable_20', 'variable_21', 'variable_22', 'variable_28']"
      ]
    },
    {
      "cell_type": "code",
      "execution_count": null,
      "id": "x78GKmGq1OdW",
      "metadata": {
        "id": "x78GKmGq1OdW"
      },
      "outputs": [],
      "source": [
        "df_encoded = ce.TargetEncoder().fit_transform(X=df_sampled[cat_cols], y=df_sampled['target'])"
      ]
    },
    {
      "cell_type": "code",
      "execution_count": null,
      "id": "jYm3dC0I1Oaq",
      "metadata": {
        "colab": {
          "base_uri": "https://localhost:8080/",
          "height": 255
        },
        "id": "jYm3dC0I1Oaq",
        "outputId": "7565e0d7-8fe8-466f-b665-e7ba09e75ac7"
      },
      "outputs": [
        {
          "data": {
            "text/html": [
              "<div>\n",
              "<style scoped>\n",
              "    .dataframe tbody tr th:only-of-type {\n",
              "        vertical-align: middle;\n",
              "    }\n",
              "\n",
              "    .dataframe tbody tr th {\n",
              "        vertical-align: top;\n",
              "    }\n",
              "\n",
              "    .dataframe thead th {\n",
              "        text-align: right;\n",
              "    }\n",
              "</style>\n",
              "<table border=\"1\" class=\"dataframe\">\n",
              "  <thead>\n",
              "    <tr style=\"text-align: right;\">\n",
              "      <th></th>\n",
              "      <th>variable_1</th>\n",
              "      <th>variable_5</th>\n",
              "      <th>variable_20</th>\n",
              "      <th>variable_21</th>\n",
              "      <th>variable_22</th>\n",
              "      <th>variable_28</th>\n",
              "    </tr>\n",
              "  </thead>\n",
              "  <tbody>\n",
              "    <tr>\n",
              "      <th>31282</th>\n",
              "      <td>0.071016</td>\n",
              "      <td>0.071579</td>\n",
              "      <td>0.078395</td>\n",
              "      <td>0.064240</td>\n",
              "      <td>0.051410</td>\n",
              "      <td>0.079345</td>\n",
              "    </tr>\n",
              "    <tr>\n",
              "      <th>117612</th>\n",
              "      <td>0.090930</td>\n",
              "      <td>0.088318</td>\n",
              "      <td>0.073749</td>\n",
              "      <td>0.076603</td>\n",
              "      <td>0.107143</td>\n",
              "      <td>0.079345</td>\n",
              "    </tr>\n",
              "    <tr>\n",
              "      <th>133468</th>\n",
              "      <td>0.090930</td>\n",
              "      <td>0.081754</td>\n",
              "      <td>0.073749</td>\n",
              "      <td>0.076603</td>\n",
              "      <td>0.083288</td>\n",
              "      <td>0.079345</td>\n",
              "    </tr>\n",
              "    <tr>\n",
              "      <th>50209</th>\n",
              "      <td>0.071016</td>\n",
              "      <td>0.081754</td>\n",
              "      <td>0.078395</td>\n",
              "      <td>0.076603</td>\n",
              "      <td>0.062600</td>\n",
              "      <td>0.079345</td>\n",
              "    </tr>\n",
              "    <tr>\n",
              "      <th>2028</th>\n",
              "      <td>0.071016</td>\n",
              "      <td>0.088318</td>\n",
              "      <td>0.078395</td>\n",
              "      <td>0.074503</td>\n",
              "      <td>0.059761</td>\n",
              "      <td>0.079345</td>\n",
              "    </tr>\n",
              "  </tbody>\n",
              "</table>\n",
              "</div>"
            ],
            "text/plain": [
              "        variable_1  variable_5  variable_20  variable_21  variable_22  \\\n",
              "31282     0.071016    0.071579     0.078395     0.064240     0.051410   \n",
              "117612    0.090930    0.088318     0.073749     0.076603     0.107143   \n",
              "133468    0.090930    0.081754     0.073749     0.076603     0.083288   \n",
              "50209     0.071016    0.081754     0.078395     0.076603     0.062600   \n",
              "2028      0.071016    0.088318     0.078395     0.074503     0.059761   \n",
              "\n",
              "        variable_28  \n",
              "31282      0.079345  \n",
              "117612     0.079345  \n",
              "133468     0.079345  \n",
              "50209      0.079345  \n",
              "2028       0.079345  "
            ]
          },
          "execution_count": 19,
          "metadata": {},
          "output_type": "execute_result"
        }
      ],
      "source": [
        "df_encoded.head()"
      ]
    },
    {
      "cell_type": "code",
      "execution_count": null,
      "id": "276936e0",
      "metadata": {
        "id": "276936e0"
      },
      "outputs": [],
      "source": [
        "df_sampled[cat_cols] = df_encoded[cat_cols]"
      ]
    },
    {
      "cell_type": "code",
      "execution_count": null,
      "id": "sP2AWoXasz5S",
      "metadata": {
        "id": "sP2AWoXasz5S"
      },
      "outputs": [],
      "source": [
        "from sklearn.model_selection import train_test_split"
      ]
    },
    {
      "cell_type": "code",
      "execution_count": null,
      "id": "qhnCXwIrs-UV",
      "metadata": {
        "colab": {
          "base_uri": "https://localhost:8080/"
        },
        "id": "qhnCXwIrs-UV",
        "outputId": "b1a30f68-eca2-4c8e-cd32-802355e1d9b1"
      },
      "outputs": [
        {
          "data": {
            "text/plain": [
              "((96176, 25), (96176, 1))"
            ]
          },
          "execution_count": 24,
          "metadata": {},
          "output_type": "execute_result"
        }
      ],
      "source": [
        "X_train, X_test, y_train, y_test = train_test_split(df_sampled.drop(['target'], axis=1).to_numpy(), df_sampled['target'].to_numpy().reshape(df_sampled['target'].shape[0], 1), test_size=22624/118800, random_state=12)\n",
        "X_train.shape, y_train.shape"
      ]
    },
    {
      "cell_type": "code",
      "execution_count": null,
      "id": "VCQ43Y6h2z3V",
      "metadata": {
        "colab": {
          "base_uri": "https://localhost:8080/"
        },
        "id": "VCQ43Y6h2z3V",
        "outputId": "ab7c6d71-91cb-4e91-82bc-4e31fb84497b"
      },
      "outputs": [
        {
          "data": {
            "text/plain": [
              "((22624, 25), (22624, 1))"
            ]
          },
          "execution_count": 25,
          "metadata": {},
          "output_type": "execute_result"
        }
      ],
      "source": [
        "X_test.shape, y_test.shape"
      ]
    },
    {
      "cell_type": "code",
      "execution_count": null,
      "id": "AnR_vE1b3FGo",
      "metadata": {
        "id": "AnR_vE1b3FGo"
      },
      "outputs": [],
      "source": [
        "#Реализуем цикл градиентного спуска\n",
        "class LogisticRegressionGD(object):\n",
        "    def __init__(self):\n",
        "        self.a = None\n",
        "    def sigmoid(self, z):\n",
        "        return 1/(1 + np.exp(-z))\n",
        "    def predict(self, x):\n",
        "        return self.sigmoid(np.matmul(x , self.a))\n",
        "    def coefs(self):\n",
        "        return self.a\n",
        "    def LogLikelihood(self, x, Y):\n",
        "        return (np.matmul(np.transpose(Y), np.log(self.predict(x) + 1e-8)) + np.matmul(np.ones((1, Y.shape[0])) - np.transpose(Y),\n",
        "                                                                                      np.log(np.ones((Y.shape[0], 1)) - self.predict(x) + 1e-8)))[0][0]\n",
        "    def CrossEntropy(self, x, Y):\n",
        "        return (np.matmul(np.transpose(Y), np.log(self.predict(x) + 1e-8)) - np.matmul(np.ones((1, Y.shape[0])) - np.transpose(Y),\n",
        "                                                                                      np.log(np.ones((Y.shape[0], 1)) - self.predict(x) + 1e-8)))[0][0]\n",
        "    def accuracy(self, x, Y):\n",
        "        return (Y == self.predict(x)).mean()\n",
        "\n",
        "    def fit(self, x, Y, alpha = 0.001, epsylon = 0.001, max_steps = 5000, Rtype = \"LL\"):\n",
        "        self.a = np.zeros(x.shape[1]).reshape(x.shape[1],1)\n",
        "        steps, errors, accuracies = [], [], []\n",
        "        step = 0\n",
        "        for _ in range(max_steps):\n",
        "            if Rtype == \"LL\":\n",
        "                new_error = self.LogLikelihood(x, Y)\n",
        "                dT_a = np.matmul(np.transpose(x), Y - self.predict(x))\n",
        "                # display(\"old a = \",self.a, \"new_error = \", new_error, \"dT_a = \", dT_a)\n",
        "                self.a += alpha*dT_a\n",
        "                # display(\"new a = \",self.a)\n",
        "            elif Rtype == \"CE\":\n",
        "                new_error = self.CrossEntropy(x, Y)\n",
        "                dT_a = -np.matmul(np.transpose(x), Y - self.predict(x))\n",
        "                #display(\"old a = \", self.a, \"new_error = \", new_error, \"dT_a = \", dT_a)\n",
        "                self.a -= alpha*dT_a\n",
        "                #display(\"new a = \",self.a)\n",
        "            step += 1\n",
        "            steps.append(step)\n",
        "            errors.append(new_error)\n",
        "            accuracies.append(self.accuracy(x, Y))\n",
        "            # print(step, new_error)\n",
        "            if abs(new_error) < epsylon:\n",
        "                break\n",
        "        return steps, errors, accuracies"
      ]
    },
    {
      "cell_type": "code",
      "execution_count": null,
      "id": "R6VU_JQlpgVX",
      "metadata": {
        "id": "R6VU_JQlpgVX",
        "outputId": "e23a2d01-d728-47bd-ca64-540eb2bbc6cb"
      },
      "outputs": [
        {
          "name": "stderr",
          "output_type": "stream",
          "text": [
            "C:\\Users\\user\\AppData\\Local\\Temp\\ipykernel_16956\\3201266516.py:6: RuntimeWarning: overflow encountered in exp\n",
            "  return 1/(1 + np.exp(-z))\n"
          ]
        },
        {
          "data": {
            "text/plain": [
              "'Время обучения: '"
            ]
          },
          "metadata": {},
          "output_type": "display_data"
        },
        {
          "data": {
            "text/plain": [
              "220.01632404327393"
            ]
          },
          "metadata": {},
          "output_type": "display_data"
        },
        {
          "data": {
            "text/plain": [
              "'сек.'"
            ]
          },
          "metadata": {},
          "output_type": "display_data"
        }
      ],
      "source": [
        "start_time = time.time()\n",
        "regr = LogisticRegressionGD()\n",
        "# steps, errors =  regr.fit(X_train, y_train, alpha = 0.0005, epsylon = 0.001, max_steps = 1000, Rtype = \"LL\")\n",
        "steps, errors, accuracies =  regr.fit(X_train, y_train, alpha = 0.00001, epsylon = 0.001, max_steps = 10000, Rtype = \"LL\")\n",
        "\n",
        "display('Время обучения: ', time.time() - start_time, 'сек.')"
      ]
    },
    {
      "cell_type": "code",
      "execution_count": null,
      "id": "qYYlOAsU264K",
      "metadata": {
        "id": "qYYlOAsU264K",
        "outputId": "e66aa69c-d144-4a69-8bab-7008b3fe2ffd"
      },
      "outputs": [
        {
          "data": {
            "text/plain": [
              "array([[ 8.78497816e-01],\n",
              "       [-4.87521229e+00],\n",
              "       [ 0.00000000e+00],\n",
              "       [ 6.07297654e+00],\n",
              "       [ 6.58100054e-01],\n",
              "       [-6.52717961e+01],\n",
              "       [ 5.99083207e-02],\n",
              "       [ 9.83784676e-01],\n",
              "       [ 1.42979545e-01],\n",
              "       [-8.78421056e+01],\n",
              "       [-5.99925920e+01],\n",
              "       [-4.52152386e+01],\n",
              "       [-8.09968095e+01],\n",
              "       [-6.14086323e+00],\n",
              "       [-6.23976532e+01],\n",
              "       [-1.05415177e+02],\n",
              "       [ 8.71671976e-01],\n",
              "       [ 1.26709439e+00],\n",
              "       [ 5.65803182e+00],\n",
              "       [ 1.21154186e+01],\n",
              "       [ 1.65685169e+01],\n",
              "       [ 2.04495506e+01],\n",
              "       [-1.06448535e+01],\n",
              "       [-3.67174239e+01],\n",
              "       [ 4.63020582e-01]])"
            ]
          },
          "metadata": {},
          "output_type": "display_data"
        },
        {
          "name": "stderr",
          "output_type": "stream",
          "text": [
            "C:\\Users\\user\\AppData\\Local\\Temp\\ipykernel_16956\\3201266516.py:6: RuntimeWarning: overflow encountered in exp\n",
            "  return 1/(1 + np.exp(-z))\n"
          ]
        },
        {
          "data": {
            "image/png": "[encoded data removed]",
            "text/plain": [
              "<Figure size 640x480 with 1 Axes>"
            ]
          },
          "metadata": {},
          "output_type": "display_data"
        }
      ],
      "source": [
        "display(regr.coefs())\n",
        "Y_Pred = regr.predict(X_test)\n",
        "plt.scatter(X_test[:,0], y_test)\n",
        "plt.scatter(X_test[:,0], Y_Pred)\n",
        "# plt.scatter(y_test.astype(np.int16), Y_Pred)\n",
        "plt.show()\n"
      ]
    },
    {
      "cell_type": "code",
      "execution_count": null,
      "id": "6ddbe39c-2ee2-4d38-8bfd-1a6c8a23ef51",
      "metadata": {
        "id": "6ddbe39c-2ee2-4d38-8bfd-1a6c8a23ef51",
        "outputId": "76c0bc75-89b5-4d2d-9f74-d624063268e7"
      },
      "outputs": [
        {
          "data": {
            "text/plain": [
              "array([[0.],\n",
              "       [0.],\n",
              "       [0.],\n",
              "       ...,\n",
              "       [0.],\n",
              "       [0.],\n",
              "       [0.]])"
            ]
          },
          "execution_count": 29,
          "metadata": {},
          "output_type": "execute_result"
        }
      ],
      "source": [
        "Y_Pred"
      ]
    },
    {
      "cell_type": "code",
      "execution_count": null,
      "id": "e26c9aa7-8cec-46fe-bc2e-ed243da53ca9",
      "metadata": {
        "id": "e26c9aa7-8cec-46fe-bc2e-ed243da53ca9",
        "outputId": "0cec7a26-4397-423b-c8ac-7fb531299ec6"
      },
      "outputs": [
        {
          "data": {
            "text/plain": [
              "[<matplotlib.lines.Line2D at 0x25c0085e360>]"
            ]
          },
          "execution_count": 30,
          "metadata": {},
          "output_type": "execute_result"
        },
        {
          "data": {
            "image/png": "[encoded data removed]",
            "text/plain": [
              "<Figure size 640x480 with 1 Axes>"
            ]
          },
          "metadata": {},
          "output_type": "display_data"
        }
      ],
      "source": [
        "plt.plot(steps, errors)"
      ]
    },
    {
      "cell_type": "code",
      "execution_count": null,
      "id": "f9bbd125-967a-4755-89c6-e5cd9a66fc05",
      "metadata": {
        "id": "f9bbd125-967a-4755-89c6-e5cd9a66fc05",
        "outputId": "5302d2aa-49e5-4dd3-ed62-734ee1519474"
      },
      "outputs": [
        {
          "data": {
            "text/plain": [
              "(-66664.12131401271, -141747.13743990345)"
            ]
          },
          "execution_count": 31,
          "metadata": {},
          "output_type": "execute_result"
        }
      ],
      "source": [
        "errors[0], errors[-1]"
      ]
    },
    {
      "cell_type": "code",
      "execution_count": null,
      "id": "b1aca796-0c79-4351-8b98-c167e143d253",
      "metadata": {
        "id": "b1aca796-0c79-4351-8b98-c167e143d253",
        "outputId": "546ad9de-4641-47b0-b9fb-cc378c720760"
      },
      "outputs": [
        {
          "name": "stderr",
          "output_type": "stream",
          "text": [
            "C:\\Users\\user\\AppData\\Local\\Temp\\ipykernel_16956\\3201266516.py:6: RuntimeWarning: overflow encountered in exp\n",
            "  return 1/(1 + np.exp(-z))\n"
          ]
        },
        {
          "data": {
            "text/plain": [
              "0.9242397454031117"
            ]
          },
          "execution_count": 32,
          "metadata": {},
          "output_type": "execute_result"
        }
      ],
      "source": [
        "regr.accuracy(X_test, y_test)"
      ]
    },
    {
      "cell_type": "code",
      "execution_count": null,
      "id": "675935aa-0e82-4935-9d3e-26ebcb08705d",
      "metadata": {
        "id": "675935aa-0e82-4935-9d3e-26ebcb08705d",
        "outputId": "3fc76792-e08f-4061-f78d-54ec4cd84210"
      },
      "outputs": [
        {
          "data": {
            "text/plain": [
              "0.9242397454031117"
            ]
          },
          "execution_count": 58,
          "metadata": {},
          "output_type": "execute_result"
        }
      ],
      "source": [
        "(Y_Pred == y_test).sum()/(y_test.shape)[0]"
      ]
    },
    {
      "cell_type": "code",
      "execution_count": null,
      "id": "a79105d9-6dc4-42ca-9b77-b1bedfd87de2",
      "metadata": {
        "id": "a79105d9-6dc4-42ca-9b77-b1bedfd87de2"
      },
      "outputs": [],
      "source": [
        "regr2 = LogisticRegressionGD()"
      ]
    },
    {
      "cell_type": "code",
      "execution_count": null,
      "id": "dbaf171c-16c4-4bcc-a33d-93ec9020467c",
      "metadata": {
        "id": "dbaf171c-16c4-4bcc-a33d-93ec9020467c",
        "outputId": "8e5689f7-8124-46ce-e0b6-3b0a989c6a16"
      },
      "outputs": [
        {
          "name": "stderr",
          "output_type": "stream",
          "text": [
            "C:\\Users\\user\\AppData\\Local\\Temp\\ipykernel_16956\\3201266516.py:6: RuntimeWarning: overflow encountered in exp\n",
            "  return 1/(1 + np.exp(-z))\n"
          ]
        },
        {
          "data": {
            "text/plain": [
              "'Время обучения: '"
            ]
          },
          "metadata": {},
          "output_type": "display_data"
        },
        {
          "data": {
            "text/plain": [
              "2716.052682876587"
            ]
          },
          "metadata": {},
          "output_type": "display_data"
        },
        {
          "data": {
            "text/plain": [
              "'сек.'"
            ]
          },
          "metadata": {},
          "output_type": "display_data"
        }
      ],
      "source": [
        "steps, errors, accuracies =  regr2.fit(X_train, y_train, alpha = 0.00001, epsylon = 0.001, max_steps = 10000, Rtype = \"CE\")\n",
        "\n",
        "display('Время обучения: ', time.time() - start_time, 'сек.')"
      ]
    },
    {
      "cell_type": "code",
      "execution_count": null,
      "id": "f765a48b-3780-40f6-9a42-4188bfb46758",
      "metadata": {
        "id": "f765a48b-3780-40f6-9a42-4188bfb46758",
        "outputId": "a8b25b78-e342-46b9-cf3e-77bcce44ed04"
      },
      "outputs": [
        {
          "data": {
            "text/plain": [
              "array([[ 8.78497816e-01],\n",
              "       [-4.87521229e+00],\n",
              "       [ 0.00000000e+00],\n",
              "       [ 6.07297654e+00],\n",
              "       [ 6.58100054e-01],\n",
              "       [-6.52717961e+01],\n",
              "       [ 5.99083207e-02],\n",
              "       [ 9.83784676e-01],\n",
              "       [ 1.42979545e-01],\n",
              "       [-8.78421056e+01],\n",
              "       [-5.99925920e+01],\n",
              "       [-4.52152386e+01],\n",
              "       [-8.09968095e+01],\n",
              "       [-6.14086323e+00],\n",
              "       [-6.23976532e+01],\n",
              "       [-1.05415177e+02],\n",
              "       [ 8.71671976e-01],\n",
              "       [ 1.26709439e+00],\n",
              "       [ 5.65803182e+00],\n",
              "       [ 1.21154186e+01],\n",
              "       [ 1.65685169e+01],\n",
              "       [ 2.04495506e+01],\n",
              "       [-1.06448535e+01],\n",
              "       [-3.67174239e+01],\n",
              "       [ 4.63020582e-01]])"
            ]
          },
          "metadata": {},
          "output_type": "display_data"
        },
        {
          "name": "stderr",
          "output_type": "stream",
          "text": [
            "C:\\Users\\user\\AppData\\Local\\Temp\\ipykernel_16956\\3201266516.py:6: RuntimeWarning: overflow encountered in exp\n",
            "  return 1/(1 + np.exp(-z))\n"
          ]
        },
        {
          "data": {
            "image/png": "[encoded data removed]",
            "text/plain": [
              "<Figure size 640x480 with 1 Axes>"
            ]
          },
          "metadata": {},
          "output_type": "display_data"
        }
      ],
      "source": [
        "display(regr2.coefs())\n",
        "Y_Pred = regr2.predict(X_test)\n",
        "plt.scatter(X_test[:,0], y_test)\n",
        "plt.scatter(X_test[:,0], Y_Pred)\n",
        "# plt.scatter(y_test.astype(np.int16), Y_Pred)\n",
        "plt.show()\n"
      ]
    },
    {
      "cell_type": "code",
      "execution_count": null,
      "id": "1b472f51-4ad7-4d49-a280-c5be6603e7c2",
      "metadata": {
        "id": "1b472f51-4ad7-4d49-a280-c5be6603e7c2",
        "outputId": "31a45ea6-b2d8-48c7-a999-d0348afd3b90"
      },
      "outputs": [
        {
          "name": "stderr",
          "output_type": "stream",
          "text": [
            "C:\\Users\\user\\AppData\\Local\\Temp\\ipykernel_16956\\3201266516.py:6: RuntimeWarning: overflow encountered in exp\n",
            "  return 1/(1 + np.exp(-z))\n"
          ]
        },
        {
          "data": {
            "text/plain": [
              "0.9242397454031117"
            ]
          },
          "execution_count": 67,
          "metadata": {},
          "output_type": "execute_result"
        }
      ],
      "source": [
        "regr2.accuracy(X_test, y_test)"
      ]
    }
  ],
  "metadata": {
    "colab": {
      "provenance": []
    },
    "kernelspec": {
      "display_name": "Python 3 (ipykernel)",
      "language": "python",
      "name": "python3"
    },
    "language_info": {
      "codemirror_mode": {
        "name": "ipython",
        "version": 3
      },
      "file_extension": ".py",
      "mimetype": "text/x-python",
      "name": "python",
      "nbconvert_exporter": "python",
      "pygments_lexer": "ipython3",
      "version": "3.12.3"
    }
  },
  "nbformat": 4,
  "nbformat_minor": 5
}