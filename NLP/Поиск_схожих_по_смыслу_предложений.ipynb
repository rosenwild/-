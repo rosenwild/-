{
  "nbformat": 4,
  "nbformat_minor": 0,
  "metadata": {
    "kernelspec": {
      "display_name": "Python 3",
      "language": "python",
      "name": "python3"
    },
    "language_info": {
      "codemirror_mode": {
        "name": "ipython",
        "version": 3
      },
      "file_extension": ".py",
      "mimetype": "text/x-python",
      "name": "python",
      "nbconvert_exporter": "python",
      "pygments_lexer": "ipython3",
      "version": "3.7.2"
    },
    "colab": {
      "provenance": [],
      "collapsed_sections": [
        "BIWqBuEa6j0b",
        "uS9FwWNd5a3S",
        "MQk_rolFwT_h",
        "aIcT_g-C6j1E",
        "n08z2PjMwC5o",
        "ai48-5vv6j1d",
        "EsJSNkhm6j1y",
        "Y60z4t6W6j16",
        "eHCnH-jw6j18",
        "0sUSxk866j1_",
        "B4L6HJJC6j2B",
        "J5xWOORI6j2F",
        "tHZqgDTo6j0i",
        "ySQQp0oQt1Ep",
        "5WQgYDWd6j3y",
        "LL6_Rjg3InL8",
        "suKZJAEnlldJ",
        "LSuBD65SyyfG",
        "o0uj4yf55nVd",
        "vymVj8IxO2PO"
      ]
    },
    "widgets": {
      "application/vnd.jupyter.widget-state+json": {
        "06fc2d535a0b4fe2840c6c21d630cd61": {
          "model_module": "@jupyter-widgets/controls",
          "model_name": "HBoxModel",
          "model_module_version": "1.5.0",
          "state": {
            "_dom_classes": [],
            "_model_module": "@jupyter-widgets/controls",
            "_model_module_version": "1.5.0",
            "_model_name": "HBoxModel",
            "_view_count": null,
            "_view_module": "@jupyter-widgets/controls",
            "_view_module_version": "1.5.0",
            "_view_name": "HBoxView",
            "box_style": "",
            "children": [
              "IPY_MODEL_aa48e476638542e88998321ff9c48a7e",
              "IPY_MODEL_173371ff5a65493f8cbe4ca2a753f622",
              "IPY_MODEL_fcfa2871e05f4c9a85bfa1adc817648f"
            ],
            "layout": "IPY_MODEL_b695f79f82524d37bba7969f565c2d81"
          }
        },
        "aa48e476638542e88998321ff9c48a7e": {
          "model_module": "@jupyter-widgets/controls",
          "model_name": "HTMLModel",
          "model_module_version": "1.5.0",
          "state": {
            "_dom_classes": [],
            "_model_module": "@jupyter-widgets/controls",
            "_model_module_version": "1.5.0",
            "_model_name": "HTMLModel",
            "_view_count": null,
            "_view_module": "@jupyter-widgets/controls",
            "_view_module_version": "1.5.0",
            "_view_name": "HTMLView",
            "description": "",
            "description_tooltip": null,
            "layout": "IPY_MODEL_3aaa256ff71a40018da5ac15abfb765b",
            "placeholder": "​",
            "style": "IPY_MODEL_b884e2c97f7a4238b4162ef561cae386",
            "value": " 27%"
          }
        },
        "173371ff5a65493f8cbe4ca2a753f622": {
          "model_module": "@jupyter-widgets/controls",
          "model_name": "FloatProgressModel",
          "model_module_version": "1.5.0",
          "state": {
            "_dom_classes": [],
            "_model_module": "@jupyter-widgets/controls",
            "_model_module_version": "1.5.0",
            "_model_name": "FloatProgressModel",
            "_view_count": null,
            "_view_module": "@jupyter-widgets/controls",
            "_view_module_version": "1.5.0",
            "_view_name": "ProgressView",
            "bar_style": "danger",
            "description": "",
            "description_tooltip": null,
            "layout": "IPY_MODEL_64719a18e7d2418499e1b3fee4415c0e",
            "max": 3760,
            "min": 0,
            "orientation": "horizontal",
            "style": "IPY_MODEL_4c787bca38f346c6bb3ef0120b230047",
            "value": 1000
          }
        },
        "fcfa2871e05f4c9a85bfa1adc817648f": {
          "model_module": "@jupyter-widgets/controls",
          "model_name": "HTMLModel",
          "model_module_version": "1.5.0",
          "state": {
            "_dom_classes": [],
            "_model_module": "@jupyter-widgets/controls",
            "_model_module_version": "1.5.0",
            "_model_name": "HTMLModel",
            "_view_count": null,
            "_view_module": "@jupyter-widgets/controls",
            "_view_module_version": "1.5.0",
            "_view_name": "HTMLView",
            "description": "",
            "description_tooltip": null,
            "layout": "IPY_MODEL_76afefbf92924277bd22d07a53c51104",
            "placeholder": "​",
            "style": "IPY_MODEL_2282e7a9daf2497aa5a705d70901fa91",
            "value": " 1000/3760 [08:35&lt;26:57,  1.71it/s]"
          }
        },
        "b695f79f82524d37bba7969f565c2d81": {
          "model_module": "@jupyter-widgets/base",
          "model_name": "LayoutModel",
          "model_module_version": "1.2.0",
          "state": {
            "_model_module": "@jupyter-widgets/base",
            "_model_module_version": "1.2.0",
            "_model_name": "LayoutModel",
            "_view_count": null,
            "_view_module": "@jupyter-widgets/base",
            "_view_module_version": "1.2.0",
            "_view_name": "LayoutView",
            "align_content": null,
            "align_items": null,
            "align_self": null,
            "border": null,
            "bottom": null,
            "display": null,
            "flex": null,
            "flex_flow": null,
            "grid_area": null,
            "grid_auto_columns": null,
            "grid_auto_flow": null,
            "grid_auto_rows": null,
            "grid_column": null,
            "grid_gap": null,
            "grid_row": null,
            "grid_template_areas": null,
            "grid_template_columns": null,
            "grid_template_rows": null,
            "height": null,
            "justify_content": null,
            "justify_items": null,
            "left": null,
            "margin": null,
            "max_height": null,
            "max_width": null,
            "min_height": null,
            "min_width": null,
            "object_fit": null,
            "object_position": null,
            "order": null,
            "overflow": null,
            "overflow_x": null,
            "overflow_y": null,
            "padding": null,
            "right": null,
            "top": null,
            "visibility": null,
            "width": null
          }
        },
        "3aaa256ff71a40018da5ac15abfb765b": {
          "model_module": "@jupyter-widgets/base",
          "model_name": "LayoutModel",
          "model_module_version": "1.2.0",
          "state": {
            "_model_module": "@jupyter-widgets/base",
            "_model_module_version": "1.2.0",
            "_model_name": "LayoutModel",
            "_view_count": null,
            "_view_module": "@jupyter-widgets/base",
            "_view_module_version": "1.2.0",
            "_view_name": "LayoutView",
            "align_content": null,
            "align_items": null,
            "align_self": null,
            "border": null,
            "bottom": null,
            "display": null,
            "flex": null,
            "flex_flow": null,
            "grid_area": null,
            "grid_auto_columns": null,
            "grid_auto_flow": null,
            "grid_auto_rows": null,
            "grid_column": null,
            "grid_gap": null,
            "grid_row": null,
            "grid_template_areas": null,
            "grid_template_columns": null,
            "grid_template_rows": null,
            "height": null,
            "justify_content": null,
            "justify_items": null,
            "left": null,
            "margin": null,
            "max_height": null,
            "max_width": null,
            "min_height": null,
            "min_width": null,
            "object_fit": null,
            "object_position": null,
            "order": null,
            "overflow": null,
            "overflow_x": null,
            "overflow_y": null,
            "padding": null,
            "right": null,
            "top": null,
            "visibility": null,
            "width": null
          }
        },
        "b884e2c97f7a4238b4162ef561cae386": {
          "model_module": "@jupyter-widgets/controls",
          "model_name": "DescriptionStyleModel",
          "model_module_version": "1.5.0",
          "state": {
            "_model_module": "@jupyter-widgets/controls",
            "_model_module_version": "1.5.0",
            "_model_name": "DescriptionStyleModel",
            "_view_count": null,
            "_view_module": "@jupyter-widgets/base",
            "_view_module_version": "1.2.0",
            "_view_name": "StyleView",
            "description_width": ""
          }
        },
        "64719a18e7d2418499e1b3fee4415c0e": {
          "model_module": "@jupyter-widgets/base",
          "model_name": "LayoutModel",
          "model_module_version": "1.2.0",
          "state": {
            "_model_module": "@jupyter-widgets/base",
            "_model_module_version": "1.2.0",
            "_model_name": "LayoutModel",
            "_view_count": null,
            "_view_module": "@jupyter-widgets/base",
            "_view_module_version": "1.2.0",
            "_view_name": "LayoutView",
            "align_content": null,
            "align_items": null,
            "align_self": null,
            "border": null,
            "bottom": null,
            "display": null,
            "flex": null,
            "flex_flow": null,
            "grid_area": null,
            "grid_auto_columns": null,
            "grid_auto_flow": null,
            "grid_auto_rows": null,
            "grid_column": null,
            "grid_gap": null,
            "grid_row": null,
            "grid_template_areas": null,
            "grid_template_columns": null,
            "grid_template_rows": null,
            "height": null,
            "justify_content": null,
            "justify_items": null,
            "left": null,
            "margin": null,
            "max_height": null,
            "max_width": null,
            "min_height": null,
            "min_width": null,
            "object_fit": null,
            "object_position": null,
            "order": null,
            "overflow": null,
            "overflow_x": null,
            "overflow_y": null,
            "padding": null,
            "right": null,
            "top": null,
            "visibility": null,
            "width": null
          }
        },
        "4c787bca38f346c6bb3ef0120b230047": {
          "model_module": "@jupyter-widgets/controls",
          "model_name": "ProgressStyleModel",
          "model_module_version": "1.5.0",
          "state": {
            "_model_module": "@jupyter-widgets/controls",
            "_model_module_version": "1.5.0",
            "_model_name": "ProgressStyleModel",
            "_view_count": null,
            "_view_module": "@jupyter-widgets/base",
            "_view_module_version": "1.2.0",
            "_view_name": "StyleView",
            "bar_color": null,
            "description_width": ""
          }
        },
        "76afefbf92924277bd22d07a53c51104": {
          "model_module": "@jupyter-widgets/base",
          "model_name": "LayoutModel",
          "model_module_version": "1.2.0",
          "state": {
            "_model_module": "@jupyter-widgets/base",
            "_model_module_version": "1.2.0",
            "_model_name": "LayoutModel",
            "_view_count": null,
            "_view_module": "@jupyter-widgets/base",
            "_view_module_version": "1.2.0",
            "_view_name": "LayoutView",
            "align_content": null,
            "align_items": null,
            "align_self": null,
            "border": null,
            "bottom": null,
            "display": null,
            "flex": null,
            "flex_flow": null,
            "grid_area": null,
            "grid_auto_columns": null,
            "grid_auto_flow": null,
            "grid_auto_rows": null,
            "grid_column": null,
            "grid_gap": null,
            "grid_row": null,
            "grid_template_areas": null,
            "grid_template_columns": null,
            "grid_template_rows": null,
            "height": null,
            "justify_content": null,
            "justify_items": null,
            "left": null,
            "margin": null,
            "max_height": null,
            "max_width": null,
            "min_height": null,
            "min_width": null,
            "object_fit": null,
            "object_position": null,
            "order": null,
            "overflow": null,
            "overflow_x": null,
            "overflow_y": null,
            "padding": null,
            "right": null,
            "top": null,
            "visibility": null,
            "width": null
          }
        },
        "2282e7a9daf2497aa5a705d70901fa91": {
          "model_module": "@jupyter-widgets/controls",
          "model_name": "DescriptionStyleModel",
          "model_module_version": "1.5.0",
          "state": {
            "_model_module": "@jupyter-widgets/controls",
            "_model_module_version": "1.5.0",
            "_model_name": "DescriptionStyleModel",
            "_view_count": null,
            "_view_module": "@jupyter-widgets/base",
            "_view_module_version": "1.2.0",
            "_view_name": "StyleView",
            "description_width": ""
          }
        },
        "956ec89f87814263872de7003fe532cc": {
          "model_module": "@jupyter-widgets/controls",
          "model_name": "HBoxModel",
          "model_module_version": "1.5.0",
          "state": {
            "_dom_classes": [],
            "_model_module": "@jupyter-widgets/controls",
            "_model_module_version": "1.5.0",
            "_model_name": "HBoxModel",
            "_view_count": null,
            "_view_module": "@jupyter-widgets/controls",
            "_view_module_version": "1.5.0",
            "_view_name": "HBoxView",
            "box_style": "",
            "children": [
              "IPY_MODEL_3c224b814da54a229abb8563be4eafab",
              "IPY_MODEL_f82ddc2e089d4347be8f63fc8d0408d9",
              "IPY_MODEL_a41954aaeb044f0e9dbabb0e91248dfb"
            ],
            "layout": "IPY_MODEL_914b50818a70414ba19168f5aafb86d0"
          }
        },
        "3c224b814da54a229abb8563be4eafab": {
          "model_module": "@jupyter-widgets/controls",
          "model_name": "HTMLModel",
          "model_module_version": "1.5.0",
          "state": {
            "_dom_classes": [],
            "_model_module": "@jupyter-widgets/controls",
            "_model_module_version": "1.5.0",
            "_model_name": "HTMLModel",
            "_view_count": null,
            "_view_module": "@jupyter-widgets/controls",
            "_view_module_version": "1.5.0",
            "_view_name": "HTMLView",
            "description": "",
            "description_tooltip": null,
            "layout": "IPY_MODEL_84c4a0b877ce4f318a6b44828e3fc5bf",
            "placeholder": "​",
            "style": "IPY_MODEL_5a1dbf8770774c9ab67748d94b9ec96f",
            "value": "100%"
          }
        },
        "f82ddc2e089d4347be8f63fc8d0408d9": {
          "model_module": "@jupyter-widgets/controls",
          "model_name": "FloatProgressModel",
          "model_module_version": "1.5.0",
          "state": {
            "_dom_classes": [],
            "_model_module": "@jupyter-widgets/controls",
            "_model_module_version": "1.5.0",
            "_model_name": "FloatProgressModel",
            "_view_count": null,
            "_view_module": "@jupyter-widgets/controls",
            "_view_module_version": "1.5.0",
            "_view_name": "ProgressView",
            "bar_style": "success",
            "description": "",
            "description_tooltip": null,
            "layout": "IPY_MODEL_5cbb76f7a8e040a2afe39a07cd0b7f13",
            "max": 6,
            "min": 0,
            "orientation": "horizontal",
            "style": "IPY_MODEL_ba7128fe68b945deb23fd4b147f6e288",
            "value": 6
          }
        },
        "a41954aaeb044f0e9dbabb0e91248dfb": {
          "model_module": "@jupyter-widgets/controls",
          "model_name": "HTMLModel",
          "model_module_version": "1.5.0",
          "state": {
            "_dom_classes": [],
            "_model_module": "@jupyter-widgets/controls",
            "_model_module_version": "1.5.0",
            "_model_name": "HTMLModel",
            "_view_count": null,
            "_view_module": "@jupyter-widgets/controls",
            "_view_module_version": "1.5.0",
            "_view_name": "HTMLView",
            "description": "",
            "description_tooltip": null,
            "layout": "IPY_MODEL_87ec7ab0d7e146089171057571d9f602",
            "placeholder": "​",
            "style": "IPY_MODEL_58965a8a195e46aab0fb55d7b2d0fbc0",
            "value": " 6/6 [00:00&lt;00:00, 79.05it/s]"
          }
        },
        "914b50818a70414ba19168f5aafb86d0": {
          "model_module": "@jupyter-widgets/base",
          "model_name": "LayoutModel",
          "model_module_version": "1.2.0",
          "state": {
            "_model_module": "@jupyter-widgets/base",
            "_model_module_version": "1.2.0",
            "_model_name": "LayoutModel",
            "_view_count": null,
            "_view_module": "@jupyter-widgets/base",
            "_view_module_version": "1.2.0",
            "_view_name": "LayoutView",
            "align_content": null,
            "align_items": null,
            "align_self": null,
            "border": null,
            "bottom": null,
            "display": null,
            "flex": null,
            "flex_flow": null,
            "grid_area": null,
            "grid_auto_columns": null,
            "grid_auto_flow": null,
            "grid_auto_rows": null,
            "grid_column": null,
            "grid_gap": null,
            "grid_row": null,
            "grid_template_areas": null,
            "grid_template_columns": null,
            "grid_template_rows": null,
            "height": null,
            "justify_content": null,
            "justify_items": null,
            "left": null,
            "margin": null,
            "max_height": null,
            "max_width": null,
            "min_height": null,
            "min_width": null,
            "object_fit": null,
            "object_position": null,
            "order": null,
            "overflow": null,
            "overflow_x": null,
            "overflow_y": null,
            "padding": null,
            "right": null,
            "top": null,
            "visibility": null,
            "width": null
          }
        },
        "84c4a0b877ce4f318a6b44828e3fc5bf": {
          "model_module": "@jupyter-widgets/base",
          "model_name": "LayoutModel",
          "model_module_version": "1.2.0",
          "state": {
            "_model_module": "@jupyter-widgets/base",
            "_model_module_version": "1.2.0",
            "_model_name": "LayoutModel",
            "_view_count": null,
            "_view_module": "@jupyter-widgets/base",
            "_view_module_version": "1.2.0",
            "_view_name": "LayoutView",
            "align_content": null,
            "align_items": null,
            "align_self": null,
            "border": null,
            "bottom": null,
            "display": null,
            "flex": null,
            "flex_flow": null,
            "grid_area": null,
            "grid_auto_columns": null,
            "grid_auto_flow": null,
            "grid_auto_rows": null,
            "grid_column": null,
            "grid_gap": null,
            "grid_row": null,
            "grid_template_areas": null,
            "grid_template_columns": null,
            "grid_template_rows": null,
            "height": null,
            "justify_content": null,
            "justify_items": null,
            "left": null,
            "margin": null,
            "max_height": null,
            "max_width": null,
            "min_height": null,
            "min_width": null,
            "object_fit": null,
            "object_position": null,
            "order": null,
            "overflow": null,
            "overflow_x": null,
            "overflow_y": null,
            "padding": null,
            "right": null,
            "top": null,
            "visibility": null,
            "width": null
          }
        },
        "5a1dbf8770774c9ab67748d94b9ec96f": {
          "model_module": "@jupyter-widgets/controls",
          "model_name": "DescriptionStyleModel",
          "model_module_version": "1.5.0",
          "state": {
            "_model_module": "@jupyter-widgets/controls",
            "_model_module_version": "1.5.0",
            "_model_name": "DescriptionStyleModel",
            "_view_count": null,
            "_view_module": "@jupyter-widgets/base",
            "_view_module_version": "1.2.0",
            "_view_name": "StyleView",
            "description_width": ""
          }
        },
        "5cbb76f7a8e040a2afe39a07cd0b7f13": {
          "model_module": "@jupyter-widgets/base",
          "model_name": "LayoutModel",
          "model_module_version": "1.2.0",
          "state": {
            "_model_module": "@jupyter-widgets/base",
            "_model_module_version": "1.2.0",
            "_model_name": "LayoutModel",
            "_view_count": null,
            "_view_module": "@jupyter-widgets/base",
            "_view_module_version": "1.2.0",
            "_view_name": "LayoutView",
            "align_content": null,
            "align_items": null,
            "align_self": null,
            "border": null,
            "bottom": null,
            "display": null,
            "flex": null,
            "flex_flow": null,
            "grid_area": null,
            "grid_auto_columns": null,
            "grid_auto_flow": null,
            "grid_auto_rows": null,
            "grid_column": null,
            "grid_gap": null,
            "grid_row": null,
            "grid_template_areas": null,
            "grid_template_columns": null,
            "grid_template_rows": null,
            "height": null,
            "justify_content": null,
            "justify_items": null,
            "left": null,
            "margin": null,
            "max_height": null,
            "max_width": null,
            "min_height": null,
            "min_width": null,
            "object_fit": null,
            "object_position": null,
            "order": null,
            "overflow": null,
            "overflow_x": null,
            "overflow_y": null,
            "padding": null,
            "right": null,
            "top": null,
            "visibility": null,
            "width": null
          }
        },
        "ba7128fe68b945deb23fd4b147f6e288": {
          "model_module": "@jupyter-widgets/controls",
          "model_name": "ProgressStyleModel",
          "model_module_version": "1.5.0",
          "state": {
            "_model_module": "@jupyter-widgets/controls",
            "_model_module_version": "1.5.0",
            "_model_name": "ProgressStyleModel",
            "_view_count": null,
            "_view_module": "@jupyter-widgets/base",
            "_view_module_version": "1.2.0",
            "_view_name": "StyleView",
            "bar_color": null,
            "description_width": ""
          }
        },
        "87ec7ab0d7e146089171057571d9f602": {
          "model_module": "@jupyter-widgets/base",
          "model_name": "LayoutModel",
          "model_module_version": "1.2.0",
          "state": {
            "_model_module": "@jupyter-widgets/base",
            "_model_module_version": "1.2.0",
            "_model_name": "LayoutModel",
            "_view_count": null,
            "_view_module": "@jupyter-widgets/base",
            "_view_module_version": "1.2.0",
            "_view_name": "LayoutView",
            "align_content": null,
            "align_items": null,
            "align_self": null,
            "border": null,
            "bottom": null,
            "display": null,
            "flex": null,
            "flex_flow": null,
            "grid_area": null,
            "grid_auto_columns": null,
            "grid_auto_flow": null,
            "grid_auto_rows": null,
            "grid_column": null,
            "grid_gap": null,
            "grid_row": null,
            "grid_template_areas": null,
            "grid_template_columns": null,
            "grid_template_rows": null,
            "height": null,
            "justify_content": null,
            "justify_items": null,
            "left": null,
            "margin": null,
            "max_height": null,
            "max_width": null,
            "min_height": null,
            "min_width": null,
            "object_fit": null,
            "object_position": null,
            "order": null,
            "overflow": null,
            "overflow_x": null,
            "overflow_y": null,
            "padding": null,
            "right": null,
            "top": null,
            "visibility": null,
            "width": null
          }
        },
        "58965a8a195e46aab0fb55d7b2d0fbc0": {
          "model_module": "@jupyter-widgets/controls",
          "model_name": "DescriptionStyleModel",
          "model_module_version": "1.5.0",
          "state": {
            "_model_module": "@jupyter-widgets/controls",
            "_model_module_version": "1.5.0",
            "_model_name": "DescriptionStyleModel",
            "_view_count": null,
            "_view_module": "@jupyter-widgets/base",
            "_view_module_version": "1.2.0",
            "_view_name": "StyleView",
            "description_width": ""
          }
        },
        "fdcf06e5866d47d3bcad1b84419f5c8f": {
          "model_module": "@jupyter-widgets/controls",
          "model_name": "HBoxModel",
          "model_module_version": "1.5.0",
          "state": {
            "_dom_classes": [],
            "_model_module": "@jupyter-widgets/controls",
            "_model_module_version": "1.5.0",
            "_model_name": "HBoxModel",
            "_view_count": null,
            "_view_module": "@jupyter-widgets/controls",
            "_view_module_version": "1.5.0",
            "_view_name": "HBoxView",
            "box_style": "",
            "children": [
              "IPY_MODEL_5b3aa6db8f4148c7b8d6b62688e97874",
              "IPY_MODEL_512f6672c65e42f6a8a0df16b4a76c97",
              "IPY_MODEL_248f1752357a4ff2bc8e17933da59fa0"
            ],
            "layout": "IPY_MODEL_af0c5ce48d0d47d9b8faf5e2c47598fa"
          }
        },
        "5b3aa6db8f4148c7b8d6b62688e97874": {
          "model_module": "@jupyter-widgets/controls",
          "model_name": "HTMLModel",
          "model_module_version": "1.5.0",
          "state": {
            "_dom_classes": [],
            "_model_module": "@jupyter-widgets/controls",
            "_model_module_version": "1.5.0",
            "_model_name": "HTMLModel",
            "_view_count": null,
            "_view_module": "@jupyter-widgets/controls",
            "_view_module_version": "1.5.0",
            "_view_name": "HTMLView",
            "description": "",
            "description_tooltip": null,
            "layout": "IPY_MODEL_66cd8b6ba2a9457db0df43429b6c0b7b",
            "placeholder": "​",
            "style": "IPY_MODEL_4cc5c066034d4b2bbbeba6452c2b841a",
            "value": " 27%"
          }
        },
        "512f6672c65e42f6a8a0df16b4a76c97": {
          "model_module": "@jupyter-widgets/controls",
          "model_name": "FloatProgressModel",
          "model_module_version": "1.5.0",
          "state": {
            "_dom_classes": [],
            "_model_module": "@jupyter-widgets/controls",
            "_model_module_version": "1.5.0",
            "_model_name": "FloatProgressModel",
            "_view_count": null,
            "_view_module": "@jupyter-widgets/controls",
            "_view_module_version": "1.5.0",
            "_view_name": "ProgressView",
            "bar_style": "danger",
            "description": "",
            "description_tooltip": null,
            "layout": "IPY_MODEL_19fd607228da48ecadc19a36a020d7d2",
            "max": 3760,
            "min": 0,
            "orientation": "horizontal",
            "style": "IPY_MODEL_126fc7a7c79343129b40034ab3b6e13f",
            "value": 1000
          }
        },
        "248f1752357a4ff2bc8e17933da59fa0": {
          "model_module": "@jupyter-widgets/controls",
          "model_name": "HTMLModel",
          "model_module_version": "1.5.0",
          "state": {
            "_dom_classes": [],
            "_model_module": "@jupyter-widgets/controls",
            "_model_module_version": "1.5.0",
            "_model_name": "HTMLModel",
            "_view_count": null,
            "_view_module": "@jupyter-widgets/controls",
            "_view_module_version": "1.5.0",
            "_view_name": "HTMLView",
            "description": "",
            "description_tooltip": null,
            "layout": "IPY_MODEL_b8077516584e4b42822778e2bc4fb4ed",
            "placeholder": "​",
            "style": "IPY_MODEL_bc26c98f33754dd8843ddd6a06148f7e",
            "value": " 1000/3760 [07:16&lt;22:37,  2.03it/s]"
          }
        },
        "af0c5ce48d0d47d9b8faf5e2c47598fa": {
          "model_module": "@jupyter-widgets/base",
          "model_name": "LayoutModel",
          "model_module_version": "1.2.0",
          "state": {
            "_model_module": "@jupyter-widgets/base",
            "_model_module_version": "1.2.0",
            "_model_name": "LayoutModel",
            "_view_count": null,
            "_view_module": "@jupyter-widgets/base",
            "_view_module_version": "1.2.0",
            "_view_name": "LayoutView",
            "align_content": null,
            "align_items": null,
            "align_self": null,
            "border": null,
            "bottom": null,
            "display": null,
            "flex": null,
            "flex_flow": null,
            "grid_area": null,
            "grid_auto_columns": null,
            "grid_auto_flow": null,
            "grid_auto_rows": null,
            "grid_column": null,
            "grid_gap": null,
            "grid_row": null,
            "grid_template_areas": null,
            "grid_template_columns": null,
            "grid_template_rows": null,
            "height": null,
            "justify_content": null,
            "justify_items": null,
            "left": null,
            "margin": null,
            "max_height": null,
            "max_width": null,
            "min_height": null,
            "min_width": null,
            "object_fit": null,
            "object_position": null,
            "order": null,
            "overflow": null,
            "overflow_x": null,
            "overflow_y": null,
            "padding": null,
            "right": null,
            "top": null,
            "visibility": null,
            "width": null
          }
        },
        "66cd8b6ba2a9457db0df43429b6c0b7b": {
          "model_module": "@jupyter-widgets/base",
          "model_name": "LayoutModel",
          "model_module_version": "1.2.0",
          "state": {
            "_model_module": "@jupyter-widgets/base",
            "_model_module_version": "1.2.0",
            "_model_name": "LayoutModel",
            "_view_count": null,
            "_view_module": "@jupyter-widgets/base",
            "_view_module_version": "1.2.0",
            "_view_name": "LayoutView",
            "align_content": null,
            "align_items": null,
            "align_self": null,
            "border": null,
            "bottom": null,
            "display": null,
            "flex": null,
            "flex_flow": null,
            "grid_area": null,
            "grid_auto_columns": null,
            "grid_auto_flow": null,
            "grid_auto_rows": null,
            "grid_column": null,
            "grid_gap": null,
            "grid_row": null,
            "grid_template_areas": null,
            "grid_template_columns": null,
            "grid_template_rows": null,
            "height": null,
            "justify_content": null,
            "justify_items": null,
            "left": null,
            "margin": null,
            "max_height": null,
            "max_width": null,
            "min_height": null,
            "min_width": null,
            "object_fit": null,
            "object_position": null,
            "order": null,
            "overflow": null,
            "overflow_x": null,
            "overflow_y": null,
            "padding": null,
            "right": null,
            "top": null,
            "visibility": null,
            "width": null
          }
        },
        "4cc5c066034d4b2bbbeba6452c2b841a": {
          "model_module": "@jupyter-widgets/controls",
          "model_name": "DescriptionStyleModel",
          "model_module_version": "1.5.0",
          "state": {
            "_model_module": "@jupyter-widgets/controls",
            "_model_module_version": "1.5.0",
            "_model_name": "DescriptionStyleModel",
            "_view_count": null,
            "_view_module": "@jupyter-widgets/base",
            "_view_module_version": "1.2.0",
            "_view_name": "StyleView",
            "description_width": ""
          }
        },
        "19fd607228da48ecadc19a36a020d7d2": {
          "model_module": "@jupyter-widgets/base",
          "model_name": "LayoutModel",
          "model_module_version": "1.2.0",
          "state": {
            "_model_module": "@jupyter-widgets/base",
            "_model_module_version": "1.2.0",
            "_model_name": "LayoutModel",
            "_view_count": null,
            "_view_module": "@jupyter-widgets/base",
            "_view_module_version": "1.2.0",
            "_view_name": "LayoutView",
            "align_content": null,
            "align_items": null,
            "align_self": null,
            "border": null,
            "bottom": null,
            "display": null,
            "flex": null,
            "flex_flow": null,
            "grid_area": null,
            "grid_auto_columns": null,
            "grid_auto_flow": null,
            "grid_auto_rows": null,
            "grid_column": null,
            "grid_gap": null,
            "grid_row": null,
            "grid_template_areas": null,
            "grid_template_columns": null,
            "grid_template_rows": null,
            "height": null,
            "justify_content": null,
            "justify_items": null,
            "left": null,
            "margin": null,
            "max_height": null,
            "max_width": null,
            "min_height": null,
            "min_width": null,
            "object_fit": null,
            "object_position": null,
            "order": null,
            "overflow": null,
            "overflow_x": null,
            "overflow_y": null,
            "padding": null,
            "right": null,
            "top": null,
            "visibility": null,
            "width": null
          }
        },
        "126fc7a7c79343129b40034ab3b6e13f": {
          "model_module": "@jupyter-widgets/controls",
          "model_name": "ProgressStyleModel",
          "model_module_version": "1.5.0",
          "state": {
            "_model_module": "@jupyter-widgets/controls",
            "_model_module_version": "1.5.0",
            "_model_name": "ProgressStyleModel",
            "_view_count": null,
            "_view_module": "@jupyter-widgets/base",
            "_view_module_version": "1.2.0",
            "_view_name": "StyleView",
            "bar_color": null,
            "description_width": ""
          }
        },
        "b8077516584e4b42822778e2bc4fb4ed": {
          "model_module": "@jupyter-widgets/base",
          "model_name": "LayoutModel",
          "model_module_version": "1.2.0",
          "state": {
            "_model_module": "@jupyter-widgets/base",
            "_model_module_version": "1.2.0",
            "_model_name": "LayoutModel",
            "_view_count": null,
            "_view_module": "@jupyter-widgets/base",
            "_view_module_version": "1.2.0",
            "_view_name": "LayoutView",
            "align_content": null,
            "align_items": null,
            "align_self": null,
            "border": null,
            "bottom": null,
            "display": null,
            "flex": null,
            "flex_flow": null,
            "grid_area": null,
            "grid_auto_columns": null,
            "grid_auto_flow": null,
            "grid_auto_rows": null,
            "grid_column": null,
            "grid_gap": null,
            "grid_row": null,
            "grid_template_areas": null,
            "grid_template_columns": null,
            "grid_template_rows": null,
            "height": null,
            "justify_content": null,
            "justify_items": null,
            "left": null,
            "margin": null,
            "max_height": null,
            "max_width": null,
            "min_height": null,
            "min_width": null,
            "object_fit": null,
            "object_position": null,
            "order": null,
            "overflow": null,
            "overflow_x": null,
            "overflow_y": null,
            "padding": null,
            "right": null,
            "top": null,
            "visibility": null,
            "width": null
          }
        },
        "bc26c98f33754dd8843ddd6a06148f7e": {
          "model_module": "@jupyter-widgets/controls",
          "model_name": "DescriptionStyleModel",
          "model_module_version": "1.5.0",
          "state": {
            "_model_module": "@jupyter-widgets/controls",
            "_model_module_version": "1.5.0",
            "_model_name": "DescriptionStyleModel",
            "_view_count": null,
            "_view_module": "@jupyter-widgets/base",
            "_view_module_version": "1.2.0",
            "_view_name": "StyleView",
            "description_width": ""
          }
        },
        "1c7d34b8a34f45bb88db1dacc76c2dae": {
          "model_module": "@jupyter-widgets/controls",
          "model_name": "HBoxModel",
          "model_module_version": "1.5.0",
          "state": {
            "_dom_classes": [],
            "_model_module": "@jupyter-widgets/controls",
            "_model_module_version": "1.5.0",
            "_model_name": "HBoxModel",
            "_view_count": null,
            "_view_module": "@jupyter-widgets/controls",
            "_view_module_version": "1.5.0",
            "_view_name": "HBoxView",
            "box_style": "",
            "children": [
              "IPY_MODEL_f4efba5b0b3b46fcaeb1678f8eae0bf1",
              "IPY_MODEL_fbe840a3cdc247c18d6d0c330a4acb1a",
              "IPY_MODEL_85fba468d0034e37a9c78e48eb129873"
            ],
            "layout": "IPY_MODEL_21662ba67343424f9532b8961f80f3d3"
          }
        },
        "f4efba5b0b3b46fcaeb1678f8eae0bf1": {
          "model_module": "@jupyter-widgets/controls",
          "model_name": "HTMLModel",
          "model_module_version": "1.5.0",
          "state": {
            "_dom_classes": [],
            "_model_module": "@jupyter-widgets/controls",
            "_model_module_version": "1.5.0",
            "_model_name": "HTMLModel",
            "_view_count": null,
            "_view_module": "@jupyter-widgets/controls",
            "_view_module_version": "1.5.0",
            "_view_name": "HTMLView",
            "description": "",
            "description_tooltip": null,
            "layout": "IPY_MODEL_92df25ba2d16461990507d3692c64b0f",
            "placeholder": "​",
            "style": "IPY_MODEL_c1296f9ed5c7475ea8409e8b289f489a",
            "value": "100%"
          }
        },
        "fbe840a3cdc247c18d6d0c330a4acb1a": {
          "model_module": "@jupyter-widgets/controls",
          "model_name": "FloatProgressModel",
          "model_module_version": "1.5.0",
          "state": {
            "_dom_classes": [],
            "_model_module": "@jupyter-widgets/controls",
            "_model_module_version": "1.5.0",
            "_model_name": "FloatProgressModel",
            "_view_count": null,
            "_view_module": "@jupyter-widgets/controls",
            "_view_module_version": "1.5.0",
            "_view_name": "ProgressView",
            "bar_style": "success",
            "description": "",
            "description_tooltip": null,
            "layout": "IPY_MODEL_cd7699f219d849b5908a1818271c22c3",
            "max": 6,
            "min": 0,
            "orientation": "horizontal",
            "style": "IPY_MODEL_f21b4c53f435407d88285d4645aa19d3",
            "value": 6
          }
        },
        "85fba468d0034e37a9c78e48eb129873": {
          "model_module": "@jupyter-widgets/controls",
          "model_name": "HTMLModel",
          "model_module_version": "1.5.0",
          "state": {
            "_dom_classes": [],
            "_model_module": "@jupyter-widgets/controls",
            "_model_module_version": "1.5.0",
            "_model_name": "HTMLModel",
            "_view_count": null,
            "_view_module": "@jupyter-widgets/controls",
            "_view_module_version": "1.5.0",
            "_view_name": "HTMLView",
            "description": "",
            "description_tooltip": null,
            "layout": "IPY_MODEL_492e3a1455d7450cbc3ca0577339691e",
            "placeholder": "​",
            "style": "IPY_MODEL_8e20ad9351444554a482af9f42627761",
            "value": " 6/6 [00:00&lt;00:00, 112.31it/s]"
          }
        },
        "21662ba67343424f9532b8961f80f3d3": {
          "model_module": "@jupyter-widgets/base",
          "model_name": "LayoutModel",
          "model_module_version": "1.2.0",
          "state": {
            "_model_module": "@jupyter-widgets/base",
            "_model_module_version": "1.2.0",
            "_model_name": "LayoutModel",
            "_view_count": null,
            "_view_module": "@jupyter-widgets/base",
            "_view_module_version": "1.2.0",
            "_view_name": "LayoutView",
            "align_content": null,
            "align_items": null,
            "align_self": null,
            "border": null,
            "bottom": null,
            "display": null,
            "flex": null,
            "flex_flow": null,
            "grid_area": null,
            "grid_auto_columns": null,
            "grid_auto_flow": null,
            "grid_auto_rows": null,
            "grid_column": null,
            "grid_gap": null,
            "grid_row": null,
            "grid_template_areas": null,
            "grid_template_columns": null,
            "grid_template_rows": null,
            "height": null,
            "justify_content": null,
            "justify_items": null,
            "left": null,
            "margin": null,
            "max_height": null,
            "max_width": null,
            "min_height": null,
            "min_width": null,
            "object_fit": null,
            "object_position": null,
            "order": null,
            "overflow": null,
            "overflow_x": null,
            "overflow_y": null,
            "padding": null,
            "right": null,
            "top": null,
            "visibility": null,
            "width": null
          }
        },
        "92df25ba2d16461990507d3692c64b0f": {
          "model_module": "@jupyter-widgets/base",
          "model_name": "LayoutModel",
          "model_module_version": "1.2.0",
          "state": {
            "_model_module": "@jupyter-widgets/base",
            "_model_module_version": "1.2.0",
            "_model_name": "LayoutModel",
            "_view_count": null,
            "_view_module": "@jupyter-widgets/base",
            "_view_module_version": "1.2.0",
            "_view_name": "LayoutView",
            "align_content": null,
            "align_items": null,
            "align_self": null,
            "border": null,
            "bottom": null,
            "display": null,
            "flex": null,
            "flex_flow": null,
            "grid_area": null,
            "grid_auto_columns": null,
            "grid_auto_flow": null,
            "grid_auto_rows": null,
            "grid_column": null,
            "grid_gap": null,
            "grid_row": null,
            "grid_template_areas": null,
            "grid_template_columns": null,
            "grid_template_rows": null,
            "height": null,
            "justify_content": null,
            "justify_items": null,
            "left": null,
            "margin": null,
            "max_height": null,
            "max_width": null,
            "min_height": null,
            "min_width": null,
            "object_fit": null,
            "object_position": null,
            "order": null,
            "overflow": null,
            "overflow_x": null,
            "overflow_y": null,
            "padding": null,
            "right": null,
            "top": null,
            "visibility": null,
            "width": null
          }
        },
        "c1296f9ed5c7475ea8409e8b289f489a": {
          "model_module": "@jupyter-widgets/controls",
          "model_name": "DescriptionStyleModel",
          "model_module_version": "1.5.0",
          "state": {
            "_model_module": "@jupyter-widgets/controls",
            "_model_module_version": "1.5.0",
            "_model_name": "DescriptionStyleModel",
            "_view_count": null,
            "_view_module": "@jupyter-widgets/base",
            "_view_module_version": "1.2.0",
            "_view_name": "StyleView",
            "description_width": ""
          }
        },
        "cd7699f219d849b5908a1818271c22c3": {
          "model_module": "@jupyter-widgets/base",
          "model_name": "LayoutModel",
          "model_module_version": "1.2.0",
          "state": {
            "_model_module": "@jupyter-widgets/base",
            "_model_module_version": "1.2.0",
            "_model_name": "LayoutModel",
            "_view_count": null,
            "_view_module": "@jupyter-widgets/base",
            "_view_module_version": "1.2.0",
            "_view_name": "LayoutView",
            "align_content": null,
            "align_items": null,
            "align_self": null,
            "border": null,
            "bottom": null,
            "display": null,
            "flex": null,
            "flex_flow": null,
            "grid_area": null,
            "grid_auto_columns": null,
            "grid_auto_flow": null,
            "grid_auto_rows": null,
            "grid_column": null,
            "grid_gap": null,
            "grid_row": null,
            "grid_template_areas": null,
            "grid_template_columns": null,
            "grid_template_rows": null,
            "height": null,
            "justify_content": null,
            "justify_items": null,
            "left": null,
            "margin": null,
            "max_height": null,
            "max_width": null,
            "min_height": null,
            "min_width": null,
            "object_fit": null,
            "object_position": null,
            "order": null,
            "overflow": null,
            "overflow_x": null,
            "overflow_y": null,
            "padding": null,
            "right": null,
            "top": null,
            "visibility": null,
            "width": null
          }
        },
        "f21b4c53f435407d88285d4645aa19d3": {
          "model_module": "@jupyter-widgets/controls",
          "model_name": "ProgressStyleModel",
          "model_module_version": "1.5.0",
          "state": {
            "_model_module": "@jupyter-widgets/controls",
            "_model_module_version": "1.5.0",
            "_model_name": "ProgressStyleModel",
            "_view_count": null,
            "_view_module": "@jupyter-widgets/base",
            "_view_module_version": "1.2.0",
            "_view_name": "StyleView",
            "bar_color": null,
            "description_width": ""
          }
        },
        "492e3a1455d7450cbc3ca0577339691e": {
          "model_module": "@jupyter-widgets/base",
          "model_name": "LayoutModel",
          "model_module_version": "1.2.0",
          "state": {
            "_model_module": "@jupyter-widgets/base",
            "_model_module_version": "1.2.0",
            "_model_name": "LayoutModel",
            "_view_count": null,
            "_view_module": "@jupyter-widgets/base",
            "_view_module_version": "1.2.0",
            "_view_name": "LayoutView",
            "align_content": null,
            "align_items": null,
            "align_self": null,
            "border": null,
            "bottom": null,
            "display": null,
            "flex": null,
            "flex_flow": null,
            "grid_area": null,
            "grid_auto_columns": null,
            "grid_auto_flow": null,
            "grid_auto_rows": null,
            "grid_column": null,
            "grid_gap": null,
            "grid_row": null,
            "grid_template_areas": null,
            "grid_template_columns": null,
            "grid_template_rows": null,
            "height": null,
            "justify_content": null,
            "justify_items": null,
            "left": null,
            "margin": null,
            "max_height": null,
            "max_width": null,
            "min_height": null,
            "min_width": null,
            "object_fit": null,
            "object_position": null,
            "order": null,
            "overflow": null,
            "overflow_x": null,
            "overflow_y": null,
            "padding": null,
            "right": null,
            "top": null,
            "visibility": null,
            "width": null
          }
        },
        "8e20ad9351444554a482af9f42627761": {
          "model_module": "@jupyter-widgets/controls",
          "model_name": "DescriptionStyleModel",
          "model_module_version": "1.5.0",
          "state": {
            "_model_module": "@jupyter-widgets/controls",
            "_model_module_version": "1.5.0",
            "_model_name": "DescriptionStyleModel",
            "_view_count": null,
            "_view_module": "@jupyter-widgets/base",
            "_view_module_version": "1.2.0",
            "_view_name": "StyleView",
            "description_width": ""
          }
        },
        "e9143a8d8ee842998945dc003bac8542": {
          "model_module": "@jupyter-widgets/controls",
          "model_name": "HBoxModel",
          "model_module_version": "1.5.0",
          "state": {
            "_dom_classes": [],
            "_model_module": "@jupyter-widgets/controls",
            "_model_module_version": "1.5.0",
            "_model_name": "HBoxModel",
            "_view_count": null,
            "_view_module": "@jupyter-widgets/controls",
            "_view_module_version": "1.5.0",
            "_view_name": "HBoxView",
            "box_style": "",
            "children": [
              "IPY_MODEL_a0e0af0519334901a05a07a11daace1c",
              "IPY_MODEL_746c91afc987411591e030dd60723d4c",
              "IPY_MODEL_f3751ebad1524b4686033e7cbf6f2b15"
            ],
            "layout": "IPY_MODEL_7749b5577e014fd78b2b0e97321a5e48"
          }
        },
        "a0e0af0519334901a05a07a11daace1c": {
          "model_module": "@jupyter-widgets/controls",
          "model_name": "HTMLModel",
          "model_module_version": "1.5.0",
          "state": {
            "_dom_classes": [],
            "_model_module": "@jupyter-widgets/controls",
            "_model_module_version": "1.5.0",
            "_model_name": "HTMLModel",
            "_view_count": null,
            "_view_module": "@jupyter-widgets/controls",
            "_view_module_version": "1.5.0",
            "_view_name": "HTMLView",
            "description": "",
            "description_tooltip": null,
            "layout": "IPY_MODEL_672db3ae8ce54b5ebf27a42e31aad842",
            "placeholder": "​",
            "style": "IPY_MODEL_fc4c0c43a9f34b6da877c94ed81d0001",
            "value": " 27%"
          }
        },
        "746c91afc987411591e030dd60723d4c": {
          "model_module": "@jupyter-widgets/controls",
          "model_name": "FloatProgressModel",
          "model_module_version": "1.5.0",
          "state": {
            "_dom_classes": [],
            "_model_module": "@jupyter-widgets/controls",
            "_model_module_version": "1.5.0",
            "_model_name": "FloatProgressModel",
            "_view_count": null,
            "_view_module": "@jupyter-widgets/controls",
            "_view_module_version": "1.5.0",
            "_view_name": "ProgressView",
            "bar_style": "danger",
            "description": "",
            "description_tooltip": null,
            "layout": "IPY_MODEL_ffe3fe6c14b8452cb2110750bfa727aa",
            "max": 3760,
            "min": 0,
            "orientation": "horizontal",
            "style": "IPY_MODEL_faa3f72316314de39899a60bbbfa87cd",
            "value": 1000
          }
        },
        "f3751ebad1524b4686033e7cbf6f2b15": {
          "model_module": "@jupyter-widgets/controls",
          "model_name": "HTMLModel",
          "model_module_version": "1.5.0",
          "state": {
            "_dom_classes": [],
            "_model_module": "@jupyter-widgets/controls",
            "_model_module_version": "1.5.0",
            "_model_name": "HTMLModel",
            "_view_count": null,
            "_view_module": "@jupyter-widgets/controls",
            "_view_module_version": "1.5.0",
            "_view_name": "HTMLView",
            "description": "",
            "description_tooltip": null,
            "layout": "IPY_MODEL_24947d0f0680442db02fc5cb781ad893",
            "placeholder": "​",
            "style": "IPY_MODEL_99e095e0c1c14715b461e1bb0e590a66",
            "value": " 1000/3760 [09:53&lt;29:34,  1.56it/s]"
          }
        },
        "7749b5577e014fd78b2b0e97321a5e48": {
          "model_module": "@jupyter-widgets/base",
          "model_name": "LayoutModel",
          "model_module_version": "1.2.0",
          "state": {
            "_model_module": "@jupyter-widgets/base",
            "_model_module_version": "1.2.0",
            "_model_name": "LayoutModel",
            "_view_count": null,
            "_view_module": "@jupyter-widgets/base",
            "_view_module_version": "1.2.0",
            "_view_name": "LayoutView",
            "align_content": null,
            "align_items": null,
            "align_self": null,
            "border": null,
            "bottom": null,
            "display": null,
            "flex": null,
            "flex_flow": null,
            "grid_area": null,
            "grid_auto_columns": null,
            "grid_auto_flow": null,
            "grid_auto_rows": null,
            "grid_column": null,
            "grid_gap": null,
            "grid_row": null,
            "grid_template_areas": null,
            "grid_template_columns": null,
            "grid_template_rows": null,
            "height": null,
            "justify_content": null,
            "justify_items": null,
            "left": null,
            "margin": null,
            "max_height": null,
            "max_width": null,
            "min_height": null,
            "min_width": null,
            "object_fit": null,
            "object_position": null,
            "order": null,
            "overflow": null,
            "overflow_x": null,
            "overflow_y": null,
            "padding": null,
            "right": null,
            "top": null,
            "visibility": null,
            "width": null
          }
        },
        "672db3ae8ce54b5ebf27a42e31aad842": {
          "model_module": "@jupyter-widgets/base",
          "model_name": "LayoutModel",
          "model_module_version": "1.2.0",
          "state": {
            "_model_module": "@jupyter-widgets/base",
            "_model_module_version": "1.2.0",
            "_model_name": "LayoutModel",
            "_view_count": null,
            "_view_module": "@jupyter-widgets/base",
            "_view_module_version": "1.2.0",
            "_view_name": "LayoutView",
            "align_content": null,
            "align_items": null,
            "align_self": null,
            "border": null,
            "bottom": null,
            "display": null,
            "flex": null,
            "flex_flow": null,
            "grid_area": null,
            "grid_auto_columns": null,
            "grid_auto_flow": null,
            "grid_auto_rows": null,
            "grid_column": null,
            "grid_gap": null,
            "grid_row": null,
            "grid_template_areas": null,
            "grid_template_columns": null,
            "grid_template_rows": null,
            "height": null,
            "justify_content": null,
            "justify_items": null,
            "left": null,
            "margin": null,
            "max_height": null,
            "max_width": null,
            "min_height": null,
            "min_width": null,
            "object_fit": null,
            "object_position": null,
            "order": null,
            "overflow": null,
            "overflow_x": null,
            "overflow_y": null,
            "padding": null,
            "right": null,
            "top": null,
            "visibility": null,
            "width": null
          }
        },
        "fc4c0c43a9f34b6da877c94ed81d0001": {
          "model_module": "@jupyter-widgets/controls",
          "model_name": "DescriptionStyleModel",
          "model_module_version": "1.5.0",
          "state": {
            "_model_module": "@jupyter-widgets/controls",
            "_model_module_version": "1.5.0",
            "_model_name": "DescriptionStyleModel",
            "_view_count": null,
            "_view_module": "@jupyter-widgets/base",
            "_view_module_version": "1.2.0",
            "_view_name": "StyleView",
            "description_width": ""
          }
        },
        "ffe3fe6c14b8452cb2110750bfa727aa": {
          "model_module": "@jupyter-widgets/base",
          "model_name": "LayoutModel",
          "model_module_version": "1.2.0",
          "state": {
            "_model_module": "@jupyter-widgets/base",
            "_model_module_version": "1.2.0",
            "_model_name": "LayoutModel",
            "_view_count": null,
            "_view_module": "@jupyter-widgets/base",
            "_view_module_version": "1.2.0",
            "_view_name": "LayoutView",
            "align_content": null,
            "align_items": null,
            "align_self": null,
            "border": null,
            "bottom": null,
            "display": null,
            "flex": null,
            "flex_flow": null,
            "grid_area": null,
            "grid_auto_columns": null,
            "grid_auto_flow": null,
            "grid_auto_rows": null,
            "grid_column": null,
            "grid_gap": null,
            "grid_row": null,
            "grid_template_areas": null,
            "grid_template_columns": null,
            "grid_template_rows": null,
            "height": null,
            "justify_content": null,
            "justify_items": null,
            "left": null,
            "margin": null,
            "max_height": null,
            "max_width": null,
            "min_height": null,
            "min_width": null,
            "object_fit": null,
            "object_position": null,
            "order": null,
            "overflow": null,
            "overflow_x": null,
            "overflow_y": null,
            "padding": null,
            "right": null,
            "top": null,
            "visibility": null,
            "width": null
          }
        },
        "faa3f72316314de39899a60bbbfa87cd": {
          "model_module": "@jupyter-widgets/controls",
          "model_name": "ProgressStyleModel",
          "model_module_version": "1.5.0",
          "state": {
            "_model_module": "@jupyter-widgets/controls",
            "_model_module_version": "1.5.0",
            "_model_name": "ProgressStyleModel",
            "_view_count": null,
            "_view_module": "@jupyter-widgets/base",
            "_view_module_version": "1.2.0",
            "_view_name": "StyleView",
            "bar_color": null,
            "description_width": ""
          }
        },
        "24947d0f0680442db02fc5cb781ad893": {
          "model_module": "@jupyter-widgets/base",
          "model_name": "LayoutModel",
          "model_module_version": "1.2.0",
          "state": {
            "_model_module": "@jupyter-widgets/base",
            "_model_module_version": "1.2.0",
            "_model_name": "LayoutModel",
            "_view_count": null,
            "_view_module": "@jupyter-widgets/base",
            "_view_module_version": "1.2.0",
            "_view_name": "LayoutView",
            "align_content": null,
            "align_items": null,
            "align_self": null,
            "border": null,
            "bottom": null,
            "display": null,
            "flex": null,
            "flex_flow": null,
            "grid_area": null,
            "grid_auto_columns": null,
            "grid_auto_flow": null,
            "grid_auto_rows": null,
            "grid_column": null,
            "grid_gap": null,
            "grid_row": null,
            "grid_template_areas": null,
            "grid_template_columns": null,
            "grid_template_rows": null,
            "height": null,
            "justify_content": null,
            "justify_items": null,
            "left": null,
            "margin": null,
            "max_height": null,
            "max_width": null,
            "min_height": null,
            "min_width": null,
            "object_fit": null,
            "object_position": null,
            "order": null,
            "overflow": null,
            "overflow_x": null,
            "overflow_y": null,
            "padding": null,
            "right": null,
            "top": null,
            "visibility": null,
            "width": null
          }
        },
        "99e095e0c1c14715b461e1bb0e590a66": {
          "model_module": "@jupyter-widgets/controls",
          "model_name": "DescriptionStyleModel",
          "model_module_version": "1.5.0",
          "state": {
            "_model_module": "@jupyter-widgets/controls",
            "_model_module_version": "1.5.0",
            "_model_name": "DescriptionStyleModel",
            "_view_count": null,
            "_view_module": "@jupyter-widgets/base",
            "_view_module_version": "1.2.0",
            "_view_name": "StyleView",
            "description_width": ""
          }
        },
        "63100c73499548e38ff7bd46e01ce86d": {
          "model_module": "@jupyter-widgets/controls",
          "model_name": "HBoxModel",
          "model_module_version": "1.5.0",
          "state": {
            "_dom_classes": [],
            "_model_module": "@jupyter-widgets/controls",
            "_model_module_version": "1.5.0",
            "_model_name": "HBoxModel",
            "_view_count": null,
            "_view_module": "@jupyter-widgets/controls",
            "_view_module_version": "1.5.0",
            "_view_name": "HBoxView",
            "box_style": "",
            "children": [
              "IPY_MODEL_d22285f986b541d9b54421837a9bd7a0",
              "IPY_MODEL_e54e226b5d2d410081dfc564dd3ee1c4",
              "IPY_MODEL_10db6349ea7a437782fb5a2c5f3b2df7"
            ],
            "layout": "IPY_MODEL_203420bf18e041059c4657895bd9c9b2"
          }
        },
        "d22285f986b541d9b54421837a9bd7a0": {
          "model_module": "@jupyter-widgets/controls",
          "model_name": "HTMLModel",
          "model_module_version": "1.5.0",
          "state": {
            "_dom_classes": [],
            "_model_module": "@jupyter-widgets/controls",
            "_model_module_version": "1.5.0",
            "_model_name": "HTMLModel",
            "_view_count": null,
            "_view_module": "@jupyter-widgets/controls",
            "_view_module_version": "1.5.0",
            "_view_name": "HTMLView",
            "description": "",
            "description_tooltip": null,
            "layout": "IPY_MODEL_b3950d79e7a34aa8a3f4b696fa43d589",
            "placeholder": "​",
            "style": "IPY_MODEL_878bf4818b3a4192b9c04b9cb3ffaa7f",
            "value": "100%"
          }
        },
        "e54e226b5d2d410081dfc564dd3ee1c4": {
          "model_module": "@jupyter-widgets/controls",
          "model_name": "FloatProgressModel",
          "model_module_version": "1.5.0",
          "state": {
            "_dom_classes": [],
            "_model_module": "@jupyter-widgets/controls",
            "_model_module_version": "1.5.0",
            "_model_name": "FloatProgressModel",
            "_view_count": null,
            "_view_module": "@jupyter-widgets/controls",
            "_view_module_version": "1.5.0",
            "_view_name": "ProgressView",
            "bar_style": "success",
            "description": "",
            "description_tooltip": null,
            "layout": "IPY_MODEL_a9831276fca947599804decf01751363",
            "max": 6,
            "min": 0,
            "orientation": "horizontal",
            "style": "IPY_MODEL_9d6192b7d7ea41748883d6508e7d9ae4",
            "value": 6
          }
        },
        "10db6349ea7a437782fb5a2c5f3b2df7": {
          "model_module": "@jupyter-widgets/controls",
          "model_name": "HTMLModel",
          "model_module_version": "1.5.0",
          "state": {
            "_dom_classes": [],
            "_model_module": "@jupyter-widgets/controls",
            "_model_module_version": "1.5.0",
            "_model_name": "HTMLModel",
            "_view_count": null,
            "_view_module": "@jupyter-widgets/controls",
            "_view_module_version": "1.5.0",
            "_view_name": "HTMLView",
            "description": "",
            "description_tooltip": null,
            "layout": "IPY_MODEL_3ec3952b12bd499a8a1f7fed8a11082b",
            "placeholder": "​",
            "style": "IPY_MODEL_67f1fc358e5442a290092b25af39657b",
            "value": " 6/6 [00:00&lt;00:00, 97.14it/s]"
          }
        },
        "203420bf18e041059c4657895bd9c9b2": {
          "model_module": "@jupyter-widgets/base",
          "model_name": "LayoutModel",
          "model_module_version": "1.2.0",
          "state": {
            "_model_module": "@jupyter-widgets/base",
            "_model_module_version": "1.2.0",
            "_model_name": "LayoutModel",
            "_view_count": null,
            "_view_module": "@jupyter-widgets/base",
            "_view_module_version": "1.2.0",
            "_view_name": "LayoutView",
            "align_content": null,
            "align_items": null,
            "align_self": null,
            "border": null,
            "bottom": null,
            "display": null,
            "flex": null,
            "flex_flow": null,
            "grid_area": null,
            "grid_auto_columns": null,
            "grid_auto_flow": null,
            "grid_auto_rows": null,
            "grid_column": null,
            "grid_gap": null,
            "grid_row": null,
            "grid_template_areas": null,
            "grid_template_columns": null,
            "grid_template_rows": null,
            "height": null,
            "justify_content": null,
            "justify_items": null,
            "left": null,
            "margin": null,
            "max_height": null,
            "max_width": null,
            "min_height": null,
            "min_width": null,
            "object_fit": null,
            "object_position": null,
            "order": null,
            "overflow": null,
            "overflow_x": null,
            "overflow_y": null,
            "padding": null,
            "right": null,
            "top": null,
            "visibility": null,
            "width": null
          }
        },
        "b3950d79e7a34aa8a3f4b696fa43d589": {
          "model_module": "@jupyter-widgets/base",
          "model_name": "LayoutModel",
          "model_module_version": "1.2.0",
          "state": {
            "_model_module": "@jupyter-widgets/base",
            "_model_module_version": "1.2.0",
            "_model_name": "LayoutModel",
            "_view_count": null,
            "_view_module": "@jupyter-widgets/base",
            "_view_module_version": "1.2.0",
            "_view_name": "LayoutView",
            "align_content": null,
            "align_items": null,
            "align_self": null,
            "border": null,
            "bottom": null,
            "display": null,
            "flex": null,
            "flex_flow": null,
            "grid_area": null,
            "grid_auto_columns": null,
            "grid_auto_flow": null,
            "grid_auto_rows": null,
            "grid_column": null,
            "grid_gap": null,
            "grid_row": null,
            "grid_template_areas": null,
            "grid_template_columns": null,
            "grid_template_rows": null,
            "height": null,
            "justify_content": null,
            "justify_items": null,
            "left": null,
            "margin": null,
            "max_height": null,
            "max_width": null,
            "min_height": null,
            "min_width": null,
            "object_fit": null,
            "object_position": null,
            "order": null,
            "overflow": null,
            "overflow_x": null,
            "overflow_y": null,
            "padding": null,
            "right": null,
            "top": null,
            "visibility": null,
            "width": null
          }
        },
        "878bf4818b3a4192b9c04b9cb3ffaa7f": {
          "model_module": "@jupyter-widgets/controls",
          "model_name": "DescriptionStyleModel",
          "model_module_version": "1.5.0",
          "state": {
            "_model_module": "@jupyter-widgets/controls",
            "_model_module_version": "1.5.0",
            "_model_name": "DescriptionStyleModel",
            "_view_count": null,
            "_view_module": "@jupyter-widgets/base",
            "_view_module_version": "1.2.0",
            "_view_name": "StyleView",
            "description_width": ""
          }
        },
        "a9831276fca947599804decf01751363": {
          "model_module": "@jupyter-widgets/base",
          "model_name": "LayoutModel",
          "model_module_version": "1.2.0",
          "state": {
            "_model_module": "@jupyter-widgets/base",
            "_model_module_version": "1.2.0",
            "_model_name": "LayoutModel",
            "_view_count": null,
            "_view_module": "@jupyter-widgets/base",
            "_view_module_version": "1.2.0",
            "_view_name": "LayoutView",
            "align_content": null,
            "align_items": null,
            "align_self": null,
            "border": null,
            "bottom": null,
            "display": null,
            "flex": null,
            "flex_flow": null,
            "grid_area": null,
            "grid_auto_columns": null,
            "grid_auto_flow": null,
            "grid_auto_rows": null,
            "grid_column": null,
            "grid_gap": null,
            "grid_row": null,
            "grid_template_areas": null,
            "grid_template_columns": null,
            "grid_template_rows": null,
            "height": null,
            "justify_content": null,
            "justify_items": null,
            "left": null,
            "margin": null,
            "max_height": null,
            "max_width": null,
            "min_height": null,
            "min_width": null,
            "object_fit": null,
            "object_position": null,
            "order": null,
            "overflow": null,
            "overflow_x": null,
            "overflow_y": null,
            "padding": null,
            "right": null,
            "top": null,
            "visibility": null,
            "width": null
          }
        },
        "9d6192b7d7ea41748883d6508e7d9ae4": {
          "model_module": "@jupyter-widgets/controls",
          "model_name": "ProgressStyleModel",
          "model_module_version": "1.5.0",
          "state": {
            "_model_module": "@jupyter-widgets/controls",
            "_model_module_version": "1.5.0",
            "_model_name": "ProgressStyleModel",
            "_view_count": null,
            "_view_module": "@jupyter-widgets/base",
            "_view_module_version": "1.2.0",
            "_view_name": "StyleView",
            "bar_color": null,
            "description_width": ""
          }
        },
        "3ec3952b12bd499a8a1f7fed8a11082b": {
          "model_module": "@jupyter-widgets/base",
          "model_name": "LayoutModel",
          "model_module_version": "1.2.0",
          "state": {
            "_model_module": "@jupyter-widgets/base",
            "_model_module_version": "1.2.0",
            "_model_name": "LayoutModel",
            "_view_count": null,
            "_view_module": "@jupyter-widgets/base",
            "_view_module_version": "1.2.0",
            "_view_name": "LayoutView",
            "align_content": null,
            "align_items": null,
            "align_self": null,
            "border": null,
            "bottom": null,
            "display": null,
            "flex": null,
            "flex_flow": null,
            "grid_area": null,
            "grid_auto_columns": null,
            "grid_auto_flow": null,
            "grid_auto_rows": null,
            "grid_column": null,
            "grid_gap": null,
            "grid_row": null,
            "grid_template_areas": null,
            "grid_template_columns": null,
            "grid_template_rows": null,
            "height": null,
            "justify_content": null,
            "justify_items": null,
            "left": null,
            "margin": null,
            "max_height": null,
            "max_width": null,
            "min_height": null,
            "min_width": null,
            "object_fit": null,
            "object_position": null,
            "order": null,
            "overflow": null,
            "overflow_x": null,
            "overflow_y": null,
            "padding": null,
            "right": null,
            "top": null,
            "visibility": null,
            "width": null
          }
        },
        "67f1fc358e5442a290092b25af39657b": {
          "model_module": "@jupyter-widgets/controls",
          "model_name": "DescriptionStyleModel",
          "model_module_version": "1.5.0",
          "state": {
            "_model_module": "@jupyter-widgets/controls",
            "_model_module_version": "1.5.0",
            "_model_name": "DescriptionStyleModel",
            "_view_count": null,
            "_view_module": "@jupyter-widgets/base",
            "_view_module_version": "1.2.0",
            "_view_name": "StyleView",
            "description_width": ""
          }
        }
      }
    }
  },
  "cells": [
    {
      "cell_type": "markdown",
      "metadata": {
        "id": "P2JdzEXmwRU5"
      },
      "source": [
        "---"
      ]
    },
    {
      "cell_type": "markdown",
      "metadata": {
        "id": "BIWqBuEa6j0b"
      },
      "source": [
        "## Задача поиска схожих по смыслу предложений"
      ]
    },
    {
      "cell_type": "markdown",
      "metadata": {
        "id": "NUkwMPLA6j0g"
      },
      "source": [
        "Мы будем ранжировать вопросы [StackOverflow](https://stackoverflow.com) на основе семантического векторного представления"
      ]
    },
    {
      "cell_type": "markdown",
      "metadata": {
        "id": "dNRXIEfu5a3Q"
      },
      "source": [
        "До этого в курсе не было речи про задачу ранжировния, поэтому введем математическую формулировку"
      ]
    },
    {
      "cell_type": "markdown",
      "metadata": {
        "id": "uS9FwWNd5a3S"
      },
      "source": [
        "## Задача ранжирования(Learning to Rank)"
      ]
    },
    {
      "cell_type": "markdown",
      "metadata": {
        "id": "wdwY9-f75a3T"
      },
      "source": [
        "* $X$ - множество объектов\n",
        "* $X^l = \\{x_1, x_2, ..., x_l\\}$ - обучающая выборка\n",
        "<br>На обучающей выборке задан порядок между некоторыми элементами, то есть нам известно, что некий объект выборки более релевантный для нас, чем другой:\n",
        "* $i \\prec j$ - порядок пары индексов объектов на выборке $X^l$ c индексами $i$ и $j$\n",
        "### Задача:\n",
        "построить ранжирующую функцию $a$ : $X \\rightarrow R$ такую, что\n",
        "$$i \\prec j \\Rightarrow a(x_i) < a(x_j)$$"
      ]
    },
    {
      "cell_type": "markdown",
      "metadata": {
        "id": "WG2IGBsh5a3U"
      },
      "source": [
        "<img src=\"https://d25skit2l41vkl.cloudfront.net/wp-content/uploads/2016/12/Featured-Image.jpg\" width=500, height=450>"
      ]
    },
    {
      "cell_type": "markdown",
      "metadata": {
        "id": "MQk_rolFwT_h"
      },
      "source": [
        "### Embeddings"
      ]
    },
    {
      "cell_type": "markdown",
      "metadata": {
        "id": "xUe1PGXn6j0l"
      },
      "source": [
        "Будем использовать предобученные векторные представления слов на постах Stack Overflow.<br>\n",
        "[A word2vec model trained on Stack Overflow posts](https://github.com/vefstathiou/SO_word2vec)"
      ]
    },
    {
      "cell_type": "code",
      "metadata": {
        "id": "mYkI54Y-rk7a",
        "colab": {
          "base_uri": "https://localhost:8080/"
        },
        "outputId": "6df79517-c3fb-48ec-a714-443ac6485c7b"
      },
      "source": [
        "!wget https://zenodo.org/record/1199620/files/SO_vectors_200.bin?download=1"
      ],
      "execution_count": null,
      "outputs": [
        {
          "output_type": "stream",
          "name": "stdout",
          "text": [
            "--2023-10-06 18:34:37--  https://zenodo.org/record/1199620/files/SO_vectors_200.bin?download=1\n",
            "Resolving zenodo.org (zenodo.org)... 188.185.124.72\n",
            "Connecting to zenodo.org (zenodo.org)|188.185.124.72|:443... connected.\n",
            "HTTP request sent, awaiting response... 200 OK\n",
            "Length: 1453905423 (1.4G) [application/octet-stream]\n",
            "Saving to: ‘SO_vectors_200.bin?download=1.1’\n",
            "\n",
            "SO_vectors_200.bin? 100%[===================>]   1.35G  19.3MB/s    in 13m 19s \n",
            "\n",
            "2023-10-06 18:47:57 (1.74 MB/s) - ‘SO_vectors_200.bin?download=1.1’ saved [1453905423/1453905423]\n",
            "\n"
          ]
        }
      ]
    },
    {
      "cell_type": "code",
      "metadata": {
        "id": "O8YJTOYv6j0s"
      },
      "source": [
        "from gensim.models.keyedvectors import KeyedVectors\n",
        "wv_embeddings = KeyedVectors.load_word2vec_format(\"SO_vectors_200.bin?download=1.1\", binary=True)"
      ],
      "execution_count": null,
      "outputs": []
    },
    {
      "cell_type": "markdown",
      "metadata": {
        "id": "aIcT_g-C6j1E"
      },
      "source": [
        "#### Как пользоваться этими векторами?"
      ]
    },
    {
      "cell_type": "markdown",
      "metadata": {
        "id": "DWO5SPDY6j1G"
      },
      "source": [
        "Посмотрим на примере одного слова, что из себя представляет embedding"
      ]
    },
    {
      "cell_type": "code",
      "metadata": {
        "scrolled": true,
        "id": "KeSBlQfk6j1J",
        "colab": {
          "base_uri": "https://localhost:8080/"
        },
        "outputId": "7e9618ab-dea3-4791-c470-45091399c1c9"
      },
      "source": [
        "word = 'dog'\n",
        "if word in wv_embeddings:\n",
        "    print(wv_embeddings[word].dtype, wv_embeddings[word].shape)"
      ],
      "execution_count": null,
      "outputs": [
        {
          "output_type": "stream",
          "name": "stdout",
          "text": [
            "float32 (200,)\n"
          ]
        }
      ]
    },
    {
      "cell_type": "code",
      "metadata": {
        "id": "T4Eq-D1qxpMJ",
        "colab": {
          "base_uri": "https://localhost:8080/"
        },
        "outputId": "1811dd75-107a-4fbd-d30f-9d22556529b4"
      },
      "source": [
        "print(f\"Num of words: {len(wv_embeddings.index_to_key)}\")"
      ],
      "execution_count": null,
      "outputs": [
        {
          "output_type": "stream",
          "name": "stdout",
          "text": [
            "Num of words: 1787145\n"
          ]
        }
      ]
    },
    {
      "cell_type": "markdown",
      "metadata": {
        "id": "ZT6NTCys6j1Q"
      },
      "source": [
        "Найдем наиболее близкие слова к слову `dog`:"
      ]
    },
    {
      "cell_type": "markdown",
      "metadata": {
        "id": "n08z2PjMwC5o"
      },
      "source": [
        "#### Вопрос 1:\n",
        "* Входит ли слов `cat` топ-5 близких слов к слову `dog`? Какое место?"
      ]
    },
    {
      "cell_type": "code",
      "metadata": {
        "scrolled": true,
        "id": "nYwVz0xG6j1U",
        "colab": {
          "base_uri": "https://localhost:8080/"
        },
        "outputId": "56d6aab4-3aad-4d5d-e206-c53e8955116b"
      },
      "source": [
        "# method most_simmilar\n",
        "def most_simmilar(origin, similie, num): # similie может принимать список значений\n",
        "  similar_words = wv_embeddings.most_similar(origin)\n",
        "  return [(similar_words[i], i+1) for i in range(num) if similar_words[i][0] in similie]\n",
        "\n",
        "most_simmilar('dog', ['cats', 'cat'], 5) # слова cat нет в похожих на dog словах"
      ],
      "execution_count": null,
      "outputs": [
        {
          "output_type": "execute_result",
          "data": {
            "text/plain": [
              "[(('cats', 0.7621253728866577), 4)]"
            ]
          },
          "metadata": {},
          "execution_count": 5
        }
      ]
    },
    {
      "cell_type": "markdown",
      "metadata": {
        "id": "ai48-5vv6j1d"
      },
      "source": [
        "### Векторные представления текста\n",
        "\n",
        "Перейдем от векторных представлений отдельных слов к векторным представлениям вопросов, как к **среднему** векторов всех слов в вопросе. Если для какого-то слова нет предобученного вектора, то его нужно пропустить. Если вопрос не содержит ни одного известного слова, то нужно вернуть нулевой вектор."
      ]
    },
    {
      "cell_type": "code",
      "source": [
        "from sklearn.feature_extraction.text import CountVectorizer\n",
        "import numpy as np\n",
        "import re"
      ],
      "metadata": {
        "id": "VVuPbX4nLLgn"
      },
      "execution_count": null,
      "outputs": []
    },
    {
      "cell_type": "code",
      "metadata": {
        "id": "EhNuxBJd6j1f"
      },
      "source": [
        "class MyTokenizer:\n",
        "    def __init__(self):\n",
        "        pass\n",
        "    def tokenize(self, text):\n",
        "        text = re.findall('\\w+', text)\n",
        "        return [word.lower() for word in text]\n",
        "tokenizer = MyTokenizer()"
      ],
      "execution_count": null,
      "outputs": []
    },
    {
      "cell_type": "code",
      "metadata": {
        "id": "YHcvu6186j1m"
      },
      "source": [
        "def question_to_vec(question, embeddings, tokenizer, dim=200):\n",
        "  words = tokenizer.tokenize(question)\n",
        "  vectorized_question = np.zeros(dim)\n",
        "  for word in words:\n",
        "    if word in embeddings:\n",
        "      vectorized_question += embeddings[word]\n",
        "  return vectorized_question"
      ],
      "execution_count": null,
      "outputs": []
    },
    {
      "cell_type": "markdown",
      "metadata": {
        "id": "u5Q_4j7r6j1u"
      },
      "source": [
        "Теперь у нас есть метод для создания векторного представления любого предложения."
      ]
    },
    {
      "cell_type": "markdown",
      "metadata": {
        "id": "EsJSNkhm6j1y"
      },
      "source": [
        "#### Вопрос 2:\n",
        "* Какая третья(с индексом 2) компонента вектора предложения `I love neural networks` (округлите до 2 знаков после запятой)?"
      ]
    },
    {
      "cell_type": "code",
      "metadata": {
        "scrolled": true,
        "id": "a62r11cT6j10",
        "colab": {
          "base_uri": "https://localhost:8080/"
        },
        "outputId": "eadfdd67-2033-481f-a907-cac8a891ce0b"
      },
      "source": [
        "question = 'I love neural networks'\n",
        "a = question_to_vec(question, wv_embeddings, tokenizer)\n",
        "# np.around(a[2], 2)\n",
        "round(a[2], 2)"
      ],
      "execution_count": null,
      "outputs": [
        {
          "output_type": "execute_result",
          "data": {
            "text/plain": [
              "-3.86"
            ]
          },
          "metadata": {},
          "execution_count": 12
        }
      ]
    },
    {
      "cell_type": "code",
      "source": [
        "cat = question_to_vec(\"Cats are good\", wv_embeddings, tokenizer)\n",
        "dog = [question_to_vec(\"Dogs are not good\", wv_embeddings, tokenizer), question_to_vec(\"I really like dogs, they are the best\", wv_embeddings, tokenizer)]\n",
        "cosine_similarity([cat], dog)"
      ],
      "metadata": {
        "colab": {
          "base_uri": "https://localhost:8080/"
        },
        "id": "R92Y4H4okuKh",
        "outputId": "c21235f8-711a-4bf7-9456-e680b7f7537c"
      },
      "execution_count": null,
      "outputs": [
        {
          "output_type": "execute_result",
          "data": {
            "text/plain": [
              "array([[0.97391713, 0.71441503]])"
            ]
          },
          "metadata": {},
          "execution_count": 13
        }
      ]
    },
    {
      "cell_type": "markdown",
      "metadata": {
        "id": "Y60z4t6W6j16"
      },
      "source": [
        "### Оценка близости текстов\n",
        "\n",
        "Представим, что мы используем идеальные векторные представления слов. Тогда косинусное расстояние между дублирующими предложениями должно быть меньше, чем между случайно взятыми предложениями.\n",
        "\n",
        "Сгенерируем для каждого из $N$ вопросов $R$ случайных отрицательных примеров и примешаем к ним также настоящие дубликаты. Для каждого вопроса будем ранжировать с помощью нашей модели $R + 1$ примеров и смотреть на позицию дубликата. Мы хотим, чтобы дубликат был первым в ранжированном списке.\n",
        "\n",
        "#### Hits@K\n",
        "Первой простой метрикой будет количество корректных попаданий для какого-то $K$:\n",
        "$$ \\text{Hits@K} = \\frac{1}{N}\\sum_{i=1}^N \\, [rank\\_q_i^{'} \\le K],$$\n",
        "* $\\begin{equation*}\n",
        "[x < 0 ] \\equiv\n",
        " \\begin{cases}\n",
        "   1, &x < 0\\\\\n",
        "   0, &x \\geq 0\n",
        " \\end{cases}\n",
        "\\end{equation*}$ - индикаторная функция\n",
        "* $q_i$ - $i$-ый вопрос\n",
        "* $q_i^{'}$ - его дубликат\n",
        "* $rank\\_q_i^{'}$ - позиция дубликата в ранжированном списке ближайших предложений для вопроса $q_i$.\n",
        "\n",
        "#### DCG@K\n",
        "Второй метрикой будет упрощенная DCG метрика, учитывающая порядок элементов в списке путем домножения релевантности элемента на вес равный обратному логарифму номера позиции::\n",
        "$$ \\text{DCG@K} = \\frac{1}{N} \\sum_{i=1}^N\\frac{1}{\\log_2(1+rank\\_q_i^{'})}\\cdot[rank\\_q_i^{'} \\le K],$$\n",
        "С такой метрикой модель штрафуется за большой ранк корректного ответа"
      ]
    },
    {
      "cell_type": "markdown",
      "metadata": {
        "id": "eHCnH-jw6j18"
      },
      "source": [
        "#### Вопрос 3:\n",
        "* Максимум `Hits@47 - DCG@1`?"
      ]
    },
    {
      "cell_type": "code",
      "source": [
        "# 1/N*sum = x\n",
        "#Hits@47 = sum(x)\n",
        "# так как K = 1 для DCG, то DCG@1 может принимать только два значения: log2(1)*1/N и log2(2)*1/N\n",
        "# т.е. значения 0 и 1 (1 если хотя бы один rank_qi равен 1)\n",
        "# значит максимум HITS@47 - DCG@1 может достигаться только в случае, когда\n",
        "# N максимальная для того, чтобы элемент суммы HITS@47 не был равен 0\n",
        "# и DCG@1 был равен 0, причем rank_qi не должен быть меньше 47\n",
        "# для N = 46 с позициями (2, 48) это значение будет равно 46/46 - 0/46 = 1,\n",
        "# для N = 47 с позициями (1, 48) это значение будет равно 47/47 - 1/47 =~ 0.97,\n",
        "# для N = 48 с позициями (1, 49) это значение будет равно 47/48 - 1/48 = 46/48 =~ 0.95,\n",
        "# для N = 48 с позициями (2, 50) это значение будет равно 46/48 =~ 0.95,\n",
        "# для N = 1 с позицией (3) это значение будет равно 1/1 - 0/1 = 1.\n",
        "# итого максимум равен 1 и он достигается при N <=46 и rank_qi = range(2, 48)"
      ],
      "metadata": {
        "id": "PiCtUmAqshpT"
      },
      "execution_count": null,
      "outputs": []
    },
    {
      "cell_type": "markdown",
      "metadata": {
        "id": "_tFemBkP6j1-"
      },
      "source": [
        "<img src='https://hsto.org/files/1c5/edf/dee/1c5edfdeebce4b71a86bdf986d9f88f2.jpg' width=400, height=200>"
      ]
    },
    {
      "cell_type": "markdown",
      "metadata": {
        "id": "0sUSxk866j1_"
      },
      "source": [
        "#### Пример оценок\n",
        "\n",
        "Вычислим описанные выше метрики для игрушечного примера.\n",
        "Пусть\n",
        "* $N = 1$, $R = 3$\n",
        "* <font color='green'>\"Что такое python?\"</font> - вопрос $q_1$\n",
        "* <font color='red'>\"Что такое язык python?\"</font> - его дубликат $q_i^{'}$\n",
        "\n",
        "Пусть модель выдала следующий ранжированный список кандидатов:\n",
        "\n",
        "1. \"Как изучить с++?\"\n",
        "2. <font color='red'>\"Что такое язык python?\"</font>\n",
        "3. \"Хочу учить Java\"\n",
        "4. \"Не понимаю Tensorflow\"\n",
        "\n",
        "$\\Rightarrow rank\\_q_i^{'} = 2$\n",
        "\n",
        "Вычислим метрику *Hits@K* для *K = 1, 4*:\n",
        "\n",
        "- [K = 1] $\\text{Hits@1} =  [rank\\_q_i^{'} \\le 1)] = 0$\n",
        "- [K = 4] $\\text{Hits@4} =  [rank\\_q_i^{'} \\le 4] = 1$\n",
        "\n",
        "Вычислим метрику *DCG@K* для *K = 1, 4*:\n",
        "- [K = 1] $\\text{DCG@1} = \\frac{1}{\\log_2(1+2)}\\cdot[2 \\le 1] = 0$\n",
        "- [K = 4] $\\text{DCG@4} = \\frac{1}{\\log_2(1+2)}\\cdot[2 \\le 4] = \\frac{1}{\\log_2{3}}$"
      ]
    },
    {
      "cell_type": "markdown",
      "metadata": {
        "id": "B4L6HJJC6j2B"
      },
      "source": [
        "#### Вопрос 4:\n",
        "* Вычислите `DCG@10`, если $rank\\_q_i^{'} = 9$(округлите до одного знака после запятой)"
      ]
    },
    {
      "cell_type": "code",
      "source": [
        "round(1/np.log2(1+9)*(9<=10), 1)"
      ],
      "metadata": {
        "colab": {
          "base_uri": "https://localhost:8080/"
        },
        "id": "L4m-09euK35h",
        "outputId": "e5cbf45f-9235-4873-eab6-791caeb7bc9c"
      },
      "execution_count": null,
      "outputs": [
        {
          "output_type": "execute_result",
          "data": {
            "text/plain": [
              "0.3"
            ]
          },
          "metadata": {},
          "execution_count": 14
        }
      ]
    },
    {
      "cell_type": "markdown",
      "metadata": {
        "id": "J5xWOORI6j2F"
      },
      "source": [
        "### HITS\\_COUNT и DCG\\_SCORE"
      ]
    },
    {
      "cell_type": "markdown",
      "metadata": {
        "id": "I1q9WQOx6j2H"
      },
      "source": [
        "Каждая функция имеет два аргумента: $dup\\_ranks$ и $k$. $dup\\_ranks$ является списком, который содержит рейтинги дубликатов(их позиции в ранжированном списке). Например, $dup\\_ranks = [2]$ для примера, описанного выше."
      ]
    },
    {
      "cell_type": "code",
      "metadata": {
        "id": "F5VwySUB6j2J"
      },
      "source": [
        "def hits_count(dup_ranks, k):\n",
        "    hits_value = []\n",
        "    for rank in dup_ranks:\n",
        "      hits_value.append(int(rank<=k))\n",
        "    return sum(hits_value)"
      ],
      "execution_count": null,
      "outputs": []
    },
    {
      "cell_type": "code",
      "metadata": {
        "id": "82hQaxCH6j2R"
      },
      "source": [
        "def dcg_score(dup_ranks, k):\n",
        "    dcg_value = []\n",
        "    for rank in dup_ranks:\n",
        "      dcg_value.append(1/(np.log2(1+rank))*(rank<=k))\n",
        "    return sum(dcg_value)"
      ],
      "execution_count": null,
      "outputs": []
    },
    {
      "cell_type": "markdown",
      "metadata": {
        "id": "PcwHeXN26j2Y"
      },
      "source": [
        "Протестируем функции. Пусть $N = 1$, то есть один эксперимент. Будем искать копию вопроса и оценивать метрики."
      ]
    },
    {
      "cell_type": "code",
      "metadata": {
        "id": "fjISmOEW6j2h"
      },
      "source": [
        "import pandas as pd"
      ],
      "execution_count": null,
      "outputs": []
    },
    {
      "cell_type": "code",
      "metadata": {
        "id": "gLa_Wqfh6j2m",
        "colab": {
          "base_uri": "https://localhost:8080/"
        },
        "outputId": "0a0b75dc-bc56-4834-8114-c69192a4cecc"
      },
      "source": [
        "copy_answers = [\"How does the catch keyword determine the type of exception that was thrown\",]\n",
        "\n",
        "# наги кандидаты\n",
        "candidates_ranking = [[\"How Can I Make These Links Rotate in PHP\",\n",
        "                       \"How does the catch keyword determine the type of exception that was thrown\",\n",
        "                       \"NSLog array description not memory address\",\n",
        "                       \"PECL_HTTP not recognised php ubuntu\"],]\n",
        "# dup_ranks — позиции наших копий, так как эксперимент один, то этот массив длины 1\n",
        "dup_ranks = [2]\n",
        "\n",
        "# вычисляем метрику для разных k\n",
        "print('Ваш ответ HIT:', [hits_count(dup_ranks, k) for k in range(1, 5)])\n",
        "print('Ваш ответ DCG:', [np.around(dcg_score(dup_ranks, k), 5) for k in range(1, 5)])"
      ],
      "execution_count": null,
      "outputs": [
        {
          "output_type": "stream",
          "name": "stdout",
          "text": [
            "Ваш ответ HIT: [0, 1, 1, 1]\n",
            "Ваш ответ DCG: [0.0, 0.63093, 0.63093, 0.63093]\n"
          ]
        }
      ]
    },
    {
      "cell_type": "markdown",
      "metadata": {
        "id": "MoHC3YoQ6j2t"
      },
      "source": [
        "У вас должно получиться"
      ]
    },
    {
      "cell_type": "code",
      "metadata": {
        "scrolled": true,
        "id": "B0NFWq4f6j2u",
        "colab": {
          "base_uri": "https://localhost:8080/",
          "height": 112
        },
        "outputId": "9c47c984-eaa9-4637-88e5-f70842f6cfa5"
      },
      "source": [
        "# correct_answers - метрика для разных k\n",
        "correct_answers = pd.DataFrame([[0, 1, 1, 1], [0, 1 / (np.log2(3)), 1 / (np.log2(3)), 1 / (np.log2(3))]],\n",
        "                               index=['HITS', 'DCG'], columns=range(1,5))\n",
        "correct_answers"
      ],
      "execution_count": null,
      "outputs": [
        {
          "output_type": "execute_result",
          "data": {
            "text/plain": [
              "      1        2        3        4\n",
              "HITS  0  1.00000  1.00000  1.00000\n",
              "DCG   0  0.63093  0.63093  0.63093"
            ],
            "text/html": [
              "\n",
              "  <div id=\"df-caeaf301-7760-4e29-a49a-acd33e4b0a75\" class=\"colab-df-container\">\n",
              "    <div>\n",
              "<style scoped>\n",
              "    .dataframe tbody tr th:only-of-type {\n",
              "        vertical-align: middle;\n",
              "    }\n",
              "\n",
              "    .dataframe tbody tr th {\n",
              "        vertical-align: top;\n",
              "    }\n",
              "\n",
              "    .dataframe thead th {\n",
              "        text-align: right;\n",
              "    }\n",
              "</style>\n",
              "<table border=\"1\" class=\"dataframe\">\n",
              "  <thead>\n",
              "    <tr style=\"text-align: right;\">\n",
              "      <th></th>\n",
              "      <th>1</th>\n",
              "      <th>2</th>\n",
              "      <th>3</th>\n",
              "      <th>4</th>\n",
              "    </tr>\n",
              "  </thead>\n",
              "  <tbody>\n",
              "    <tr>\n",
              "      <th>HITS</th>\n",
              "      <td>0</td>\n",
              "      <td>1.00000</td>\n",
              "      <td>1.00000</td>\n",
              "      <td>1.00000</td>\n",
              "    </tr>\n",
              "    <tr>\n",
              "      <th>DCG</th>\n",
              "      <td>0</td>\n",
              "      <td>0.63093</td>\n",
              "      <td>0.63093</td>\n",
              "      <td>0.63093</td>\n",
              "    </tr>\n",
              "  </tbody>\n",
              "</table>\n",
              "</div>\n",
              "    <div class=\"colab-df-buttons\">\n",
              "\n",
              "  <div class=\"colab-df-container\">\n",
              "    <button class=\"colab-df-convert\" onclick=\"convertToInteractive('df-caeaf301-7760-4e29-a49a-acd33e4b0a75')\"\n",
              "            title=\"Convert this dataframe to an interactive table.\"\n",
              "            style=\"display:none;\">\n",
              "\n",
              "  <svg xmlns=\"http://www.w3.org/2000/svg\" height=\"24px\" viewBox=\"0 -960 960 960\">\n",
              "    <path d=\"M120-120v-720h720v720H120Zm60-500h600v-160H180v160Zm220 220h160v-160H400v160Zm0 220h160v-160H400v160ZM180-400h160v-160H180v160Zm440 0h160v-160H620v160ZM180-180h160v-160H180v160Zm440 0h160v-160H620v160Z\"/>\n",
              "  </svg>\n",
              "    </button>\n",
              "\n",
              "  <style>\n",
              "    .colab-df-container {\n",
              "      display:flex;\n",
              "      gap: 12px;\n",
              "    }\n",
              "\n",
              "    .colab-df-convert {\n",
              "      background-color: #E8F0FE;\n",
              "      border: none;\n",
              "      border-radius: 50%;\n",
              "      cursor: pointer;\n",
              "      display: none;\n",
              "      fill: #1967D2;\n",
              "      height: 32px;\n",
              "      padding: 0 0 0 0;\n",
              "      width: 32px;\n",
              "    }\n",
              "\n",
              "    .colab-df-convert:hover {\n",
              "      background-color: #E2EBFA;\n",
              "      box-shadow: 0px 1px 2px rgba(60, 64, 67, 0.3), 0px 1px 3px 1px rgba(60, 64, 67, 0.15);\n",
              "      fill: #174EA6;\n",
              "    }\n",
              "\n",
              "    .colab-df-buttons div {\n",
              "      margin-bottom: 4px;\n",
              "    }\n",
              "\n",
              "    [theme=dark] .colab-df-convert {\n",
              "      background-color: #3B4455;\n",
              "      fill: #D2E3FC;\n",
              "    }\n",
              "\n",
              "    [theme=dark] .colab-df-convert:hover {\n",
              "      background-color: #434B5C;\n",
              "      box-shadow: 0px 1px 3px 1px rgba(0, 0, 0, 0.15);\n",
              "      filter: drop-shadow(0px 1px 2px rgba(0, 0, 0, 0.3));\n",
              "      fill: #FFFFFF;\n",
              "    }\n",
              "  </style>\n",
              "\n",
              "    <script>\n",
              "      const buttonEl =\n",
              "        document.querySelector('#df-caeaf301-7760-4e29-a49a-acd33e4b0a75 button.colab-df-convert');\n",
              "      buttonEl.style.display =\n",
              "        google.colab.kernel.accessAllowed ? 'block' : 'none';\n",
              "\n",
              "      async function convertToInteractive(key) {\n",
              "        const element = document.querySelector('#df-caeaf301-7760-4e29-a49a-acd33e4b0a75');\n",
              "        const dataTable =\n",
              "          await google.colab.kernel.invokeFunction('convertToInteractive',\n",
              "                                                    [key], {});\n",
              "        if (!dataTable) return;\n",
              "\n",
              "        const docLinkHtml = 'Like what you see? Visit the ' +\n",
              "          '<a target=\"_blank\" href=https://colab.research.google.com/notebooks/data_table.ipynb>data table notebook</a>'\n",
              "          + ' to learn more about interactive tables.';\n",
              "        element.innerHTML = '';\n",
              "        dataTable['output_type'] = 'display_data';\n",
              "        await google.colab.output.renderOutput(dataTable, element);\n",
              "        const docLink = document.createElement('div');\n",
              "        docLink.innerHTML = docLinkHtml;\n",
              "        element.appendChild(docLink);\n",
              "      }\n",
              "    </script>\n",
              "  </div>\n",
              "\n",
              "\n",
              "<div id=\"df-0bf01897-ba73-4b60-aeff-22efcce50f45\">\n",
              "  <button class=\"colab-df-quickchart\" onclick=\"quickchart('df-0bf01897-ba73-4b60-aeff-22efcce50f45')\"\n",
              "            title=\"Suggest charts.\"\n",
              "            style=\"display:none;\">\n",
              "\n",
              "<svg xmlns=\"http://www.w3.org/2000/svg\" height=\"24px\"viewBox=\"0 0 24 24\"\n",
              "     width=\"24px\">\n",
              "    <g>\n",
              "        <path d=\"M19 3H5c-1.1 0-2 .9-2 2v14c0 1.1.9 2 2 2h14c1.1 0 2-.9 2-2V5c0-1.1-.9-2-2-2zM9 17H7v-7h2v7zm4 0h-2V7h2v10zm4 0h-2v-4h2v4z\"/>\n",
              "    </g>\n",
              "</svg>\n",
              "  </button>\n",
              "\n",
              "<style>\n",
              "  .colab-df-quickchart {\n",
              "      --bg-color: #E8F0FE;\n",
              "      --fill-color: #1967D2;\n",
              "      --hover-bg-color: #E2EBFA;\n",
              "      --hover-fill-color: #174EA6;\n",
              "      --disabled-fill-color: #AAA;\n",
              "      --disabled-bg-color: #DDD;\n",
              "  }\n",
              "\n",
              "  [theme=dark] .colab-df-quickchart {\n",
              "      --bg-color: #3B4455;\n",
              "      --fill-color: #D2E3FC;\n",
              "      --hover-bg-color: #434B5C;\n",
              "      --hover-fill-color: #FFFFFF;\n",
              "      --disabled-bg-color: #3B4455;\n",
              "      --disabled-fill-color: #666;\n",
              "  }\n",
              "\n",
              "  .colab-df-quickchart {\n",
              "    background-color: var(--bg-color);\n",
              "    border: none;\n",
              "    border-radius: 50%;\n",
              "    cursor: pointer;\n",
              "    display: none;\n",
              "    fill: var(--fill-color);\n",
              "    height: 32px;\n",
              "    padding: 0;\n",
              "    width: 32px;\n",
              "  }\n",
              "\n",
              "  .colab-df-quickchart:hover {\n",
              "    background-color: var(--hover-bg-color);\n",
              "    box-shadow: 0 1px 2px rgba(60, 64, 67, 0.3), 0 1px 3px 1px rgba(60, 64, 67, 0.15);\n",
              "    fill: var(--button-hover-fill-color);\n",
              "  }\n",
              "\n",
              "  .colab-df-quickchart-complete:disabled,\n",
              "  .colab-df-quickchart-complete:disabled:hover {\n",
              "    background-color: var(--disabled-bg-color);\n",
              "    fill: var(--disabled-fill-color);\n",
              "    box-shadow: none;\n",
              "  }\n",
              "\n",
              "  .colab-df-spinner {\n",
              "    border: 2px solid var(--fill-color);\n",
              "    border-color: transparent;\n",
              "    border-bottom-color: var(--fill-color);\n",
              "    animation:\n",
              "      spin 1s steps(1) infinite;\n",
              "  }\n",
              "\n",
              "  @keyframes spin {\n",
              "    0% {\n",
              "      border-color: transparent;\n",
              "      border-bottom-color: var(--fill-color);\n",
              "      border-left-color: var(--fill-color);\n",
              "    }\n",
              "    20% {\n",
              "      border-color: transparent;\n",
              "      border-left-color: var(--fill-color);\n",
              "      border-top-color: var(--fill-color);\n",
              "    }\n",
              "    30% {\n",
              "      border-color: transparent;\n",
              "      border-left-color: var(--fill-color);\n",
              "      border-top-color: var(--fill-color);\n",
              "      border-right-color: var(--fill-color);\n",
              "    }\n",
              "    40% {\n",
              "      border-color: transparent;\n",
              "      border-right-color: var(--fill-color);\n",
              "      border-top-color: var(--fill-color);\n",
              "    }\n",
              "    60% {\n",
              "      border-color: transparent;\n",
              "      border-right-color: var(--fill-color);\n",
              "    }\n",
              "    80% {\n",
              "      border-color: transparent;\n",
              "      border-right-color: var(--fill-color);\n",
              "      border-bottom-color: var(--fill-color);\n",
              "    }\n",
              "    90% {\n",
              "      border-color: transparent;\n",
              "      border-bottom-color: var(--fill-color);\n",
              "    }\n",
              "  }\n",
              "</style>\n",
              "\n",
              "  <script>\n",
              "    async function quickchart(key) {\n",
              "      const quickchartButtonEl =\n",
              "        document.querySelector('#' + key + ' button');\n",
              "      quickchartButtonEl.disabled = true;  // To prevent multiple clicks.\n",
              "      quickchartButtonEl.classList.add('colab-df-spinner');\n",
              "      try {\n",
              "        const charts = await google.colab.kernel.invokeFunction(\n",
              "            'suggestCharts', [key], {});\n",
              "      } catch (error) {\n",
              "        console.error('Error during call to suggestCharts:', error);\n",
              "      }\n",
              "      quickchartButtonEl.classList.remove('colab-df-spinner');\n",
              "      quickchartButtonEl.classList.add('colab-df-quickchart-complete');\n",
              "    }\n",
              "    (() => {\n",
              "      let quickchartButtonEl =\n",
              "        document.querySelector('#df-0bf01897-ba73-4b60-aeff-22efcce50f45 button');\n",
              "      quickchartButtonEl.style.display =\n",
              "        google.colab.kernel.accessAllowed ? 'block' : 'none';\n",
              "    })();\n",
              "  </script>\n",
              "</div>\n",
              "    </div>\n",
              "  </div>\n"
            ]
          },
          "metadata": {},
          "execution_count": 19
        }
      ]
    },
    {
      "cell_type": "markdown",
      "metadata": {
        "id": "tHZqgDTo6j0i"
      },
      "source": [
        "### Данные\n",
        "[arxiv link](https://drive.google.com/file/d/1QqT4D0EoqJTy7v9VrNCYD-m964XZFR7_/edit)\n",
        "\n",
        "`train.tsv` - выборка для обучения.<br> В каждой строке через табуляцию записаны: **<вопрос>, <похожий вопрос>**\n",
        "\n",
        "`validation.tsv` - тестовая выборка.<br> В каждой строке через табуляцию записаны: **<вопрос>, <похожий вопрос>, <отрицательный пример 1>, <отрицательный пример 2>, ...**"
      ]
    },
    {
      "cell_type": "code",
      "metadata": {
        "id": "jKVK2lDGvrIe",
        "colab": {
          "base_uri": "https://localhost:8080/"
        },
        "outputId": "a3744877-108a-46e5-9d73-74917d868301"
      },
      "source": [
        "!unzip /content/stackoverflow_similar_questions.zip"
      ],
      "execution_count": null,
      "outputs": [
        {
          "output_type": "stream",
          "name": "stdout",
          "text": [
            "Archive:  /content/stackoverflow_similar_questions.zip\n",
            "   creating: data/\n",
            "  inflating: data/.DS_Store          \n",
            "   creating: __MACOSX/\n",
            "   creating: __MACOSX/data/\n",
            "  inflating: __MACOSX/data/._.DS_Store  \n",
            "  inflating: data/train.tsv          \n",
            "  inflating: data/validation.tsv     \n"
          ]
        }
      ]
    },
    {
      "cell_type": "markdown",
      "metadata": {
        "id": "hil2UsUG6j22"
      },
      "source": [
        "Считайте данные."
      ]
    },
    {
      "cell_type": "code",
      "metadata": {
        "id": "B4EBho8s6j26"
      },
      "source": [
        "def read_corpus(filename):\n",
        "    data = []\n",
        "    for line in open(filename, encoding='utf-8'):\n",
        "        data.append(line.strip())\n",
        "    return data"
      ],
      "execution_count": null,
      "outputs": []
    },
    {
      "cell_type": "markdown",
      "metadata": {
        "id": "kkTxY3Mk9_nG"
      },
      "source": [
        "Нам понадобиться только файл validation."
      ]
    },
    {
      "cell_type": "code",
      "metadata": {
        "id": "PTVB9Tnp6j29"
      },
      "source": [
        "validation_data = read_corpus('./data/validation.tsv')"
      ],
      "execution_count": null,
      "outputs": []
    },
    {
      "cell_type": "markdown",
      "metadata": {
        "id": "bTHfL-9y6j3F"
      },
      "source": [
        "Кол-во строк"
      ]
    },
    {
      "cell_type": "code",
      "metadata": {
        "scrolled": false,
        "id": "z6ubXhIe6j3H",
        "colab": {
          "base_uri": "https://localhost:8080/"
        },
        "outputId": "38ca04b1-2b8e-4fff-c567-150c8f94cc23"
      },
      "source": [
        "len(validation_data)"
      ],
      "execution_count": null,
      "outputs": [
        {
          "output_type": "execute_result",
          "data": {
            "text/plain": [
              "3760"
            ]
          },
          "metadata": {},
          "execution_count": 28
        }
      ]
    },
    {
      "cell_type": "markdown",
      "metadata": {
        "id": "kaOQblBy6j3M"
      },
      "source": [
        "Размер нескольких первых строк"
      ]
    },
    {
      "cell_type": "code",
      "metadata": {
        "id": "yRx6e-Pe6j3M",
        "colab": {
          "base_uri": "https://localhost:8080/"
        },
        "outputId": "41ccfbfb-cb06-4e17-a1c4-e00278dc99d4"
      },
      "source": [
        "for i in range(5):\n",
        "    print(i + 1, len(validation_data[i]))"
      ],
      "execution_count": null,
      "outputs": [
        {
          "output_type": "stream",
          "name": "stdout",
          "text": [
            "1 54516\n",
            "2 52817\n",
            "3 54463\n",
            "4 53723\n",
            "5 52296\n"
          ]
        }
      ]
    },
    {
      "cell_type": "markdown",
      "metadata": {
        "id": "ySQQp0oQt1Ep"
      },
      "source": [
        "### Ранжирование без обучения"
      ]
    },
    {
      "cell_type": "markdown",
      "metadata": {
        "id": "iElEDhj-6j3R"
      },
      "source": [
        "Реализуйте функцию ранжирования кандидатов на основе косинусного расстояния. Функция должна по списку кандидатов вернуть отсортированный список пар (позиция в исходном списке кандидатов, кандидат). При этом позиция кандидата в полученном списке является его рейтингом (первый - лучший). Например, если исходный список кандидатов был [a, b, c], и самый похожий на исходный вопрос среди них - c, затем a, и в конце b, то функция должна вернуть список **[(2, c), (0, a), (1, b)]**."
      ]
    },
    {
      "cell_type": "code",
      "metadata": {
        "id": "K02JARKr6j3T"
      },
      "source": [
        "from sklearn.metrics.pairwise import cosine_similarity\n",
        "from copy import deepcopy\n",
        "from collections import Counter"
      ],
      "execution_count": null,
      "outputs": []
    },
    {
      "cell_type": "code",
      "source": [
        "def rank_candidates(question, candidates, embeddings, tokenizer, dim=200):\n",
        "  question_vec = question_to_vec(question, embeddings, tokenizer, dim)\n",
        "  candidates_vec = [question_to_vec(candidate, embeddings, tokenizer, dim) for candidate in candidates]\n",
        "  result = cosine_similarity([question_vec], candidates_vec)[0]\n",
        "  sorted_result = sorted(enumerate(candidates), key=lambda x: result[x[0]], reverse=True)\n",
        "  return sorted_result"
      ],
      "metadata": {
        "id": "4sHPl5ROhE2h"
      },
      "execution_count": null,
      "outputs": []
    },
    {
      "cell_type": "markdown",
      "metadata": {
        "id": "TnBszTb76j3c"
      },
      "source": [
        "Протестируйте работу функции на примерах ниже. Пусть $N=2$, то есть два эксперимента"
      ]
    },
    {
      "cell_type": "code",
      "metadata": {
        "id": "xvQgtP176j3h"
      },
      "source": [
        "questions = ['converting string to list', 'Sending array via Ajax fails']\n",
        "\n",
        "candidates = [['Convert Google results object (pure js) to Python object', # первый эксперимент\n",
        "               'C# create cookie from string and send it to',\n",
        "               'How to use jQuery AJAX for an outside domain?'],\n",
        "\n",
        "              ['Getting all list items of an unordered list in PHP',      # второй эксперимент\n",
        "               'WPF- How to update the changes in list item of a list',\n",
        "               'select2 not displaying search results']]"
      ],
      "execution_count": null,
      "outputs": []
    },
    {
      "cell_type": "code",
      "metadata": {
        "id": "bPj1JGFi6j3m",
        "colab": {
          "base_uri": "https://localhost:8080/"
        },
        "outputId": "7db7ca4b-6e8d-4483-c9b6-71a44863493a"
      },
      "source": [
        "for question, q_candidates in zip(questions, candidates):\n",
        "        ranks = rank_candidates(question, q_candidates, wv_embeddings, tokenizer)\n",
        "        print(ranks)\n",
        "        print()"
      ],
      "execution_count": null,
      "outputs": [
        {
          "output_type": "stream",
          "name": "stdout",
          "text": [
            "[(1, 'C# create cookie from string and send it to'), (0, 'Convert Google results object (pure js) to Python object'), (2, 'How to use jQuery AJAX for an outside domain?')]\n",
            "\n",
            "[(0, 'Getting all list items of an unordered list in PHP'), (2, 'select2 not displaying search results'), (1, 'WPF- How to update the changes in list item of a list')]\n",
            "\n"
          ]
        }
      ]
    },
    {
      "cell_type": "markdown",
      "metadata": {
        "id": "jm4cidj56j3q"
      },
      "source": [
        "Для первого экперимента вы можете полностью сравнить ваши ответы и правильные ответы. Но для второго эксперимента два ответа на кандидаты будут <b>скрыты</b>(*)"
      ]
    },
    {
      "cell_type": "code",
      "metadata": {
        "id": "0LeKMIsn6j3s"
      },
      "source": [
        "# должно вывести\n",
        "results = [[(1, 'C# create cookie from string and send it'),\n",
        "            (0, 'Convert Google results object (pure js) to Python object'),\n",
        "            (2, 'How to use jQuery AJAX for an outside domain?')]]\n",
        "          #  [(*, 'Getting all list items of an unordered list in PHP'), #скрыт\n",
        "          #   (*, 'select2 not displaying search results'), #скрыт\n",
        "          #   (*, 'WPF- How to update the changes in list item of a list')]] #скрыт"
      ],
      "execution_count": null,
      "outputs": []
    },
    {
      "cell_type": "markdown",
      "metadata": {
        "id": "5WQgYDWd6j3y"
      },
      "source": [
        "#### Вопрос 5:\n",
        "* Какую последовательность начальных индексов вы получили `для эксперимента 2`(перечисление без запятой и пробелов, например, `102` для первого эксперимента?"
      ]
    },
    {
      "cell_type": "code",
      "source": [
        "print(\"для первого: 102, для второго: 021\")"
      ],
      "metadata": {
        "colab": {
          "base_uri": "https://localhost:8080/"
        },
        "id": "gHmI05DI2PFK",
        "outputId": "dd876499-7b92-40cf-af01-1a79e9993df7"
      },
      "execution_count": null,
      "outputs": [
        {
          "output_type": "stream",
          "name": "stdout",
          "text": [
            "для первого: 102, для второго: 021\n"
          ]
        }
      ]
    },
    {
      "cell_type": "markdown",
      "metadata": {
        "id": "fPllOY-Y6j30"
      },
      "source": [
        "Теперь мы можем оценить качество нашего метода. Запустите следующие два блока кода для получения результата. Обратите внимание, что вычисление расстояния между векторами занимает некоторое время (примерно 10 минут). Можете взять для validation 1000 примеров."
      ]
    },
    {
      "cell_type": "code",
      "metadata": {
        "id": "Z3q9sxddz-yU"
      },
      "source": [
        "from tqdm.notebook import tqdm"
      ],
      "execution_count": null,
      "outputs": []
    },
    {
      "cell_type": "code",
      "metadata": {
        "id": "nu7K4mis6j32",
        "colab": {
          "base_uri": "https://localhost:8080/",
          "height": 49,
          "referenced_widgets": [
            "06fc2d535a0b4fe2840c6c21d630cd61",
            "aa48e476638542e88998321ff9c48a7e",
            "173371ff5a65493f8cbe4ca2a753f622",
            "fcfa2871e05f4c9a85bfa1adc817648f",
            "b695f79f82524d37bba7969f565c2d81",
            "3aaa256ff71a40018da5ac15abfb765b",
            "b884e2c97f7a4238b4162ef561cae386",
            "64719a18e7d2418499e1b3fee4415c0e",
            "4c787bca38f346c6bb3ef0120b230047",
            "76afefbf92924277bd22d07a53c51104",
            "2282e7a9daf2497aa5a705d70901fa91"
          ]
        },
        "outputId": "d06eade5-42e7-40f1-f181-b5979acc77e7"
      },
      "source": [
        "wv_ranking = []\n",
        "max_validation_examples = 1000\n",
        "for i, line in enumerate(tqdm(validation_data)):\n",
        "    if i == max_validation_examples:\n",
        "        break\n",
        "    q, *ex = line\n",
        "    ranks = rank_candidates(q, ex, wv_embeddings, tokenizer)\n",
        "    wv_ranking.append([r[0] for r in ranks].index(0) + 1)"
      ],
      "execution_count": null,
      "outputs": [
        {
          "output_type": "display_data",
          "data": {
            "text/plain": [
              "  0%|          | 0/3760 [00:00<?, ?it/s]"
            ],
            "application/vnd.jupyter.widget-view+json": {
              "version_major": 2,
              "version_minor": 0,
              "model_id": "06fc2d535a0b4fe2840c6c21d630cd61"
            }
          },
          "metadata": {}
        }
      ]
    },
    {
      "cell_type": "code",
      "metadata": {
        "scrolled": true,
        "id": "gDtS520v6j35",
        "colab": {
          "base_uri": "https://localhost:8080/",
          "height": 158,
          "referenced_widgets": [
            "956ec89f87814263872de7003fe532cc",
            "3c224b814da54a229abb8563be4eafab",
            "f82ddc2e089d4347be8f63fc8d0408d9",
            "a41954aaeb044f0e9dbabb0e91248dfb",
            "914b50818a70414ba19168f5aafb86d0",
            "84c4a0b877ce4f318a6b44828e3fc5bf",
            "5a1dbf8770774c9ab67748d94b9ec96f",
            "5cbb76f7a8e040a2afe39a07cd0b7f13",
            "ba7128fe68b945deb23fd4b147f6e288",
            "87ec7ab0d7e146089171057571d9f602",
            "58965a8a195e46aab0fb55d7b2d0fbc0"
          ]
        },
        "outputId": "7153dda1-8bc8-4dc1-c7e2-c1d181916fe9"
      },
      "source": [
        "for k in tqdm([1, 5, 10, 100, 500, 1000]):\n",
        "    print(\"DCG@%4d: %.3f | Hits@%4d: %.3f\" % (k, dcg_score(wv_ranking, k), k, hits_count(wv_ranking, k)))"
      ],
      "execution_count": null,
      "outputs": [
        {
          "output_type": "display_data",
          "data": {
            "text/plain": [
              "  0%|          | 0/6 [00:00<?, ?it/s]"
            ],
            "application/vnd.jupyter.widget-view+json": {
              "version_major": 2,
              "version_minor": 0,
              "model_id": "956ec89f87814263872de7003fe532cc"
            }
          },
          "metadata": {}
        },
        {
          "output_type": "stream",
          "name": "stdout",
          "text": [
            "DCG@   1: 372.000 | Hits@   1: 372.000\n",
            "DCG@   5: 372.000 | Hits@   5: 372.000\n",
            "DCG@  10: 372.000 | Hits@  10: 372.000\n",
            "DCG@ 100: 372.000 | Hits@ 100: 372.000\n",
            "DCG@ 500: 372.392 | Hits@ 500: 375.000\n",
            "DCG@1000: 372.700 | Hits@1000: 378.000\n"
          ]
        }
      ]
    },
    {
      "cell_type": "markdown",
      "metadata": {
        "id": "LL6_Rjg3InL8"
      },
      "source": [
        "### Эмбеддинги, обученные на корпусе похожих вопросов"
      ]
    },
    {
      "cell_type": "code",
      "metadata": {
        "id": "iNvbpR5gJIPz"
      },
      "source": [
        "train_data = read_corpus('./data/train.tsv')"
      ],
      "execution_count": null,
      "outputs": []
    },
    {
      "cell_type": "code",
      "source": [
        "train_data[:5]"
      ],
      "metadata": {
        "colab": {
          "base_uri": "https://localhost:8080/"
        },
        "id": "t-OsWrjLoH5g",
        "outputId": "8eb6d629-1db1-4320-cb0c-a4dc57c6835f"
      },
      "execution_count": null,
      "outputs": [
        {
          "output_type": "execute_result",
          "data": {
            "text/plain": [
              "['converting string to list\\tConvert Google results object (pure js) to Python object',\n",
              " 'Which HTML 5 Canvas Javascript to use for making an interactive drawing tool?\\tEvent handling for geometries in Three.js?',\n",
              " 'Sending array via Ajax fails\\tGetting all list items of an unordered list in PHP',\n",
              " 'How to insert CookieCollection to CookieContainer?\\tC# create cookie from string and send it',\n",
              " 'Updating one element of a bound Observable collection\\tWPF- How to update the changes in list item of a list']"
            ]
          },
          "metadata": {},
          "execution_count": 81
        }
      ]
    },
    {
      "cell_type": "markdown",
      "source": [
        "#### Очистка данных"
      ],
      "metadata": {
        "id": "suKZJAEnlldJ"
      }
    },
    {
      "cell_type": "code",
      "source": [
        "import nltk\n",
        "from nltk.corpus import stopwords\n",
        "from nltk.stem import WordNetLemmatizer\n",
        "from nltk.tokenize import word_tokenize\n",
        "from nltk.stem.snowball import SnowballStemmer"
      ],
      "metadata": {
        "id": "f83MmcA4k9u8"
      },
      "execution_count": null,
      "outputs": []
    },
    {
      "cell_type": "code",
      "source": [
        "nltk.download('stopwords')\n",
        "nltk.download('punkt')\n",
        "nltk.download('wordnet')"
      ],
      "metadata": {
        "colab": {
          "base_uri": "https://localhost:8080/"
        },
        "id": "BEA2dYWRkulL",
        "outputId": "c7a255cc-4f88-4848-a938-cf809847846c"
      },
      "execution_count": null,
      "outputs": [
        {
          "output_type": "stream",
          "name": "stderr",
          "text": [
            "[nltk_data] Downloading package stopwords to /root/nltk_data...\n",
            "[nltk_data]   Unzipping corpora/stopwords.zip.\n",
            "[nltk_data] Downloading package punkt to /root/nltk_data...\n",
            "[nltk_data]   Unzipping tokenizers/punkt.zip.\n",
            "[nltk_data] Downloading package wordnet to /root/nltk_data...\n"
          ]
        },
        {
          "output_type": "execute_result",
          "data": {
            "text/plain": [
              "True"
            ]
          },
          "metadata": {},
          "execution_count": 71
        }
      ]
    },
    {
      "cell_type": "code",
      "source": [
        "stem = SnowballStemmer('english')\n",
        "lemma = WordNetLemmatizer()\n",
        "stop_words = set(stopwords.words('english'))"
      ],
      "metadata": {
        "id": "Lt_RsBZllXxz"
      },
      "execution_count": null,
      "outputs": []
    },
    {
      "cell_type": "code",
      "source": [
        "def cleanalyzer(text):\n",
        "    text = (re.sub(r'\\d+', '', text)).lower()\n",
        "    text = word_tokenize(text)\n",
        "    text = [lemma.lemmatize(word) for word in text if word not in stop_words] # приводим слова, не относящиеся к стоп-словам, к лемме\n",
        "    text = [word for word in text if len(word) > 3 and len(word) < 30]\n",
        "    text = [stem.stem(word) for word in text]\n",
        "    # text = ' '.join(text)\n",
        "    return text"
      ],
      "metadata": {
        "id": "MhTMDtB3lUUj"
      },
      "execution_count": null,
      "outputs": []
    },
    {
      "cell_type": "code",
      "source": [
        "train = pd.Series(train_data)\n",
        "train = train.apply(cleanalyzer)"
      ],
      "metadata": {
        "id": "Z2QmVGQpjr3A"
      },
      "execution_count": null,
      "outputs": []
    },
    {
      "cell_type": "code",
      "source": [
        "train.shape, train.head()"
      ],
      "metadata": {
        "colab": {
          "base_uri": "https://localhost:8080/"
        },
        "id": "rxtIEKupkdqe",
        "outputId": "d724913d-8c64-4d4f-9d06-ef4aa5c8bde0"
      },
      "execution_count": null,
      "outputs": [
        {
          "output_type": "execute_result",
          "data": {
            "text/plain": [
              "((1000000,),\n",
              " 0    [convert, string, list, convert, googl, result...\n",
              " 1    [html, canva, javascript, make, interact, draw...\n",
              " 2    [send, array, ajax, fail, get, list, item, uno...\n",
              " 3    [insert, cookiecollect, cookiecontain, creat, ...\n",
              " 4    [updat, element, bound, observ, collect, wpf-,...\n",
              " dtype: object)"
            ]
          },
          "metadata": {},
          "execution_count": 79
        }
      ]
    },
    {
      "cell_type": "markdown",
      "source": [
        "#### Обучение модели и оценка близости"
      ],
      "metadata": {
        "id": "LSuBD65SyyfG"
      }
    },
    {
      "cell_type": "markdown",
      "metadata": {
        "id": "Nr281ZyEJfjT"
      },
      "source": [
        "Улучшите качество модели.<br>Склеим вопросы в пары и обучим на них модель Word2Vec из gensim. Выберите размер window. Объясните свой выбор."
      ]
    },
    {
      "cell_type": "code",
      "metadata": {
        "id": "QuJzAM0cI-UH"
      },
      "source": [
        "from gensim.models import Word2Vec"
      ],
      "execution_count": null,
      "outputs": []
    },
    {
      "cell_type": "markdown",
      "source": [
        "Окна большего размера, как правило, содержат больше информации о теме: какие еще слова используются в соответствующих обсуждениях? Окна меньшего размера, как правило, позволяют больше узнать о самом слове: какие еще слова функционально похожи?\\\n",
        "\\\n",
        "Нам необходимо найти окно такого размера, чтобы модель могла уловить контекст и суть слов (при этом при окне большего размера последует переобучение, а при окне меньшего размера - недообучение)\\\n",
        "\\\n",
        "Допустим, у нас есть предложение \"Финансовый университет набирает умных студентов\". Если размер окна будет, например, равен 2, то слово \"университет\" будет векторно приближаться к словам \"Финансовый\" и \"набирает\", однако, если размер окна равен, к примеру, 5, то \"университет\" будет векторно приближаться ко всем словам данного предложения: \"университет\"-\"студент\", \"университет\"-\"умный\"."
      ],
      "metadata": {
        "id": "HwUJ85c-etCy"
      }
    },
    {
      "cell_type": "code",
      "source": [
        "embeddings_trained = Word2Vec(train,      # train data\n",
        "                 vector_size=200,         # embedding vector size\n",
        "                 min_count=5,             # consider words that occured at least 5 times\n",
        "                 window=3).wv"
      ],
      "metadata": {
        "id": "0qK-2TekdVmP"
      },
      "execution_count": null,
      "outputs": []
    },
    {
      "cell_type": "markdown",
      "source": [
        "Выбор пал на размер 3, т.к. датасет состоит из StackOverflow вопросов, не имеющих, как правило, достаточной длины текста, но имеющих свой четко выделенный контекст."
      ],
      "metadata": {
        "id": "JeDBR79szg5j"
      }
    },
    {
      "cell_type": "code",
      "metadata": {
        "id": "OQonbm4nMenD",
        "colab": {
          "base_uri": "https://localhost:8080/",
          "height": 49,
          "referenced_widgets": [
            "fdcf06e5866d47d3bcad1b84419f5c8f",
            "5b3aa6db8f4148c7b8d6b62688e97874",
            "512f6672c65e42f6a8a0df16b4a76c97",
            "248f1752357a4ff2bc8e17933da59fa0",
            "af0c5ce48d0d47d9b8faf5e2c47598fa",
            "66cd8b6ba2a9457db0df43429b6c0b7b",
            "4cc5c066034d4b2bbbeba6452c2b841a",
            "19fd607228da48ecadc19a36a020d7d2",
            "126fc7a7c79343129b40034ab3b6e13f",
            "b8077516584e4b42822778e2bc4fb4ed",
            "bc26c98f33754dd8843ddd6a06148f7e"
          ]
        },
        "outputId": "3c9f94fc-9a9c-46ca-ddef-25ba38f27a19"
      },
      "source": [
        "wv_ranking = []\n",
        "max_validation_examples = 1000\n",
        "for i, line in enumerate(tqdm(validation_data)):\n",
        "    if i == max_validation_examples:\n",
        "        break\n",
        "    q, *ex = line\n",
        "    ranks = rank_candidates(q, ex, embeddings_trained, tokenizer)\n",
        "    wv_ranking.append([r[0] for r in ranks].index(0) + 1)"
      ],
      "execution_count": null,
      "outputs": [
        {
          "output_type": "display_data",
          "data": {
            "text/plain": [
              "  0%|          | 0/3760 [00:00<?, ?it/s]"
            ],
            "application/vnd.jupyter.widget-view+json": {
              "version_major": 2,
              "version_minor": 0,
              "model_id": "fdcf06e5866d47d3bcad1b84419f5c8f"
            }
          },
          "metadata": {}
        }
      ]
    },
    {
      "cell_type": "code",
      "metadata": {
        "id": "3kahBUPGMgGR",
        "colab": {
          "base_uri": "https://localhost:8080/",
          "height": 158,
          "referenced_widgets": [
            "1c7d34b8a34f45bb88db1dacc76c2dae",
            "f4efba5b0b3b46fcaeb1678f8eae0bf1",
            "fbe840a3cdc247c18d6d0c330a4acb1a",
            "85fba468d0034e37a9c78e48eb129873",
            "21662ba67343424f9532b8961f80f3d3",
            "92df25ba2d16461990507d3692c64b0f",
            "c1296f9ed5c7475ea8409e8b289f489a",
            "cd7699f219d849b5908a1818271c22c3",
            "f21b4c53f435407d88285d4645aa19d3",
            "492e3a1455d7450cbc3ca0577339691e",
            "8e20ad9351444554a482af9f42627761"
          ]
        },
        "outputId": "ef13ec42-b3b1-4a1f-cce8-b623d23b8c14"
      },
      "source": [
        "for k in tqdm([1, 5, 10, 100, 500, 1000]):\n",
        "    print(\"DCG@%4d: %.3f | Hits@%4d: %.3f\" % (k, dcg_score(wv_ranking, k), k, hits_count(wv_ranking, k)))"
      ],
      "execution_count": null,
      "outputs": [
        {
          "output_type": "display_data",
          "data": {
            "text/plain": [
              "  0%|          | 0/6 [00:00<?, ?it/s]"
            ],
            "application/vnd.jupyter.widget-view+json": {
              "version_major": 2,
              "version_minor": 0,
              "model_id": "1c7d34b8a34f45bb88db1dacc76c2dae"
            }
          },
          "metadata": {}
        },
        {
          "output_type": "stream",
          "name": "stdout",
          "text": [
            "DCG@   1: 1000.000 | Hits@   1: 1000.000\n",
            "DCG@   5: 1000.000 | Hits@   5: 1000.000\n",
            "DCG@  10: 1000.000 | Hits@  10: 1000.000\n",
            "DCG@ 100: 1000.000 | Hits@ 100: 1000.000\n",
            "DCG@ 500: 1000.000 | Hits@ 500: 1000.000\n",
            "DCG@1000: 1000.000 | Hits@1000: 1000.000\n"
          ]
        }
      ]
    },
    {
      "cell_type": "code",
      "source": [
        "[embeddings_trained.most_similar(\"list\")[i][0] for i in range(3)]"
      ],
      "metadata": {
        "colab": {
          "base_uri": "https://localhost:8080/"
        },
        "id": "agTvoj-o1wsH",
        "outputId": "00d1b29c-0f15-4e04-cdf6-c2c7408d1e70"
      },
      "execution_count": null,
      "outputs": [
        {
          "output_type": "execute_result",
          "data": {
            "text/plain": [
              "['arraylist', 'tupl', 'dictionari']"
            ]
          },
          "metadata": {},
          "execution_count": 100
        }
      ]
    },
    {
      "cell_type": "markdown",
      "source": [
        "#### Обучение модели по заданию для сравнения:"
      ],
      "metadata": {
        "id": "o0uj4yf55nVd"
      }
    },
    {
      "cell_type": "code",
      "source": [
        "train2 = pd.Series(train_data)\n",
        "train2 = train2.apply(tokenizer.tokenize)"
      ],
      "metadata": {
        "id": "FUvD6rUx5Ne7"
      },
      "execution_count": null,
      "outputs": []
    },
    {
      "cell_type": "code",
      "source": [
        "embeddings_trained2 = Word2Vec(train2,      # train data\n",
        "                 vector_size=200,         # embedding vector size\n",
        "                 min_count=5,             # consider words that occured at least 5 times\n",
        "                 window=3).wv"
      ],
      "metadata": {
        "id": "L_-yd7-n5FwA"
      },
      "execution_count": null,
      "outputs": []
    },
    {
      "cell_type": "code",
      "source": [
        "wv_ranking2 = []\n",
        "max_validation_examples = 1000\n",
        "for i, line in enumerate(tqdm(validation_data)):\n",
        "    if i == max_validation_examples:\n",
        "        break\n",
        "    q, *ex = line\n",
        "    ranks = rank_candidates(q, ex, embeddings_trained2, tokenizer)\n",
        "    wv_ranking2.append([r[0] for r in ranks].index(0) + 1)"
      ],
      "metadata": {
        "colab": {
          "base_uri": "https://localhost:8080/",
          "height": 49,
          "referenced_widgets": [
            "e9143a8d8ee842998945dc003bac8542",
            "a0e0af0519334901a05a07a11daace1c",
            "746c91afc987411591e030dd60723d4c",
            "f3751ebad1524b4686033e7cbf6f2b15",
            "7749b5577e014fd78b2b0e97321a5e48",
            "672db3ae8ce54b5ebf27a42e31aad842",
            "fc4c0c43a9f34b6da877c94ed81d0001",
            "ffe3fe6c14b8452cb2110750bfa727aa",
            "faa3f72316314de39899a60bbbfa87cd",
            "24947d0f0680442db02fc5cb781ad893",
            "99e095e0c1c14715b461e1bb0e590a66"
          ]
        },
        "id": "iFfvz9Nt5rAW",
        "outputId": "b3bbceb9-8c5d-43a0-8a72-703d5b1ad4c5"
      },
      "execution_count": null,
      "outputs": [
        {
          "output_type": "display_data",
          "data": {
            "text/plain": [
              "  0%|          | 0/3760 [00:00<?, ?it/s]"
            ],
            "application/vnd.jupyter.widget-view+json": {
              "version_major": 2,
              "version_minor": 0,
              "model_id": "e9143a8d8ee842998945dc003bac8542"
            }
          },
          "metadata": {}
        }
      ]
    },
    {
      "cell_type": "code",
      "source": [
        "for k in tqdm([1, 5, 10, 100, 500, 1000]):\n",
        "    print(\"DCG@%4d: %.3f | Hits@%4d: %.3f\" % (k, dcg_score(wv_ranking2, k), k, hits_count(wv_ranking2, k)))"
      ],
      "metadata": {
        "colab": {
          "base_uri": "https://localhost:8080/",
          "height": 158,
          "referenced_widgets": [
            "63100c73499548e38ff7bd46e01ce86d",
            "d22285f986b541d9b54421837a9bd7a0",
            "e54e226b5d2d410081dfc564dd3ee1c4",
            "10db6349ea7a437782fb5a2c5f3b2df7",
            "203420bf18e041059c4657895bd9c9b2",
            "b3950d79e7a34aa8a3f4b696fa43d589",
            "878bf4818b3a4192b9c04b9cb3ffaa7f",
            "a9831276fca947599804decf01751363",
            "9d6192b7d7ea41748883d6508e7d9ae4",
            "3ec3952b12bd499a8a1f7fed8a11082b",
            "67f1fc358e5442a290092b25af39657b"
          ]
        },
        "id": "4Xz9sQIF5sO8",
        "outputId": "d9ce2046-2fd8-4cad-b22b-e5eaacf6fed3"
      },
      "execution_count": null,
      "outputs": [
        {
          "output_type": "display_data",
          "data": {
            "text/plain": [
              "  0%|          | 0/6 [00:00<?, ?it/s]"
            ],
            "application/vnd.jupyter.widget-view+json": {
              "version_major": 2,
              "version_minor": 0,
              "model_id": "63100c73499548e38ff7bd46e01ce86d"
            }
          },
          "metadata": {}
        },
        {
          "output_type": "stream",
          "name": "stdout",
          "text": [
            "DCG@   1: 7.000 | Hits@   1: 7.000\n",
            "DCG@   5: 7.000 | Hits@   5: 7.000\n",
            "DCG@  10: 7.000 | Hits@  10: 7.000\n",
            "DCG@ 100: 7.000 | Hits@ 100: 7.000\n",
            "DCG@ 500: 7.401 | Hits@ 500: 10.000\n",
            "DCG@1000: 7.503 | Hits@1000: 11.000\n"
          ]
        }
      ]
    },
    {
      "cell_type": "markdown",
      "metadata": {
        "id": "tY8PxB0j-ThG"
      },
      "source": [
        "### Замечание:\n",
        "Решить эту задачу с помощью обучения полноценной нейронной сети будет вам предложено, как часть задания в одной из домашних работ по теме \"Диалоговые системы\"."
      ]
    },
    {
      "cell_type": "markdown",
      "metadata": {
        "id": "vymVj8IxO2PO"
      },
      "source": [
        "Напишите свой вывод о полученных результатах.\n",
        "* Какой принцип токенизации даёт качество лучше и почему?\n",
        "* Помогает ли нормализация слов?\n",
        "* Какие эмбеддинги лучше справляются с задачей и почему?\n",
        "* Почему получилось плохое качество решения задачи?\n",
        "* Предложите свой подход к решению задачи.\n",
        "\n",
        "## Вывод:\n"
      ]
    },
    {
      "cell_type": "markdown",
      "source": [
        "Можно заметить, что модель обучена более, чем достаточно. Высокое качество решения задачи получилось благодаря нормализации текста (токенизации, лемматизации, стемингу, использованию стоп-слов), несмотря на бОльшую затратность по времени, т.к. датасет включал в себя 10000 строк."
      ],
      "metadata": {
        "id": "mNrMQT2U2tgD"
      }
    },
    {
      "cell_type": "markdown",
      "source": [
        "![image.png](data:image/png;base64,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)"
      ],
      "metadata": {
        "id": "kOAbTfPP5Akb"
      }
    },
    {
      "cell_type": "markdown",
      "metadata": {
        "id": "emODHztAQUQz"
      },
      "source": [
        "Для сравнения мы обучили модель по инструкции, не применяя нормализации текста вообще, только токенизируя его. Тестовые и трейновые данные выбраны те же, однако без нормализации качество модели значительно ухудшилось:"
      ]
    },
    {
      "cell_type": "markdown",
      "source": [
        "![image.png](data:image/png;base64,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)"
      ],
      "metadata": {
        "id": "QdobbD-N9BVO"
      }
    },
    {
      "cell_type": "code",
      "source": [],
      "metadata": {
        "id": "qleRz5eb9A03"
      },
      "execution_count": null,
      "outputs": []
    }
  ]
}
