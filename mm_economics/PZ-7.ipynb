{
  "nbformat": 4,
  "nbformat_minor": 0,
  "metadata": {
    "colab": {
      "provenance": []
    },
    "kernelspec": {
      "name": "python3",
      "display_name": "Python 3"
    },
    "language_info": {
      "name": "python"
    }
  },
  "cells": [
    {
      "cell_type": "code",
      "execution_count": null,
      "metadata": {
        "id": "crDpd8R8F5XW"
      },
      "outputs": [],
      "source": [
        "import sympy as sp"
      ]
    },
    {
      "cell_type": "markdown",
      "source": [
        "Практическое занятие №7\\\n"
      ],
      "metadata": {
        "id": "K2OzHb7hIXnD"
      }
    },
    {
      "cell_type": "markdown",
      "source": [
        "## 1. Оценка параметров производственной функции в модели Солоу\n"
      ],
      "metadata": {
        "id": "Hgi6ZBwrJhGG"
      }
    },
    {
      "cell_type": "code",
      "source": [
        "# ln(Y/L) = gamma*t + alpha*ln(K/L)\n",
        "\n",
        "# Z = ln(Y/L), X = ln(K/L)  =>  Z = gamma*t + alpha*X"
      ],
      "metadata": {
        "id": "6DefbGvYIVTf"
      },
      "execution_count": null,
      "outputs": []
    },
    {
      "cell_type": "code",
      "source": [
        "# На основании известных оценок параметров gamma и alpha\n",
        "# можно будет оценить параметр g = Delta_E/E\n",
        "# (темп прироста эффективности труда)"
      ],
      "metadata": {
        "id": "oWOBW0ifJ3i2"
      },
      "execution_count": null,
      "outputs": []
    },
    {
      "cell_type": "code",
      "source": [
        "# Как оценить параметры gamma и alpha на основе известных\n",
        "# значений переменных Z, t и X?"
      ],
      "metadata": {
        "id": "RLuoCmc_KQk-"
      },
      "execution_count": null,
      "outputs": []
    },
    {
      "cell_type": "code",
      "source": [
        "# Для решения этой задачи воспользуемся МНК (методом наименьших квадратов):\n",
        "# Суть метода:\n",
        "\n",
        "# F - критерий оптимальности\n",
        "# F(gamma, alpha) = сумма (Z - (gamma*t + alpha*X))^2 стремится к минимуму\n"
      ],
      "metadata": {
        "id": "GqYSrC_hKt9F"
      },
      "execution_count": null,
      "outputs": []
    },
    {
      "cell_type": "code",
      "source": [
        "import pandas as pd"
      ],
      "metadata": {
        "id": "RnZVLBJeLy0G"
      },
      "execution_count": null,
      "outputs": []
    },
    {
      "cell_type": "code",
      "source": [
        "df = pd.read_excel('Solow_Residual_data.xlsx')"
      ],
      "metadata": {
        "id": "nsvGeyHXL1h-"
      },
      "execution_count": null,
      "outputs": []
    },
    {
      "cell_type": "code",
      "source": [
        "df.set_index('t')"
      ],
      "metadata": {
        "colab": {
          "base_uri": "https://localhost:8080/",
          "height": 708
        },
        "id": "AZOC94dVMCrF",
        "outputId": "03ce61fc-d8c6-4685-f287-6269c039d347"
      },
      "execution_count": null,
      "outputs": [
        {
          "output_type": "execute_result",
          "data": {
            "text/plain": [
              "           Z         X\n",
              "t                     \n",
              "1   4.202106  5.285168\n",
              "2   4.289206  5.281945\n",
              "3   4.364023  5.311012\n",
              "4   4.393753  5.300795\n",
              "5   4.449472  5.293031\n",
              "6   4.516800  5.297809\n",
              "7   4.575814  5.313609\n",
              "8   4.646841  5.329542\n",
              "9   4.716304  5.347954\n",
              "10  4.755974  5.372298\n",
              "11  4.677852  5.406884\n",
              "12  4.724251  5.438825\n",
              "13  4.762372  5.474066\n",
              "14  4.797167  5.517527\n",
              "15  4.812028  5.559653\n",
              "16  4.820341  5.597323\n",
              "17  4.779762  5.613560\n",
              "18  4.782131  5.651192\n",
              "19  4.802595  5.693079\n",
              "20  4.826580  5.735467"
            ],
            "text/html": [
              "\n",
              "  <div id=\"df-32175ff8-5947-40f4-adcc-d9a1ba9b841b\">\n",
              "    <div class=\"colab-df-container\">\n",
              "      <div>\n",
              "<style scoped>\n",
              "    .dataframe tbody tr th:only-of-type {\n",
              "        vertical-align: middle;\n",
              "    }\n",
              "\n",
              "    .dataframe tbody tr th {\n",
              "        vertical-align: top;\n",
              "    }\n",
              "\n",
              "    .dataframe thead th {\n",
              "        text-align: right;\n",
              "    }\n",
              "</style>\n",
              "<table border=\"1\" class=\"dataframe\">\n",
              "  <thead>\n",
              "    <tr style=\"text-align: right;\">\n",
              "      <th></th>\n",
              "      <th>Z</th>\n",
              "      <th>X</th>\n",
              "    </tr>\n",
              "    <tr>\n",
              "      <th>t</th>\n",
              "      <th></th>\n",
              "      <th></th>\n",
              "    </tr>\n",
              "  </thead>\n",
              "  <tbody>\n",
              "    <tr>\n",
              "      <th>1</th>\n",
              "      <td>4.202106</td>\n",
              "      <td>5.285168</td>\n",
              "    </tr>\n",
              "    <tr>\n",
              "      <th>2</th>\n",
              "      <td>4.289206</td>\n",
              "      <td>5.281945</td>\n",
              "    </tr>\n",
              "    <tr>\n",
              "      <th>3</th>\n",
              "      <td>4.364023</td>\n",
              "      <td>5.311012</td>\n",
              "    </tr>\n",
              "    <tr>\n",
              "      <th>4</th>\n",
              "      <td>4.393753</td>\n",
              "      <td>5.300795</td>\n",
              "    </tr>\n",
              "    <tr>\n",
              "      <th>5</th>\n",
              "      <td>4.449472</td>\n",
              "      <td>5.293031</td>\n",
              "    </tr>\n",
              "    <tr>\n",
              "      <th>6</th>\n",
              "      <td>4.516800</td>\n",
              "      <td>5.297809</td>\n",
              "    </tr>\n",
              "    <tr>\n",
              "      <th>7</th>\n",
              "      <td>4.575814</td>\n",
              "      <td>5.313609</td>\n",
              "    </tr>\n",
              "    <tr>\n",
              "      <th>8</th>\n",
              "      <td>4.646841</td>\n",
              "      <td>5.329542</td>\n",
              "    </tr>\n",
              "    <tr>\n",
              "      <th>9</th>\n",
              "      <td>4.716304</td>\n",
              "      <td>5.347954</td>\n",
              "    </tr>\n",
              "    <tr>\n",
              "      <th>10</th>\n",
              "      <td>4.755974</td>\n",
              "      <td>5.372298</td>\n",
              "    </tr>\n",
              "    <tr>\n",
              "      <th>11</th>\n",
              "      <td>4.677852</td>\n",
              "      <td>5.406884</td>\n",
              "    </tr>\n",
              "    <tr>\n",
              "      <th>12</th>\n",
              "      <td>4.724251</td>\n",
              "      <td>5.438825</td>\n",
              "    </tr>\n",
              "    <tr>\n",
              "      <th>13</th>\n",
              "      <td>4.762372</td>\n",
              "      <td>5.474066</td>\n",
              "    </tr>\n",
              "    <tr>\n",
              "      <th>14</th>\n",
              "      <td>4.797167</td>\n",
              "      <td>5.517527</td>\n",
              "    </tr>\n",
              "    <tr>\n",
              "      <th>15</th>\n",
              "      <td>4.812028</td>\n",
              "      <td>5.559653</td>\n",
              "    </tr>\n",
              "    <tr>\n",
              "      <th>16</th>\n",
              "      <td>4.820341</td>\n",
              "      <td>5.597323</td>\n",
              "    </tr>\n",
              "    <tr>\n",
              "      <th>17</th>\n",
              "      <td>4.779762</td>\n",
              "      <td>5.613560</td>\n",
              "    </tr>\n",
              "    <tr>\n",
              "      <th>18</th>\n",
              "      <td>4.782131</td>\n",
              "      <td>5.651192</td>\n",
              "    </tr>\n",
              "    <tr>\n",
              "      <th>19</th>\n",
              "      <td>4.802595</td>\n",
              "      <td>5.693079</td>\n",
              "    </tr>\n",
              "    <tr>\n",
              "      <th>20</th>\n",
              "      <td>4.826580</td>\n",
              "      <td>5.735467</td>\n",
              "    </tr>\n",
              "  </tbody>\n",
              "</table>\n",
              "</div>\n",
              "      <button class=\"colab-df-convert\" onclick=\"convertToInteractive('df-32175ff8-5947-40f4-adcc-d9a1ba9b841b')\"\n",
              "              title=\"Convert this dataframe to an interactive table.\"\n",
              "              style=\"display:none;\">\n",
              "        \n",
              "  <svg xmlns=\"http://www.w3.org/2000/svg\" height=\"24px\"viewBox=\"0 0 24 24\"\n",
              "       width=\"24px\">\n",
              "    <path d=\"M0 0h24v24H0V0z\" fill=\"none\"/>\n",
              "    <path d=\"M18.56 5.44l.94 2.06.94-2.06 2.06-.94-2.06-.94-.94-2.06-.94 2.06-2.06.94zm-11 1L8.5 8.5l.94-2.06 2.06-.94-2.06-.94L8.5 2.5l-.94 2.06-2.06.94zm10 10l.94 2.06.94-2.06 2.06-.94-2.06-.94-.94-2.06-.94 2.06-2.06.94z\"/><path d=\"M17.41 7.96l-1.37-1.37c-.4-.4-.92-.59-1.43-.59-.52 0-1.04.2-1.43.59L10.3 9.45l-7.72 7.72c-.78.78-.78 2.05 0 2.83L4 21.41c.39.39.9.59 1.41.59.51 0 1.02-.2 1.41-.59l7.78-7.78 2.81-2.81c.8-.78.8-2.07 0-2.86zM5.41 20L4 18.59l7.72-7.72 1.47 1.35L5.41 20z\"/>\n",
              "  </svg>\n",
              "      </button>\n",
              "      \n",
              "  <style>\n",
              "    .colab-df-container {\n",
              "      display:flex;\n",
              "      flex-wrap:wrap;\n",
              "      gap: 12px;\n",
              "    }\n",
              "\n",
              "    .colab-df-convert {\n",
              "      background-color: #E8F0FE;\n",
              "      border: none;\n",
              "      border-radius: 50%;\n",
              "      cursor: pointer;\n",
              "      display: none;\n",
              "      fill: #1967D2;\n",
              "      height: 32px;\n",
              "      padding: 0 0 0 0;\n",
              "      width: 32px;\n",
              "    }\n",
              "\n",
              "    .colab-df-convert:hover {\n",
              "      background-color: #E2EBFA;\n",
              "      box-shadow: 0px 1px 2px rgba(60, 64, 67, 0.3), 0px 1px 3px 1px rgba(60, 64, 67, 0.15);\n",
              "      fill: #174EA6;\n",
              "    }\n",
              "\n",
              "    [theme=dark] .colab-df-convert {\n",
              "      background-color: #3B4455;\n",
              "      fill: #D2E3FC;\n",
              "    }\n",
              "\n",
              "    [theme=dark] .colab-df-convert:hover {\n",
              "      background-color: #434B5C;\n",
              "      box-shadow: 0px 1px 3px 1px rgba(0, 0, 0, 0.15);\n",
              "      filter: drop-shadow(0px 1px 2px rgba(0, 0, 0, 0.3));\n",
              "      fill: #FFFFFF;\n",
              "    }\n",
              "  </style>\n",
              "\n",
              "      <script>\n",
              "        const buttonEl =\n",
              "          document.querySelector('#df-32175ff8-5947-40f4-adcc-d9a1ba9b841b button.colab-df-convert');\n",
              "        buttonEl.style.display =\n",
              "          google.colab.kernel.accessAllowed ? 'block' : 'none';\n",
              "\n",
              "        async function convertToInteractive(key) {\n",
              "          const element = document.querySelector('#df-32175ff8-5947-40f4-adcc-d9a1ba9b841b');\n",
              "          const dataTable =\n",
              "            await google.colab.kernel.invokeFunction('convertToInteractive',\n",
              "                                                     [key], {});\n",
              "          if (!dataTable) return;\n",
              "\n",
              "          const docLinkHtml = 'Like what you see? Visit the ' +\n",
              "            '<a target=\"_blank\" href=https://colab.research.google.com/notebooks/data_table.ipynb>data table notebook</a>'\n",
              "            + ' to learn more about interactive tables.';\n",
              "          element.innerHTML = '';\n",
              "          dataTable['output_type'] = 'display_data';\n",
              "          await google.colab.output.renderOutput(dataTable, element);\n",
              "          const docLink = document.createElement('div');\n",
              "          docLink.innerHTML = docLinkHtml;\n",
              "          element.appendChild(docLink);\n",
              "        }\n",
              "      </script>\n",
              "    </div>\n",
              "  </div>\n",
              "  "
            ]
          },
          "metadata": {},
          "execution_count": 9
        }
      ]
    },
    {
      "cell_type": "code",
      "source": [
        "x = df[['X', 't']]"
      ],
      "metadata": {
        "id": "pkgzPyddMESd"
      },
      "execution_count": null,
      "outputs": []
    },
    {
      "cell_type": "code",
      "source": [
        "y = df[['Z']]"
      ],
      "metadata": {
        "id": "dOvoRSMPMbly"
      },
      "execution_count": null,
      "outputs": []
    },
    {
      "cell_type": "code",
      "source": [
        "from sklearn.linear_model import LinearRegression"
      ],
      "metadata": {
        "id": "4CZpxaA4Mc_h"
      },
      "execution_count": null,
      "outputs": []
    },
    {
      "cell_type": "code",
      "source": [
        "model = LinearRegression(fit_intercept=False)"
      ],
      "metadata": {
        "id": "IRHQ2WcxMkZM"
      },
      "execution_count": null,
      "outputs": []
    },
    {
      "cell_type": "code",
      "source": [
        "model.fit(x, y)"
      ],
      "metadata": {
        "colab": {
          "base_uri": "https://localhost:8080/",
          "height": 75
        },
        "id": "sa6mkhp0MtO3",
        "outputId": "26e7172a-a98c-475e-9aee-25bbad3176f3"
      },
      "execution_count": null,
      "outputs": [
        {
          "output_type": "execute_result",
          "data": {
            "text/plain": [
              "LinearRegression(fit_intercept=False)"
            ],
            "text/html": [
              "<style>#sk-container-id-1 {color: black;background-color: white;}#sk-container-id-1 pre{padding: 0;}#sk-container-id-1 div.sk-toggleable {background-color: white;}#sk-container-id-1 label.sk-toggleable__label {cursor: pointer;display: block;width: 100%;margin-bottom: 0;padding: 0.3em;box-sizing: border-box;text-align: center;}#sk-container-id-1 label.sk-toggleable__label-arrow:before {content: \"▸\";float: left;margin-right: 0.25em;color: #696969;}#sk-container-id-1 label.sk-toggleable__label-arrow:hover:before {color: black;}#sk-container-id-1 div.sk-estimator:hover label.sk-toggleable__label-arrow:before {color: black;}#sk-container-id-1 div.sk-toggleable__content {max-height: 0;max-width: 0;overflow: hidden;text-align: left;background-color: #f0f8ff;}#sk-container-id-1 div.sk-toggleable__content pre {margin: 0.2em;color: black;border-radius: 0.25em;background-color: #f0f8ff;}#sk-container-id-1 input.sk-toggleable__control:checked~div.sk-toggleable__content {max-height: 200px;max-width: 100%;overflow: auto;}#sk-container-id-1 input.sk-toggleable__control:checked~label.sk-toggleable__label-arrow:before {content: \"▾\";}#sk-container-id-1 div.sk-estimator input.sk-toggleable__control:checked~label.sk-toggleable__label {background-color: #d4ebff;}#sk-container-id-1 div.sk-label input.sk-toggleable__control:checked~label.sk-toggleable__label {background-color: #d4ebff;}#sk-container-id-1 input.sk-hidden--visually {border: 0;clip: rect(1px 1px 1px 1px);clip: rect(1px, 1px, 1px, 1px);height: 1px;margin: -1px;overflow: hidden;padding: 0;position: absolute;width: 1px;}#sk-container-id-1 div.sk-estimator {font-family: monospace;background-color: #f0f8ff;border: 1px dotted black;border-radius: 0.25em;box-sizing: border-box;margin-bottom: 0.5em;}#sk-container-id-1 div.sk-estimator:hover {background-color: #d4ebff;}#sk-container-id-1 div.sk-parallel-item::after {content: \"\";width: 100%;border-bottom: 1px solid gray;flex-grow: 1;}#sk-container-id-1 div.sk-label:hover label.sk-toggleable__label {background-color: #d4ebff;}#sk-container-id-1 div.sk-serial::before {content: \"\";position: absolute;border-left: 1px solid gray;box-sizing: border-box;top: 0;bottom: 0;left: 50%;z-index: 0;}#sk-container-id-1 div.sk-serial {display: flex;flex-direction: column;align-items: center;background-color: white;padding-right: 0.2em;padding-left: 0.2em;position: relative;}#sk-container-id-1 div.sk-item {position: relative;z-index: 1;}#sk-container-id-1 div.sk-parallel {display: flex;align-items: stretch;justify-content: center;background-color: white;position: relative;}#sk-container-id-1 div.sk-item::before, #sk-container-id-1 div.sk-parallel-item::before {content: \"\";position: absolute;border-left: 1px solid gray;box-sizing: border-box;top: 0;bottom: 0;left: 50%;z-index: -1;}#sk-container-id-1 div.sk-parallel-item {display: flex;flex-direction: column;z-index: 1;position: relative;background-color: white;}#sk-container-id-1 div.sk-parallel-item:first-child::after {align-self: flex-end;width: 50%;}#sk-container-id-1 div.sk-parallel-item:last-child::after {align-self: flex-start;width: 50%;}#sk-container-id-1 div.sk-parallel-item:only-child::after {width: 0;}#sk-container-id-1 div.sk-dashed-wrapped {border: 1px dashed gray;margin: 0 0.4em 0.5em 0.4em;box-sizing: border-box;padding-bottom: 0.4em;background-color: white;}#sk-container-id-1 div.sk-label label {font-family: monospace;font-weight: bold;display: inline-block;line-height: 1.2em;}#sk-container-id-1 div.sk-label-container {text-align: center;}#sk-container-id-1 div.sk-container {/* jupyter's `normalize.less` sets `[hidden] { display: none; }` but bootstrap.min.css set `[hidden] { display: none !important; }` so we also need the `!important` here to be able to override the default hidden behavior on the sphinx rendered scikit-learn.org. See: https://github.com/scikit-learn/scikit-learn/issues/21755 */display: inline-block !important;position: relative;}#sk-container-id-1 div.sk-text-repr-fallback {display: none;}</style><div id=\"sk-container-id-1\" class=\"sk-top-container\"><div class=\"sk-text-repr-fallback\"><pre>LinearRegression(fit_intercept=False)</pre><b>In a Jupyter environment, please rerun this cell to show the HTML representation or trust the notebook. <br />On GitHub, the HTML representation is unable to render, please try loading this page with nbviewer.org.</b></div><div class=\"sk-container\" hidden><div class=\"sk-item\"><div class=\"sk-estimator sk-toggleable\"><input class=\"sk-toggleable__control sk-hidden--visually\" id=\"sk-estimator-id-1\" type=\"checkbox\" checked><label for=\"sk-estimator-id-1\" class=\"sk-toggleable__label sk-toggleable__label-arrow\">LinearRegression</label><div class=\"sk-toggleable__content\"><pre>LinearRegression(fit_intercept=False)</pre></div></div></div></div></div>"
            ]
          },
          "metadata": {},
          "execution_count": 14
        }
      ]
    },
    {
      "cell_type": "code",
      "source": [
        "alpha, gamma = model.coef_[0]"
      ],
      "metadata": {
        "id": "YrK-ew6CM0TX"
      },
      "execution_count": null,
      "outputs": []
    },
    {
      "cell_type": "code",
      "source": [
        "alpha, gamma"
      ],
      "metadata": {
        "colab": {
          "base_uri": "https://localhost:8080/"
        },
        "id": "6fFFBMMKM7Nn",
        "outputId": "7fef10ab-3f5f-4b02-c547-267dbd151726"
      },
      "execution_count": null,
      "outputs": [
        {
          "output_type": "execute_result",
          "data": {
            "text/plain": [
              "(0.8317901104473464, 0.01029851623886593)"
            ]
          },
          "metadata": {},
          "execution_count": 16
        }
      ]
    },
    {
      "cell_type": "code",
      "source": [
        "g = gamma/(1 - alpha); g"
      ],
      "metadata": {
        "colab": {
          "base_uri": "https://localhost:8080/"
        },
        "id": "yEU3SnDsM-GD",
        "outputId": "c99fbfa9-f97d-475b-df24-61329a442209"
      },
      "execution_count": null,
      "outputs": [
        {
          "output_type": "execute_result",
          "data": {
            "text/plain": [
              "0.06122420189594296"
            ]
          },
          "metadata": {},
          "execution_count": 17
        }
      ]
    },
    {
      "cell_type": "code",
      "source": [
        "# 1. Согласно полученной оценке параметра alpha = 0.83,\n",
        "# эластичность валового выпуска в экономике по затратам капитала\n",
        "# (капитал = основные производственные фонды) составляет 83%.\n",
        "# Это значит, что увеличение капитала на один процент при прочих\n",
        "# фиксированных факторах позволит увеличить валовой выпуск на 0.83%"
      ],
      "metadata": {
        "id": "Aqffqyf4NFUb"
      },
      "execution_count": null,
      "outputs": []
    },
    {
      "cell_type": "code",
      "source": [
        "# 2. Согласно полученной оценке параметра gamma = 0.01,\n",
        "# среднегодовой темп прироста НТП составляет 1%. То есть, 1%\n",
        "# экономического роста объясняется приростом НТП."
      ],
      "metadata": {
        "id": "6lED1DhuNy4Q"
      },
      "execution_count": null,
      "outputs": []
    },
    {
      "cell_type": "code",
      "source": [
        "# Y = A*K^alpha*L^beta, A - функция от времени = A(t) = exp(gamma*t)\n",
        "# Delta_A/A = gamma - остаток Солоу (часть темпа экономического роста,\n",
        "# которая обусловлена НТП)"
      ],
      "metadata": {
        "id": "xhHY-tkwOMd9"
      },
      "execution_count": null,
      "outputs": []
    },
    {
      "cell_type": "code",
      "source": [
        "# Покажем, что если A(t) = exp(gamma*t), то темп прироста A(t), т.е. Delta_A/A,\n",
        "# равен gamma"
      ],
      "metadata": {
        "id": "SvzOxasSO40V"
      },
      "execution_count": null,
      "outputs": []
    },
    {
      "cell_type": "code",
      "source": [
        "gamma, t = sp.symbols('gamma, t')"
      ],
      "metadata": {
        "id": "HNgZMrOGPUZd"
      },
      "execution_count": null,
      "outputs": []
    },
    {
      "cell_type": "code",
      "source": [
        "A = sp.exp(gamma*t); A"
      ],
      "metadata": {
        "colab": {
          "base_uri": "https://localhost:8080/",
          "height": 38
        },
        "id": "wt8CIMwOPXp9",
        "outputId": "3260dea7-b747-4c24-c64d-0aa363ba2319"
      },
      "execution_count": null,
      "outputs": [
        {
          "output_type": "execute_result",
          "data": {
            "text/plain": [
              "exp(gamma*t)"
            ],
            "text/latex": "$\\displaystyle e^{\\gamma t}$"
          },
          "metadata": {},
          "execution_count": 23
        }
      ]
    },
    {
      "cell_type": "code",
      "source": [
        "A.diff(t)/A"
      ],
      "metadata": {
        "colab": {
          "base_uri": "https://localhost:8080/",
          "height": 38
        },
        "id": "BxbI-IDWPaVN",
        "outputId": "42195fdb-1b63-4010-8950-9bfdc0f408e9"
      },
      "execution_count": null,
      "outputs": [
        {
          "output_type": "execute_result",
          "data": {
            "text/plain": [
              "gamma"
            ],
            "text/latex": "$\\displaystyle \\gamma$"
          },
          "metadata": {},
          "execution_count": 24
        }
      ]
    },
    {
      "cell_type": "code",
      "source": [
        "# Что такое остаток Солоу?"
      ],
      "metadata": {
        "id": "-3T4wzwkPict"
      },
      "execution_count": null,
      "outputs": []
    },
    {
      "cell_type": "code",
      "source": [
        "# Y = A(t)*F(K(t), L(t)) (В случае ПФ Кобба-Дугласа F(K(t), L(t)) = K^alpha*L^beta)"
      ],
      "metadata": {
        "id": "gEfjojHRPlWt"
      },
      "execution_count": null,
      "outputs": []
    },
    {
      "cell_type": "code",
      "source": [
        "# Темп экономического роста:\n",
        "\n",
        "# Y'(t) = Y'(A)*A'(t) + Y'(K)*K'(t) + Y'(L)*L'(t)  / Y"
      ],
      "metadata": {
        "id": "nznhJgu-P669"
      },
      "execution_count": null,
      "outputs": []
    },
    {
      "cell_type": "code",
      "source": [
        "# Y'(t)/Y = F(K(t), L(t))*A(t)/Y + [Y'(K)*K'(t)*K/K]/Y + [Y'(L)*L'(t)*L/L]/Y"
      ],
      "metadata": {
        "id": "o7RmaAh3QyaI"
      },
      "execution_count": null,
      "outputs": []
    },
    {
      "cell_type": "code",
      "source": [
        "# Y'(t)/Y = A'(t)/A(t) + [MPK*K/Y]*K'(t)/K + [MPL*L/Y]*L'(t)/L"
      ],
      "metadata": {
        "id": "zZ6cChuJRuT5"
      },
      "execution_count": null,
      "outputs": []
    },
    {
      "cell_type": "code",
      "source": [
        "# Y'(K) = MPK\n",
        "# K'(t)/K = |Delta_K/K| - темп прироста капитала\n",
        "\n",
        "# Y'(L) = MPL - предельный продукт труда\n",
        "# L'(t)/L = |Delta_L/L| - темп прироста труда"
      ],
      "metadata": {
        "id": "t6BpWX3lR902"
      },
      "execution_count": null,
      "outputs": []
    },
    {
      "cell_type": "code",
      "source": [
        "# Согласно модели распределения национального дохода по факторам производства\n",
        "# [MPK*K/Y] - доля владельцев капитала (бизнеса) в национальном доходе\n",
        "# [MPL*L/Y] - доля владельцев труда (наемных работников) в национальном доходе"
      ],
      "metadata": {
        "id": "Em2M2kD1Siru"
      },
      "execution_count": null,
      "outputs": []
    },
    {
      "cell_type": "code",
      "source": [
        "# Если исходная ПФ - ПФ Кобба-Дугласа, можно показать, что\n",
        "# [MPK*K/Y] = alpha\n",
        "# [MPL*L/Y] = beta = |1 - alpha, если ПФ - линейно-однородная (предположение в модели Солоу)|"
      ],
      "metadata": {
        "id": "YaGlS0fUS8Im"
      },
      "execution_count": null,
      "outputs": []
    },
    {
      "cell_type": "code",
      "source": [
        "# С учетом вышеизложенного, темп экономического роста может быть представлен:\n",
        "# Y'(t)/Y = A'(t)/A + alpha*K'(t)/K + (1 - alpha)*L'(t)/L"
      ],
      "metadata": {
        "id": "q-61xHRoTUke"
      },
      "execution_count": null,
      "outputs": []
    },
    {
      "cell_type": "code",
      "source": [
        "# Остаток Солоу:\n",
        "# A'(t)/A = Y'(t)/Y - alpha*K'(t)/K - (1 - alpha)*L'(t)/L ~= gamma"
      ],
      "metadata": {
        "id": "ZbjG4td7TUiu"
      },
      "execution_count": null,
      "outputs": []
    },
    {
      "cell_type": "code",
      "source": [
        "# 1. Покажем, что, если ПФ имеет вид: Y = exp(gamma*t)*K^alpha*L^beta, то\n",
        "# доля в национальном доходе владельцев капитала = alpha,\n",
        "# доля в национальном доходе владельцев труда = beta"
      ],
      "metadata": {
        "id": "yayrlFNcUEx1"
      },
      "execution_count": null,
      "outputs": []
    },
    {
      "cell_type": "code",
      "source": [
        "K, L, alpha, beta = sp.symbols('K, L, alpha, beta')"
      ],
      "metadata": {
        "id": "cRMZ_al7V6S1"
      },
      "execution_count": null,
      "outputs": []
    },
    {
      "cell_type": "code",
      "source": [
        "Y = sp.exp(gamma*t)*K**alpha*L**beta;Y"
      ],
      "metadata": {
        "colab": {
          "base_uri": "https://localhost:8080/",
          "height": 39
        },
        "id": "gFBjnBLiVWrn",
        "outputId": "21cb0549-d19f-41a8-8c8d-c5f105cb8ffb"
      },
      "execution_count": null,
      "outputs": [
        {
          "output_type": "execute_result",
          "data": {
            "text/plain": [
              "K**alpha*L**beta*exp(gamma*t)"
            ],
            "text/latex": "$\\displaystyle K^{\\alpha} L^{\\beta} e^{\\gamma t}$"
          },
          "metadata": {},
          "execution_count": 31
        }
      ]
    },
    {
      "cell_type": "code",
      "source": [
        "MPK = Y.diff(K); MPK"
      ],
      "metadata": {
        "colab": {
          "base_uri": "https://localhost:8080/",
          "height": 54
        },
        "id": "bYuDkk46WGsV",
        "outputId": "82c9e034-1821-4e10-9260-dcfe21c839e4"
      },
      "execution_count": null,
      "outputs": [
        {
          "output_type": "execute_result",
          "data": {
            "text/plain": [
              "K**alpha*L**beta*alpha*exp(gamma*t)/K"
            ],
            "text/latex": "$\\displaystyle \\frac{K^{\\alpha} L^{\\beta} \\alpha e^{\\gamma t}}{K}$"
          },
          "metadata": {},
          "execution_count": 40
        }
      ]
    },
    {
      "cell_type": "code",
      "source": [
        "MPL = Y.diff(L); MPL"
      ],
      "metadata": {
        "colab": {
          "base_uri": "https://localhost:8080/",
          "height": 54
        },
        "id": "qNuoW_h9WVyN",
        "outputId": "1e3eacc7-aa66-4f60-e6d2-61f7cc67ef51"
      },
      "execution_count": null,
      "outputs": [
        {
          "output_type": "execute_result",
          "data": {
            "text/plain": [
              "K**alpha*L**beta*beta*exp(gamma*t)/L"
            ],
            "text/latex": "$\\displaystyle \\frac{K^{\\alpha} L^{\\beta} \\beta e^{\\gamma t}}{L}$"
          },
          "metadata": {},
          "execution_count": 41
        }
      ]
    },
    {
      "cell_type": "code",
      "source": [
        "MPK*K/Y, MPL*L/Y"
      ],
      "metadata": {
        "colab": {
          "base_uri": "https://localhost:8080/"
        },
        "id": "Sesv_sAcWbW0",
        "outputId": "c31e85d2-9b45-49c9-bd48-ab929e0ae836"
      },
      "execution_count": null,
      "outputs": [
        {
          "output_type": "execute_result",
          "data": {
            "text/plain": [
              "(alpha, beta)"
            ]
          },
          "metadata": {},
          "execution_count": 43
        }
      ]
    },
    {
      "cell_type": "code",
      "source": [
        "# 2. alpha ~= 0.83\n",
        "# Дать интерпретацию полученной оценки с точки зрения максимизации населения"
      ],
      "metadata": {
        "id": "fhpibtkVU-c3"
      },
      "execution_count": null,
      "outputs": []
    },
    {
      "cell_type": "code",
      "source": [
        "alpha = 0.83"
      ],
      "metadata": {
        "id": "YB2yqERHXyA7"
      },
      "execution_count": null,
      "outputs": []
    },
    {
      "cell_type": "code",
      "source": [
        "Y"
      ],
      "metadata": {
        "colab": {
          "base_uri": "https://localhost:8080/",
          "height": 39
        },
        "id": "wJsD28HyX7QD",
        "outputId": "cfa4a566-322f-4f56-cbc8-673ee3c315f3"
      },
      "execution_count": null,
      "outputs": [
        {
          "output_type": "execute_result",
          "data": {
            "text/plain": [
              "K**alpha*L**beta*exp(gamma*t)"
            ],
            "text/latex": "$\\displaystyle K^{\\alpha} L^{\\beta} e^{\\gamma t}$"
          },
          "metadata": {},
          "execution_count": 46
        }
      ]
    },
    {
      "cell_type": "code",
      "source": [],
      "metadata": {
        "id": "z9pTh6hPY3er"
      },
      "execution_count": null,
      "outputs": []
    }
  ]
}