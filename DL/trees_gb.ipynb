{
  "cells": [
    {
      "cell_type": "code",
      "execution_count": null,
      "id": "04b39670",
      "metadata": {
        "id": "04b39670"
      },
      "outputs": [],
      "source": [
        "import numpy as np\n",
        "import math\n",
        "import sys\n",
        "import progressbar\n",
        "import matplotlib.pyplot as plt"
      ]
    },
    {
      "cell_type": "code",
      "execution_count": null,
      "id": "9bda023f",
      "metadata": {
        "id": "9bda023f"
      },
      "outputs": [],
      "source": [
        "def to_categorical(x, n_col=None):\n",
        "    \"\"\" One-hot encoding номинального признака \"\"\"\n",
        "    if not n_col:\n",
        "        n_col = np.amax(x) + 1\n",
        "    one_hot = np.zeros((x.shape[0], n_col))\n",
        "    one_hot[np.arange(x.shape[0]), x] = 1\n",
        "    return one_hot\n",
        "def divide_on_feature(X, feature_i, threshold):\n",
        "    \"\"\" Разделение набора данных по превышению признака feature_i порога\"\"\"\n",
        "    split_func = None\n",
        "    if isinstance(threshold, int) or isinstance(threshold, float):\n",
        "        split_func = lambda sample: sample[feature_i] >= threshold\n",
        "    else:\n",
        "        split_func = lambda sample: sample[feature_i] == threshold\n",
        "\n",
        "    X_1 = np.array([sample for sample in X if split_func(sample)])\n",
        "    X_2 = np.array([sample for sample in X if not split_func(sample)])\n",
        "    return X_1, X_2\n",
        "\n",
        "\n",
        "def normalize(X, axis=-1, order=2):\n",
        "    l2 = np.atleast_1d(np.linalg.norm(X, order, axis))\n",
        "    l2[l2 == 0] = 1\n",
        "    return X / np.expand_dims(l2, axis)\n",
        "\n",
        "\n",
        "def standardize(X):\n",
        "    X_std = X\n",
        "    mean = X.mean(axis=0)\n",
        "    std = X.std(axis=0)\n",
        "    for col in range(np.shape(X)[1]):\n",
        "        if std[col]:\n",
        "            X_std[:, col] = (X_std[:, col] - mean[col]) / std[col]\n",
        "    # X_std = (X - X.mean(axis=0)) / X.std(axis=0)\n",
        "    return X_std\n",
        "\n",
        "\n",
        "def shuffle_data(X, y, seed=None):\n",
        "    \"\"\" случайное перемешивание X и y \"\"\"\n",
        "    if seed:\n",
        "        np.random.seed(seed)\n",
        "    idx = np.arange(X.shape[0])\n",
        "    np.random.shuffle(idx)\n",
        "    return X[idx], y[idx]\n",
        "\n",
        "def train_test_split(X, y, test_size=0.5, shuffle=True, seed=None):\n",
        "    \"\"\" Разделение набора данных на обучающий и тестовый \"\"\"\n",
        "    if shuffle:\n",
        "        X, y = shuffle_data(X, y, seed)\n",
        "    # Split the training data from test data in the ratio specified in\n",
        "    # test_size\n",
        "    split_i = len(y) - int(len(y) // (1 / test_size))\n",
        "    X_train, X_test = X[:split_i], X[split_i:]\n",
        "    y_train, y_test = y[:split_i], y[split_i:]\n",
        "\n",
        "    return X_train, X_test, y_train, y_test\n",
        "\n",
        "def to_nominal(x):\n",
        "    \"\"\" Перевод из one-hot encoding в номинальные значения \"\"\"\n",
        "    return np.argmax(x, axis=1)\n",
        "\n",
        "def calculate_entropy(y):\n",
        "    \"\"\" энтропия \"\"\"\n",
        "    log2 = lambda x: math.log(x) / math.log(2)\n",
        "    unique_labels = np.unique(y)\n",
        "    entropy = 0\n",
        "    for label in unique_labels:\n",
        "        count = len(y[y == label])\n",
        "        p = count / len(y)\n",
        "        entropy += -p * log2(p)\n",
        "    return entropy\n",
        "\n",
        "def calculate_variance(X):\n",
        "    \"\"\" дисперсия X \"\"\"\n",
        "    mean = np.ones(np.shape(X)) * X.mean(0)\n",
        "    n_samples = np.shape(X)[0]\n",
        "    variance = (1 / n_samples) * np.diag((X - mean).T.dot(X - mean))\n",
        "\n",
        "    return variance\n",
        "\n",
        "\n",
        "def mean_squared_error(y_true, y_pred):\n",
        "    \"\"\" средняя квадратичная ошибка (y_true, y_pred) \"\"\"\n",
        "    mse = (np.power(y_true - y_pred, 2)).mean()\n",
        "    return mse\n",
        "\n",
        "def accuracy_score(y_true, y_pred):\n",
        "    \"\"\" Доля правильных ответов \"\"\"\n",
        "    accuracy = np.mean(y_true == y_pred, axis=0)\n",
        "    return accuracy\n",
        "\n",
        "class Loss(object):\n",
        "    def loss(self, y_true, y_pred):\n",
        "        return NotImplementedError()\n",
        "\n",
        "    def gradient(self, y, y_pred):\n",
        "        raise NotImplementedError()\n",
        "\n",
        "    def acc(self, y, y_pred):\n",
        "        return 0\n",
        "\n",
        "class SquareLoss(Loss):\n",
        "    def __init__(self): pass\n",
        "\n",
        "    def loss(self, y, y_pred):\n",
        "        return 0.5 * np.power((y - y_pred), 2)\n",
        "\n",
        "    def gradient(self, y, y_pred):\n",
        "        return -(y - y_pred)\n",
        "\n",
        "class CrossEntropy(Loss):\n",
        "    def __init__(self): pass\n",
        "\n",
        "    def loss(self, y, p):\n",
        "        # Избегаем деления на 0\n",
        "        p = np.clip(p, 1e-15, 1 - 1e-15)\n",
        "        return - y * np.log(p) - (1 - y) * np.log(1 - p)\n",
        "\n",
        "    def acc(self, y, p):\n",
        "        return accuracy_score(np.argmax(y, axis=1), np.argmax(p, axis=1))\n",
        "\n",
        "    def gradient(self, y, p):\n",
        "        # Избегаем деления на 0\n",
        "        p = np.clip(p, 1e-15, 1 - 1e-15)\n",
        "        return - (y / p) + (1 - y) / (1 - p)\n",
        "\n",
        "bar_widgets = [\n",
        "    'Обучение: ', progressbar.Percentage(), ' ', progressbar.Bar(marker=\"-\", left=\"[\", right=\"]\"),\n",
        "    ' ', progressbar.ETA()\n",
        "]"
      ]
    },
    {
      "cell_type": "code",
      "execution_count": null,
      "id": "91918125",
      "metadata": {
        "id": "91918125"
      },
      "outputs": [],
      "source": [
        "class DecisionNode():\n",
        "    \"\"\"Узел или лист дерева\n",
        "\n",
        "    Параметры:\n",
        "    -----------\n",
        "    feature_i: int\n",
        "        Номер признака, используемого для ветвления.\n",
        "    threshold: float\n",
        "        Пороговое значение, с которым мы будем сравнивать значения признака feature_i при определении прогноза.\n",
        "    value: float\n",
        "        Предсказанный класс для задачи классификации или предсказанное значение числового признака y для задачи регрессии.\n",
        "    true_branch: DecisionNode\n",
        "        Следующий узел в случае превышения порога.\n",
        "    false_branch: DecisionNode\n",
        "        Следующий узел в случае недостижения порога.\n",
        "    \"\"\"\n",
        "    def __init__(self, feature_i=None, threshold=None,\n",
        "                 value=None, true_branch=None, false_branch=None):\n",
        "        self.feature_i = feature_i\n",
        "        self.threshold = threshold\n",
        "        self.value = value\n",
        "        self.true_branch = true_branch\n",
        "        self.false_branch = false_branch"
      ]
    },
    {
      "cell_type": "code",
      "execution_count": null,
      "id": "2f4ba128",
      "metadata": {
        "id": "2f4ba128"
      },
      "outputs": [],
      "source": [
        "class DecisionTree(object):\n",
        "    \"\"\"Родительский класс для RegressionTree и ClassificationTree.\n",
        "\n",
        "    Параметры:\n",
        "    -----------\n",
        "    min_samples_split: int\n",
        "        Минимальное количество объектов, необходимое для разбиения при построении дерева.\n",
        "    min_impurity: float\n",
        "        Минимальная информативность, необходимая для дальнейшего ветвления при построении дерева.\n",
        "    max_depth: int\n",
        "        Максимальная глубина дерева.\n",
        "    loss: function\n",
        "        Функция потерь, используемая в градиентном бустинге для вычисления информативности.\n",
        "    \"\"\"\n",
        "    def __init__(self, min_samples_split=2, min_impurity=1e-7,\n",
        "                 max_depth=float(\"inf\"), loss=None):\n",
        "        self.root = None  # Корневой узел\n",
        "\n",
        "        self.min_samples_split = min_samples_split\n",
        "\n",
        "        self.min_impurity = min_impurity\n",
        "\n",
        "        self.max_depth = max_depth\n",
        "\n",
        "        self._impurity_calculation = None\n",
        "\n",
        "        self._leaf_value_calculation = None\n",
        "\n",
        "        self.one_dim = None\n",
        "\n",
        "        self.loss = loss\n",
        "\n",
        "    def fit(self, X, y, loss=None):\n",
        "        \"\"\" Построение дерева \"\"\"\n",
        "        self.one_dim = len(np.shape(y)) == 1\n",
        "        self.root = self._build_tree(X, y)\n",
        "        self.loss=None\n",
        "\n",
        "    def _build_tree(self, X, y, current_depth=0):\n",
        "        \"\"\" Рекурсивный метод, который строит дерево решений и разбивает X и соответствующий y\n",
        "        по признаку, который (на основе информативности) наилучшим образом разделяет данные\"\"\"\n",
        "\n",
        "        largest_impurity = 0\n",
        "        best_criteria = None    # номер факторного признака и порог\n",
        "        best_sets = None        # Подмножества данных\n",
        "\n",
        "        #\n",
        "        if len(np.shape(y)) == 1:\n",
        "            y = np.expand_dims(y, axis=1)\n",
        "\n",
        "        #\n",
        "        Xy = np.concatenate((X, y), axis=1)\n",
        "\n",
        "        n_samples, n_features = np.shape(X)\n",
        "\n",
        "        if n_samples >= self.min_samples_split and current_depth <= self.max_depth:\n",
        "            # Вычисляем информативность для каждого факторного признака\n",
        "            for feature_i in range(n_features):\n",
        "                # ВСЕ значения признака feature_i\n",
        "                feature_values = np.expand_dims(X[:, feature_i], axis=1)\n",
        "                unique_values = np.unique(feature_values)\n",
        "\n",
        "                # Цикл по всем уникальным значениям feature_i с вычислением информативности\n",
        "                for threshold in unique_values:\n",
        "                    # Разделение X и y по критерию X[feature_i] >= threshold\n",
        "                    Xy1, Xy2 = divide_on_feature(Xy, feature_i, threshold)\n",
        "\n",
        "                    if len(Xy1) > 0 and len(Xy2) > 0:\n",
        "                        # Значения y-в двух подмножествах\n",
        "                        y1 = Xy1[:, n_features:]\n",
        "                        y2 = Xy2[:, n_features:]\n",
        "\n",
        "                        # Вычисление информативности\n",
        "                        impurity = self._impurity_calculation(y, y1, y2)\n",
        "\n",
        "                        # Если порог привел к повышению информационного выигрыша,\n",
        "                        # сохраним порогт и номер признака\n",
        "                        if impurity > largest_impurity:\n",
        "                            largest_impurity = impurity\n",
        "                            best_criteria = {\"feature_i\": feature_i, \"threshold\": threshold}\n",
        "                            best_sets = {\n",
        "                                \"leftX\": Xy1[:, :n_features],   # X левого поддерева\n",
        "                                \"lefty\": Xy1[:, n_features:],   # y левого поддерева\n",
        "                                \"rightX\": Xy2[:, :n_features],  # X правого поддерева\n",
        "                                \"righty\": Xy2[:, n_features:]   # y правого поддерева\n",
        "                                }\n",
        "\n",
        "        if largest_impurity > self.min_impurity:\n",
        "            # Строим поддеревья\n",
        "            true_branch = self._build_tree(best_sets[\"leftX\"], best_sets[\"lefty\"], current_depth + 1)\n",
        "            false_branch = self._build_tree(best_sets[\"rightX\"], best_sets[\"righty\"], current_depth + 1)\n",
        "            return DecisionNode(feature_i=best_criteria[\"feature_i\"], threshold=best_criteria[\n",
        "                                \"threshold\"], true_branch=true_branch, false_branch=false_branch)\n",
        "\n",
        "        # Определение значения в листе\n",
        "        leaf_value = self._leaf_value_calculation(y)\n",
        "\n",
        "        return DecisionNode(value=leaf_value)\n",
        "\n",
        "\n",
        "    def predict_value(self, x, tree=None):\n",
        "        \"\"\" Рекурсивный поиск вниз по дереву с построением прогноза по значению итогового листа\"\"\"\n",
        "\n",
        "        if tree is None:\n",
        "            tree = self.root\n",
        "\n",
        "        # Если мы находимся в листе, т.е. есть значение value, возвращаем его как прогноз\n",
        "        if tree.value is not None:\n",
        "            return tree.value\n",
        "\n",
        "        # Выбор факторного признака\n",
        "        feature_value = x[tree.feature_i]\n",
        "\n",
        "        # Выбор левого или правого поддерева в зависимости от превышения порога\n",
        "        branch = tree.false_branch\n",
        "        if isinstance(feature_value, int) or isinstance(feature_value, float):\n",
        "            if feature_value >= tree.threshold:\n",
        "                branch = tree.true_branch\n",
        "        elif feature_value == tree.threshold:\n",
        "            branch = tree.true_branch\n",
        "\n",
        "        # Прогноз на поддереве\n",
        "        return self.predict_value(x, branch)\n",
        "\n",
        "    def predict(self, X):\n",
        "        \"\"\" Поэлементная классификация набора данных с возвращением множества прогнозов y\"\"\"\n",
        "        y_pred = [self.predict_value(sample) for sample in X]\n",
        "        return y_pred\n",
        "\n",
        "    def print_tree(self, tree=None, indent=\" \"):\n",
        "        \"\"\" Рекурсивный вывод дерева \"\"\"\n",
        "        if not tree:\n",
        "            tree = self.root\n",
        "\n",
        "        # Если это лист, выводим значение\n",
        "        if tree.value is not None:\n",
        "            print (tree.value)\n",
        "        # иначе идем вглубь\n",
        "        else:\n",
        "            # номер признака и порог\n",
        "            print (\"%s:%s? \" % (tree.feature_i, tree.threshold))\n",
        "            # Сценарий при достижении порога\n",
        "            print (\"%sT->\" % (indent), end=\"\")\n",
        "            self.print_tree(tree.true_branch, indent + indent)\n",
        "            # Сценарий при недостижении порога\n",
        "            print (\"%sF->\" % (indent), end=\"\")\n",
        "            self.print_tree(tree.false_branch, indent + indent)"
      ]
    },
    {
      "cell_type": "code",
      "execution_count": null,
      "id": "57f45f55",
      "metadata": {
        "id": "57f45f55"
      },
      "outputs": [],
      "source": [
        "class RegressionTree(DecisionTree):\n",
        "    def _calculate_variance_reduction(self, y, y1, y2):\n",
        "        var_tot = calculate_variance(y)\n",
        "        var_1 = calculate_variance(y1)\n",
        "        var_2 = calculate_variance(y2)\n",
        "        frac_1 = len(y1) / len(y)\n",
        "        frac_2 = len(y2) / len(y)\n",
        "\n",
        "        # Вычисление уменьшения дисперсии\n",
        "        variance_reduction = var_tot - (frac_1 * var_1 + frac_2 * var_2)\n",
        "\n",
        "        return sum(variance_reduction)\n",
        "\n",
        "    def _mean_of_y(self, y):\n",
        "        value = np.mean(y, axis=0)\n",
        "        return value if len(value) > 1 else value[0]\n",
        "\n",
        "    def fit(self, X, y):\n",
        "        self._impurity_calculation = self._calculate_variance_reduction\n",
        "        self._leaf_value_calculation = self._mean_of_y\n",
        "        super(RegressionTree, self).fit(X, y)\n",
        "\n",
        "class ClassificationTree(DecisionTree):\n",
        "    def _calculate_information_gain(self, y, y1, y2):\n",
        "        # Вычисление информационного выигрыша\n",
        "        p = len(y1) / len(y)\n",
        "        entropy = calculate_entropy(y)\n",
        "        info_gain = entropy - p * calculate_entropy(y1) - (1 - p) * calculate_entropy(y2)\n",
        "\n",
        "        return info_gain\n",
        "\n",
        "    def _majority_vote(self, y):\n",
        "        most_common = None\n",
        "        max_count = 0\n",
        "        for label in np.unique(y):\n",
        "            # Вычисление размера мажоритарного класса\n",
        "            count = len(y[y == label])\n",
        "            if count > max_count:\n",
        "                most_common = label\n",
        "                max_count = count\n",
        "        return most_common\n",
        "\n",
        "    def fit(self, X, y):\n",
        "        self._impurity_calculation = self._calculate_information_gain\n",
        "        self._leaf_value_calculation = self._majority_vote\n",
        "        super(ClassificationTree, self).fit(X, y)"
      ]
    },
    {
      "cell_type": "code",
      "execution_count": null,
      "id": "87cb46c7",
      "metadata": {
        "id": "87cb46c7"
      },
      "outputs": [],
      "source": [
        "from sklearn.datasets import load_iris\n",
        "from sklearn.decomposition import PCA\n",
        "iris = load_iris()\n",
        "X = iris.data\n",
        "Y = iris.target\n",
        "\n",
        "pca = PCA(n_components=2)\n",
        "X = pca.fit_transform(X)\n",
        "Y = (Y > 0).astype(int)\n"
      ]
    },
    {
      "cell_type": "code",
      "execution_count": null,
      "id": "83c24113",
      "metadata": {
        "id": "83c24113",
        "outputId": "a4ff107a-bf19-4ddd-b58c-54642f4c8c9e"
      },
      "outputs": [
        {
          "data": {
            "text/plain": [
              "<matplotlib.collections.PathCollection at 0x140fea17ef0>"
            ]
          },
          "execution_count": 7,
          "metadata": {},
          "output_type": "execute_result"
        },
        {
          "data": {
            "image/png": "[encoded data removed]",
            "text/plain": [
              "<Figure size 640x480 with 1 Axes>"
            ]
          },
          "metadata": {},
          "output_type": "display_data"
        }
      ],
      "source": [
        "plt.scatter(X[:, 0], X[:, 1], c=Y)"
      ]
    },
    {
      "cell_type": "code",
      "execution_count": null,
      "id": "31fefd94",
      "metadata": {
        "id": "31fefd94"
      },
      "outputs": [],
      "source": [
        "X_train, X_test, y_train, y_test = train_test_split(X, Y, test_size=0.2, shuffle=True, seed=123)"
      ]
    },
    {
      "cell_type": "code",
      "execution_count": null,
      "id": "f4b07836",
      "metadata": {
        "id": "f4b07836"
      },
      "outputs": [],
      "source": [
        "dt = ClassificationTree(min_samples_split=1, min_impurity=1e-7, max_depth=2)\n",
        "dt.fit(X_train, y_train)"
      ]
    },
    {
      "cell_type": "code",
      "execution_count": null,
      "id": "91883df0",
      "metadata": {
        "id": "91883df0",
        "outputId": "c61ac158-0d6d-4050-b1a3-f1a959ef661c"
      },
      "outputs": [
        {
          "data": {
            "text/plain": [
              "<matplotlib.collections.PathCollection at 0x14092b1fad0>"
            ]
          },
          "execution_count": 10,
          "metadata": {},
          "output_type": "execute_result"
        },
        {
          "data": {
            "image/png": "[encoded data removed]",
            "text/plain": [
              "<Figure size 640x480 with 1 Axes>"
            ]
          },
          "metadata": {},
          "output_type": "display_data"
        }
      ],
      "source": [
        "y_pred = dt.predict(X_train)\n",
        "plt.scatter(X_train[:, 0], X_train[:, 1], c=y_pred)"
      ]
    },
    {
      "cell_type": "code",
      "execution_count": null,
      "id": "3653140c",
      "metadata": {
        "id": "3653140c",
        "outputId": "6da4ded0-dbe7-400c-f054-d5d6bc406982"
      },
      "outputs": [
        {
          "data": {
            "text/plain": [
              "<matplotlib.collections.PathCollection at 0x14096e8fd10>"
            ]
          },
          "execution_count": 11,
          "metadata": {},
          "output_type": "execute_result"
        },
        {
          "data": {
            "image/png": "[encoded data removed]",
            "text/plain": [
              "<Figure size 640x480 with 1 Axes>"
            ]
          },
          "metadata": {},
          "output_type": "display_data"
        }
      ],
      "source": [
        "y_pred = dt.predict(X_test)\n",
        "plt.scatter(X_test[:, 0], X_test[:, 1], c=y_pred)"
      ]
    },
    {
      "cell_type": "code",
      "execution_count": null,
      "id": "ed77543b",
      "metadata": {
        "id": "ed77543b",
        "outputId": "842879b2-9e5a-4213-f53b-55b072276731"
      },
      "outputs": [
        {
          "name": "stdout",
          "output_type": "stream",
          "text": [
            "0:-0.7045317592446643? \n",
            " T->1.0\n",
            " F->0.0\n"
          ]
        }
      ],
      "source": [
        "dt.print_tree()"
      ]
    },
    {
      "cell_type": "code",
      "execution_count": null,
      "id": "9e436795",
      "metadata": {
        "id": "9e436795"
      },
      "outputs": [],
      "source": [
        "class GradientBoosting(object):\n",
        "    \"\"\"Родительский класс для GradientBoostingClassifier и GradientBoostinRegressor.\n",
        "    Использует набор деревьев для обучения предсказанию градиента функции потерь.\n",
        "\n",
        "    Параметры:\n",
        "    -----------\n",
        "    n_estimators: int\n",
        "        Число деревьев.\n",
        "    learning_rate: float\n",
        "        Скорость обучения - длина шага в направлении антиградиента\n",
        "    min_samples_split: int\n",
        "        Минимальное количество объектов, необходимое для разбиения при построении дерева.\n",
        "    min_impurity: float\n",
        "        Минимальная информативность, необходимая для дальнейшего ветвления при построении дерева.\n",
        "    max_depth: int\n",
        "        Максимальная глубина дерева.\n",
        "    loss: function\n",
        "        Функция потерь, используемая в градиентном бустинге для вычисления информативности.\n",
        "    regression: boolean\n",
        "        Регрессия или классификация.\n",
        "    \"\"\"\n",
        "    def __init__(self, n_estimators, learning_rate, min_samples_split,\n",
        "                 min_impurity, max_depth, regression):\n",
        "        self.n_estimators = n_estimators\n",
        "        self.learning_rate = learning_rate\n",
        "        self.min_samples_split = min_samples_split\n",
        "        self.min_impurity = min_impurity\n",
        "        self.max_depth = max_depth\n",
        "        self.regression = regression\n",
        "        self.bar = progressbar.ProgressBar(widgets=bar_widgets)\n",
        "\n",
        "        # Средняя квадратичная ошибка для регрессии, кросс-энтропия для классификации\n",
        "        self.loss = SquareLoss()\n",
        "        if not self.regression:\n",
        "            self.loss = CrossEntropy()\n",
        "\n",
        "        # Инициализация\n",
        "        self.trees = []\n",
        "        for _ in range(n_estimators):\n",
        "            tree = RegressionTree(\n",
        "                    min_samples_split=self.min_samples_split,\n",
        "                    min_impurity=min_impurity,\n",
        "                    max_depth=self.max_depth)\n",
        "            self.trees.append(tree)\n",
        "\n",
        "\n",
        "    def fit(self, X, y):\n",
        "\n",
        "        for i in self.bar(range(self.n_estimators)):\n",
        "            if i == 0:\n",
        "                self.trees[0].fit(X, y)\n",
        "                y_pred = np.array(self.trees[0].predict(X))\n",
        "                continue\n",
        "            gradient = self.loss.gradient(y, y_pred)\n",
        "            gradient *= -1 * self.learning_rate\n",
        "            self.trees[i].fit(X, gradient)\n",
        "            update = self.trees[i].predict(X)\n",
        "            # Обновление прогноза y\n",
        "            y_pred += update\n",
        "\n",
        "\n",
        "    def predict(self, X):\n",
        "        y_pred = np.array([])\n",
        "        # Вычисление прогнозов\n",
        "        for tree in self.trees:\n",
        "            update = np.array(tree.predict(X))\n",
        "            y_pred = update if not len(y_pred) else y_pred + update\n",
        "\n",
        "        if not self.regression:\n",
        "            # переход к распределению вероятностей\n",
        "            y_pred = np.exp(y_pred) / np.expand_dims(np.sum(np.exp(y_pred), axis=1), axis=1)\n",
        "            # Прогноз - значение с максимальной вероятностью\n",
        "            y_pred = np.argmax(y_pred, axis=1)\n",
        "        return y_pred\n",
        "\n",
        "\n",
        "class GradientBoostingRegressor(GradientBoosting):\n",
        "    def __init__(self, n_estimators=200, learning_rate=0.5, min_samples_split=2,\n",
        "                 min_var_red=1e-7, max_depth=4, debug=False):\n",
        "        super(GradientBoostingRegressor, self).__init__(n_estimators=n_estimators,\n",
        "            learning_rate=learning_rate,\n",
        "            min_samples_split=min_samples_split,\n",
        "            min_impurity=min_var_red,\n",
        "            max_depth=max_depth,\n",
        "            regression=True)\n",
        "\n",
        "class GradientBoostingClassifier(GradientBoosting):\n",
        "    def __init__(self, n_estimators=200, learning_rate=.5, min_samples_split=2,\n",
        "                 min_info_gain=1e-7, max_depth=2, debug=False):\n",
        "        super(GradientBoostingClassifier, self).__init__(n_estimators=n_estimators,\n",
        "            learning_rate=learning_rate,\n",
        "            min_samples_split=min_samples_split,\n",
        "            min_impurity=min_info_gain,\n",
        "            max_depth=max_depth,\n",
        "            regression=False)\n",
        "\n",
        "    def fit(self, X, y):\n",
        "        y = to_categorical(y)\n",
        "        super(GradientBoostingClassifier, self).fit(X, y)"
      ]
    },
    {
      "cell_type": "code",
      "execution_count": null,
      "id": "28f446a9",
      "metadata": {
        "colab": {
          "background_save": true
        },
        "id": "28f446a9",
        "outputId": "bcbc20eb-d3cc-42b5-e261-41ea2dc2026b"
      },
      "outputs": [
        {
          "name": "stderr",
          "output_type": "stream",
          "text": [
            "Обучение: 100% [-----------------------------------------------] Time:  0:00:34\n"
          ]
        },
        {
          "data": {
            "text/plain": [
              "<matplotlib.collections.PathCollection at 0x7c919dc70df0>"
            ]
          },
          "execution_count": 14,
          "metadata": {},
          "output_type": "execute_result"
        },
        {
          "data": {
            "image/png": "[encoded data removed]",
            "text/plain": [
              "<Figure size 640x480 with 1 Axes>"
            ]
          },
          "metadata": {},
          "output_type": "display_data"
        }
      ],
      "source": [
        "gbc = GradientBoostingClassifier(n_estimators=100, learning_rate=.5, min_samples_split=1, min_info_gain=1e-7, max_depth=4, debug=False)\n",
        "gbc.fit(X_train, y_train)\n",
        "y_pred = gbc.predict(X_train)\n",
        "plt.scatter(X_train[:, 0], X_train[:, 1], c=y_pred)"
      ]
    },
    {
      "cell_type": "code",
      "execution_count": null,
      "id": "7203f0a3",
      "metadata": {
        "colab": {
          "background_save": true
        },
        "id": "7203f0a3",
        "outputId": "de909a78-2872-4f88-9fa9-45856204e08e"
      },
      "outputs": [
        {
          "data": {
            "text/plain": [
              "<matplotlib.collections.PathCollection at 0x7c919dcb4490>"
            ]
          },
          "execution_count": 15,
          "metadata": {},
          "output_type": "execute_result"
        },
        {
          "data": {
            "image/png": "[encoded data removed]",
            "text/plain": [
              "<Figure size 640x480 with 1 Axes>"
            ]
          },
          "metadata": {},
          "output_type": "display_data"
        }
      ],
      "source": [
        "y_pred = dt.predict(X_test)\n",
        "plt.scatter(X_test[:, 0], X_test[:, 1], c=y_pred)"
      ]
    },
    {
      "cell_type": "code",
      "execution_count": null,
      "id": "13cb4d94",
      "metadata": {
        "colab": {
          "background_save": true
        },
        "id": "13cb4d94",
        "outputId": "7489fd05-33be-41bf-8571-32bfd45bc8f1"
      },
      "outputs": [
        {
          "name": "stdout",
          "output_type": "stream",
          "text": [
            "0:-0.7045317592446643? \n",
            " T->[0. 1.]\n",
            " F->[1. 0.]\n",
            "0:-0.7045317592446643? \n",
            " T->[-0.5  0.5]\n",
            " F->[ 0.5 -0.5]\n",
            "0:-0.7045317592446643? \n",
            " T->[-0.5  0.5]\n",
            " F->[ 0.5 -0.5]\n",
            "0:-0.7045317592446643? \n",
            " T->[-0.5  0.5]\n",
            " F->[ 0.5 -0.5]\n",
            "0:-0.7045317592446643? \n",
            " T->[-0.5  0.5]\n",
            " F->[ 0.5 -0.5]\n",
            "0:-0.7045317592446643? \n",
            " T->[-0.5  0.5]\n",
            " F->[ 0.5 -0.5]\n",
            "0:-0.7045317592446643? \n",
            " T->[-0.5  0.5]\n",
            " F->[ 0.5 -0.5]\n",
            "0:-0.7045317592446643? \n",
            " T->[-0.5  0.5]\n",
            " F->[ 0.5 -0.5]\n",
            "0:-0.7045317592446643? \n",
            " T->[-0.5  0.5]\n",
            " F->[ 0.5 -0.5]\n",
            "0:-0.7045317592446643? \n",
            " T->[-0.5  0.5]\n",
            " F->[ 0.5 -0.5]\n",
            "0:-0.7045317592446643? \n",
            " T->[-0.5  0.5]\n",
            " F->[ 0.5 -0.5]\n",
            "0:-0.7045317592446643? \n",
            " T->[-0.5  0.5]\n",
            " F->[ 0.5 -0.5]\n",
            "0:-0.7045317592446643? \n",
            " T->[-0.5  0.5]\n",
            " F->[ 0.5 -0.5]\n",
            "0:-0.7045317592446643? \n",
            " T->[-0.5  0.5]\n",
            " F->[ 0.5 -0.5]\n",
            "0:-0.7045317592446643? \n",
            " T->[-0.5  0.5]\n",
            " F->[ 0.5 -0.5]\n",
            "0:-0.7045317592446643? \n",
            " T->[-0.5  0.5]\n",
            " F->[ 0.5 -0.5]\n",
            "0:-0.7045317592446643? \n",
            " T->[-0.5  0.5]\n",
            " F->[ 0.5 -0.5]\n",
            "0:-0.7045317592446643? \n",
            " T->[-0.5  0.5]\n",
            " F->[ 0.5 -0.5]\n",
            "0:-0.7045317592446643? \n",
            " T->[-0.5  0.5]\n",
            " F->[ 0.5 -0.5]\n",
            "0:-0.7045317592446643? \n",
            " T->[-0.5  0.5]\n",
            " F->[ 0.5 -0.5]\n",
            "0:-0.7045317592446643? \n",
            " T->[-0.5  0.5]\n",
            " F->[ 0.5 -0.5]\n",
            "0:-0.7045317592446643? \n",
            " T->[-0.5  0.5]\n",
            " F->[ 0.5 -0.5]\n",
            "0:-0.7045317592446643? \n",
            " T->[-0.5  0.5]\n",
            " F->[ 0.5 -0.5]\n",
            "0:-0.7045317592446643? \n",
            " T->[-0.5  0.5]\n",
            " F->[ 0.5 -0.5]\n",
            "0:-0.7045317592446643? \n",
            " T->[-0.5  0.5]\n",
            " F->[ 0.5 -0.5]\n",
            "0:-0.7045317592446643? \n",
            " T->[-0.5  0.5]\n",
            " F->[ 0.5 -0.5]\n",
            "0:-0.7045317592446643? \n",
            " T->[-0.5  0.5]\n",
            " F->[ 0.5 -0.5]\n",
            "0:-0.7045317592446643? \n",
            " T->[-0.5  0.5]\n",
            " F->[ 0.5 -0.5]\n",
            "0:-0.7045317592446643? \n",
            " T->[-0.5  0.5]\n",
            " F->[ 0.5 -0.5]\n",
            "0:-0.7045317592446643? \n",
            " T->[-0.5  0.5]\n",
            " F->[ 0.5 -0.5]\n",
            "0:-0.7045317592446643? \n",
            " T->[-0.5  0.5]\n",
            " F->[ 0.5 -0.5]\n",
            "0:-0.7045317592446643? \n",
            " T->[-0.5  0.5]\n",
            " F->[ 0.5 -0.5]\n",
            "0:-0.7045317592446643? \n",
            " T->[-0.5  0.5]\n",
            " F->[ 0.5 -0.5]\n",
            "0:-0.7045317592446643? \n",
            " T->[-0.5  0.5]\n",
            " F->[ 0.5 -0.5]\n",
            "0:-0.7045317592446643? \n",
            " T->[-0.5  0.5]\n",
            " F->[ 0.5 -0.5]\n",
            "0:-0.7045317592446643? \n",
            " T->[-0.5  0.5]\n",
            " F->[ 0.5 -0.5]\n",
            "0:-0.7045317592446643? \n",
            " T->[-0.5  0.5]\n",
            " F->[ 0.5 -0.5]\n",
            "0:-0.7045317592446643? \n",
            " T->[-0.5  0.5]\n",
            " F->[ 0.5 -0.5]\n",
            "0:-0.7045317592446643? \n",
            " T->[-0.5  0.5]\n",
            " F->[ 0.5 -0.5]\n",
            "0:-0.7045317592446643? \n",
            " T->[-0.5  0.5]\n",
            " F->[ 0.5 -0.5]\n",
            "0:-0.7045317592446643? \n",
            " T->[-0.5  0.5]\n",
            " F->[ 0.5 -0.5]\n",
            "0:-0.7045317592446643? \n",
            " T->[-0.5  0.5]\n",
            " F->[ 0.5 -0.5]\n",
            "0:-0.7045317592446643? \n",
            " T->[-0.5  0.5]\n",
            " F->[ 0.5 -0.5]\n",
            "0:-0.7045317592446643? \n",
            " T->[-0.5  0.5]\n",
            " F->[ 0.5 -0.5]\n",
            "0:-0.7045317592446643? \n",
            " T->[-0.5  0.5]\n",
            " F->[ 0.5 -0.5]\n",
            "0:-0.7045317592446643? \n",
            " T->[-0.5  0.5]\n",
            " F->[ 0.5 -0.5]\n",
            "0:-0.7045317592446643? \n",
            " T->[-0.5  0.5]\n",
            " F->[ 0.5 -0.5]\n",
            "0:-0.7045317592446643? \n",
            " T->[-0.5  0.5]\n",
            " F->[ 0.5 -0.5]\n",
            "0:-0.7045317592446643? \n",
            " T->[-0.5  0.5]\n",
            " F->[ 0.5 -0.5]\n",
            "0:-0.7045317592446643? \n",
            " T->[-0.5  0.5]\n",
            " F->[ 0.5 -0.5]\n",
            "0:-0.7045317592446643? \n",
            " T->[-0.5  0.5]\n",
            " F->[ 0.5 -0.5]\n",
            "0:-0.7045317592446643? \n",
            " T->[-0.5  0.5]\n",
            " F->[ 0.5 -0.5]\n",
            "0:-0.7045317592446643? \n",
            " T->[-0.5  0.5]\n",
            " F->[ 0.5 -0.5]\n",
            "0:-0.7045317592446643? \n",
            " T->[-0.5  0.5]\n",
            " F->[ 0.5 -0.5]\n",
            "0:-0.7045317592446643? \n",
            " T->[-0.5  0.5]\n",
            " F->[ 0.5 -0.5]\n",
            "0:-0.7045317592446643? \n",
            " T->[-0.5  0.5]\n",
            " F->[ 0.5 -0.5]\n",
            "0:-0.7045317592446643? \n",
            " T->[-0.5  0.5]\n",
            " F->[ 0.5 -0.5]\n",
            "0:-0.7045317592446643? \n",
            " T->[-0.5  0.5]\n",
            " F->[ 0.5 -0.5]\n",
            "0:-0.7045317592446643? \n",
            " T->[-0.5  0.5]\n",
            " F->[ 0.5 -0.5]\n",
            "0:-0.7045317592446643? \n",
            " T->[-0.5  0.5]\n",
            " F->[ 0.5 -0.5]\n",
            "0:-0.7045317592446643? \n",
            " T->[-0.5  0.5]\n",
            " F->[ 0.5 -0.5]\n",
            "0:-0.7045317592446643? \n",
            " T->[-0.5  0.5]\n",
            " F->[ 0.5 -0.5]\n",
            "0:-0.7045317592446643? \n",
            " T->[-0.5  0.5]\n",
            " F->[ 0.5 -0.5]\n",
            "0:-0.7045317592446643? \n",
            " T->[-0.5  0.5]\n",
            " F->[ 0.5 -0.5]\n",
            "0:-0.7045317592446643? \n",
            " T->[-0.5  0.5]\n",
            " F->[ 0.5 -0.5]\n",
            "0:-0.7045317592446643? \n",
            " T->[-0.5  0.5]\n",
            " F->[ 0.5 -0.5]\n",
            "0:-0.7045317592446643? \n",
            " T->[-0.5  0.5]\n",
            " F->[ 0.5 -0.5]\n",
            "0:-0.7045317592446643? \n",
            " T->[-0.5  0.5]\n",
            " F->[ 0.5 -0.5]\n",
            "0:-0.7045317592446643? \n",
            " T->[-0.5  0.5]\n",
            " F->[ 0.5 -0.5]\n",
            "0:-0.7045317592446643? \n",
            " T->[-0.5  0.5]\n",
            " F->[ 0.5 -0.5]\n",
            "0:-0.7045317592446643? \n",
            " T->[-0.5  0.5]\n",
            " F->[ 0.5 -0.5]\n",
            "0:-0.7045317592446643? \n",
            " T->[-0.5  0.5]\n",
            " F->[ 0.5 -0.5]\n",
            "0:-0.7045317592446643? \n",
            " T->[-0.5  0.5]\n",
            " F->[ 0.5 -0.5]\n",
            "0:-0.7045317592446643? \n",
            " T->[-0.5  0.5]\n",
            " F->[ 0.5 -0.5]\n",
            "0:-0.7045317592446643? \n",
            " T->[-0.5  0.5]\n",
            " F->[ 0.5 -0.5]\n",
            "0:-0.7045317592446643? \n",
            " T->[-0.5  0.5]\n",
            " F->[ 0.5 -0.5]\n",
            "0:-0.7045317592446643? \n",
            " T->[-0.5  0.5]\n",
            " F->[ 0.5 -0.5]\n",
            "0:-0.7045317592446643? \n",
            " T->[-0.5  0.5]\n",
            " F->[ 0.5 -0.5]\n",
            "0:-0.7045317592446643? \n",
            " T->[-0.5  0.5]\n",
            " F->[ 0.5 -0.5]\n",
            "0:-0.7045317592446643? \n",
            " T->[-0.5  0.5]\n",
            " F->[ 0.5 -0.5]\n",
            "0:-0.7045317592446643? \n",
            " T->[-0.5  0.5]\n",
            " F->[ 0.5 -0.5]\n",
            "0:-0.7045317592446643? \n",
            " T->[-0.5  0.5]\n",
            " F->[ 0.5 -0.5]\n",
            "0:-0.7045317592446643? \n",
            " T->[-0.5  0.5]\n",
            " F->[ 0.5 -0.5]\n",
            "0:-0.7045317592446643? \n",
            " T->[-0.5  0.5]\n",
            " F->[ 0.5 -0.5]\n",
            "0:-0.7045317592446643? \n",
            " T->[-0.5  0.5]\n",
            " F->[ 0.5 -0.5]\n",
            "0:-0.7045317592446643? \n",
            " T->[-0.5  0.5]\n",
            " F->[ 0.5 -0.5]\n",
            "0:-0.7045317592446643? \n",
            " T->[-0.5  0.5]\n",
            " F->[ 0.5 -0.5]\n",
            "0:-0.7045317592446643? \n",
            " T->[-0.5  0.5]\n",
            " F->[ 0.5 -0.5]\n",
            "0:-0.7045317592446643? \n",
            " T->[-0.5  0.5]\n",
            " F->[ 0.5 -0.5]\n",
            "0:-0.7045317592446643? \n",
            " T->[-0.5  0.5]\n",
            " F->[ 0.5 -0.5]\n",
            "0:-0.7045317592446643? \n",
            " T->[-0.5  0.5]\n",
            " F->[ 0.5 -0.5]\n",
            "0:-0.7045317592446643? \n",
            " T->[-0.5  0.5]\n",
            " F->[ 0.5 -0.5]\n",
            "0:-0.7045317592446643? \n",
            " T->[-0.5  0.5]\n",
            " F->[ 0.5 -0.5]\n",
            "0:-0.7045317592446643? \n",
            " T->[-0.5  0.5]\n",
            " F->[ 0.5 -0.5]\n",
            "0:-0.7045317592446643? \n",
            " T->[-0.5  0.5]\n",
            " F->[ 0.5 -0.5]\n",
            "0:-0.7045317592446643? \n",
            " T->[-0.5  0.5]\n",
            " F->[ 0.5 -0.5]\n",
            "0:-0.7045317592446643? \n",
            " T->[-0.5  0.5]\n",
            " F->[ 0.5 -0.5]\n",
            "0:-0.7045317592446643? \n",
            " T->[-0.5  0.5]\n",
            " F->[ 0.5 -0.5]\n",
            "0:-0.7045317592446643? \n",
            " T->[-0.5  0.5]\n",
            " F->[ 0.5 -0.5]\n",
            "0:-0.7045317592446643? \n",
            " T->[-0.5  0.5]\n",
            " F->[ 0.5 -0.5]\n"
          ]
        }
      ],
      "source": [
        "for t in gbc.trees:\n",
        "    t.print_tree()"
      ]
    },
    {
      "cell_type": "code",
      "execution_count": null,
      "id": "0d56c8d4",
      "metadata": {
        "colab": {
          "background_save": true
        },
        "id": "0d56c8d4",
        "outputId": "ddefb3f5-3a06-44e7-e9f6-aad795d6df49"
      },
      "outputs": [
        {
          "name": "stderr",
          "output_type": "stream",
          "text": [
            "Обучение: 100% [-----------------------------------------------] Time:  0:00:07\n"
          ]
        },
        {
          "data": {
            "text/plain": [
              "<matplotlib.collections.PathCollection at 0x7c919db7f7f0>"
            ]
          },
          "execution_count": 17,
          "metadata": {},
          "output_type": "execute_result"
        },
        {
          "data": {
            "image/png": "[encoded data removed]",
            "text/plain": [
              "<Figure size 640x480 with 1 Axes>"
            ]
          },
          "metadata": {},
          "output_type": "display_data"
        }
      ],
      "source": [
        "X_ = iris.data\n",
        "X_train, X_test, y_train, y_test = train_test_split(X_, Y, test_size=0.2, shuffle=True, seed=123)\n",
        "gbc = GradientBoostingClassifier(n_estimators=100, learning_rate=.05, min_samples_split=10, min_info_gain=1e-7, max_depth=4, debug=False)\n",
        "gbc.fit(X_train, y_train)\n",
        "y_pred = gbc.predict(X_train)\n",
        "plt.scatter(X_train[:, 0], X_train[:, 1], c=y_pred)"
      ]
    },
    {
      "cell_type": "code",
      "execution_count": null,
      "id": "64a0e01d",
      "metadata": {
        "colab": {
          "background_save": true
        },
        "id": "64a0e01d",
        "outputId": "cd6594d5-818e-4a6f-bd40-dd4171bc5b6a"
      },
      "outputs": [
        {
          "name": "stdout",
          "output_type": "stream",
          "text": [
            "2:3.3? \n",
            " T->[0. 1.]\n",
            " F->[1. 0.]\n",
            "2:3.3? \n",
            " T->[-0.05  0.05]\n",
            " F->[ 0.05 -0.05]\n",
            "2:3.3? \n",
            " T->[-0.05  0.05]\n",
            " F->[ 0.05 -0.05]\n",
            "2:3.3? \n",
            " T->[-0.05  0.05]\n",
            " F->[ 0.05 -0.05]\n",
            "2:3.3? \n",
            " T->[-0.05  0.05]\n",
            " F->[ 0.05 -0.05]\n",
            "2:3.3? \n",
            " T->[-0.05  0.05]\n",
            " F->[ 0.05 -0.05]\n",
            "2:3.3? \n",
            " T->[-0.05  0.05]\n",
            " F->[ 0.05 -0.05]\n",
            "2:3.3? \n",
            " T->[-0.05  0.05]\n",
            " F->[ 0.05 -0.05]\n",
            "2:3.3? \n",
            " T->[-0.05  0.05]\n",
            " F->[ 0.05 -0.05]\n",
            "2:3.3? \n",
            " T->[-0.05  0.05]\n",
            " F->[ 0.05 -0.05]\n",
            "2:3.3? \n",
            " T->[-0.05  0.05]\n",
            " F->[ 0.05 -0.05]\n",
            "2:3.3? \n",
            " T->[-0.05  0.05]\n",
            " F->[ 0.05 -0.05]\n",
            "2:3.3? \n",
            " T->[-0.05  0.05]\n",
            " F->[ 0.05 -0.05]\n",
            "2:3.3? \n",
            " T->[-0.05  0.05]\n",
            " F->[ 0.05 -0.05]\n",
            "2:3.3? \n",
            " T->[-0.05  0.05]\n",
            " F->[ 0.05 -0.05]\n",
            "2:3.3? \n",
            " T->[-0.05  0.05]\n",
            " F->[ 0.05 -0.05]\n",
            "2:3.3? \n",
            " T->[-0.05  0.05]\n",
            " F->[ 0.05 -0.05]\n",
            "2:3.3? \n",
            " T->[-0.05  0.05]\n",
            " F->[ 0.05 -0.05]\n",
            "2:3.3? \n",
            " T->[-0.05  0.05]\n",
            " F->[ 0.05 -0.05]\n",
            "2:3.3? \n",
            " T->[-0.05  0.05]\n",
            " F->[ 0.05 -0.05]\n",
            "2:3.3? \n",
            " T->[-0.05  0.05]\n",
            " F->[ 0.05 -0.05]\n",
            "2:3.3? \n",
            " T->[-0.05  0.05]\n",
            " F->[ 0.05 -0.05]\n",
            "2:3.3? \n",
            " T->[-0.05  0.05]\n",
            " F->[ 0.05 -0.05]\n",
            "2:3.3? \n",
            " T->[-0.05  0.05]\n",
            " F->[ 0.05 -0.05]\n",
            "2:3.3? \n",
            " T->[-0.05  0.05]\n",
            " F->[ 0.05 -0.05]\n",
            "2:3.3? \n",
            " T->[-0.05  0.05]\n",
            " F->[ 0.05 -0.05]\n",
            "2:3.3? \n",
            " T->[-0.05  0.05]\n",
            " F->[ 0.05 -0.05]\n",
            "2:3.3? \n",
            " T->[-0.05  0.05]\n",
            " F->[ 0.05 -0.05]\n",
            "2:3.3? \n",
            " T->[-0.05  0.05]\n",
            " F->[ 0.05 -0.05]\n",
            "2:3.3? \n",
            " T->[-0.05  0.05]\n",
            " F->[ 0.05 -0.05]\n",
            "2:3.3? \n",
            " T->[-0.05  0.05]\n",
            " F->[ 0.05 -0.05]\n",
            "2:3.3? \n",
            " T->[-0.05  0.05]\n",
            " F->[ 0.05 -0.05]\n",
            "2:3.3? \n",
            " T->[-0.05  0.05]\n",
            " F->[ 0.05 -0.05]\n",
            "2:3.3? \n",
            " T->[-0.05  0.05]\n",
            " F->[ 0.05 -0.05]\n",
            "2:3.3? \n",
            " T->[-0.05  0.05]\n",
            " F->[ 0.05 -0.05]\n",
            "2:3.3? \n",
            " T->[-0.05  0.05]\n",
            " F->[ 0.05 -0.05]\n",
            "2:3.3? \n",
            " T->[-0.05  0.05]\n",
            " F->[ 0.05 -0.05]\n",
            "2:3.3? \n",
            " T->[-0.05  0.05]\n",
            " F->[ 0.05 -0.05]\n",
            "2:3.3? \n",
            " T->[-0.05  0.05]\n",
            " F->[ 0.05 -0.05]\n",
            "2:3.3? \n",
            " T->[-0.05  0.05]\n",
            " F->[ 0.05 -0.05]\n",
            "2:3.3? \n",
            " T->[-0.05  0.05]\n",
            " F->[ 0.05 -0.05]\n",
            "2:3.3? \n",
            " T->[-0.05  0.05]\n",
            " F->[ 0.05 -0.05]\n",
            "2:3.3? \n",
            " T->[-0.05  0.05]\n",
            " F->[ 0.05 -0.05]\n",
            "2:3.3? \n",
            " T->[-0.05  0.05]\n",
            " F->[ 0.05 -0.05]\n",
            "2:3.3? \n",
            " T->[-0.05  0.05]\n",
            " F->[ 0.05 -0.05]\n",
            "2:3.3? \n",
            " T->[-0.05  0.05]\n",
            " F->[ 0.05 -0.05]\n",
            "2:3.3? \n",
            " T->[-0.05  0.05]\n",
            " F->[ 0.05 -0.05]\n",
            "2:3.3? \n",
            " T->[-0.05  0.05]\n",
            " F->[ 0.05 -0.05]\n",
            "2:3.3? \n",
            " T->[-0.05  0.05]\n",
            " F->[ 0.05 -0.05]\n",
            "2:3.3? \n",
            " T->[-0.05  0.05]\n",
            " F->[ 0.05 -0.05]\n",
            "2:3.3? \n",
            " T->[-0.05  0.05]\n",
            " F->[ 0.05 -0.05]\n",
            "2:3.3? \n",
            " T->[-0.05  0.05]\n",
            " F->[ 0.05 -0.05]\n",
            "2:3.3? \n",
            " T->[-0.05  0.05]\n",
            " F->[ 0.05 -0.05]\n",
            "2:3.3? \n",
            " T->[-0.05  0.05]\n",
            " F->[ 0.05 -0.05]\n",
            "2:3.3? \n",
            " T->[-0.05  0.05]\n",
            " F->[ 0.05 -0.05]\n",
            "2:3.3? \n",
            " T->[-0.05  0.05]\n",
            " F->[ 0.05 -0.05]\n",
            "2:3.3? \n",
            " T->[-0.05  0.05]\n",
            " F->[ 0.05 -0.05]\n",
            "2:3.3? \n",
            " T->[-0.05  0.05]\n",
            " F->[ 0.05 -0.05]\n",
            "2:3.3? \n",
            " T->[-0.05  0.05]\n",
            " F->[ 0.05 -0.05]\n",
            "2:3.3? \n",
            " T->[-0.05  0.05]\n",
            " F->[ 0.05 -0.05]\n",
            "2:3.3? \n",
            " T->[-0.05  0.05]\n",
            " F->[ 0.05 -0.05]\n",
            "2:3.3? \n",
            " T->[-0.05  0.05]\n",
            " F->[ 0.05 -0.05]\n",
            "2:3.3? \n",
            " T->[-0.05  0.05]\n",
            " F->[ 0.05 -0.05]\n",
            "2:3.3? \n",
            " T->[-0.05  0.05]\n",
            " F->[ 0.05 -0.05]\n",
            "2:3.3? \n",
            " T->[-0.05  0.05]\n",
            " F->[ 0.05 -0.05]\n",
            "2:3.3? \n",
            " T->[-0.05  0.05]\n",
            " F->[ 0.05 -0.05]\n",
            "2:3.3? \n",
            " T->[-0.05  0.05]\n",
            " F->[ 0.05 -0.05]\n",
            "2:3.3? \n",
            " T->[-0.05  0.05]\n",
            " F->[ 0.05 -0.05]\n",
            "2:3.3? \n",
            " T->[-0.05  0.05]\n",
            " F->[ 0.05 -0.05]\n",
            "2:3.3? \n",
            " T->[-0.05  0.05]\n",
            " F->[ 0.05 -0.05]\n",
            "2:3.3? \n",
            " T->[-0.05  0.05]\n",
            " F->[ 0.05 -0.05]\n",
            "2:3.3? \n",
            " T->[-0.05  0.05]\n",
            " F->[ 0.05 -0.05]\n",
            "2:3.3? \n",
            " T->[-0.05  0.05]\n",
            " F->[ 0.05 -0.05]\n",
            "2:3.3? \n",
            " T->[-0.05  0.05]\n",
            " F->[ 0.05 -0.05]\n",
            "2:3.3? \n",
            " T->[-0.05  0.05]\n",
            " F->[ 0.05 -0.05]\n",
            "2:3.3? \n",
            " T->[-0.05  0.05]\n",
            " F->[ 0.05 -0.05]\n",
            "2:3.3? \n",
            " T->[-0.05  0.05]\n",
            " F->[ 0.05 -0.05]\n",
            "2:3.3? \n",
            " T->[-0.05  0.05]\n",
            " F->[ 0.05 -0.05]\n",
            "2:3.3? \n",
            " T->[-0.05  0.05]\n",
            " F->[ 0.05 -0.05]\n",
            "2:3.3? \n",
            " T->[-0.05  0.05]\n",
            " F->[ 0.05 -0.05]\n",
            "2:3.3? \n",
            " T->[-0.05  0.05]\n",
            " F->[ 0.05 -0.05]\n",
            "2:3.3? \n",
            " T->[-0.05  0.05]\n",
            " F->[ 0.05 -0.05]\n",
            "2:3.3? \n",
            " T->[-0.05  0.05]\n",
            " F->[ 0.05 -0.05]\n",
            "2:3.3? \n",
            " T->[-0.05  0.05]\n",
            " F->[ 0.05 -0.05]\n",
            "2:3.3? \n",
            " T->[-0.05  0.05]\n",
            " F->[ 0.05 -0.05]\n",
            "2:3.3? \n",
            " T->[-0.05  0.05]\n",
            " F->[ 0.05 -0.05]\n",
            "2:3.3? \n",
            " T->[-0.05  0.05]\n",
            " F->[ 0.05 -0.05]\n",
            "2:3.3? \n",
            " T->[-0.05  0.05]\n",
            " F->[ 0.05 -0.05]\n",
            "2:3.3? \n",
            " T->[-0.05  0.05]\n",
            " F->[ 0.05 -0.05]\n",
            "2:3.3? \n",
            " T->[-0.05  0.05]\n",
            " F->[ 0.05 -0.05]\n",
            "2:3.3? \n",
            " T->[-0.05  0.05]\n",
            " F->[ 0.05 -0.05]\n",
            "2:3.3? \n",
            " T->[-0.05  0.05]\n",
            " F->[ 0.05 -0.05]\n",
            "2:3.3? \n",
            " T->[-0.05  0.05]\n",
            " F->[ 0.05 -0.05]\n",
            "2:3.3? \n",
            " T->[-0.05  0.05]\n",
            " F->[ 0.05 -0.05]\n",
            "2:3.3? \n",
            " T->[-0.05  0.05]\n",
            " F->[ 0.05 -0.05]\n",
            "2:3.3? \n",
            " T->[-0.05  0.05]\n",
            " F->[ 0.05 -0.05]\n",
            "2:3.3? \n",
            " T->[-0.05  0.05]\n",
            " F->[ 0.05 -0.05]\n",
            "2:3.3? \n",
            " T->[-0.05  0.05]\n",
            " F->[ 0.05 -0.05]\n",
            "2:3.3? \n",
            " T->[-0.05  0.05]\n",
            " F->[ 0.05 -0.05]\n",
            "2:3.3? \n",
            " T->[-0.05  0.05]\n",
            " F->[ 0.05 -0.05]\n"
          ]
        }
      ],
      "source": [
        "for t in gbc.trees:\n",
        "    t.print_tree()"
      ]
    },
    {
      "cell_type": "code",
      "execution_count": null,
      "id": "99fa7367",
      "metadata": {
        "colab": {
          "background_save": true
        },
        "id": "99fa7367",
        "outputId": "91eb435d-b6d9-4774-a03a-88f6ee9049c7"
      },
      "outputs": [
        {
          "data": {
            "text/plain": [
              "<matplotlib.collections.PathCollection at 0x7c919dc11750>"
            ]
          },
          "execution_count": 19,
          "metadata": {},
          "output_type": "execute_result"
        },
        {
          "data": {
            "image/png": "[encoded data removed]",
            "text/plain": [
              "<Figure size 640x480 with 1 Axes>"
            ]
          },
          "metadata": {},
          "output_type": "display_data"
        }
      ],
      "source": [
        "y_pred = gbc.predict(X_test)\n",
        "plt.scatter(X_test[:, 0], X_test[:, 1], c=y_pred)"
      ]
    },
    {
      "cell_type": "code",
      "execution_count": null,
      "id": "12747991",
      "metadata": {
        "colab": {
          "background_save": true
        },
        "id": "12747991"
      },
      "outputs": [],
      "source": []
    },
    {
      "cell_type": "markdown",
      "id": "751cdff8",
      "metadata": {
        "id": "751cdff8"
      },
      "source": [
        "Реализовать классификацию градиентным бустингом для набора данных German Credit Cards UCI.csv\n",
        "Реализовать регрессию градиентным бустингом для набора данных Video Games\n",
        "Сравнить метрики качества и скорость обучения с ранее построенными моделями."
      ]
    },
    {
      "cell_type": "markdown",
      "id": "3cc64773",
      "metadata": {
        "id": "3cc64773"
      },
      "source": [
        "### German Credit Cards"
      ]
    },
    {
      "cell_type": "code",
      "execution_count": null,
      "id": "71f48c57",
      "metadata": {
        "id": "71f48c57"
      },
      "outputs": [],
      "source": [
        "import pandas as pd\n",
        "from sklearn.preprocessing import StandardScaler"
      ]
    },
    {
      "cell_type": "code",
      "execution_count": null,
      "id": "e1a7da02",
      "metadata": {
        "id": "e1a7da02",
        "outputId": "a0da9c8b-e944-425c-80f2-325f5290f6ed"
      },
      "outputs": [
        {
          "data": {
            "text/html": [
              "<div>\n",
              "<style scoped>\n",
              "    .dataframe tbody tr th:only-of-type {\n",
              "        vertical-align: middle;\n",
              "    }\n",
              "\n",
              "    .dataframe tbody tr th {\n",
              "        vertical-align: top;\n",
              "    }\n",
              "\n",
              "    .dataframe thead th {\n",
              "        text-align: right;\n",
              "    }\n",
              "</style>\n",
              "<table border=\"1\" class=\"dataframe\">\n",
              "  <thead>\n",
              "    <tr style=\"text-align: right;\">\n",
              "      <th></th>\n",
              "      <th>Customer ID</th>\n",
              "      <th>Checking Account Status</th>\n",
              "      <th>Loan Duration (Months)</th>\n",
              "      <th>Credit History</th>\n",
              "      <th>Purpose</th>\n",
              "      <th>Loan Amount</th>\n",
              "      <th>Savings Account Balance</th>\n",
              "      <th>Present Employment Time (Years)</th>\n",
              "      <th>Installment Rate in Percentage of Disposable Income</th>\n",
              "      <th>Personal Status and Gender</th>\n",
              "      <th>...</th>\n",
              "      <th>Property</th>\n",
              "      <th>Age (Years)</th>\n",
              "      <th>Other Credits</th>\n",
              "      <th>Home Ownership</th>\n",
              "      <th>Number of Existing Credits at This Bank</th>\n",
              "      <th>Job Category</th>\n",
              "      <th>Number of Dependents</th>\n",
              "      <th>Telephone</th>\n",
              "      <th>Foreign Worker Status</th>\n",
              "      <th>Loan Status</th>\n",
              "    </tr>\n",
              "  </thead>\n",
              "  <tbody>\n",
              "    <tr>\n",
              "      <th>0</th>\n",
              "      <td>1122334</td>\n",
              "      <td>&lt; 0 DM</td>\n",
              "      <td>6</td>\n",
              "      <td>critical account - other non-bank loans</td>\n",
              "      <td>radio/television</td>\n",
              "      <td>1169</td>\n",
              "      <td>unknown/none</td>\n",
              "      <td>&gt;= 7 years</td>\n",
              "      <td>4</td>\n",
              "      <td>male-single</td>\n",
              "      <td>...</td>\n",
              "      <td>real estate</td>\n",
              "      <td>67</td>\n",
              "      <td>none</td>\n",
              "      <td>own</td>\n",
              "      <td>2</td>\n",
              "      <td>skilled</td>\n",
              "      <td>1</td>\n",
              "      <td>yes</td>\n",
              "      <td>yes</td>\n",
              "      <td>fully paid</td>\n",
              "    </tr>\n",
              "    <tr>\n",
              "      <th>1</th>\n",
              "      <td>6156361</td>\n",
              "      <td>0 - 200 DM</td>\n",
              "      <td>48</td>\n",
              "      <td>current loans paid</td>\n",
              "      <td>radio/television</td>\n",
              "      <td>5951</td>\n",
              "      <td>&lt; 100 DM</td>\n",
              "      <td>1 - 4 years</td>\n",
              "      <td>2</td>\n",
              "      <td>female-divorced/separated/married</td>\n",
              "      <td>...</td>\n",
              "      <td>real estate</td>\n",
              "      <td>22</td>\n",
              "      <td>none</td>\n",
              "      <td>own</td>\n",
              "      <td>1</td>\n",
              "      <td>skilled</td>\n",
              "      <td>1</td>\n",
              "      <td>none</td>\n",
              "      <td>yes</td>\n",
              "      <td>charged off</td>\n",
              "    </tr>\n",
              "    <tr>\n",
              "      <th>2</th>\n",
              "      <td>2051359</td>\n",
              "      <td>none</td>\n",
              "      <td>12</td>\n",
              "      <td>critical account - other non-bank loans</td>\n",
              "      <td>education</td>\n",
              "      <td>2096</td>\n",
              "      <td>&lt; 100 DM</td>\n",
              "      <td>4 - 7 years</td>\n",
              "      <td>2</td>\n",
              "      <td>male-single</td>\n",
              "      <td>...</td>\n",
              "      <td>real estate</td>\n",
              "      <td>49</td>\n",
              "      <td>none</td>\n",
              "      <td>own</td>\n",
              "      <td>1</td>\n",
              "      <td>unskilled-resident</td>\n",
              "      <td>2</td>\n",
              "      <td>none</td>\n",
              "      <td>yes</td>\n",
              "      <td>fully paid</td>\n",
              "    </tr>\n",
              "    <tr>\n",
              "      <th>3</th>\n",
              "      <td>8740590</td>\n",
              "      <td>&lt; 0 DM</td>\n",
              "      <td>42</td>\n",
              "      <td>current loans paid</td>\n",
              "      <td>furniture/equipment</td>\n",
              "      <td>7882</td>\n",
              "      <td>&lt; 100 DM</td>\n",
              "      <td>4 - 7 years</td>\n",
              "      <td>2</td>\n",
              "      <td>male-single</td>\n",
              "      <td>...</td>\n",
              "      <td>building society savings/life insurance</td>\n",
              "      <td>45</td>\n",
              "      <td>none</td>\n",
              "      <td>for free</td>\n",
              "      <td>1</td>\n",
              "      <td>skilled</td>\n",
              "      <td>2</td>\n",
              "      <td>none</td>\n",
              "      <td>yes</td>\n",
              "      <td>fully paid</td>\n",
              "    </tr>\n",
              "    <tr>\n",
              "      <th>4</th>\n",
              "      <td>3924540</td>\n",
              "      <td>&lt; 0 DM</td>\n",
              "      <td>24</td>\n",
              "      <td>past payment delays</td>\n",
              "      <td>car (new)</td>\n",
              "      <td>4870</td>\n",
              "      <td>&lt; 100 DM</td>\n",
              "      <td>1 - 4 years</td>\n",
              "      <td>3</td>\n",
              "      <td>male-single</td>\n",
              "      <td>...</td>\n",
              "      <td>unknown-none</td>\n",
              "      <td>53</td>\n",
              "      <td>none</td>\n",
              "      <td>for free</td>\n",
              "      <td>2</td>\n",
              "      <td>skilled</td>\n",
              "      <td>2</td>\n",
              "      <td>none</td>\n",
              "      <td>yes</td>\n",
              "      <td>charged off</td>\n",
              "    </tr>\n",
              "  </tbody>\n",
              "</table>\n",
              "<p>5 rows × 22 columns</p>\n",
              "</div>"
            ],
            "text/plain": [
              "   Customer ID Checking Account Status  Loan Duration (Months)  \\\n",
              "0      1122334                  < 0 DM                       6   \n",
              "1      6156361              0 - 200 DM                      48   \n",
              "2      2051359                    none                      12   \n",
              "3      8740590                  < 0 DM                      42   \n",
              "4      3924540                  < 0 DM                      24   \n",
              "\n",
              "                            Credit History              Purpose  Loan Amount  \\\n",
              "0  critical account - other non-bank loans     radio/television         1169   \n",
              "1                       current loans paid     radio/television         5951   \n",
              "2  critical account - other non-bank loans            education         2096   \n",
              "3                       current loans paid  furniture/equipment         7882   \n",
              "4                      past payment delays            car (new)         4870   \n",
              "\n",
              "  Savings Account Balance Present Employment Time (Years)  \\\n",
              "0            unknown/none                      >= 7 years   \n",
              "1                < 100 DM                     1 - 4 years   \n",
              "2                < 100 DM                     4 - 7 years   \n",
              "3                < 100 DM                     4 - 7 years   \n",
              "4                < 100 DM                     1 - 4 years   \n",
              "\n",
              "   Installment Rate in Percentage of Disposable Income  \\\n",
              "0                                                  4     \n",
              "1                                                  2     \n",
              "2                                                  2     \n",
              "3                                                  2     \n",
              "4                                                  3     \n",
              "\n",
              "          Personal Status and Gender  ...  \\\n",
              "0                        male-single  ...   \n",
              "1  female-divorced/separated/married  ...   \n",
              "2                        male-single  ...   \n",
              "3                        male-single  ...   \n",
              "4                        male-single  ...   \n",
              "\n",
              "                                  Property  Age (Years) Other Credits  \\\n",
              "0                              real estate           67          none   \n",
              "1                              real estate           22          none   \n",
              "2                              real estate           49          none   \n",
              "3  building society savings/life insurance           45          none   \n",
              "4                             unknown-none           53          none   \n",
              "\n",
              "   Home Ownership Number of Existing Credits at This Bank        Job Category  \\\n",
              "0             own                                       2             skilled   \n",
              "1             own                                       1             skilled   \n",
              "2             own                                       1  unskilled-resident   \n",
              "3        for free                                       1             skilled   \n",
              "4        for free                                       2             skilled   \n",
              "\n",
              "   Number of Dependents Telephone  Foreign Worker Status  Loan Status  \n",
              "0                     1       yes                    yes   fully paid  \n",
              "1                     1      none                    yes  charged off  \n",
              "2                     2      none                    yes   fully paid  \n",
              "3                     2      none                    yes   fully paid  \n",
              "4                     2      none                    yes  charged off  \n",
              "\n",
              "[5 rows x 22 columns]"
            ]
          },
          "execution_count": 46,
          "metadata": {},
          "output_type": "execute_result"
        }
      ],
      "source": [
        "df = pd.read_csv(r'German Credit Cards UCI.csv')\n",
        "df.head()"
      ]
    },
    {
      "cell_type": "code",
      "execution_count": null,
      "id": "a4e75886",
      "metadata": {
        "id": "a4e75886"
      },
      "outputs": [],
      "source": [
        "X = df.drop(columns=['Loan Status', 'Customer ID'])\n",
        "Y = df['Loan Status']\n",
        "X = pd.get_dummies(X, drop_first=True)\n",
        "\n",
        "scaler = StandardScaler()\n",
        "X = scaler.fit_transform(X)\n",
        "Y = Y.apply(lambda x: 1 if x == 'fully paid' else 0).values"
      ]
    },
    {
      "cell_type": "code",
      "execution_count": null,
      "id": "796020c4",
      "metadata": {
        "id": "796020c4"
      },
      "outputs": [],
      "source": [
        "X_train, X_test, y_train, y_test = train_test_split(X, Y, test_size=0.2, shuffle=True, seed=123)"
      ]
    },
    {
      "cell_type": "code",
      "execution_count": null,
      "id": "4d9c5074",
      "metadata": {
        "id": "4d9c5074",
        "outputId": "d119d29d-eef4-40ec-c2d0-9c49f8fee5cc"
      },
      "outputs": [
        {
          "name": "stderr",
          "output_type": "stream",
          "text": [
            "Обучение: 100% [------------------------------------------------] Time: 0:04:31\n"
          ]
        }
      ],
      "source": [
        "gbc_class = GradientBoostingClassifier(n_estimators=150, learning_rate=.05, min_samples_split=10, min_info_gain=1e-7, max_depth=4, debug=False)\n",
        "gbc_class.fit(X_train, y_train)\n",
        "y_pred = gbc_class.predict(X_train)"
      ]
    },
    {
      "cell_type": "code",
      "execution_count": null,
      "id": "1ae3d8ad",
      "metadata": {
        "id": "1ae3d8ad",
        "outputId": "18946d88-917e-401e-c0f0-f839256af8d6"
      },
      "outputs": [
        {
          "name": "stdout",
          "output_type": "stream",
          "text": [
            "Accuracy: 0.9199507389162561\n",
            "Precision: 0.9222972972972973\n",
            "Recall: 0.9663716814159292\n",
            "F1 score: 0.9438202247191011\n"
          ]
        }
      ],
      "source": [
        "from sklearn.metrics import accuracy_score, precision_score, recall_score, f1_score\n",
        "\n",
        "\n",
        "accuracy = accuracy_score(y_train, y_pred)\n",
        "print(\"Accuracy:\", accuracy)\n",
        "\n",
        "precision = precision_score(y_train, y_pred)\n",
        "print(\"Precision:\", precision)\n",
        "\n",
        "recall = recall_score(y_train, y_pred)\n",
        "print(\"Recall:\", recall)\n",
        "\n",
        "f1 = f1_score(y_train, y_pred)\n",
        "print(\"F1 score:\", f1)"
      ]
    },
    {
      "cell_type": "code",
      "execution_count": null,
      "id": "488fa080",
      "metadata": {
        "id": "488fa080"
      },
      "outputs": [],
      "source": [
        "y_pred = gbc_class.predict(X_test)"
      ]
    },
    {
      "cell_type": "code",
      "execution_count": null,
      "id": "6b24c6b2",
      "metadata": {
        "id": "6b24c6b2",
        "outputId": "1111a5bc-b381-4a73-8f8d-a4b2d5188aa3"
      },
      "outputs": [
        {
          "name": "stdout",
          "output_type": "stream",
          "text": [
            "Accuracy: 0.7475247524752475\n",
            "Precision: 0.8064516129032258\n",
            "Recall: 0.8561643835616438\n",
            "F1 score: 0.8305647840531561\n"
          ]
        }
      ],
      "source": [
        "from sklearn.metrics import accuracy_score, precision_score, recall_score, f1_score\n",
        "\n",
        "\n",
        "accuracy = accuracy_score(y_test, y_pred)\n",
        "print(\"Accuracy:\", accuracy)\n",
        "\n",
        "precision = precision_score(y_test, y_pred)\n",
        "print(\"Precision:\", precision)\n",
        "\n",
        "recall = recall_score(y_test, y_pred)\n",
        "print(\"Recall:\", recall)\n",
        "\n",
        "f1 = f1_score(y_test, y_pred)\n",
        "print(\"F1 score:\", f1)"
      ]
    },
    {
      "cell_type": "markdown",
      "id": "8d83600b-2bc9-4e5f-84b4-c66c81c55fdf",
      "metadata": {
        "id": "8d83600b-2bc9-4e5f-84b4-c66c81c55fdf"
      },
      "source": [
        "#### target encoder"
      ]
    },
    {
      "cell_type": "code",
      "execution_count": null,
      "id": "04b7b2d1-9ef8-4872-92ba-8cf6f6e2da16",
      "metadata": {
        "id": "04b7b2d1-9ef8-4872-92ba-8cf6f6e2da16",
        "outputId": "acb0b46d-9de2-42fb-a5dc-69ed234a8fed"
      },
      "outputs": [
        {
          "name": "stdout",
          "output_type": "stream",
          "text": [
            "Requirement already satisfied: category_encoders in c:\\users\\user\\appdata\\local\\programs\\python\\python312\\lib\\site-packages (2.6.3)\n",
            "Requirement already satisfied: numpy>=1.14.0 in c:\\users\\user\\appdata\\local\\programs\\python\\python312\\lib\\site-packages (from category_encoders) (1.26.4)\n",
            "Requirement already satisfied: scikit-learn>=0.20.0 in c:\\users\\user\\appdata\\local\\programs\\python\\python312\\lib\\site-packages (from category_encoders) (1.4.2)\n",
            "Requirement already satisfied: scipy>=1.0.0 in c:\\users\\user\\appdata\\local\\programs\\python\\python312\\lib\\site-packages (from category_encoders) (1.13.0)\n",
            "Requirement already satisfied: statsmodels>=0.9.0 in c:\\users\\user\\appdata\\local\\programs\\python\\python312\\lib\\site-packages (from category_encoders) (0.14.2)\n",
            "Requirement already satisfied: pandas>=1.0.5 in c:\\users\\user\\appdata\\local\\programs\\python\\python312\\lib\\site-packages (from category_encoders) (2.2.2)\n",
            "Requirement already satisfied: patsy>=0.5.1 in c:\\users\\user\\appdata\\local\\programs\\python\\python312\\lib\\site-packages (from category_encoders) (0.5.6)\n",
            "Requirement already satisfied: python-dateutil>=2.8.2 in c:\\users\\user\\appdata\\local\\programs\\python\\python312\\lib\\site-packages (from pandas>=1.0.5->category_encoders) (2.9.0.post0)\n",
            "Requirement already satisfied: pytz>=2020.1 in c:\\users\\user\\appdata\\local\\programs\\python\\python312\\lib\\site-packages (from pandas>=1.0.5->category_encoders) (2024.1)\n",
            "Requirement already satisfied: tzdata>=2022.7 in c:\\users\\user\\appdata\\local\\programs\\python\\python312\\lib\\site-packages (from pandas>=1.0.5->category_encoders) (2024.1)\n",
            "Requirement already satisfied: six in c:\\users\\user\\appdata\\local\\programs\\python\\python312\\lib\\site-packages (from patsy>=0.5.1->category_encoders) (1.16.0)\n",
            "Requirement already satisfied: joblib>=1.2.0 in c:\\users\\user\\appdata\\local\\programs\\python\\python312\\lib\\site-packages (from scikit-learn>=0.20.0->category_encoders) (1.4.0)\n",
            "Requirement already satisfied: threadpoolctl>=2.0.0 in c:\\users\\user\\appdata\\local\\programs\\python\\python312\\lib\\site-packages (from scikit-learn>=0.20.0->category_encoders) (3.5.0)\n",
            "Requirement already satisfied: packaging>=21.3 in c:\\users\\user\\appdata\\local\\programs\\python\\python312\\lib\\site-packages (from statsmodels>=0.9.0->category_encoders) (24.0)\n"
          ]
        }
      ],
      "source": [
        "!pip install category_encoders\n",
        "\n",
        "import category_encoders as ce"
      ]
    },
    {
      "cell_type": "code",
      "execution_count": null,
      "id": "e4a03d20-10eb-40c2-a1a4-9ed0fea251b2",
      "metadata": {
        "id": "e4a03d20-10eb-40c2-a1a4-9ed0fea251b2",
        "outputId": "fca05f9e-2868-420a-d4e8-434ccad5bb87"
      },
      "outputs": [
        {
          "data": {
            "text/html": [
              "<div>\n",
              "<style scoped>\n",
              "    .dataframe tbody tr th:only-of-type {\n",
              "        vertical-align: middle;\n",
              "    }\n",
              "\n",
              "    .dataframe tbody tr th {\n",
              "        vertical-align: top;\n",
              "    }\n",
              "\n",
              "    .dataframe thead th {\n",
              "        text-align: right;\n",
              "    }\n",
              "</style>\n",
              "<table border=\"1\" class=\"dataframe\">\n",
              "  <thead>\n",
              "    <tr style=\"text-align: right;\">\n",
              "      <th></th>\n",
              "      <th>Customer ID</th>\n",
              "      <th>Checking Account Status</th>\n",
              "      <th>Loan Duration (Months)</th>\n",
              "      <th>Credit History</th>\n",
              "      <th>Purpose</th>\n",
              "      <th>Loan Amount</th>\n",
              "      <th>Savings Account Balance</th>\n",
              "      <th>Present Employment Time (Years)</th>\n",
              "      <th>Installment Rate in Percentage of Disposable Income</th>\n",
              "      <th>Personal Status and Gender</th>\n",
              "      <th>...</th>\n",
              "      <th>Property</th>\n",
              "      <th>Age (Years)</th>\n",
              "      <th>Other Credits</th>\n",
              "      <th>Home Ownership</th>\n",
              "      <th>Number of Existing Credits at This Bank</th>\n",
              "      <th>Job Category</th>\n",
              "      <th>Number of Dependents</th>\n",
              "      <th>Telephone</th>\n",
              "      <th>Foreign Worker Status</th>\n",
              "      <th>Loan Status</th>\n",
              "    </tr>\n",
              "  </thead>\n",
              "  <tbody>\n",
              "    <tr>\n",
              "      <th>0</th>\n",
              "      <td>1122334</td>\n",
              "      <td>&lt; 0 DM</td>\n",
              "      <td>6</td>\n",
              "      <td>critical account - other non-bank loans</td>\n",
              "      <td>radio/television</td>\n",
              "      <td>1169</td>\n",
              "      <td>unknown/none</td>\n",
              "      <td>&gt;= 7 years</td>\n",
              "      <td>4</td>\n",
              "      <td>male-single</td>\n",
              "      <td>...</td>\n",
              "      <td>real estate</td>\n",
              "      <td>67</td>\n",
              "      <td>none</td>\n",
              "      <td>own</td>\n",
              "      <td>2</td>\n",
              "      <td>skilled</td>\n",
              "      <td>1</td>\n",
              "      <td>yes</td>\n",
              "      <td>yes</td>\n",
              "      <td>fully paid</td>\n",
              "    </tr>\n",
              "    <tr>\n",
              "      <th>1</th>\n",
              "      <td>6156361</td>\n",
              "      <td>0 - 200 DM</td>\n",
              "      <td>48</td>\n",
              "      <td>current loans paid</td>\n",
              "      <td>radio/television</td>\n",
              "      <td>5951</td>\n",
              "      <td>&lt; 100 DM</td>\n",
              "      <td>1 - 4 years</td>\n",
              "      <td>2</td>\n",
              "      <td>female-divorced/separated/married</td>\n",
              "      <td>...</td>\n",
              "      <td>real estate</td>\n",
              "      <td>22</td>\n",
              "      <td>none</td>\n",
              "      <td>own</td>\n",
              "      <td>1</td>\n",
              "      <td>skilled</td>\n",
              "      <td>1</td>\n",
              "      <td>none</td>\n",
              "      <td>yes</td>\n",
              "      <td>charged off</td>\n",
              "    </tr>\n",
              "    <tr>\n",
              "      <th>2</th>\n",
              "      <td>2051359</td>\n",
              "      <td>none</td>\n",
              "      <td>12</td>\n",
              "      <td>critical account - other non-bank loans</td>\n",
              "      <td>education</td>\n",
              "      <td>2096</td>\n",
              "      <td>&lt; 100 DM</td>\n",
              "      <td>4 - 7 years</td>\n",
              "      <td>2</td>\n",
              "      <td>male-single</td>\n",
              "      <td>...</td>\n",
              "      <td>real estate</td>\n",
              "      <td>49</td>\n",
              "      <td>none</td>\n",
              "      <td>own</td>\n",
              "      <td>1</td>\n",
              "      <td>unskilled-resident</td>\n",
              "      <td>2</td>\n",
              "      <td>none</td>\n",
              "      <td>yes</td>\n",
              "      <td>fully paid</td>\n",
              "    </tr>\n",
              "    <tr>\n",
              "      <th>3</th>\n",
              "      <td>8740590</td>\n",
              "      <td>&lt; 0 DM</td>\n",
              "      <td>42</td>\n",
              "      <td>current loans paid</td>\n",
              "      <td>furniture/equipment</td>\n",
              "      <td>7882</td>\n",
              "      <td>&lt; 100 DM</td>\n",
              "      <td>4 - 7 years</td>\n",
              "      <td>2</td>\n",
              "      <td>male-single</td>\n",
              "      <td>...</td>\n",
              "      <td>building society savings/life insurance</td>\n",
              "      <td>45</td>\n",
              "      <td>none</td>\n",
              "      <td>for free</td>\n",
              "      <td>1</td>\n",
              "      <td>skilled</td>\n",
              "      <td>2</td>\n",
              "      <td>none</td>\n",
              "      <td>yes</td>\n",
              "      <td>fully paid</td>\n",
              "    </tr>\n",
              "    <tr>\n",
              "      <th>4</th>\n",
              "      <td>3924540</td>\n",
              "      <td>&lt; 0 DM</td>\n",
              "      <td>24</td>\n",
              "      <td>past payment delays</td>\n",
              "      <td>car (new)</td>\n",
              "      <td>4870</td>\n",
              "      <td>&lt; 100 DM</td>\n",
              "      <td>1 - 4 years</td>\n",
              "      <td>3</td>\n",
              "      <td>male-single</td>\n",
              "      <td>...</td>\n",
              "      <td>unknown-none</td>\n",
              "      <td>53</td>\n",
              "      <td>none</td>\n",
              "      <td>for free</td>\n",
              "      <td>2</td>\n",
              "      <td>skilled</td>\n",
              "      <td>2</td>\n",
              "      <td>none</td>\n",
              "      <td>yes</td>\n",
              "      <td>charged off</td>\n",
              "    </tr>\n",
              "  </tbody>\n",
              "</table>\n",
              "<p>5 rows × 22 columns</p>\n",
              "</div>"
            ],
            "text/plain": [
              "   Customer ID Checking Account Status  Loan Duration (Months)  \\\n",
              "0      1122334                  < 0 DM                       6   \n",
              "1      6156361              0 - 200 DM                      48   \n",
              "2      2051359                    none                      12   \n",
              "3      8740590                  < 0 DM                      42   \n",
              "4      3924540                  < 0 DM                      24   \n",
              "\n",
              "                            Credit History              Purpose  Loan Amount  \\\n",
              "0  critical account - other non-bank loans     radio/television         1169   \n",
              "1                       current loans paid     radio/television         5951   \n",
              "2  critical account - other non-bank loans            education         2096   \n",
              "3                       current loans paid  furniture/equipment         7882   \n",
              "4                      past payment delays            car (new)         4870   \n",
              "\n",
              "  Savings Account Balance Present Employment Time (Years)  \\\n",
              "0            unknown/none                      >= 7 years   \n",
              "1                < 100 DM                     1 - 4 years   \n",
              "2                < 100 DM                     4 - 7 years   \n",
              "3                < 100 DM                     4 - 7 years   \n",
              "4                < 100 DM                     1 - 4 years   \n",
              "\n",
              "   Installment Rate in Percentage of Disposable Income  \\\n",
              "0                                                  4     \n",
              "1                                                  2     \n",
              "2                                                  2     \n",
              "3                                                  2     \n",
              "4                                                  3     \n",
              "\n",
              "          Personal Status and Gender  ...  \\\n",
              "0                        male-single  ...   \n",
              "1  female-divorced/separated/married  ...   \n",
              "2                        male-single  ...   \n",
              "3                        male-single  ...   \n",
              "4                        male-single  ...   \n",
              "\n",
              "                                  Property  Age (Years) Other Credits  \\\n",
              "0                              real estate           67          none   \n",
              "1                              real estate           22          none   \n",
              "2                              real estate           49          none   \n",
              "3  building society savings/life insurance           45          none   \n",
              "4                             unknown-none           53          none   \n",
              "\n",
              "   Home Ownership Number of Existing Credits at This Bank        Job Category  \\\n",
              "0             own                                       2             skilled   \n",
              "1             own                                       1             skilled   \n",
              "2             own                                       1  unskilled-resident   \n",
              "3        for free                                       1             skilled   \n",
              "4        for free                                       2             skilled   \n",
              "\n",
              "   Number of Dependents Telephone  Foreign Worker Status  Loan Status  \n",
              "0                     1       yes                    yes   fully paid  \n",
              "1                     1      none                    yes  charged off  \n",
              "2                     2      none                    yes   fully paid  \n",
              "3                     2      none                    yes   fully paid  \n",
              "4                     2      none                    yes  charged off  \n",
              "\n",
              "[5 rows x 22 columns]"
            ]
          },
          "execution_count": 47,
          "metadata": {},
          "output_type": "execute_result"
        }
      ],
      "source": [
        "df = pd.read_csv(r'German Credit Cards UCI.csv')\n",
        "df.head()"
      ]
    },
    {
      "cell_type": "code",
      "execution_count": null,
      "id": "6d63089e-6045-4155-a7e8-a382c3d89d7c",
      "metadata": {
        "id": "6d63089e-6045-4155-a7e8-a382c3d89d7c",
        "outputId": "b0ef0838-cbc1-4293-a82c-f7bf9332da69"
      },
      "outputs": [
        {
          "name": "stdout",
          "output_type": "stream",
          "text": [
            "<class 'pandas.core.frame.DataFrame'>\n",
            "RangeIndex: 1014 entries, 0 to 1013\n",
            "Data columns (total 22 columns):\n",
            " #   Column                                               Non-Null Count  Dtype \n",
            "---  ------                                               --------------  ----- \n",
            " 0   Customer ID                                          1014 non-null   int64 \n",
            " 1   Checking Account Status                              1014 non-null   object\n",
            " 2   Loan Duration (Months)                               1014 non-null   int64 \n",
            " 3   Credit History                                       1014 non-null   object\n",
            " 4   Purpose                                              1014 non-null   object\n",
            " 5   Loan Amount                                          1014 non-null   int64 \n",
            " 6   Savings Account Balance                              1014 non-null   object\n",
            " 7   Present Employment Time (Years)                      1014 non-null   object\n",
            " 8   Installment Rate in Percentage of Disposable Income  1014 non-null   int64 \n",
            " 9   Personal Status and Gender                           1014 non-null   object\n",
            " 10  Other Debtors / Guarantors                           1014 non-null   object\n",
            " 11  Present Residence Time (Years)                       1014 non-null   int64 \n",
            " 12  Property                                             1014 non-null   object\n",
            " 13  Age (Years)                                          1014 non-null   int64 \n",
            " 14  Other Credits                                        1014 non-null   object\n",
            " 15  Home Ownership                                       1014 non-null   object\n",
            " 16  Number of Existing Credits at This Bank              1014 non-null   int64 \n",
            " 17  Job Category                                         1014 non-null   object\n",
            " 18  Number of Dependents                                 1014 non-null   int64 \n",
            " 19  Telephone                                            1014 non-null   object\n",
            " 20  Foreign Worker Status                                1014 non-null   object\n",
            " 21  Loan Status                                          1014 non-null   object\n",
            "dtypes: int64(8), object(14)\n",
            "memory usage: 174.4+ KB\n"
          ]
        }
      ],
      "source": [
        "df.info()"
      ]
    },
    {
      "cell_type": "code",
      "execution_count": null,
      "id": "69ae8d31-a973-4155-b43e-fc604cea2370",
      "metadata": {
        "id": "69ae8d31-a973-4155-b43e-fc604cea2370"
      },
      "outputs": [],
      "source": [
        "df_dropped = df.drop(columns=['Loan Status', 'Customer ID'])"
      ]
    },
    {
      "cell_type": "code",
      "execution_count": null,
      "id": "22a2a023-7a59-4050-a4d4-bfc67f594d33",
      "metadata": {
        "id": "22a2a023-7a59-4050-a4d4-bfc67f594d33"
      },
      "outputs": [],
      "source": [
        "cat_cols = list(df_dropped.select_dtypes(include='object'))"
      ]
    },
    {
      "cell_type": "code",
      "execution_count": null,
      "id": "06d6ae5d-1512-4858-8783-b3e300395dbb",
      "metadata": {
        "id": "06d6ae5d-1512-4858-8783-b3e300395dbb",
        "outputId": "2f8b2d64-8ae6-4bf9-a5d0-0b1395d6ab12"
      },
      "outputs": [
        {
          "data": {
            "text/plain": [
              "array(['fully paid', 'charged off'], dtype=object)"
            ]
          },
          "execution_count": 70,
          "metadata": {},
          "output_type": "execute_result"
        }
      ],
      "source": [
        "df['Loan Status'].unique()"
      ]
    },
    {
      "cell_type": "code",
      "execution_count": null,
      "id": "6207d284-52a0-4332-a271-547d996bc0b4",
      "metadata": {
        "id": "6207d284-52a0-4332-a271-547d996bc0b4"
      },
      "outputs": [],
      "source": [
        "df['Loan Status'] = df['Loan Status'].map({'fully paid': 1, 'charged off': 0})"
      ]
    },
    {
      "cell_type": "code",
      "execution_count": null,
      "id": "646705d4-83f3-4787-a50d-ac90940a64be",
      "metadata": {
        "id": "646705d4-83f3-4787-a50d-ac90940a64be",
        "outputId": "530aeff3-a541-486a-b1ed-671b4e52a27a"
      },
      "outputs": [
        {
          "data": {
            "text/html": [
              "<div>\n",
              "<style scoped>\n",
              "    .dataframe tbody tr th:only-of-type {\n",
              "        vertical-align: middle;\n",
              "    }\n",
              "\n",
              "    .dataframe tbody tr th {\n",
              "        vertical-align: top;\n",
              "    }\n",
              "\n",
              "    .dataframe thead th {\n",
              "        text-align: right;\n",
              "    }\n",
              "</style>\n",
              "<table border=\"1\" class=\"dataframe\">\n",
              "  <thead>\n",
              "    <tr style=\"text-align: right;\">\n",
              "      <th></th>\n",
              "      <th>Checking Account Status</th>\n",
              "      <th>Credit History</th>\n",
              "      <th>Purpose</th>\n",
              "      <th>Savings Account Balance</th>\n",
              "      <th>Present Employment Time (Years)</th>\n",
              "      <th>Personal Status and Gender</th>\n",
              "      <th>Other Debtors / Guarantors</th>\n",
              "      <th>Property</th>\n",
              "      <th>Other Credits</th>\n",
              "      <th>Home Ownership</th>\n",
              "      <th>Job Category</th>\n",
              "      <th>Telephone</th>\n",
              "      <th>Foreign Worker Status</th>\n",
              "    </tr>\n",
              "  </thead>\n",
              "  <tbody>\n",
              "    <tr>\n",
              "      <th>0</th>\n",
              "      <td>0.507246</td>\n",
              "      <td>0.831081</td>\n",
              "      <td>0.780919</td>\n",
              "      <td>0.827957</td>\n",
              "      <td>0.749020</td>\n",
              "      <td>0.736462</td>\n",
              "      <td>0.700436</td>\n",
              "      <td>0.790210</td>\n",
              "      <td>0.725182</td>\n",
              "      <td>0.739310</td>\n",
              "      <td>0.703762</td>\n",
              "      <td>0.720195</td>\n",
              "      <td>0.693648</td>\n",
              "    </tr>\n",
              "    <tr>\n",
              "      <th>1</th>\n",
              "      <td>0.609489</td>\n",
              "      <td>0.682070</td>\n",
              "      <td>0.780919</td>\n",
              "      <td>0.641109</td>\n",
              "      <td>0.696532</td>\n",
              "      <td>0.644444</td>\n",
              "      <td>0.700436</td>\n",
              "      <td>0.790210</td>\n",
              "      <td>0.725182</td>\n",
              "      <td>0.739310</td>\n",
              "      <td>0.703762</td>\n",
              "      <td>0.688226</td>\n",
              "      <td>0.693648</td>\n",
              "    </tr>\n",
              "    <tr>\n",
              "      <th>2</th>\n",
              "      <td>0.885000</td>\n",
              "      <td>0.831081</td>\n",
              "      <td>0.566696</td>\n",
              "      <td>0.641109</td>\n",
              "      <td>0.778409</td>\n",
              "      <td>0.736462</td>\n",
              "      <td>0.700436</td>\n",
              "      <td>0.790210</td>\n",
              "      <td>0.725182</td>\n",
              "      <td>0.739310</td>\n",
              "      <td>0.724138</td>\n",
              "      <td>0.688226</td>\n",
              "      <td>0.693648</td>\n",
              "    </tr>\n",
              "    <tr>\n",
              "      <th>3</th>\n",
              "      <td>0.507246</td>\n",
              "      <td>0.682070</td>\n",
              "      <td>0.675676</td>\n",
              "      <td>0.641109</td>\n",
              "      <td>0.778409</td>\n",
              "      <td>0.736462</td>\n",
              "      <td>0.814752</td>\n",
              "      <td>0.692308</td>\n",
              "      <td>0.725182</td>\n",
              "      <td>0.600012</td>\n",
              "      <td>0.703762</td>\n",
              "      <td>0.688226</td>\n",
              "      <td>0.693648</td>\n",
              "    </tr>\n",
              "    <tr>\n",
              "      <th>4</th>\n",
              "      <td>0.507246</td>\n",
              "      <td>0.681840</td>\n",
              "      <td>0.620253</td>\n",
              "      <td>0.641109</td>\n",
              "      <td>0.696532</td>\n",
              "      <td>0.736462</td>\n",
              "      <td>0.700436</td>\n",
              "      <td>0.573249</td>\n",
              "      <td>0.725182</td>\n",
              "      <td>0.600012</td>\n",
              "      <td>0.703762</td>\n",
              "      <td>0.688226</td>\n",
              "      <td>0.693648</td>\n",
              "    </tr>\n",
              "  </tbody>\n",
              "</table>\n",
              "</div>"
            ],
            "text/plain": [
              "   Checking Account Status  Credit History   Purpose  Savings Account Balance  \\\n",
              "0                 0.507246        0.831081  0.780919                 0.827957   \n",
              "1                 0.609489        0.682070  0.780919                 0.641109   \n",
              "2                 0.885000        0.831081  0.566696                 0.641109   \n",
              "3                 0.507246        0.682070  0.675676                 0.641109   \n",
              "4                 0.507246        0.681840  0.620253                 0.641109   \n",
              "\n",
              "   Present Employment Time (Years)  Personal Status and Gender  \\\n",
              "0                         0.749020                    0.736462   \n",
              "1                         0.696532                    0.644444   \n",
              "2                         0.778409                    0.736462   \n",
              "3                         0.778409                    0.736462   \n",
              "4                         0.696532                    0.736462   \n",
              "\n",
              "   Other Debtors / Guarantors  Property  Other Credits  Home Ownership  \\\n",
              "0                    0.700436  0.790210       0.725182        0.739310   \n",
              "1                    0.700436  0.790210       0.725182        0.739310   \n",
              "2                    0.700436  0.790210       0.725182        0.739310   \n",
              "3                    0.814752  0.692308       0.725182        0.600012   \n",
              "4                    0.700436  0.573249       0.725182        0.600012   \n",
              "\n",
              "   Job Category  Telephone  Foreign Worker Status  \n",
              "0      0.703762   0.720195               0.693648  \n",
              "1      0.703762   0.688226               0.693648  \n",
              "2      0.724138   0.688226               0.693648  \n",
              "3      0.703762   0.688226               0.693648  \n",
              "4      0.703762   0.688226               0.693648  "
            ]
          },
          "execution_count": 73,
          "metadata": {},
          "output_type": "execute_result"
        }
      ],
      "source": [
        "df_encoded = ce.TargetEncoder().fit_transform(X=df_dropped[cat_cols], y=df['Loan Status'])\n",
        "df_encoded.head()"
      ]
    },
    {
      "cell_type": "code",
      "execution_count": null,
      "id": "9f966b1e-69c6-49bf-8d0f-2661f84f9f7f",
      "metadata": {
        "id": "9f966b1e-69c6-49bf-8d0f-2661f84f9f7f",
        "outputId": "adfec4db-0c0d-405e-d4ba-de273d9f56d2"
      },
      "outputs": [
        {
          "data": {
            "text/html": [
              "<div>\n",
              "<style scoped>\n",
              "    .dataframe tbody tr th:only-of-type {\n",
              "        vertical-align: middle;\n",
              "    }\n",
              "\n",
              "    .dataframe tbody tr th {\n",
              "        vertical-align: top;\n",
              "    }\n",
              "\n",
              "    .dataframe thead th {\n",
              "        text-align: right;\n",
              "    }\n",
              "</style>\n",
              "<table border=\"1\" class=\"dataframe\">\n",
              "  <thead>\n",
              "    <tr style=\"text-align: right;\">\n",
              "      <th></th>\n",
              "      <th>Customer ID</th>\n",
              "      <th>Checking Account Status</th>\n",
              "      <th>Loan Duration (Months)</th>\n",
              "      <th>Credit History</th>\n",
              "      <th>Purpose</th>\n",
              "      <th>Loan Amount</th>\n",
              "      <th>Savings Account Balance</th>\n",
              "      <th>Present Employment Time (Years)</th>\n",
              "      <th>Installment Rate in Percentage of Disposable Income</th>\n",
              "      <th>Personal Status and Gender</th>\n",
              "      <th>...</th>\n",
              "      <th>Property</th>\n",
              "      <th>Age (Years)</th>\n",
              "      <th>Other Credits</th>\n",
              "      <th>Home Ownership</th>\n",
              "      <th>Number of Existing Credits at This Bank</th>\n",
              "      <th>Job Category</th>\n",
              "      <th>Number of Dependents</th>\n",
              "      <th>Telephone</th>\n",
              "      <th>Foreign Worker Status</th>\n",
              "      <th>Loan Status</th>\n",
              "    </tr>\n",
              "  </thead>\n",
              "  <tbody>\n",
              "    <tr>\n",
              "      <th>0</th>\n",
              "      <td>1122334</td>\n",
              "      <td>0.507246</td>\n",
              "      <td>6</td>\n",
              "      <td>0.831081</td>\n",
              "      <td>0.780919</td>\n",
              "      <td>1169</td>\n",
              "      <td>0.827957</td>\n",
              "      <td>0.749020</td>\n",
              "      <td>4</td>\n",
              "      <td>0.736462</td>\n",
              "      <td>...</td>\n",
              "      <td>0.790210</td>\n",
              "      <td>67</td>\n",
              "      <td>0.725182</td>\n",
              "      <td>0.739310</td>\n",
              "      <td>2</td>\n",
              "      <td>0.703762</td>\n",
              "      <td>1</td>\n",
              "      <td>0.720195</td>\n",
              "      <td>0.693648</td>\n",
              "      <td>1</td>\n",
              "    </tr>\n",
              "    <tr>\n",
              "      <th>1</th>\n",
              "      <td>6156361</td>\n",
              "      <td>0.609489</td>\n",
              "      <td>48</td>\n",
              "      <td>0.682070</td>\n",
              "      <td>0.780919</td>\n",
              "      <td>5951</td>\n",
              "      <td>0.641109</td>\n",
              "      <td>0.696532</td>\n",
              "      <td>2</td>\n",
              "      <td>0.644444</td>\n",
              "      <td>...</td>\n",
              "      <td>0.790210</td>\n",
              "      <td>22</td>\n",
              "      <td>0.725182</td>\n",
              "      <td>0.739310</td>\n",
              "      <td>1</td>\n",
              "      <td>0.703762</td>\n",
              "      <td>1</td>\n",
              "      <td>0.688226</td>\n",
              "      <td>0.693648</td>\n",
              "      <td>0</td>\n",
              "    </tr>\n",
              "    <tr>\n",
              "      <th>2</th>\n",
              "      <td>2051359</td>\n",
              "      <td>0.885000</td>\n",
              "      <td>12</td>\n",
              "      <td>0.831081</td>\n",
              "      <td>0.566696</td>\n",
              "      <td>2096</td>\n",
              "      <td>0.641109</td>\n",
              "      <td>0.778409</td>\n",
              "      <td>2</td>\n",
              "      <td>0.736462</td>\n",
              "      <td>...</td>\n",
              "      <td>0.790210</td>\n",
              "      <td>49</td>\n",
              "      <td>0.725182</td>\n",
              "      <td>0.739310</td>\n",
              "      <td>1</td>\n",
              "      <td>0.724138</td>\n",
              "      <td>2</td>\n",
              "      <td>0.688226</td>\n",
              "      <td>0.693648</td>\n",
              "      <td>1</td>\n",
              "    </tr>\n",
              "    <tr>\n",
              "      <th>3</th>\n",
              "      <td>8740590</td>\n",
              "      <td>0.507246</td>\n",
              "      <td>42</td>\n",
              "      <td>0.682070</td>\n",
              "      <td>0.675676</td>\n",
              "      <td>7882</td>\n",
              "      <td>0.641109</td>\n",
              "      <td>0.778409</td>\n",
              "      <td>2</td>\n",
              "      <td>0.736462</td>\n",
              "      <td>...</td>\n",
              "      <td>0.692308</td>\n",
              "      <td>45</td>\n",
              "      <td>0.725182</td>\n",
              "      <td>0.600012</td>\n",
              "      <td>1</td>\n",
              "      <td>0.703762</td>\n",
              "      <td>2</td>\n",
              "      <td>0.688226</td>\n",
              "      <td>0.693648</td>\n",
              "      <td>1</td>\n",
              "    </tr>\n",
              "    <tr>\n",
              "      <th>4</th>\n",
              "      <td>3924540</td>\n",
              "      <td>0.507246</td>\n",
              "      <td>24</td>\n",
              "      <td>0.681840</td>\n",
              "      <td>0.620253</td>\n",
              "      <td>4870</td>\n",
              "      <td>0.641109</td>\n",
              "      <td>0.696532</td>\n",
              "      <td>3</td>\n",
              "      <td>0.736462</td>\n",
              "      <td>...</td>\n",
              "      <td>0.573249</td>\n",
              "      <td>53</td>\n",
              "      <td>0.725182</td>\n",
              "      <td>0.600012</td>\n",
              "      <td>2</td>\n",
              "      <td>0.703762</td>\n",
              "      <td>2</td>\n",
              "      <td>0.688226</td>\n",
              "      <td>0.693648</td>\n",
              "      <td>0</td>\n",
              "    </tr>\n",
              "  </tbody>\n",
              "</table>\n",
              "<p>5 rows × 22 columns</p>\n",
              "</div>"
            ],
            "text/plain": [
              "   Customer ID  Checking Account Status  Loan Duration (Months)  \\\n",
              "0      1122334                 0.507246                       6   \n",
              "1      6156361                 0.609489                      48   \n",
              "2      2051359                 0.885000                      12   \n",
              "3      8740590                 0.507246                      42   \n",
              "4      3924540                 0.507246                      24   \n",
              "\n",
              "   Credit History   Purpose  Loan Amount  Savings Account Balance  \\\n",
              "0        0.831081  0.780919         1169                 0.827957   \n",
              "1        0.682070  0.780919         5951                 0.641109   \n",
              "2        0.831081  0.566696         2096                 0.641109   \n",
              "3        0.682070  0.675676         7882                 0.641109   \n",
              "4        0.681840  0.620253         4870                 0.641109   \n",
              "\n",
              "   Present Employment Time (Years)  \\\n",
              "0                         0.749020   \n",
              "1                         0.696532   \n",
              "2                         0.778409   \n",
              "3                         0.778409   \n",
              "4                         0.696532   \n",
              "\n",
              "   Installment Rate in Percentage of Disposable Income  \\\n",
              "0                                                  4     \n",
              "1                                                  2     \n",
              "2                                                  2     \n",
              "3                                                  2     \n",
              "4                                                  3     \n",
              "\n",
              "   Personal Status and Gender  ...  Property  Age (Years)  Other Credits  \\\n",
              "0                    0.736462  ...  0.790210           67       0.725182   \n",
              "1                    0.644444  ...  0.790210           22       0.725182   \n",
              "2                    0.736462  ...  0.790210           49       0.725182   \n",
              "3                    0.736462  ...  0.692308           45       0.725182   \n",
              "4                    0.736462  ...  0.573249           53       0.725182   \n",
              "\n",
              "   Home Ownership  Number of Existing Credits at This Bank  Job Category  \\\n",
              "0        0.739310                                        2      0.703762   \n",
              "1        0.739310                                        1      0.703762   \n",
              "2        0.739310                                        1      0.724138   \n",
              "3        0.600012                                        1      0.703762   \n",
              "4        0.600012                                        2      0.703762   \n",
              "\n",
              "   Number of Dependents  Telephone  Foreign Worker Status  Loan Status  \n",
              "0                     1   0.720195               0.693648            1  \n",
              "1                     1   0.688226               0.693648            0  \n",
              "2                     2   0.688226               0.693648            1  \n",
              "3                     2   0.688226               0.693648            1  \n",
              "4                     2   0.688226               0.693648            0  \n",
              "\n",
              "[5 rows x 22 columns]"
            ]
          },
          "execution_count": 74,
          "metadata": {},
          "output_type": "execute_result"
        }
      ],
      "source": [
        "df[cat_cols] = df_encoded[cat_cols]\n",
        "df.head()"
      ]
    },
    {
      "cell_type": "code",
      "execution_count": null,
      "id": "d8d9d993-34c4-4cc5-ac4b-1d912fa799f4",
      "metadata": {
        "id": "d8d9d993-34c4-4cc5-ac4b-1d912fa799f4"
      },
      "outputs": [],
      "source": [
        "X_train, X_test, y_train, y_test = train_test_split(df.drop(['Loan Status'], axis=1).to_numpy(), df['Loan Status'].to_numpy().reshape(df['Loan Status'].shape[0], 1), test_size=0.2, shuffle=True, seed=123)"
      ]
    },
    {
      "cell_type": "code",
      "execution_count": null,
      "id": "0ede15e6-e9fa-4391-a0b6-541b71121440",
      "metadata": {
        "id": "0ede15e6-e9fa-4391-a0b6-541b71121440",
        "outputId": "7823b0ee-8e4c-404f-d93f-5834496c0e33"
      },
      "outputs": [
        {
          "name": "stderr",
          "output_type": "stream",
          "text": [
            "Обучение: 100% [------------------------------------------------] Time: 0:02:26\n"
          ]
        }
      ],
      "source": [
        "gbc_class = GradientBoostingClassifier(n_estimators=150, learning_rate=.05, min_samples_split=10, min_info_gain=1e-7, max_depth=4, debug=False)\n",
        "gbc_class.fit(X_train, y_train)\n",
        "y_pred = gbc_class.predict(X_train)"
      ]
    },
    {
      "cell_type": "code",
      "execution_count": null,
      "id": "8b1ca37b-4f9a-4843-88ad-8b192f7902b8",
      "metadata": {
        "id": "8b1ca37b-4f9a-4843-88ad-8b192f7902b8",
        "outputId": "f1d121b1-0abd-4106-fb94-60107b8ab1fb"
      },
      "outputs": [
        {
          "data": {
            "text/plain": [
              "61.44581280788177"
            ]
          },
          "execution_count": 82,
          "metadata": {},
          "output_type": "execute_result"
        }
      ],
      "source": [
        "(y_train==y_pred).sum()/y_train.shape[0]"
      ]
    },
    {
      "cell_type": "code",
      "execution_count": null,
      "id": "72bec6d7-a618-4c18-b07b-21ce5c453616",
      "metadata": {
        "id": "72bec6d7-a618-4c18-b07b-21ce5c453616",
        "outputId": "b070400a-37e0-41b0-8940-63d927396e2a"
      },
      "outputs": [
        {
          "name": "stdout",
          "output_type": "stream",
          "text": [
            "Accuracy: 0.3041871921182266\n",
            "Precision: 0.0\n",
            "Recall: 0.0\n",
            "F1 score: 0.0\n"
          ]
        },
        {
          "name": "stderr",
          "output_type": "stream",
          "text": [
            "C:\\Users\\user\\AppData\\Local\\Programs\\Python\\Python312\\Lib\\site-packages\\sklearn\\metrics\\_classification.py:1509: UndefinedMetricWarning: Precision is ill-defined and being set to 0.0 due to no predicted samples. Use `zero_division` parameter to control this behavior.\n",
            "  _warn_prf(average, modifier, f\"{metric.capitalize()} is\", len(result))\n"
          ]
        }
      ],
      "source": [
        "from sklearn.metrics import accuracy_score, precision_score, recall_score, f1_score\n",
        "\n",
        "\n",
        "accuracy = accuracy_score(y_train, y_pred)\n",
        "print(\"Accuracy:\", accuracy)\n",
        "\n",
        "precision = precision_score(y_train, y_pred)\n",
        "print(\"Precision:\", precision)\n",
        "\n",
        "recall = recall_score(y_train, y_pred)\n",
        "print(\"Recall:\", recall)\n",
        "\n",
        "f1 = f1_score(y_train, y_pred)\n",
        "print(\"F1 score:\", f1)"
      ]
    },
    {
      "cell_type": "code",
      "execution_count": null,
      "id": "3f1cbad0-60d4-4722-8caf-205fa582ff2d",
      "metadata": {
        "id": "3f1cbad0-60d4-4722-8caf-205fa582ff2d"
      },
      "outputs": [],
      "source": [
        "y_pred = gbc_class.predict(X_test)"
      ]
    },
    {
      "cell_type": "code",
      "execution_count": null,
      "id": "9bf66e9c-8ae8-48da-8fc4-31d7ec04391d",
      "metadata": {
        "id": "9bf66e9c-8ae8-48da-8fc4-31d7ec04391d",
        "outputId": "81362e81-08ba-412b-a89c-9544be0804c9"
      },
      "outputs": [
        {
          "name": "stdout",
          "output_type": "stream",
          "text": [
            "Accuracy: 0.27722772277227725\n",
            "Precision: 0.0\n",
            "Recall: 0.0\n",
            "F1 score: 0.0\n"
          ]
        },
        {
          "name": "stderr",
          "output_type": "stream",
          "text": [
            "C:\\Users\\user\\AppData\\Local\\Programs\\Python\\Python312\\Lib\\site-packages\\sklearn\\metrics\\_classification.py:1509: UndefinedMetricWarning: Precision is ill-defined and being set to 0.0 due to no predicted samples. Use `zero_division` parameter to control this behavior.\n",
            "  _warn_prf(average, modifier, f\"{metric.capitalize()} is\", len(result))\n"
          ]
        }
      ],
      "source": [
        "from sklearn.metrics import accuracy_score, precision_score, recall_score, f1_score\n",
        "\n",
        "\n",
        "accuracy = accuracy_score(y_test, y_pred)\n",
        "print(\"Accuracy:\", accuracy)\n",
        "\n",
        "precision = precision_score(y_test, y_pred)\n",
        "print(\"Precision:\", precision)\n",
        "\n",
        "recall = recall_score(y_test, y_pred)\n",
        "print(\"Recall:\", recall)\n",
        "\n",
        "f1 = f1_score(y_test, y_pred)\n",
        "print(\"F1 score:\", f1)"
      ]
    },
    {
      "cell_type": "markdown",
      "id": "64fbe38a-dbfe-4b0e-a1e8-9b3aa70a1f74",
      "metadata": {
        "id": "64fbe38a-dbfe-4b0e-a1e8-9b3aa70a1f74"
      },
      "source": [
        "#### optuna"
      ]
    },
    {
      "cell_type": "code",
      "execution_count": null,
      "id": "67f79d9a-3fd0-4f53-8617-dccacdd0b860",
      "metadata": {
        "id": "67f79d9a-3fd0-4f53-8617-dccacdd0b860",
        "outputId": "a66bb5c0-dd9d-42a2-a4ea-2323444d2135"
      },
      "outputs": [
        {
          "name": "stdout",
          "output_type": "stream",
          "text": [
            "Collecting optuna\n",
            "  Downloading optuna-3.6.1-py3-none-any.whl.metadata (17 kB)\n",
            "Collecting alembic>=1.5.0 (from optuna)\n",
            "  Downloading alembic-1.13.1-py3-none-any.whl.metadata (7.4 kB)\n",
            "Collecting colorlog (from optuna)\n",
            "  Downloading colorlog-6.8.2-py3-none-any.whl.metadata (10 kB)\n",
            "Requirement already satisfied: numpy in c:\\users\\user\\appdata\\local\\programs\\python\\python312\\lib\\site-packages (from optuna) (1.26.4)\n",
            "Requirement already satisfied: packaging>=20.0 in c:\\users\\user\\appdata\\local\\programs\\python\\python312\\lib\\site-packages (from optuna) (24.0)\n",
            "Collecting sqlalchemy>=1.3.0 (from optuna)\n",
            "  Downloading SQLAlchemy-2.0.30-cp312-cp312-win_amd64.whl.metadata (9.8 kB)\n",
            "Requirement already satisfied: tqdm in c:\\users\\user\\appdata\\local\\programs\\python\\python312\\lib\\site-packages (from optuna) (4.66.4)\n",
            "Requirement already satisfied: PyYAML in c:\\users\\user\\appdata\\local\\programs\\python\\python312\\lib\\site-packages (from optuna) (6.0.1)\n",
            "Collecting Mako (from alembic>=1.5.0->optuna)\n",
            "  Downloading Mako-1.3.5-py3-none-any.whl.metadata (2.9 kB)\n",
            "Requirement already satisfied: typing-extensions>=4 in c:\\users\\user\\appdata\\local\\programs\\python\\python312\\lib\\site-packages (from alembic>=1.5.0->optuna) (4.9.0)\n",
            "Collecting greenlet!=0.4.17 (from sqlalchemy>=1.3.0->optuna)\n",
            "  Downloading greenlet-3.0.3-cp312-cp312-win_amd64.whl.metadata (3.9 kB)\n",
            "Requirement already satisfied: colorama in c:\\users\\user\\appdata\\local\\programs\\python\\python312\\lib\\site-packages (from colorlog->optuna) (0.4.6)\n",
            "Requirement already satisfied: MarkupSafe>=0.9.2 in c:\\users\\user\\appdata\\local\\programs\\python\\python312\\lib\\site-packages (from Mako->alembic>=1.5.0->optuna) (2.1.5)\n",
            "Downloading optuna-3.6.1-py3-none-any.whl (380 kB)\n",
            "   ---------------------------------------- 0.0/380.1 kB ? eta -:--:--\n",
            "   ----------------- ---------------------- 163.8/380.1 kB 3.3 MB/s eta 0:00:01\n",
            "   ---------------------------------------- 380.1/380.1 kB 4.7 MB/s eta 0:00:00\n",
            "Downloading alembic-1.13.1-py3-none-any.whl (233 kB)\n",
            "   ---------------------------------------- 0.0/233.4 kB ? eta -:--:--\n",
            "   ---------------------------------------- 233.4/233.4 kB 7.2 MB/s eta 0:00:00\n",
            "Downloading SQLAlchemy-2.0.30-cp312-cp312-win_amd64.whl (2.1 MB)\n",
            "   ---------------------------------------- 0.0/2.1 MB ? eta -:--:--\n",
            "   ------- -------------------------------- 0.4/2.1 MB 12.9 MB/s eta 0:00:01\n",
            "   ------------------ --------------------- 1.0/2.1 MB 12.3 MB/s eta 0:00:01\n",
            "   -------------------------- ------------- 1.4/2.1 MB 12.4 MB/s eta 0:00:01\n",
            "   ------------------------------------ --- 1.9/2.1 MB 11.0 MB/s eta 0:00:01\n",
            "   ---------------------------------------- 2.1/2.1 MB 11.0 MB/s eta 0:00:00\n",
            "Downloading colorlog-6.8.2-py3-none-any.whl (11 kB)\n",
            "Downloading greenlet-3.0.3-cp312-cp312-win_amd64.whl (293 kB)\n",
            "   ---------------------------------------- 0.0/293.6 kB ? eta -:--:--\n",
            "   --------------------------------------- 293.6/293.6 kB 18.9 MB/s eta 0:00:00\n",
            "Downloading Mako-1.3.5-py3-none-any.whl (78 kB)\n",
            "   ---------------------------------------- 0.0/78.6 kB ? eta -:--:--\n",
            "   ---------------------------------------- 78.6/78.6 kB ? eta 0:00:00\n",
            "Installing collected packages: Mako, greenlet, colorlog, sqlalchemy, alembic, optuna\n",
            "Successfully installed Mako-1.3.5 alembic-1.13.1 colorlog-6.8.2 greenlet-3.0.3 optuna-3.6.1 sqlalchemy-2.0.30\n",
            "Note: you may need to restart the kernel to use updated packages.\n"
          ]
        }
      ],
      "source": [
        "pip install optuna"
      ]
    },
    {
      "cell_type": "code",
      "execution_count": null,
      "id": "3d09633e-7875-4362-bdce-80d300240ca2",
      "metadata": {
        "id": "3d09633e-7875-4362-bdce-80d300240ca2",
        "outputId": "b475911a-6feb-46af-fba7-096916251f54"
      },
      "outputs": [
        {
          "data": {
            "text/html": [
              "<div>\n",
              "<style scoped>\n",
              "    .dataframe tbody tr th:only-of-type {\n",
              "        vertical-align: middle;\n",
              "    }\n",
              "\n",
              "    .dataframe tbody tr th {\n",
              "        vertical-align: top;\n",
              "    }\n",
              "\n",
              "    .dataframe thead th {\n",
              "        text-align: right;\n",
              "    }\n",
              "</style>\n",
              "<table border=\"1\" class=\"dataframe\">\n",
              "  <thead>\n",
              "    <tr style=\"text-align: right;\">\n",
              "      <th></th>\n",
              "      <th>Customer ID</th>\n",
              "      <th>Checking Account Status</th>\n",
              "      <th>Loan Duration (Months)</th>\n",
              "      <th>Credit History</th>\n",
              "      <th>Purpose</th>\n",
              "      <th>Loan Amount</th>\n",
              "      <th>Savings Account Balance</th>\n",
              "      <th>Present Employment Time (Years)</th>\n",
              "      <th>Installment Rate in Percentage of Disposable Income</th>\n",
              "      <th>Personal Status and Gender</th>\n",
              "      <th>...</th>\n",
              "      <th>Property</th>\n",
              "      <th>Age (Years)</th>\n",
              "      <th>Other Credits</th>\n",
              "      <th>Home Ownership</th>\n",
              "      <th>Number of Existing Credits at This Bank</th>\n",
              "      <th>Job Category</th>\n",
              "      <th>Number of Dependents</th>\n",
              "      <th>Telephone</th>\n",
              "      <th>Foreign Worker Status</th>\n",
              "      <th>Loan Status</th>\n",
              "    </tr>\n",
              "  </thead>\n",
              "  <tbody>\n",
              "    <tr>\n",
              "      <th>0</th>\n",
              "      <td>1122334</td>\n",
              "      <td>&lt; 0 DM</td>\n",
              "      <td>6</td>\n",
              "      <td>critical account - other non-bank loans</td>\n",
              "      <td>radio/television</td>\n",
              "      <td>1169</td>\n",
              "      <td>unknown/none</td>\n",
              "      <td>&gt;= 7 years</td>\n",
              "      <td>4</td>\n",
              "      <td>male-single</td>\n",
              "      <td>...</td>\n",
              "      <td>real estate</td>\n",
              "      <td>67</td>\n",
              "      <td>none</td>\n",
              "      <td>own</td>\n",
              "      <td>2</td>\n",
              "      <td>skilled</td>\n",
              "      <td>1</td>\n",
              "      <td>yes</td>\n",
              "      <td>yes</td>\n",
              "      <td>fully paid</td>\n",
              "    </tr>\n",
              "    <tr>\n",
              "      <th>1</th>\n",
              "      <td>6156361</td>\n",
              "      <td>0 - 200 DM</td>\n",
              "      <td>48</td>\n",
              "      <td>current loans paid</td>\n",
              "      <td>radio/television</td>\n",
              "      <td>5951</td>\n",
              "      <td>&lt; 100 DM</td>\n",
              "      <td>1 - 4 years</td>\n",
              "      <td>2</td>\n",
              "      <td>female-divorced/separated/married</td>\n",
              "      <td>...</td>\n",
              "      <td>real estate</td>\n",
              "      <td>22</td>\n",
              "      <td>none</td>\n",
              "      <td>own</td>\n",
              "      <td>1</td>\n",
              "      <td>skilled</td>\n",
              "      <td>1</td>\n",
              "      <td>none</td>\n",
              "      <td>yes</td>\n",
              "      <td>charged off</td>\n",
              "    </tr>\n",
              "    <tr>\n",
              "      <th>2</th>\n",
              "      <td>2051359</td>\n",
              "      <td>none</td>\n",
              "      <td>12</td>\n",
              "      <td>critical account - other non-bank loans</td>\n",
              "      <td>education</td>\n",
              "      <td>2096</td>\n",
              "      <td>&lt; 100 DM</td>\n",
              "      <td>4 - 7 years</td>\n",
              "      <td>2</td>\n",
              "      <td>male-single</td>\n",
              "      <td>...</td>\n",
              "      <td>real estate</td>\n",
              "      <td>49</td>\n",
              "      <td>none</td>\n",
              "      <td>own</td>\n",
              "      <td>1</td>\n",
              "      <td>unskilled-resident</td>\n",
              "      <td>2</td>\n",
              "      <td>none</td>\n",
              "      <td>yes</td>\n",
              "      <td>fully paid</td>\n",
              "    </tr>\n",
              "    <tr>\n",
              "      <th>3</th>\n",
              "      <td>8740590</td>\n",
              "      <td>&lt; 0 DM</td>\n",
              "      <td>42</td>\n",
              "      <td>current loans paid</td>\n",
              "      <td>furniture/equipment</td>\n",
              "      <td>7882</td>\n",
              "      <td>&lt; 100 DM</td>\n",
              "      <td>4 - 7 years</td>\n",
              "      <td>2</td>\n",
              "      <td>male-single</td>\n",
              "      <td>...</td>\n",
              "      <td>building society savings/life insurance</td>\n",
              "      <td>45</td>\n",
              "      <td>none</td>\n",
              "      <td>for free</td>\n",
              "      <td>1</td>\n",
              "      <td>skilled</td>\n",
              "      <td>2</td>\n",
              "      <td>none</td>\n",
              "      <td>yes</td>\n",
              "      <td>fully paid</td>\n",
              "    </tr>\n",
              "    <tr>\n",
              "      <th>4</th>\n",
              "      <td>3924540</td>\n",
              "      <td>&lt; 0 DM</td>\n",
              "      <td>24</td>\n",
              "      <td>past payment delays</td>\n",
              "      <td>car (new)</td>\n",
              "      <td>4870</td>\n",
              "      <td>&lt; 100 DM</td>\n",
              "      <td>1 - 4 years</td>\n",
              "      <td>3</td>\n",
              "      <td>male-single</td>\n",
              "      <td>...</td>\n",
              "      <td>unknown-none</td>\n",
              "      <td>53</td>\n",
              "      <td>none</td>\n",
              "      <td>for free</td>\n",
              "      <td>2</td>\n",
              "      <td>skilled</td>\n",
              "      <td>2</td>\n",
              "      <td>none</td>\n",
              "      <td>yes</td>\n",
              "      <td>charged off</td>\n",
              "    </tr>\n",
              "  </tbody>\n",
              "</table>\n",
              "<p>5 rows × 22 columns</p>\n",
              "</div>"
            ],
            "text/plain": [
              "   Customer ID Checking Account Status  Loan Duration (Months)  \\\n",
              "0      1122334                  < 0 DM                       6   \n",
              "1      6156361              0 - 200 DM                      48   \n",
              "2      2051359                    none                      12   \n",
              "3      8740590                  < 0 DM                      42   \n",
              "4      3924540                  < 0 DM                      24   \n",
              "\n",
              "                            Credit History              Purpose  Loan Amount  \\\n",
              "0  critical account - other non-bank loans     radio/television         1169   \n",
              "1                       current loans paid     radio/television         5951   \n",
              "2  critical account - other non-bank loans            education         2096   \n",
              "3                       current loans paid  furniture/equipment         7882   \n",
              "4                      past payment delays            car (new)         4870   \n",
              "\n",
              "  Savings Account Balance Present Employment Time (Years)  \\\n",
              "0            unknown/none                      >= 7 years   \n",
              "1                < 100 DM                     1 - 4 years   \n",
              "2                < 100 DM                     4 - 7 years   \n",
              "3                < 100 DM                     4 - 7 years   \n",
              "4                < 100 DM                     1 - 4 years   \n",
              "\n",
              "   Installment Rate in Percentage of Disposable Income  \\\n",
              "0                                                  4     \n",
              "1                                                  2     \n",
              "2                                                  2     \n",
              "3                                                  2     \n",
              "4                                                  3     \n",
              "\n",
              "          Personal Status and Gender  ...  \\\n",
              "0                        male-single  ...   \n",
              "1  female-divorced/separated/married  ...   \n",
              "2                        male-single  ...   \n",
              "3                        male-single  ...   \n",
              "4                        male-single  ...   \n",
              "\n",
              "                                  Property  Age (Years) Other Credits  \\\n",
              "0                              real estate           67          none   \n",
              "1                              real estate           22          none   \n",
              "2                              real estate           49          none   \n",
              "3  building society savings/life insurance           45          none   \n",
              "4                             unknown-none           53          none   \n",
              "\n",
              "   Home Ownership Number of Existing Credits at This Bank        Job Category  \\\n",
              "0             own                                       2             skilled   \n",
              "1             own                                       1             skilled   \n",
              "2             own                                       1  unskilled-resident   \n",
              "3        for free                                       1             skilled   \n",
              "4        for free                                       2             skilled   \n",
              "\n",
              "   Number of Dependents Telephone  Foreign Worker Status  Loan Status  \n",
              "0                     1       yes                    yes   fully paid  \n",
              "1                     1      none                    yes  charged off  \n",
              "2                     2      none                    yes   fully paid  \n",
              "3                     2      none                    yes   fully paid  \n",
              "4                     2      none                    yes  charged off  \n",
              "\n",
              "[5 rows x 22 columns]"
            ]
          },
          "execution_count": 85,
          "metadata": {},
          "output_type": "execute_result"
        }
      ],
      "source": [
        "df = pd.read_csv(r'German Credit Cards UCI.csv')\n",
        "df.head()"
      ]
    },
    {
      "cell_type": "code",
      "execution_count": null,
      "id": "217c0e94-0361-4094-9583-6a1760e2582e",
      "metadata": {
        "id": "217c0e94-0361-4094-9583-6a1760e2582e"
      },
      "outputs": [],
      "source": [
        "X = df.drop(columns=['Loan Status', 'Customer ID'])\n",
        "Y = df['Loan Status']\n",
        "X = pd.get_dummies(X, drop_first=True)\n",
        "\n",
        "scaler = StandardScaler()\n",
        "X = scaler.fit_transform(X)\n",
        "Y = Y.apply(lambda x: 1 if x == 'fully paid' else 0).values"
      ]
    },
    {
      "cell_type": "code",
      "execution_count": null,
      "id": "b42d8384-8add-45ca-bcfd-7566d2078046",
      "metadata": {
        "id": "b42d8384-8add-45ca-bcfd-7566d2078046"
      },
      "outputs": [],
      "source": [
        "X_train, X_test, y_train, y_test = train_test_split(X, Y, test_size=0.2, shuffle=True, seed=123)"
      ]
    },
    {
      "cell_type": "code",
      "execution_count": null,
      "id": "4b6771a9-667a-43f9-b1ae-0fda0298b61a",
      "metadata": {
        "id": "4b6771a9-667a-43f9-b1ae-0fda0298b61a"
      },
      "outputs": [],
      "source": [
        "import optuna"
      ]
    },
    {
      "cell_type": "code",
      "execution_count": null,
      "id": "9431161f-53b7-46e8-a9d9-a1ed67b8c8b5",
      "metadata": {
        "id": "9431161f-53b7-46e8-a9d9-a1ed67b8c8b5"
      },
      "outputs": [],
      "source": [
        "def objective(trial):\n",
        "    learning_rate = trial.suggest_float(\"learning_rate\", 0.01, 0.2)\n",
        "    n_estimators = trial.suggest_int(\"n_estimators\", 50, 150)\n",
        "    min_samples_split = trial.suggest_int(\"min_samples_split\", 2, 20)\n",
        "    min_info_gain = trial.suggest_float(\"min_info_gain\", 1e-7, 1e-6)\n",
        "    max_depth = trial.suggest_int(\"max_depth\", 1, 5)\n",
        "\n",
        "    model = GradientBoostingClassifier(\n",
        "        learning_rate=learning_rate,\n",
        "        n_estimators=n_estimators,\n",
        "        min_samples_split=min_samples_split,\n",
        "        min_info_gain=min_info_gain,\n",
        "        max_depth=max_depth\n",
        "    )\n",
        "\n",
        "    model.fit(X_train, y_train)\n",
        "    preds = model.predict(X_test)\n",
        "    score = accuracy_score(y_test, preds)\n",
        "    if score >= 0.75:\n",
        "        trial.study.stop()\n",
        "\n",
        "    return score"
      ]
    },
    {
      "cell_type": "code",
      "execution_count": null,
      "id": "ee49dcbc-0ad9-40ae-a500-7dff4f41d6a5",
      "metadata": {
        "id": "ee49dcbc-0ad9-40ae-a500-7dff4f41d6a5",
        "outputId": "6282fb30-4998-40bd-f399-fdda9ac7be6a"
      },
      "outputs": [
        {
          "name": "stderr",
          "output_type": "stream",
          "text": [
            "[I 2024-05-21 06:12:46,755] A new study created in memory with name: no-name-f325b41b-eedf-4940-90cf-132c79595486\n",
            "Обучение: 100% [------------------------------------------------] Time: 0:01:06\n",
            "C:\\Users\\user\\AppData\\Local\\Temp\\ipykernel_19168\\2862179868.py:71: RuntimeWarning: overflow encountered in exp\n",
            "  y_pred = np.exp(y_pred) / np.expand_dims(np.sum(np.exp(y_pred), axis=1), axis=1)\n",
            "C:\\Users\\user\\AppData\\Local\\Temp\\ipykernel_19168\\2862179868.py:71: RuntimeWarning: invalid value encountered in divide\n",
            "  y_pred = np.exp(y_pred) / np.expand_dims(np.sum(np.exp(y_pred), axis=1), axis=1)\n",
            "[I 2024-05-21 06:13:53,286] Trial 0 finished with value: 0.693069306930693 and parameters: {'learning_rate': 0.09014549312868592, 'n_estimators': 50, 'min_samples_split': 5, 'min_info_gain': 1.2223132969437075e-07, 'max_depth': 2}. Best is trial 0 with value: 0.693069306930693.\n",
            "Обучение: 100% [------------------------------------------------] Time: 0:04:44\n",
            "C:\\Users\\user\\AppData\\Local\\Temp\\ipykernel_19168\\2862179868.py:71: RuntimeWarning: overflow encountered in exp\n",
            "  y_pred = np.exp(y_pred) / np.expand_dims(np.sum(np.exp(y_pred), axis=1), axis=1)\n",
            "C:\\Users\\user\\AppData\\Local\\Temp\\ipykernel_19168\\2862179868.py:71: RuntimeWarning: invalid value encountered in divide\n",
            "  y_pred = np.exp(y_pred) / np.expand_dims(np.sum(np.exp(y_pred), axis=1), axis=1)\n",
            "[I 2024-05-21 06:18:37,814] Trial 1 finished with value: 0.7623762376237624 and parameters: {'learning_rate': 0.10266228165944598, 'n_estimators': 136, 'min_samples_split': 6, 'min_info_gain': 7.809281631104799e-07, 'max_depth': 5}. Best is trial 1 with value: 0.7623762376237624.\n"
          ]
        },
        {
          "name": "stdout",
          "output_type": "stream",
          "text": [
            "{'learning_rate': 0.10266228165944598, 'n_estimators': 136, 'min_samples_split': 6, 'min_info_gain': 7.809281631104799e-07, 'max_depth': 5}\n"
          ]
        }
      ],
      "source": [
        "study = optuna.create_study(direction=\"maximize\")\n",
        "study.optimize(objective, n_trials=10)\n",
        "\n",
        "print(study.best_params)"
      ]
    },
    {
      "cell_type": "code",
      "execution_count": null,
      "id": "9f8c72c3-3704-4723-8d16-f2042c547981",
      "metadata": {
        "id": "9f8c72c3-3704-4723-8d16-f2042c547981",
        "outputId": "78df178e-bbf5-42b0-9849-91662e78da2a"
      },
      "outputs": [
        {
          "name": "stdout",
          "output_type": "stream",
          "text": [
            "{'learning_rate': 0.10266228165944598, 'n_estimators': 136, 'min_samples_split': 6, 'min_info_gain': 7.809281631104799e-07, 'max_depth': 5}\n"
          ]
        }
      ],
      "source": [
        "print(study.best_params)"
      ]
    },
    {
      "cell_type": "code",
      "execution_count": null,
      "id": "4b1563bf-f6e5-4fad-979b-95f49a6d3117",
      "metadata": {
        "id": "4b1563bf-f6e5-4fad-979b-95f49a6d3117",
        "outputId": "d18b4488-4996-47fc-9cf8-9a98611dbbe3"
      },
      "outputs": [
        {
          "name": "stderr",
          "output_type": "stream",
          "text": [
            "Обучение: 100% [------------------------------------------------] Time: 0:04:51\n",
            "C:\\Users\\user\\AppData\\Local\\Temp\\ipykernel_19168\\2862179868.py:71: RuntimeWarning: overflow encountered in exp\n",
            "  y_pred = np.exp(y_pred) / np.expand_dims(np.sum(np.exp(y_pred), axis=1), axis=1)\n",
            "C:\\Users\\user\\AppData\\Local\\Temp\\ipykernel_19168\\2862179868.py:71: RuntimeWarning: invalid value encountered in divide\n",
            "  y_pred = np.exp(y_pred) / np.expand_dims(np.sum(np.exp(y_pred), axis=1), axis=1)\n"
          ]
        }
      ],
      "source": [
        "gbc_class = GradientBoostingClassifier(n_estimators=136, learning_rate=0.10266228165944598, min_samples_split=6, min_info_gain=7.809281631104799e-07, max_depth=5, debug=False)\n",
        "gbc_class.fit(X_train, y_train)\n",
        "y_pred = gbc_class.predict(X_train)"
      ]
    },
    {
      "cell_type": "code",
      "execution_count": null,
      "id": "7c82f701-8202-4b9b-b463-bed4e752b1bd",
      "metadata": {
        "id": "7c82f701-8202-4b9b-b463-bed4e752b1bd",
        "outputId": "6b346f2d-7711-4acc-cb4e-dd79277fb7c5"
      },
      "outputs": [
        {
          "name": "stdout",
          "output_type": "stream",
          "text": [
            "Accuracy: 0.9679802955665024\n",
            "Precision: 0.9703315881326352\n",
            "Recall: 0.984070796460177\n",
            "F1 score: 0.9771528998242531\n"
          ]
        }
      ],
      "source": [
        "accuracy = accuracy_score(y_train, y_pred)\n",
        "print(\"Accuracy:\", accuracy)\n",
        "\n",
        "precision = precision_score(y_train, y_pred)\n",
        "print(\"Precision:\", precision)\n",
        "\n",
        "recall = recall_score(y_train, y_pred)\n",
        "print(\"Recall:\", recall)\n",
        "\n",
        "f1 = f1_score(y_train, y_pred)\n",
        "print(\"F1 score:\", f1)"
      ]
    },
    {
      "cell_type": "code",
      "execution_count": null,
      "id": "2060f1db-a9a1-48cc-aaad-50f74fe9a111",
      "metadata": {
        "id": "2060f1db-a9a1-48cc-aaad-50f74fe9a111",
        "outputId": "85a3a06d-69c1-4f74-c248-b438b23ba03f"
      },
      "outputs": [
        {
          "name": "stderr",
          "output_type": "stream",
          "text": [
            "C:\\Users\\user\\AppData\\Local\\Temp\\ipykernel_19168\\2862179868.py:71: RuntimeWarning: overflow encountered in exp\n",
            "  y_pred = np.exp(y_pred) / np.expand_dims(np.sum(np.exp(y_pred), axis=1), axis=1)\n",
            "C:\\Users\\user\\AppData\\Local\\Temp\\ipykernel_19168\\2862179868.py:71: RuntimeWarning: invalid value encountered in divide\n",
            "  y_pred = np.exp(y_pred) / np.expand_dims(np.sum(np.exp(y_pred), axis=1), axis=1)\n"
          ]
        }
      ],
      "source": [
        "y_pred = gbc_class.predict(X_test)"
      ]
    },
    {
      "cell_type": "code",
      "execution_count": null,
      "id": "cd2fd5c0-e87a-4b9e-853b-4302c90e5cee",
      "metadata": {
        "id": "cd2fd5c0-e87a-4b9e-853b-4302c90e5cee",
        "outputId": "38d4786b-0192-4323-c9f5-d9d24410dcc3"
      },
      "outputs": [
        {
          "name": "stdout",
          "output_type": "stream",
          "text": [
            "Accuracy: 0.7623762376237624\n",
            "Precision: 0.80625\n",
            "Recall: 0.8835616438356164\n",
            "F1 score: 0.8431372549019608\n"
          ]
        }
      ],
      "source": [
        "accuracy = accuracy_score(y_test, y_pred)\n",
        "print(\"Accuracy:\", accuracy)\n",
        "\n",
        "precision = precision_score(y_test, y_pred)\n",
        "print(\"Precision:\", precision)\n",
        "\n",
        "recall = recall_score(y_test, y_pred)\n",
        "print(\"Recall:\", recall)\n",
        "\n",
        "f1 = f1_score(y_test, y_pred)\n",
        "print(\"F1 score:\", f1)"
      ]
    },
    {
      "cell_type": "markdown",
      "id": "1a76f620",
      "metadata": {
        "id": "1a76f620"
      },
      "source": [
        "### Video Games"
      ]
    },
    {
      "cell_type": "code",
      "execution_count": null,
      "id": "751b83ae",
      "metadata": {
        "id": "751b83ae"
      },
      "outputs": [],
      "source": [
        "data = pd.read_csv('Video Games.csv', index_col='id')\n",
        "#data = data.drop(columns=['publisher'])"
      ]
    },
    {
      "cell_type": "code",
      "execution_count": null,
      "id": "11d1a582",
      "metadata": {
        "id": "11d1a582"
      },
      "outputs": [],
      "source": [
        "data = pd.get_dummies(data, drop_first=True)\n",
        "#отделим признаки от целевой переменной\n",
        "Y = data['jp_sales'].values\n",
        "X = data.drop(columns=['jp_sales']).values\n",
        "scaler = StandardScaler()\n",
        "X = scaler.fit_transform(X)"
      ]
    },
    {
      "cell_type": "code",
      "execution_count": null,
      "id": "9b968d3d",
      "metadata": {
        "id": "9b968d3d"
      },
      "outputs": [],
      "source": [
        "X_train, X_test, y_train, y_test = train_test_split(X, Y, test_size=0.2, shuffle=True, seed=123)"
      ]
    },
    {
      "cell_type": "code",
      "execution_count": null,
      "id": "3f865634",
      "metadata": {
        "id": "3f865634",
        "outputId": "0273b66f-96fa-4567-e593-c5edf016abfc"
      },
      "outputs": [
        {
          "name": "stderr",
          "output_type": "stream",
          "text": [
            "Обучение: 100% [------------------------------------------------] Time: 0:03:56\n"
          ]
        }
      ],
      "source": [
        "gbc_regr = GradientBoostingRegressor(n_estimators=10, learning_rate=.1, min_samples_split=5, max_depth=5, debug=False)\n",
        "gbc_regr.fit(X_train, y_train)\n",
        "y_pred = gbc_regr.predict(X_train)"
      ]
    },
    {
      "cell_type": "code",
      "execution_count": null,
      "id": "07da2a84",
      "metadata": {
        "id": "07da2a84",
        "outputId": "82c4a154-2edf-4f80-ecf4-8cd1f6fc1c39"
      },
      "outputs": [
        {
          "name": "stdout",
          "output_type": "stream",
          "text": [
            "MSE: 0.050098578045430844\n",
            "MAE: 0.1243006184132778\n",
            "MAPE: 0.09055897041843239\n"
          ]
        }
      ],
      "source": [
        "from sklearn.metrics import mean_absolute_error, mean_absolute_percentage_error, mean_squared_error\n",
        "\n",
        "mse = mean_squared_error(y_train, y_pred)\n",
        "print(\"MSE:\", mse)\n",
        "\n",
        "mae = mean_absolute_error(y_train, y_pred)\n",
        "print(\"MAE:\", mae)\n",
        "\n",
        "mape = mean_absolute_percentage_error(y_train, y_pred)\n",
        "print(\"MAPE:\", mape)"
      ]
    },
    {
      "cell_type": "code",
      "execution_count": null,
      "id": "904ad703-0453-45b0-bd06-c06e690c7269",
      "metadata": {
        "id": "904ad703-0453-45b0-bd06-c06e690c7269"
      },
      "outputs": [],
      "source": [
        "y_pred = gbc_regr.predict(X_test)"
      ]
    },
    {
      "cell_type": "code",
      "execution_count": null,
      "id": "c22baeed",
      "metadata": {
        "id": "c22baeed",
        "outputId": "9c512fdd-2200-482b-9de6-bb3fbc235878"
      },
      "outputs": [
        {
          "name": "stdout",
          "output_type": "stream",
          "text": [
            "MSE: 0.1882634567804329\n",
            "MAE: 0.1555857058521589\n",
            "MAPE: 0.1009786032030739\n"
          ]
        }
      ],
      "source": [
        "mse = mean_squared_error(y_test, y_pred)\n",
        "print(\"MSE:\", mse)\n",
        "\n",
        "mae = mean_absolute_error(y_test, y_pred)\n",
        "print(\"MAE:\", mae)\n",
        "\n",
        "mape = mean_absolute_percentage_error(y_test, y_pred)\n",
        "print(\"MAPE:\", mape)"
      ]
    },
    {
      "cell_type": "code",
      "execution_count": null,
      "id": "ea4f9d46",
      "metadata": {
        "id": "ea4f9d46"
      },
      "outputs": [],
      "source": [
        "y_pred = gbc_regr.predict(X)"
      ]
    },
    {
      "cell_type": "code",
      "execution_count": null,
      "id": "675e8a6a",
      "metadata": {
        "id": "675e8a6a",
        "outputId": "4dc87311-d3b5-4310-c788-2dbac1575942"
      },
      "outputs": [
        {
          "name": "stdout",
          "output_type": "stream",
          "text": [
            "MSE: 0.07771208480998856\n",
            "MAE: 0.13055322748102977\n",
            "MAPE: 0.0926414287321313\n"
          ]
        }
      ],
      "source": [
        "mse = mean_squared_error(Y, y_pred)\n",
        "print(\"MSE:\", mse)\n",
        "\n",
        "mae = mean_absolute_error(Y, y_pred)\n",
        "print(\"MAE:\", mae)\n",
        "\n",
        "mape = mean_absolute_percentage_error(Y, y_pred)\n",
        "print(\"MAPE:\", mape)"
      ]
    },
    {
      "cell_type": "code",
      "execution_count": null,
      "id": "b74ce80b-83df-4bd9-94e1-44323a3145a6",
      "metadata": {
        "id": "b74ce80b-83df-4bd9-94e1-44323a3145a6"
      },
      "outputs": [],
      "source": [
        "from sklearn.metrics import mean_absolute_error, mean_absolute_percentage_error, mean_squared_error"
      ]
    },
    {
      "cell_type": "code",
      "execution_count": null,
      "id": "113c06a9-69f7-410a-bbc0-54d4d6a308c4",
      "metadata": {
        "id": "113c06a9-69f7-410a-bbc0-54d4d6a308c4"
      },
      "outputs": [],
      "source": [
        "def objective(trial):\n",
        "    learning_rate = trial.suggest_float(\"learning_rate\", 0.01, 0.2)\n",
        "    n_estimators = trial.suggest_int(\"n_estimators\", 5, 20)\n",
        "    min_samples_split = trial.suggest_int(\"min_samples_split\", 2, 10)\n",
        "    max_depth = trial.suggest_int(\"max_depth\", 1, 10)\n",
        "\n",
        "    model = GradientBoostingRegressor(\n",
        "        learning_rate=learning_rate,\n",
        "        n_estimators=n_estimators,\n",
        "        min_samples_split=min_samples_split,\n",
        "        max_depth=max_depth\n",
        "    )\n",
        "\n",
        "    model.fit(X_train, y_train)\n",
        "    preds = model.predict(X_test)\n",
        "    score = mean_squared_error(y_test, preds)\n",
        "    if score <= 0.07771208480998856:\n",
        "        trial.study.stop()\n",
        "\n",
        "    return score"
      ]
    },
    {
      "cell_type": "code",
      "execution_count": null,
      "id": "3348d762-7ac1-4360-aab4-c3644dcd605d",
      "metadata": {
        "id": "3348d762-7ac1-4360-aab4-c3644dcd605d",
        "outputId": "88dc5828-ce62-4c8f-ca0e-f2e54ea5f6ba"
      },
      "outputs": [
        {
          "name": "stderr",
          "output_type": "stream",
          "text": [
            "[I 2024-05-21 06:41:02,145] A new study created in memory with name: no-name-0f192a9e-ff04-4a1f-b361-734daf54bcb8\n",
            "Обучение: 100% [------------------------------------------------] Time: 0:05:30\n",
            "[I 2024-05-21 06:46:32,852] Trial 0 finished with value: 0.15965512144005775 and parameters: {'learning_rate': 0.19622653087715394, 'n_estimators': 17, 'min_samples_split': 9, 'max_depth': 4}. Best is trial 0 with value: 0.15965512144005775.\n",
            "Обучение: 100% [------------------------------------------------] Time: 0:03:12\n",
            "[I 2024-05-21 06:49:45,033] Trial 1 finished with value: 0.1694803849691995 and parameters: {'learning_rate': 0.04989161533764734, 'n_estimators': 7, 'min_samples_split': 9, 'max_depth': 6}. Best is trial 0 with value: 0.15965512144005775.\n",
            "Обучение: 100% [------------------------------------------------] Time: 0:05:37\n",
            "[I 2024-05-21 06:55:22,093] Trial 2 finished with value: 0.17891279210852187 and parameters: {'learning_rate': 0.06772372455896881, 'n_estimators': 18, 'min_samples_split': 3, 'max_depth': 4}. Best is trial 0 with value: 0.15965512144005775.\n",
            "Обучение: 100% [------------------------------------------------] Time: 0:01:10\n",
            "[I 2024-05-21 06:56:32,750] Trial 3 finished with value: 0.1861448475495981 and parameters: {'learning_rate': 0.010520868044507624, 'n_estimators': 13, 'min_samples_split': 5, 'max_depth': 4}. Best is trial 0 with value: 0.15965512144005775.\n",
            "Обучение: 100% [------------------------------------------------] Time: 0:01:18\n",
            "[I 2024-05-21 06:57:51,015] Trial 4 finished with value: 0.16535584719137794 and parameters: {'learning_rate': 0.07137778006575789, 'n_estimators': 5, 'min_samples_split': 4, 'max_depth': 3}. Best is trial 0 with value: 0.15965512144005775.\n",
            "Обучение: 100% [------------------------------------------------] Time: 0:12:52\n",
            "[I 2024-05-21 07:10:43,134] Trial 5 finished with value: 0.16007174316579056 and parameters: {'learning_rate': 0.03904472091558197, 'n_estimators': 20, 'min_samples_split': 8, 'max_depth': 9}. Best is trial 0 with value: 0.15965512144005775.\n",
            "Обучение: 100% [------------------------------------------------] Time: 0:11:55\n",
            "[I 2024-05-21 07:22:38,959] Trial 6 finished with value: 0.1665995857353056 and parameters: {'learning_rate': 0.07457644491061383, 'n_estimators': 20, 'min_samples_split': 6, 'max_depth': 9}. Best is trial 0 with value: 0.15965512144005775.\n",
            "Обучение: 100% [------------------------------------------------] Time: 0:05:06\n",
            "[I 2024-05-21 07:27:45,034] Trial 7 finished with value: 0.1686887259082679 and parameters: {'learning_rate': 0.16300832853027067, 'n_estimators': 8, 'min_samples_split': 4, 'max_depth': 10}. Best is trial 0 with value: 0.15965512144005775.\n",
            "Обучение: 100% [------------------------------------------------] Time: 0:01:28\n",
            "[I 2024-05-21 07:29:13,263] Trial 8 finished with value: 0.16022130696804462 and parameters: {'learning_rate': 0.13160869904974895, 'n_estimators': 11, 'min_samples_split': 8, 'max_depth': 1}. Best is trial 0 with value: 0.15965512144005775.\n",
            "Обучение: 100% [------------------------------------------------] Time: 0:08:17\n",
            "[I 2024-05-21 07:37:31,261] Trial 9 finished with value: 0.15397133036642535 and parameters: {'learning_rate': 0.11131666829114377, 'n_estimators': 14, 'min_samples_split': 9, 'max_depth': 9}. Best is trial 9 with value: 0.15397133036642535.\n"
          ]
        },
        {
          "name": "stdout",
          "output_type": "stream",
          "text": [
            "{'learning_rate': 0.11131666829114377, 'n_estimators': 14, 'min_samples_split': 9, 'max_depth': 9}\n"
          ]
        }
      ],
      "source": [
        "study = optuna.create_study(direction=\"minimize\")\n",
        "study.optimize(objective, n_trials=10)\n",
        "\n",
        "print(study.best_params)"
      ]
    },
    {
      "cell_type": "code",
      "execution_count": null,
      "id": "2ae3a6cf-b458-4b38-948c-69425bbed498",
      "metadata": {
        "id": "2ae3a6cf-b458-4b38-948c-69425bbed498",
        "outputId": "d3a2f174-de0e-4c23-84fe-7e7764b9b1ff"
      },
      "outputs": [
        {
          "name": "stdout",
          "output_type": "stream",
          "text": [
            "{'learning_rate': 0.11131666829114377, 'n_estimators': 14, 'min_samples_split': 9, 'max_depth': 9}\n"
          ]
        }
      ],
      "source": [
        "print(study.best_params)"
      ]
    },
    {
      "cell_type": "code",
      "execution_count": null,
      "id": "777bf752-adc2-4e39-bccb-498dad5cf3c3",
      "metadata": {
        "id": "777bf752-adc2-4e39-bccb-498dad5cf3c3"
      },
      "outputs": [],
      "source": [
        "def objective(trial):\n",
        "    learning_rate = trial.suggest_float(\"learning_rate\", 0.05, 0.15)\n",
        "    n_estimators = trial.suggest_int(\"n_estimators\", 5, 15)\n",
        "    min_samples_split = trial.suggest_int(\"min_samples_split\", 4, 8)\n",
        "    max_depth = trial.suggest_int(\"max_depth\", 3, 7)\n",
        "\n",
        "    model = GradientBoostingRegressor(\n",
        "        learning_rate=learning_rate,\n",
        "        n_estimators=n_estimators,\n",
        "        min_samples_split=min_samples_split,\n",
        "        max_depth=max_depth\n",
        "    )\n",
        "\n",
        "    model.fit(X_train, y_train)\n",
        "    preds = model.predict(X_test)\n",
        "    score = mean_squared_error(y_test, preds)\n",
        "    if score <= 0.07771208480998856:\n",
        "        trial.study.stop()\n",
        "\n",
        "    return score"
      ]
    },
    {
      "cell_type": "code",
      "execution_count": null,
      "id": "2eb42a45-9e20-4a87-8eee-ad1ea910700b",
      "metadata": {
        "id": "2eb42a45-9e20-4a87-8eee-ad1ea910700b",
        "outputId": "04b07f11-ca40-4e42-95c5-6893ec60a54e"
      },
      "outputs": [
        {
          "name": "stderr",
          "output_type": "stream",
          "text": [
            "[I 2024-05-21 07:39:10,225] A new study created in memory with name: no-name-be9f9b27-af2b-4cd8-a171-cce01bda869b\n",
            "Обучение: 100% [------------------------------------------------] Time: 0:02:13\n",
            "[I 2024-05-21 07:41:23,722] Trial 0 finished with value: 0.1721160539694856 and parameters: {'learning_rate': 0.1029651596000428, 'n_estimators': 5, 'min_samples_split': 4, 'max_depth': 7}. Best is trial 0 with value: 0.1721160539694856.\n",
            "Обучение: 100% [------------------------------------------------] Time: 0:04:33\n",
            "[I 2024-05-21 07:45:57,116] Trial 1 finished with value: 0.1788609104386552 and parameters: {'learning_rate': 0.1385809950781336, 'n_estimators': 12, 'min_samples_split': 8, 'max_depth': 5}. Best is trial 0 with value: 0.1721160539694856.\n",
            "Обучение: 100% [------------------------------------------------] Time: 0:04:24\n",
            "[I 2024-05-21 07:50:21,578] Trial 2 finished with value: 0.18126224753489292 and parameters: {'learning_rate': 0.13206719909162873, 'n_estimators': 14, 'min_samples_split': 4, 'max_depth': 4}. Best is trial 0 with value: 0.1721160539694856.\n",
            "Обучение: 100% [------------------------------------------------] Time: 0:01:53\n",
            "[I 2024-05-21 07:52:15,484] Trial 3 finished with value: 0.1904954380386904 and parameters: {'learning_rate': 0.11448294309094989, 'n_estimators': 5, 'min_samples_split': 5, 'max_depth': 5}. Best is trial 0 with value: 0.1721160539694856.\n",
            "Обучение: 100% [------------------------------------------------] Time: 0:04:40\n",
            "[I 2024-05-21 07:56:56,174] Trial 4 finished with value: 0.1638660069798266 and parameters: {'learning_rate': 0.09497318965670569, 'n_estimators': 10, 'min_samples_split': 8, 'max_depth': 7}. Best is trial 4 with value: 0.1638660069798266.\n",
            "Обучение: 100% [------------------------------------------------] Time: 0:03:55\n",
            "[I 2024-05-21 08:00:51,442] Trial 5 finished with value: 0.18143678730181767 and parameters: {'learning_rate': 0.09888505265162921, 'n_estimators': 13, 'min_samples_split': 4, 'max_depth': 4}. Best is trial 4 with value: 0.1638660069798266.\n",
            "Обучение: 100% [------------------------------------------------] Time: 0:04:29\n",
            "[I 2024-05-21 08:05:21,103] Trial 6 finished with value: 0.1747783736019758 and parameters: {'learning_rate': 0.1092339759687499, 'n_estimators': 10, 'min_samples_split': 5, 'max_depth': 7}. Best is trial 4 with value: 0.1638660069798266.\n",
            "Обучение: 100% [------------------------------------------------] Time: 0:02:50\n",
            "[I 2024-05-21 08:08:11,672] Trial 7 finished with value: 0.15857049896999276 and parameters: {'learning_rate': 0.07275836606343852, 'n_estimators': 11, 'min_samples_split': 7, 'max_depth': 3}. Best is trial 7 with value: 0.15857049896999276.\n",
            "Обучение: 100% [------------------------------------------------] Time: 0:04:24\n",
            "[I 2024-05-21 08:12:35,788] Trial 8 finished with value: 0.17302857996557156 and parameters: {'learning_rate': 0.13386974830291504, 'n_estimators': 10, 'min_samples_split': 8, 'max_depth': 6}. Best is trial 7 with value: 0.15857049896999276.\n",
            "Обучение: 100% [------------------------------------------------] Time: 0:04:41\n",
            "[I 2024-05-21 08:17:17,735] Trial 9 finished with value: 0.16347447995063802 and parameters: {'learning_rate': 0.08454400698880389, 'n_estimators': 10, 'min_samples_split': 8, 'max_depth': 7}. Best is trial 7 with value: 0.15857049896999276.\n"
          ]
        },
        {
          "name": "stdout",
          "output_type": "stream",
          "text": [
            "{'learning_rate': 0.07275836606343852, 'n_estimators': 11, 'min_samples_split': 7, 'max_depth': 3}\n"
          ]
        }
      ],
      "source": [
        "study.optimize(objective, n_trials=10)\n",
        "\n",
        "print(study.best_params)"
      ]
    },
    {
      "cell_type": "code",
      "execution_count": null,
      "id": "ad5a417e-3b08-498f-b533-edc9f02c40ba",
      "metadata": {
        "id": "ad5a417e-3b08-498f-b533-edc9f02c40ba"
      },
      "outputs": [],
      "source": [
        "def objective(trial):\n",
        "    learning_rate = trial.suggest_float(\"learning_rate\", 0.08, 0.12)\n",
        "    n_estimators = trial.suggest_int(\"n_estimators\", 9, 11)\n",
        "    min_samples_split = trial.suggest_int(\"min_samples_split\", 4, 6)\n",
        "    max_depth = trial.suggest_int(\"max_depth\", 4, 6)\n",
        "\n",
        "    model = GradientBoostingRegressor(\n",
        "        learning_rate=learning_rate,\n",
        "        n_estimators=n_estimators,\n",
        "        min_samples_split=min_samples_split,\n",
        "        max_depth=max_depth\n",
        "    )\n",
        "\n",
        "    model.fit(X_train, y_train)\n",
        "    preds = model.predict(X_test)\n",
        "    score = mean_squared_error(y_test, preds)\n",
        "    if score <= 0.07771208480998856:\n",
        "        trial.study.stop()\n",
        "\n",
        "    return score"
      ]
    },
    {
      "cell_type": "code",
      "execution_count": null,
      "id": "36a8bba3-af47-44b6-8952-abed04ddecb2",
      "metadata": {
        "id": "36a8bba3-af47-44b6-8952-abed04ddecb2",
        "outputId": "60e7891f-642d-4a89-abd9-023500c7001e"
      },
      "outputs": [
        {
          "name": "stderr",
          "output_type": "stream",
          "text": [
            "Обучение: 100% [------------------------------------------------] Time: 0:03:20\n",
            "[I 2024-05-21 08:29:09,699] Trial 10 finished with value: 0.18152829617272898 and parameters: {'learning_rate': 0.08024445436344137, 'n_estimators': 11, 'min_samples_split': 5, 'max_depth': 4}. Best is trial 7 with value: 0.15857049896999276.\n",
            "Обучение: 100% [------------------------------------------------] Time: 0:03:52\n",
            "[I 2024-05-21 08:33:01,935] Trial 11 finished with value: 0.1895100182739905 and parameters: {'learning_rate': 0.08069920940065947, 'n_estimators': 10, 'min_samples_split': 6, 'max_depth': 5}. Best is trial 7 with value: 0.15857049896999276.\n",
            "Обучение: 100% [------------------------------------------------] Time: 0:02:44\n",
            "[I 2024-05-21 08:35:46,662] Trial 12 finished with value: 0.18249053819326833 and parameters: {'learning_rate': 0.08661580473689826, 'n_estimators': 9, 'min_samples_split': 6, 'max_depth': 4}. Best is trial 7 with value: 0.15857049896999276.\n",
            "Обучение: 100% [------------------------------------------------] Time: 0:04:14\n",
            "[I 2024-05-21 08:40:01,416] Trial 13 finished with value: 0.18888199747013817 and parameters: {'learning_rate': 0.08854892637189743, 'n_estimators': 11, 'min_samples_split': 6, 'max_depth': 5}. Best is trial 7 with value: 0.15857049896999276.\n",
            "Обучение: 100% [------------------------------------------------] Time: 0:04:08\n",
            "[I 2024-05-21 08:44:10,297] Trial 14 finished with value: 0.18611697777135458 and parameters: {'learning_rate': 0.0874624476027842, 'n_estimators': 9, 'min_samples_split': 6, 'max_depth': 6}. Best is trial 7 with value: 0.15857049896999276.\n",
            "Обучение: 100% [------------------------------------------------] Time: 0:03:21\n",
            "[I 2024-05-21 08:47:31,402] Trial 15 finished with value: 0.1812832086584849 and parameters: {'learning_rate': 0.08303447891552483, 'n_estimators': 11, 'min_samples_split': 6, 'max_depth': 4}. Best is trial 7 with value: 0.15857049896999276.\n",
            "Обучение: 100% [------------------------------------------------] Time: 0:04:29\n",
            "[I 2024-05-21 08:52:00,759] Trial 16 finished with value: 0.18764291925410212 and parameters: {'learning_rate': 0.0918308851497856, 'n_estimators': 10, 'min_samples_split': 6, 'max_depth': 6}. Best is trial 7 with value: 0.15857049896999276.\n",
            "Обучение: 100% [------------------------------------------------] Time: 0:03:29\n",
            "[I 2024-05-21 08:55:30,678] Trial 17 finished with value: 0.18879760744704333 and parameters: {'learning_rate': 0.08492014534636609, 'n_estimators': 9, 'min_samples_split': 6, 'max_depth': 5}. Best is trial 7 with value: 0.15857049896999276.\n",
            "Обучение: 100% [------------------------------------------------] Time: 0:03:49\n",
            "[I 2024-05-21 08:59:20,511] Trial 18 finished with value: 0.18933655292731325 and parameters: {'learning_rate': 0.09337390068845305, 'n_estimators': 10, 'min_samples_split': 6, 'max_depth': 5}. Best is trial 7 with value: 0.15857049896999276.\n",
            "Обучение: 100% [------------------------------------------------] Time: 0:03:22\n",
            "[I 2024-05-21 09:02:43,352] Trial 19 finished with value: 0.18151954355551564 and parameters: {'learning_rate': 0.0806190403706793, 'n_estimators': 11, 'min_samples_split': 5, 'max_depth': 4}. Best is trial 7 with value: 0.15857049896999276.\n"
          ]
        },
        {
          "name": "stdout",
          "output_type": "stream",
          "text": [
            "{'learning_rate': 0.07275836606343852, 'n_estimators': 11, 'min_samples_split': 7, 'max_depth': 3}\n"
          ]
        }
      ],
      "source": [
        "study.optimize(objective, n_trials=10)\n",
        "\n",
        "print(study.best_params)"
      ]
    },
    {
      "cell_type": "code",
      "execution_count": null,
      "id": "fbf35b21-1213-4c55-8361-b0af39e90b24",
      "metadata": {
        "id": "fbf35b21-1213-4c55-8361-b0af39e90b24",
        "outputId": "5fb6a241-111d-4f42-8dcb-b195c1388a8e"
      },
      "outputs": [
        {
          "name": "stdout",
          "output_type": "stream",
          "text": [
            "{'learning_rate': 0.07275836606343852, 'n_estimators': 11, 'min_samples_split': 7, 'max_depth': 3}\n"
          ]
        }
      ],
      "source": [
        "print(study.best_params)"
      ]
    },
    {
      "cell_type": "code",
      "execution_count": null,
      "id": "476c46ee-c997-4239-9892-1bfb65853ca9",
      "metadata": {
        "id": "476c46ee-c997-4239-9892-1bfb65853ca9",
        "outputId": "921bdfbf-f212-414a-c684-e5d4657b0524"
      },
      "outputs": [
        {
          "name": "stderr",
          "output_type": "stream",
          "text": [
            "Обучение: 100% [------------------------------------------------] Time: 0:02:54\n"
          ]
        }
      ],
      "source": [
        "gbc_regr = GradientBoostingRegressor(n_estimators=11, learning_rate=0.07275836606343852, min_samples_split=7, max_depth=3, debug=False)\n",
        "gbc_regr.fit(X_train, y_train)\n",
        "y_pred = gbc_regr.predict(X_train)"
      ]
    },
    {
      "cell_type": "code",
      "execution_count": null,
      "id": "063522d4-bba4-47e5-87c5-3c933b04cc60",
      "metadata": {
        "id": "063522d4-bba4-47e5-87c5-3c933b04cc60",
        "outputId": "db1b4f92-5867-489f-ad45-72a7bdd697b6"
      },
      "outputs": [
        {
          "name": "stdout",
          "output_type": "stream",
          "text": [
            "MSE: 0.07108836585663496\n",
            "MAE: 0.14214269908702767\n",
            "MAPE: 0.10115243065826043\n"
          ]
        }
      ],
      "source": [
        "mse = mean_squared_error(y_train, y_pred)\n",
        "print(\"MSE:\", mse)\n",
        "\n",
        "mae = mean_absolute_error(y_train, y_pred)\n",
        "print(\"MAE:\", mae)\n",
        "\n",
        "mape = mean_absolute_percentage_error(y_train, y_pred)\n",
        "print(\"MAPE:\", mape)"
      ]
    },
    {
      "cell_type": "code",
      "execution_count": null,
      "id": "8ae5e63d-985b-46ca-99ab-c986ac54fbf2",
      "metadata": {
        "id": "8ae5e63d-985b-46ca-99ab-c986ac54fbf2"
      },
      "outputs": [],
      "source": [
        "y_pred = gbc_regr.predict(X_test)"
      ]
    },
    {
      "cell_type": "code",
      "execution_count": null,
      "id": "eab0b51d-56d0-4224-b066-ce0143c73259",
      "metadata": {
        "id": "eab0b51d-56d0-4224-b066-ce0143c73259",
        "outputId": "fff90b8e-9776-48dc-9dbb-81c35a75b63d"
      },
      "outputs": [
        {
          "name": "stdout",
          "output_type": "stream",
          "text": [
            "MSE: 0.15857049896999276\n",
            "MAE: 0.1558389548214967\n",
            "MAPE: 0.10392587588400436\n"
          ]
        }
      ],
      "source": [
        "mse = mean_squared_error(y_test, y_pred)\n",
        "print(\"MSE:\", mse)\n",
        "\n",
        "mae = mean_absolute_error(y_test, y_pred)\n",
        "print(\"MAE:\", mae)\n",
        "\n",
        "mape = mean_absolute_percentage_error(y_test, y_pred)\n",
        "print(\"MAPE:\", mape)"
      ]
    },
    {
      "cell_type": "code",
      "execution_count": null,
      "id": "0d401106-31ef-44ef-b2d5-2dedd65ad51c",
      "metadata": {
        "id": "0d401106-31ef-44ef-b2d5-2dedd65ad51c"
      },
      "outputs": [],
      "source": [
        "y_pred = gbc_regr.predict(X)"
      ]
    },
    {
      "cell_type": "code",
      "execution_count": null,
      "id": "9d1738f0-3e23-404b-9113-0dc1030d33e8",
      "metadata": {
        "id": "9d1738f0-3e23-404b-9113-0dc1030d33e8",
        "outputId": "92f1db6d-efdd-4aff-9737-3a345df56ddc"
      },
      "outputs": [
        {
          "name": "stdout",
          "output_type": "stream",
          "text": [
            "MSE: 0.08857246526468275\n",
            "MAE: 0.1448800202777353\n",
            "MAPE: 0.10170672889384244\n"
          ]
        }
      ],
      "source": [
        "mse = mean_squared_error(Y, y_pred)\n",
        "print(\"MSE:\", mse)\n",
        "\n",
        "mae = mean_absolute_error(Y, y_pred)\n",
        "print(\"MAE:\", mae)\n",
        "\n",
        "mape = mean_absolute_percentage_error(Y, y_pred)\n",
        "print(\"MAPE:\", mape)"
      ]
    },
    {
      "cell_type": "code",
      "execution_count": null,
      "id": "8491e8e3-2f96-4bed-85d1-d2579f1db5bd",
      "metadata": {
        "id": "8491e8e3-2f96-4bed-85d1-d2579f1db5bd"
      },
      "outputs": [],
      "source": []
    }
  ],
  "metadata": {
    "colab": {
      "provenance": []
    },
    "kernelspec": {
      "display_name": "Python 3 (ipykernel)",
      "language": "python",
      "name": "python3"
    },
    "language_info": {
      "codemirror_mode": {
        "name": "ipython",
        "version": 3
      },
      "file_extension": ".py",
      "mimetype": "text/x-python",
      "name": "python",
      "nbconvert_exporter": "python",
      "pygments_lexer": "ipython3",
      "version": "3.12.3"
    }
  },
  "nbformat": 4,
  "nbformat_minor": 5
}