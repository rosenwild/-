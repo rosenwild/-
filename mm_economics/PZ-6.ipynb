{
  "nbformat": 4,
  "nbformat_minor": 0,
  "metadata": {
    "colab": {
      "provenance": []
    },
    "kernelspec": {
      "name": "python3",
      "display_name": "Python 3"
    },
    "language_info": {
      "name": "python"
    }
  },
  "cells": [
    {
      "cell_type": "code",
      "execution_count": null,
      "metadata": {
        "id": "rwftKB48Sm5O"
      },
      "outputs": [],
      "source": [
        "import sympy as sp"
      ]
    },
    {
      "cell_type": "markdown",
      "source": [
        "Практическое занятие №6\\\n",
        "*** Модель экономического роста Солоу-2 ***"
      ],
      "metadata": {
        "id": "ANIu4qbJUoLf"
      }
    },
    {
      "cell_type": "markdown",
      "source": [
        "![image.png](data:image/png;base64,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)\n",
        "\n"
      ],
      "metadata": {
        "id": "NSlzl_dkW39g"
      }
    },
    {
      "cell_type": "code",
      "source": [
        "# c - потребительске расходы экономически активного человека\n",
        "# k - капиталовооруженность экономически активного челвоека\n",
        "# s - норма сбережения, которая показывает, какая часть среднедушевого\n",
        "# дохода сберегается (направляется на инвестиции в основной капитал)\n",
        "# f[k(s)] - среднедушевой выпуск в экономике, или среднедушевой доход"
      ],
      "metadata": {
        "id": "gGVmHiuJUMGw"
      },
      "execution_count": null,
      "outputs": []
    },
    {
      "cell_type": "code",
      "source": [
        "# c[k(s)] = (1 - s)*f[k(s)] = f[k(s)] - s*f[k(s)] =\n",
        "# = f[k(s)] - (delta + n + g)*k(s) -> max"
      ],
      "metadata": {
        "id": "ERUJ65c2X0R7"
      },
      "execution_count": null,
      "outputs": []
    },
    {
      "cell_type": "code",
      "source": [
        "# Необходимое условие существования экстремума\n",
        "# функции потребительских расходов\n",
        "# c'[k(s)] = f'(k)*k'(s) - (delta + n + g)*k'(s) =\n",
        "# k'(s)*[f'(k) - (delta + n + g)] = 0"
      ],
      "metadata": {
        "id": "u7uz-CLwY9K3"
      },
      "execution_count": null,
      "outputs": []
    },
    {
      "cell_type": "code",
      "source": [
        "# k'(s) > 0 => f'(k) = delta + n + g,\n",
        "# f'(k) = MPK (показывает, каким будет прирост среднедушевого выпуска\n",
        "# в ответ на прирост капиталовооруженности на единицу)"
      ],
      "metadata": {
        "id": "2CvQmiZYZZ3r"
      },
      "execution_count": null,
      "outputs": []
    },
    {
      "cell_type": "code",
      "source": [
        "# Достаточное условие экстремума (максимума) можно не проверять,\n",
        "# т.к. функция потребительских расходов (1 - s)*f(k), так же, как\n",
        "# и производственная f(k), является разрастающей и вогнутой =>\n",
        "# ее стационарная точка - точка максимума."
      ],
      "metadata": {
        "id": "ED96rgE9aFb0"
      },
      "execution_count": null,
      "outputs": []
    },
    {
      "cell_type": "code",
      "source": [
        "# В итоге получаем следующую систему условий максимизации\n",
        "# среднедушевых потребительских расходов в устойчивом\n",
        "# состоянии экономики:\n",
        "\n",
        "# s*f(k) = (delta + n + g)*k  -  наличие устойчивого состояния экономики\n",
        "# f'(k) = (delta + n + g)  -  необходимое условие первого порядка (экстремума)"
      ],
      "metadata": {
        "id": "cWDLXCegaw3D"
      },
      "execution_count": null,
      "outputs": []
    },
    {
      "cell_type": "code",
      "source": [
        "# s* = f'(k)*k/f(k)"
      ],
      "metadata": {
        "id": "Yy8u8D6JbQyE"
      },
      "execution_count": null,
      "outputs": []
    },
    {
      "cell_type": "code",
      "source": [
        "s, A, alpha, t = sp.symbols('s, A, alpha, t')\n",
        "k = sp.Function('k')"
      ],
      "metadata": {
        "id": "sqbpF5qPbWGD"
      },
      "execution_count": null,
      "outputs": []
    },
    {
      "cell_type": "code",
      "source": [
        "y = A*k(t)**alpha; y"
      ],
      "metadata": {
        "colab": {
          "base_uri": "https://localhost:8080/",
          "height": 38
        },
        "id": "e-aWT4Rqbm_T",
        "outputId": "565e28c4-090d-4023-81d3-d82639f1fb17"
      },
      "execution_count": null,
      "outputs": [
        {
          "output_type": "execute_result",
          "data": {
            "text/plain": [
              "A*k(t)**alpha"
            ],
            "text/latex": "$\\displaystyle A k^{\\alpha}{\\left(t \\right)}$"
          },
          "metadata": {},
          "execution_count": 60
        }
      ]
    },
    {
      "cell_type": "code",
      "source": [
        "# золотая норма сбережения\n",
        "s_sol = y.diff(k)*k/y; s_sol"
      ],
      "metadata": {
        "colab": {
          "base_uri": "https://localhost:8080/",
          "height": 38
        },
        "id": "1O8G5o1ubt38",
        "outputId": "e8760f87-a65c-4d3d-f9b8-8727655128c8"
      },
      "execution_count": null,
      "outputs": [
        {
          "output_type": "execute_result",
          "data": {
            "text/plain": [
              "alpha"
            ],
            "text/latex": "$\\displaystyle \\alpha$"
          },
          "metadata": {},
          "execution_count": 27
        }
      ]
    },
    {
      "cell_type": "code",
      "source": [
        "# В случае ПФ Солоу y = A*k^alpha золота норма сбережения s*=alpha"
      ],
      "metadata": {
        "id": "ZZDqep-2dF6t"
      },
      "execution_count": null,
      "outputs": []
    },
    {
      "cell_type": "code",
      "source": [
        "delta, n, g = sp.symbols('delta n g')"
      ],
      "metadata": {
        "id": "iSjC5NBZduld"
      },
      "execution_count": null,
      "outputs": []
    },
    {
      "cell_type": "code",
      "source": [
        "# Уравнение для устойчивого уровня капиталовооруженности\n",
        "eqn_st = sp.Eq(s*y - (delta + n + g)*k(t), 0); eqn_st"
      ],
      "metadata": {
        "colab": {
          "base_uri": "https://localhost:8080/",
          "height": 38
        },
        "id": "rpaqcYwEdRgd",
        "outputId": "0721674c-cddb-4616-9627-9ff00dc58768"
      },
      "execution_count": null,
      "outputs": [
        {
          "output_type": "execute_result",
          "data": {
            "text/plain": [
              "Eq(A*s*k(t)**alpha - (delta + g + n)*k(t), 0)"
            ],
            "text/latex": "$\\displaystyle A s k^{\\alpha}{\\left(t \\right)} - \\left(\\delta + g + n\\right) k{\\left(t \\right)} = 0$"
          },
          "metadata": {},
          "execution_count": 62
        }
      ]
    },
    {
      "cell_type": "code",
      "source": [
        "# Устойчивый уровень капиталовооруженности определяется по формуле:\n",
        "k_st = sp.solve(eqn_st, k(t))[0]; k_st"
      ],
      "metadata": {
        "colab": {
          "base_uri": "https://localhost:8080/",
          "height": 63
        },
        "id": "Ed2ti8B2eKLN",
        "outputId": "3baaab54-9d0b-428f-c8b1-8161c22e6c99"
      },
      "execution_count": null,
      "outputs": [
        {
          "output_type": "execute_result",
          "data": {
            "text/plain": [
              "((delta + g + n)/(A*s))**(1/(alpha - 1))"
            ],
            "text/latex": "$\\displaystyle \\left(\\frac{\\delta + g + n}{A s}\\right)^{\\frac{1}{\\alpha - 1}}$"
          },
          "metadata": {},
          "execution_count": 63
        }
      ]
    },
    {
      "cell_type": "code",
      "source": [
        "# A = 26.1; alpha = 0.3; n = 0.02; g = 0.014; delta = 0.06; s = 0.23;"
      ],
      "metadata": {
        "id": "CLKEELjSeevl"
      },
      "execution_count": null,
      "outputs": []
    },
    {
      "cell_type": "code",
      "source": [
        "# c = (1 - s)*f(k)"
      ],
      "metadata": {
        "id": "D0_nfG_werxM"
      },
      "execution_count": null,
      "outputs": []
    },
    {
      "cell_type": "code",
      "source": [
        "# После перехода к устойчивому состоянию с золотой нормой сбережения\n",
        "# на сколько процентов выросли среднедушевые потребительские расходы?"
      ],
      "metadata": {
        "id": "1rKK0p1PewyU"
      },
      "execution_count": null,
      "outputs": []
    },
    {
      "cell_type": "code",
      "source": [
        "# Устойчивый уровень капиталовооруженности k при золотой норме сбережения s*\n",
        "k_st_g = ((0.06 + 0.014 + 0.02)/(26.1*0.3))**(-1/0.7); k_st_g"
      ],
      "metadata": {
        "id": "lCNhQidZf1JU",
        "colab": {
          "base_uri": "https://localhost:8080/"
        },
        "outputId": "16ce4ee6-7602-4f73-8a87-65ccb0981f48"
      },
      "execution_count": null,
      "outputs": [
        {
          "output_type": "execute_result",
          "data": {
            "text/plain": [
              "554.3227799941944"
            ]
          },
          "metadata": {},
          "execution_count": 73
        }
      ]
    },
    {
      "cell_type": "code",
      "source": [
        "# Среднедушевой доход при s*\n",
        "y_st_g = 26.1*k_st_g**0.3; y_st_g"
      ],
      "metadata": {
        "colab": {
          "base_uri": "https://localhost:8080/"
        },
        "id": "GBfh3UsYhXU9",
        "outputId": "6c8f576c-12fd-4c87-d011-f81a7ad6be06"
      },
      "execution_count": null,
      "outputs": [
        {
          "output_type": "execute_result",
          "data": {
            "text/plain": [
              "173.6878043981809"
            ]
          },
          "metadata": {},
          "execution_count": 74
        }
      ]
    },
    {
      "cell_type": "code",
      "source": [
        "# Среднедушевые потребительские расходы при s*\n",
        "c_st_g = (1 - 0.3)*y_st_g; c_st_g"
      ],
      "metadata": {
        "colab": {
          "base_uri": "https://localhost:8080/"
        },
        "id": "1soxDGcch0mD",
        "outputId": "dfc18d62-45aa-49cd-98ad-96cd5ed81402"
      },
      "execution_count": null,
      "outputs": [
        {
          "output_type": "execute_result",
          "data": {
            "text/plain": [
              "121.58146307872663"
            ]
          },
          "metadata": {},
          "execution_count": 75
        }
      ]
    },
    {
      "cell_type": "code",
      "source": [
        "# Среднедушевые потребительские расходы при s = 0.23"
      ],
      "metadata": {
        "id": "ZONE8efLiAG8"
      },
      "execution_count": null,
      "outputs": []
    },
    {
      "cell_type": "code",
      "source": [
        "y_st = y.subs(k(t), k_st); y_st"
      ],
      "metadata": {
        "colab": {
          "base_uri": "https://localhost:8080/",
          "height": 69
        },
        "id": "T4oQeN3GfCLM",
        "outputId": "2dfe8f34-08f7-42df-af1b-978cee472588"
      },
      "execution_count": null,
      "outputs": [
        {
          "output_type": "execute_result",
          "data": {
            "text/plain": [
              "A*(((delta + g + n)/(A*s))**(1/(alpha - 1)))**alpha"
            ],
            "text/latex": "$\\displaystyle A \\left(\\left(\\frac{\\delta + g + n}{A s}\\right)^{\\frac{1}{\\alpha - 1}}\\right)^{\\alpha}$"
          },
          "metadata": {},
          "execution_count": 64
        }
      ]
    },
    {
      "cell_type": "code",
      "source": [
        "c_st = (1 - s)*y_st; c_st"
      ],
      "metadata": {
        "colab": {
          "base_uri": "https://localhost:8080/",
          "height": 69
        },
        "id": "HJ3COYmlfcYI",
        "outputId": "392309d1-a7d2-4377-81a4-1e2869f4d6ba"
      },
      "execution_count": null,
      "outputs": [
        {
          "output_type": "execute_result",
          "data": {
            "text/plain": [
              "A*(1 - s)*(((delta + g + n)/(A*s))**(1/(alpha - 1)))**alpha"
            ],
            "text/latex": "$\\displaystyle A \\left(1 - s\\right) \\left(\\left(\\frac{\\delta + g + n}{A s}\\right)^{\\frac{1}{\\alpha - 1}}\\right)^{\\alpha}$"
          },
          "metadata": {},
          "execution_count": 65
        }
      ]
    },
    {
      "cell_type": "code",
      "source": [
        "c_st = c_st.subs([(A, 26.1), (alpha, 0.3), (n, 0.02), (g, 0.014), (delta, 0.06), (s, 0.23)]); c_st"
      ],
      "metadata": {
        "colab": {
          "base_uri": "https://localhost:8080/",
          "height": 37
        },
        "id": "hne1OUFtfftg",
        "outputId": "60072231-4649-42e2-d400-6b520aed894b"
      },
      "execution_count": null,
      "outputs": [
        {
          "output_type": "execute_result",
          "data": {
            "text/plain": [
              "119.345412015220"
            ],
            "text/latex": "$\\displaystyle 119.34541201522$"
          },
          "metadata": {},
          "execution_count": 78
        }
      ]
    },
    {
      "cell_type": "code",
      "source": [
        "# После перехода к золотой норме сбережения s* = alpha = 0.3\n",
        "# потребительские расходы увеличились на\n",
        "(c_st_g - c_st)/c_st*100"
      ],
      "metadata": {
        "colab": {
          "base_uri": "https://localhost:8080/",
          "height": 37
        },
        "id": "XcF4tiDCiWsy",
        "outputId": "e27c00f0-837e-4765-c4a2-207e9fb17353"
      },
      "execution_count": null,
      "outputs": [
        {
          "output_type": "execute_result",
          "data": {
            "text/plain": [
              "1.87359616574265"
            ],
            "text/latex": "$\\displaystyle 1.87359616574265$"
          },
          "metadata": {},
          "execution_count": 79
        }
      ]
    },
    {
      "cell_type": "code",
      "source": [
        "# 1.9 %"
      ],
      "metadata": {
        "id": "XpWCPGqCitSr"
      },
      "execution_count": null,
      "outputs": []
    },
    {
      "cell_type": "markdown",
      "source": [
        "![image.png](data:image/png;base64,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)"
      ],
      "metadata": {
        "id": "dl-Fo9Wci58K"
      }
    },
    {
      "cell_type": "code",
      "source": [
        "tau = sp.Symbol('tau') # средняя в экономике ставка налогообложения"
      ],
      "metadata": {
        "id": "gAS1W7k6jel6"
      },
      "execution_count": null,
      "outputs": []
    },
    {
      "cell_type": "code",
      "source": [
        "# y*(1 - tau) - распологаемый доход\n",
        "eqn_st_tau = sp.Eq(s*y*(1 - tau) - (delta + n + g)*k(t), 0); eqn_st_tau"
      ],
      "metadata": {
        "colab": {
          "base_uri": "https://localhost:8080/",
          "height": 38
        },
        "id": "RmD8OZ8Ii4ei",
        "outputId": "c0a0f9e8-f90e-4f9b-e246-bf2633b4b8a4"
      },
      "execution_count": null,
      "outputs": [
        {
          "output_type": "execute_result",
          "data": {
            "text/plain": [
              "Eq(A*s*(1 - tau)*k(t)**alpha - (delta + g + n)*k(t), 0)"
            ],
            "text/latex": "$\\displaystyle A s \\left(1 - \\tau\\right) k^{\\alpha}{\\left(t \\right)} - \\left(\\delta + g + n\\right) k{\\left(t \\right)} = 0$"
          },
          "metadata": {},
          "execution_count": 84
        }
      ]
    },
    {
      "cell_type": "code",
      "source": [
        "# Устойчивый уровень капиталовооруженности k с учетом налогообложения:\n",
        "k_st_tau = sp.solve(eqn_st_tau, k(t))[0]; k_st_tau"
      ],
      "metadata": {
        "colab": {
          "base_uri": "https://localhost:8080/",
          "height": 63
        },
        "id": "kzi8ZHM4jqiO",
        "outputId": "49431ffe-14f8-456b-c349-a316dab151cc"
      },
      "execution_count": null,
      "outputs": [
        {
          "output_type": "execute_result",
          "data": {
            "text/plain": [
              "(A*s*(1 - tau)/(delta + g + n))**(-1/(alpha - 1))"
            ],
            "text/latex": "$\\displaystyle \\left(\\frac{A s \\left(1 - \\tau\\right)}{\\delta + g + n}\\right)^{- \\frac{1}{\\alpha - 1}}$"
          },
          "metadata": {},
          "execution_count": 85
        }
      ]
    },
    {
      "cell_type": "markdown",
      "source": [
        "![image.png](data:image/png;base64,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)"
      ],
      "metadata": {
        "id": "1uYprzZJkFri"
      }
    },
    {
      "cell_type": "code",
      "source": [
        "# Задание связано с оценкой темпа НТП (научно-технологического прогресса)"
      ],
      "metadata": {
        "id": "OCy3viEhkB7k"
      },
      "execution_count": null,
      "outputs": []
    },
    {
      "cell_type": "code",
      "source": [
        "# ПФ (производственная функция), учитывающая НТП, в общем виде:\n",
        "# Y = A(t)*K^alpha*L^beta,\n",
        "# A(t) - это ненаблюдаемая переменная НТП\n",
        "# так как A(t) - ненаблюдаемая, обычно A(t) рассматривают как\n",
        "# экспоненту (экпонинцальную функцию): A(t) = exp(gamma*t)"
      ],
      "metadata": {
        "id": "O42cnVfxkaSf"
      },
      "execution_count": null,
      "outputs": []
    },
    {
      "cell_type": "code",
      "source": [
        "# При этом можно показать, что темп прироста НТП равен параметру gamma"
      ],
      "metadata": {
        "id": "txtaHnPKlDcn"
      },
      "execution_count": null,
      "outputs": []
    },
    {
      "cell_type": "code",
      "source": [
        "gamma = sp.Symbol('gamma')"
      ],
      "metadata": {
        "id": "toY6KBnRlQgw"
      },
      "execution_count": null,
      "outputs": []
    },
    {
      "cell_type": "code",
      "source": [
        "A = sp.exp(gamma*t)\n",
        "A.diff(t)/A"
      ],
      "metadata": {
        "colab": {
          "base_uri": "https://localhost:8080/",
          "height": 38
        },
        "id": "AYujqlgQlJ1b",
        "outputId": "05ba75f2-a1aa-4879-a853-df2eb439e2b8"
      },
      "execution_count": null,
      "outputs": [
        {
          "output_type": "execute_result",
          "data": {
            "text/plain": [
              "gamma"
            ],
            "text/latex": "$\\displaystyle \\gamma$"
          },
          "metadata": {},
          "execution_count": 92
        }
      ]
    },
    {
      "cell_type": "code",
      "source": [
        "# В модели Солоу за НТП отвечает переменная E:\n",
        "# Y = K^alpha*(L*E)^(1-alpha)"
      ],
      "metadata": {
        "id": "F_O5P6fwlSny"
      },
      "execution_count": null,
      "outputs": []
    },
    {
      "cell_type": "code",
      "source": [
        "# Если ПФ из модели Солоу представить как ПФ общего вида:\n",
        "# Y = E^(1-alpha)*K^alpha*L^(1-alpha),\n",
        "# A(t) = exp(gamma*t) = E(t)^(1-alpha)"
      ],
      "metadata": {
        "id": "kEABXeJollZZ"
      },
      "execution_count": null,
      "outputs": []
    },
    {
      "cell_type": "code",
      "source": [
        "# В модели Солоу темп прироста переменной E обозначен символом g"
      ],
      "metadata": {
        "id": "4GdKGRJsl-nf"
      },
      "execution_count": null,
      "outputs": []
    },
    {
      "cell_type": "code",
      "source": [
        "# Вопрос: как, зная оценку параметра gamma, оценить параметр g?"
      ],
      "metadata": {
        "id": "qaSPsgJWl7po"
      },
      "execution_count": null,
      "outputs": []
    },
    {
      "cell_type": "code",
      "source": [
        "E = sp.Function('E')\n",
        "A_E = E(t)**(1-alpha); A_E"
      ],
      "metadata": {
        "colab": {
          "base_uri": "https://localhost:8080/",
          "height": 38
        },
        "id": "zQwAFjbUmPHf",
        "outputId": "f1724592-ad04-4009-c3a1-a4c5a1300632"
      },
      "execution_count": null,
      "outputs": [
        {
          "output_type": "execute_result",
          "data": {
            "text/plain": [
              "E(t)**(1 - alpha)"
            ],
            "text/latex": "$\\displaystyle E^{1 - \\alpha}{\\left(t \\right)}$"
          },
          "metadata": {},
          "execution_count": 98
        }
      ]
    },
    {
      "cell_type": "code",
      "source": [
        "sp.simplify(A_E.diff(t)/A_E)"
      ],
      "metadata": {
        "colab": {
          "base_uri": "https://localhost:8080/",
          "height": 60
        },
        "id": "-hKDe5Jimec_",
        "outputId": "06b62566-670b-4145-e9d8-ffc6308b6cd9"
      },
      "execution_count": null,
      "outputs": [
        {
          "output_type": "execute_result",
          "data": {
            "text/plain": [
              "(1 - alpha)*Derivative(E(t), t)/E(t)"
            ],
            "text/latex": "$\\displaystyle \\frac{\\left(1 - \\alpha\\right) \\frac{d}{d t} E{\\left(t \\right)}}{E{\\left(t \\right)}}$"
          },
          "metadata": {},
          "execution_count": 100
        }
      ]
    },
    {
      "cell_type": "code",
      "source": [
        "# => gamma = (1 - alpha)*g => g = gamma/(1 - alpha)"
      ],
      "metadata": {
        "id": "R1odsNwtmn1P"
      },
      "execution_count": null,
      "outputs": []
    },
    {
      "cell_type": "code",
      "source": [
        "# Как оценить параметр gamma?\n",
        "# Используя ПФ общего вида\n",
        "\n",
        "# Y = exp(gamma*t)*K^alpha*L^(1 - alpha)"
      ],
      "metadata": {
        "id": "DXg_P1kamu7G"
      },
      "execution_count": null,
      "outputs": []
    },
    {
      "cell_type": "code",
      "source": [
        "# Для оценки параметров gamma и alpha требуется линелиализация\n",
        "# данной ПФ с помощью логаримфирования\n",
        "\n",
        "# ln(Y) = gamma*t + alpha*ln(K) + (1 - alpha)*ln(L)\n",
        "# ln(Y/L) = gamma*t + alpha*ln(K/L)"
      ],
      "metadata": {
        "id": "EDCMWLpQnFuq"
      },
      "execution_count": null,
      "outputs": []
    },
    {
      "cell_type": "code",
      "source": [],
      "metadata": {
        "id": "pqaBVpjvngqR"
      },
      "execution_count": null,
      "outputs": []
    }
  ]
}