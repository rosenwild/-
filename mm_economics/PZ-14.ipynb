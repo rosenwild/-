{
  "nbformat": 4,
  "nbformat_minor": 0,
  "metadata": {
    "colab": {
      "provenance": []
    },
    "kernelspec": {
      "name": "python3",
      "display_name": "Python 3"
    },
    "language_info": {
      "name": "python"
    }
  },
  "cells": [
    {
      "cell_type": "code",
      "execution_count": null,
      "metadata": {
        "id": "0C3H3A6I14uq"
      },
      "outputs": [],
      "source": [
        "import sympy as sp"
      ]
    },
    {
      "cell_type": "markdown",
      "source": [
        "Практическое занятие № 14\\\n",
        "**Модель краткосрочного равновесия в закрытой экономике IS-LM**"
      ],
      "metadata": {
        "id": "2ZxYnFL8DRFJ"
      }
    },
    {
      "cell_type": "code",
      "source": [
        "# IS (Investments = Savings) - условие равновесия на товарном / финансовом рынках\n",
        "# Y = C + I + G   -   условие равновесия на товарном рынке, Y != const\n",
        "# Y - C - G = S = I(r)   -   условие равновесия на финансовом рынке\n",
        "\n",
        "# C = a0 + a1*(Y - T), I = b0 + b1*r"
      ],
      "metadata": {
        "id": "HcLg5hpFC1b7"
      },
      "execution_count": null,
      "outputs": []
    },
    {
      "cell_type": "code",
      "source": [
        "# LM (Liquidity = Money)\n",
        "# M/P = c1*Y + c2*r, c1 > 0,   c2 < 0"
      ],
      "metadata": {
        "id": "Gb3HEfMxEdU7"
      },
      "execution_count": null,
      "outputs": []
    },
    {
      "cell_type": "code",
      "source": [
        "# Опишем формально (математически) краткосрочное макроэкономическое равновесие"
      ],
      "metadata": {
        "id": "5R_tMi0jFIut"
      },
      "execution_count": null,
      "outputs": []
    },
    {
      "cell_type": "code",
      "source": [
        "Y, r = sp.symbols('Y r')        # главные эндогенные переменные, определяющие\n",
        "# краткосрочное макроэкономическое равновесие (SRE)"
      ],
      "metadata": {
        "id": "KPabhMycFiNe"
      },
      "execution_count": null,
      "outputs": []
    },
    {
      "cell_type": "code",
      "source": [
        "C, I = sp.symbols('C I')        # дополнительные эндогенные переменныев модели IS-LM"
      ],
      "metadata": {
        "id": "dEHAPgNNF2SP"
      },
      "execution_count": null,
      "outputs": []
    },
    {
      "cell_type": "code",
      "source": [
        "T, G, M, P = sp.symbols('T G M P')    # экзогенные переменные модели"
      ],
      "metadata": {
        "id": "M3Kd3csjGBLo"
      },
      "execution_count": null,
      "outputs": []
    },
    {
      "cell_type": "code",
      "source": [
        "a0, a1, b0, b1, c1, c2 = sp.symbols('a0, a1, b0, b1, c1, c2') # параметры модели"
      ],
      "metadata": {
        "id": "4e-c5i5HGTWv"
      },
      "execution_count": null,
      "outputs": []
    },
    {
      "cell_type": "code",
      "source": [
        "IS = sp.Eq(Y, a0 + a1*(Y - T) + b0 + b1*r + G); IS"
      ],
      "metadata": {
        "colab": {
          "base_uri": "https://localhost:8080/",
          "height": 38
        },
        "id": "_odtEK9LGdmY",
        "outputId": "39289b46-b56e-448b-bb1c-83771e6dc8b4"
      },
      "execution_count": null,
      "outputs": [
        {
          "output_type": "execute_result",
          "data": {
            "text/plain": [
              "Y = G + a₀ + a₁⋅(-T + Y) + b₀ + b₁⋅r"
            ],
            "text/latex": "$\\displaystyle Y = G + a_{0} + a_{1} \\left(- T + Y\\right) + b_{0} + b_{1} r$"
          },
          "metadata": {},
          "execution_count": 21
        }
      ]
    },
    {
      "cell_type": "code",
      "source": [
        "LM = sp.Eq(M/P, c1*Y + c2*r); LM"
      ],
      "metadata": {
        "colab": {
          "base_uri": "https://localhost:8080/",
          "height": 52
        },
        "id": "bugYfpR4GvzQ",
        "outputId": "f640fc6c-9f1a-48ec-b467-eb2e22dbf25d"
      },
      "execution_count": null,
      "outputs": [
        {
          "output_type": "execute_result",
          "data": {
            "text/plain": [
              "M              \n",
              "─ = Y⋅c₁ + c₂⋅r\n",
              "P              "
            ],
            "text/latex": "$\\displaystyle \\frac{M}{P} = Y c_{1} + c_{2} r$"
          },
          "metadata": {},
          "execution_count": 22
        }
      ]
    },
    {
      "cell_type": "code",
      "source": [
        "# SRE\n",
        "sp.init_printing()\n",
        "SRE = sp.solve([IS, LM, C - a0 - a1*(Y - T), I - b0 - b1*r], [Y, r, C, I], dict = True)[0]; SRE"
      ],
      "metadata": {
        "colab": {
          "base_uri": "https://localhost:8080/",
          "height": 78
        },
        "id": "R94GpaXMG3CY",
        "outputId": "14bcc376-e8d2-4218-8203-28fda572e4b2"
      },
      "execution_count": null,
      "outputs": [
        {
          "output_type": "execute_result",
          "data": {
            "text/plain": [
              "⎧   -G⋅P⋅a₁⋅c₂ - M⋅a₁⋅b₁ + P⋅T⋅a₁⋅b₁⋅c₁ + P⋅T⋅a₁⋅c₂ - P⋅a₀⋅b₁⋅c₁ - P⋅a₀⋅c₂ - P\n",
              "⎨C: ──────────────────────────────────────────────────────────────────────────\n",
              "⎩                                 P⋅a₁⋅c₂ - P⋅b₁⋅c₁ - P⋅c₂                    \n",
              "\n",
              "⋅a₁⋅b₀⋅c₂     G⋅P⋅b₁⋅c₁ + M⋅a₁⋅b₁ - M⋅b₁ - P⋅T⋅a₁⋅b₁⋅c₁ + P⋅a₀⋅b₁⋅c₁ + P⋅a₁⋅b₀\n",
              "─────────, I: ────────────────────────────────────────────────────────────────\n",
              "                                         P⋅a₁⋅c₂ - P⋅b₁⋅c₁ - P⋅c₂             \n",
              "\n",
              "⋅c₂ - P⋅b₀⋅c₂     -G⋅P⋅c₂ - M⋅b₁ + P⋅T⋅a₁⋅c₂ - P⋅a₀⋅c₂ - P⋅b₀⋅c₂     G⋅P⋅c₁ + \n",
              "─────────────, Y: ──────────────────────────────────────────────, r: ─────────\n",
              "                             P⋅a₁⋅c₂ - P⋅b₁⋅c₁ - P⋅c₂                         \n",
              "\n",
              "M⋅a₁ - M - P⋅T⋅a₁⋅c₁ + P⋅a₀⋅c₁ + P⋅b₀⋅c₁⎫\n",
              "────────────────────────────────────────⎬\n",
              "    P⋅a₁⋅c₂ - P⋅b₁⋅c₁ - P⋅c₂            ⎭"
            ],
            "text/latex": "$\\displaystyle \\left\\{ C : \\frac{- G P a_{1} c_{2} - M a_{1} b_{1} + P T a_{1} b_{1} c_{1} + P T a_{1} c_{2} - P a_{0} b_{1} c_{1} - P a_{0} c_{2} - P a_{1} b_{0} c_{2}}{P a_{1} c_{2} - P b_{1} c_{1} - P c_{2}}, \\  I : \\frac{G P b_{1} c_{1} + M a_{1} b_{1} - M b_{1} - P T a_{1} b_{1} c_{1} + P a_{0} b_{1} c_{1} + P a_{1} b_{0} c_{2} - P b_{0} c_{2}}{P a_{1} c_{2} - P b_{1} c_{1} - P c_{2}}, \\  Y : \\frac{- G P c_{2} - M b_{1} + P T a_{1} c_{2} - P a_{0} c_{2} - P b_{0} c_{2}}{P a_{1} c_{2} - P b_{1} c_{1} - P c_{2}}, \\  r : \\frac{G P c_{1} + M a_{1} - M - P T a_{1} c_{1} + P a_{0} c_{1} + P b_{0} c_{1}}{P a_{1} c_{2} - P b_{1} c_{1} - P c_{2}}\\right\\}$"
          },
          "metadata": {},
          "execution_count": 26
        }
      ]
    },
    {
      "cell_type": "code",
      "source": [
        "# Найдем реакции эндогенных переменных на изменения экзогенных\n",
        "Delta_T, Delta_G, Delta_M = sp.symbols('Delta_T, Delta_G, Delta_M')"
      ],
      "metadata": {
        "id": "18bdi4WdG_xB"
      },
      "execution_count": null,
      "outputs": []
    },
    {
      "cell_type": "code",
      "source": [
        "Delta_Y = sp.expand(SRE[Y].subs([(T, T + Delta_T), (G, G + Delta_G), (M, M + Delta_M)]) - SRE[Y]); Delta_Y"
      ],
      "metadata": {
        "colab": {
          "base_uri": "https://localhost:8080/",
          "height": 54
        },
        "id": "4KeJzll4Hghh",
        "outputId": "ce5b4ea0-7cb9-46b1-a3ff-1602f8c30419"
      },
      "execution_count": null,
      "outputs": [
        {
          "output_type": "execute_result",
          "data": {
            "text/plain": [
              "          Δ_G⋅P⋅c₂                    Δ_M⋅b₁                  Δ_T⋅P⋅a₁⋅c₂     \n",
              "- ──────────────────────── - ──────────────────────── + ──────────────────────\n",
              "  P⋅a₁⋅c₂ - P⋅b₁⋅c₁ - P⋅c₂   P⋅a₁⋅c₂ - P⋅b₁⋅c₁ - P⋅c₂   P⋅a₁⋅c₂ - P⋅b₁⋅c₁ - P⋅\n",
              "\n",
              "  \n",
              "──\n",
              "c₂"
            ],
            "text/latex": "$\\displaystyle - \\frac{\\Delta_{G} P c_{2}}{P a_{1} c_{2} - P b_{1} c_{1} - P c_{2}} - \\frac{\\Delta_{M} b_{1}}{P a_{1} c_{2} - P b_{1} c_{1} - P c_{2}} + \\frac{\\Delta_{T} P a_{1} c_{2}}{P a_{1} c_{2} - P b_{1} c_{1} - P c_{2}}$"
          },
          "metadata": {},
          "execution_count": 28
        }
      ]
    },
    {
      "cell_type": "code",
      "source": [
        "Delta_r = sp.expand(SRE[r].subs([(T, T + Delta_T), (G, G + Delta_G), (M, M + Delta_M)]) - SRE[r]); Delta_r"
      ],
      "metadata": {
        "colab": {
          "base_uri": "https://localhost:8080/",
          "height": 54
        },
        "id": "W4DuU7S1Hz-6",
        "outputId": "4a652ab3-7853-4e1c-b000-24ef794d790c"
      },
      "execution_count": null,
      "outputs": [
        {
          "output_type": "execute_result",
          "data": {
            "text/plain": [
              "        Δ_G⋅P⋅c₁                    Δ_M⋅a₁                      Δ_M           \n",
              "──────────────────────── + ──────────────────────── - ────────────────────────\n",
              "P⋅a₁⋅c₂ - P⋅b₁⋅c₁ - P⋅c₂   P⋅a₁⋅c₂ - P⋅b₁⋅c₁ - P⋅c₂   P⋅a₁⋅c₂ - P⋅b₁⋅c₁ - P⋅c₂\n",
              "\n",
              "         Δ_T⋅P⋅a₁⋅c₁       \n",
              " - ────────────────────────\n",
              "   P⋅a₁⋅c₂ - P⋅b₁⋅c₁ - P⋅c₂"
            ],
            "text/latex": "$\\displaystyle \\frac{\\Delta_{G} P c_{1}}{P a_{1} c_{2} - P b_{1} c_{1} - P c_{2}} + \\frac{\\Delta_{M} a_{1}}{P a_{1} c_{2} - P b_{1} c_{1} - P c_{2}} - \\frac{\\Delta_{M}}{P a_{1} c_{2} - P b_{1} c_{1} - P c_{2}} - \\frac{\\Delta_{T} P a_{1} c_{1}}{P a_{1} c_{2} - P b_{1} c_{1} - P c_{2}}$"
          },
          "metadata": {},
          "execution_count": 29
        }
      ]
    },
    {
      "cell_type": "code",
      "source": [
        "Delta_C = sp.expand(SRE[C].subs([(T, T + Delta_T), (G, G + Delta_G), (M, M + Delta_M)]) - SRE[C]); Delta_C"
      ],
      "metadata": {
        "colab": {
          "base_uri": "https://localhost:8080/",
          "height": 54
        },
        "id": "Woo9JmLEIi2m",
        "outputId": "aa167118-4692-48ef-f17f-f2fcdf610a0b"
      },
      "execution_count": null,
      "outputs": [
        {
          "output_type": "execute_result",
          "data": {
            "text/plain": [
              "        Δ_G⋅P⋅a₁⋅c₂                 Δ_M⋅a₁⋅b₁                Δ_T⋅P⋅a₁⋅b₁⋅c₁   \n",
              "- ──────────────────────── - ──────────────────────── + ──────────────────────\n",
              "  P⋅a₁⋅c₂ - P⋅b₁⋅c₁ - P⋅c₂   P⋅a₁⋅c₂ - P⋅b₁⋅c₁ - P⋅c₂   P⋅a₁⋅c₂ - P⋅b₁⋅c₁ - P⋅\n",
              "\n",
              "           Δ_T⋅P⋅a₁⋅c₂       \n",
              "── + ────────────────────────\n",
              "c₂   P⋅a₁⋅c₂ - P⋅b₁⋅c₁ - P⋅c₂"
            ],
            "text/latex": "$\\displaystyle - \\frac{\\Delta_{G} P a_{1} c_{2}}{P a_{1} c_{2} - P b_{1} c_{1} - P c_{2}} - \\frac{\\Delta_{M} a_{1} b_{1}}{P a_{1} c_{2} - P b_{1} c_{1} - P c_{2}} + \\frac{\\Delta_{T} P a_{1} b_{1} c_{1}}{P a_{1} c_{2} - P b_{1} c_{1} - P c_{2}} + \\frac{\\Delta_{T} P a_{1} c_{2}}{P a_{1} c_{2} - P b_{1} c_{1} - P c_{2}}$"
          },
          "metadata": {},
          "execution_count": 30
        }
      ]
    },
    {
      "cell_type": "code",
      "source": [
        "Delta_I = sp.expand(SRE[I].subs([(T, T + Delta_T), (G, G + Delta_G), (M, M + Delta_M)]) - SRE[I]); Delta_I"
      ],
      "metadata": {
        "colab": {
          "base_uri": "https://localhost:8080/",
          "height": 54
        },
        "id": "cS1i67TIIpH-",
        "outputId": "fbb5c3ed-4592-4599-9fc6-09f2437f89b2"
      },
      "execution_count": null,
      "outputs": [
        {
          "output_type": "execute_result",
          "data": {
            "text/plain": [
              "      Δ_G⋅P⋅b₁⋅c₁                 Δ_M⋅a₁⋅b₁                    Δ_M⋅b₁         \n",
              "──────────────────────── + ──────────────────────── - ────────────────────────\n",
              "P⋅a₁⋅c₂ - P⋅b₁⋅c₁ - P⋅c₂   P⋅a₁⋅c₂ - P⋅b₁⋅c₁ - P⋅c₂   P⋅a₁⋅c₂ - P⋅b₁⋅c₁ - P⋅c₂\n",
              "\n",
              "        Δ_T⋅P⋅a₁⋅b₁⋅c₁     \n",
              " - ────────────────────────\n",
              "   P⋅a₁⋅c₂ - P⋅b₁⋅c₁ - P⋅c₂"
            ],
            "text/latex": "$\\displaystyle \\frac{\\Delta_{G} P b_{1} c_{1}}{P a_{1} c_{2} - P b_{1} c_{1} - P c_{2}} + \\frac{\\Delta_{M} a_{1} b_{1}}{P a_{1} c_{2} - P b_{1} c_{1} - P c_{2}} - \\frac{\\Delta_{M} b_{1}}{P a_{1} c_{2} - P b_{1} c_{1} - P c_{2}} - \\frac{\\Delta_{T} P a_{1} b_{1} c_{1}}{P a_{1} c_{2} - P b_{1} c_{1} - P c_{2}}$"
          },
          "metadata": {},
          "execution_count": 31
        }
      ]
    },
    {
      "cell_type": "code",
      "source": [],
      "metadata": {
        "id": "2r4LYfuHIseN"
      },
      "execution_count": null,
      "outputs": []
    }
  ]
}