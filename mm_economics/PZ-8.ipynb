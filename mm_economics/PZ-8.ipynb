{
  "nbformat": 4,
  "nbformat_minor": 0,
  "metadata": {
    "colab": {
      "provenance": []
    },
    "kernelspec": {
      "name": "python3",
      "display_name": "Python 3"
    },
    "language_info": {
      "name": "python"
    }
  },
  "cells": [
    {
      "cell_type": "code",
      "execution_count": null,
      "metadata": {
        "id": "9rNzgSj7LtKI"
      },
      "outputs": [],
      "source": [
        "from sympy import *\n",
        "from sympy.series.sequences import RecursiveSeq\n",
        "import pandas as pd\n",
        "import matplotlib.pyplot as plt"
      ]
    },
    {
      "cell_type": "markdown",
      "source": [
        "Практическое занятие\\\n",
        "**Модели безработицы Холла и Оукена**"
      ],
      "metadata": {
        "id": "xxM5GmwJQ58a"
      }
    },
    {
      "cell_type": "markdown",
      "source": [
        "#1."
      ],
      "metadata": {
        "id": "jFZjAbRJSNIS"
      }
    },
    {
      "cell_type": "markdown",
      "source": [
        "**Модель естественного уровня безработицы Холла**"
      ],
      "metadata": {
        "id": "E46AFY6wVf9m"
      }
    },
    {
      "cell_type": "markdown",
      "source": [
        "$s - $ доля занятых, которые ежемесячно теряют работу, $ s = \\text{const}$\\\n",
        "$f - $ доля безработных, которые ежемесячно находят работу, $f = \\text{const}$\\\n",
        "$L - $ численность экономически активного населения, $L = \\text{const}$"
      ],
      "metadata": {
        "id": "yPBbGLS8SYzj"
      }
    },
    {
      "cell_type": "markdown",
      "source": [
        "$U_t - $ численность безработных\\\n",
        "$E_t - $ численность трудоустроенных\\\n",
        "$\\forall t$ справедливо $L = U_t + E_t$ в состоянии макроэкономического равновесия"
      ],
      "metadata": {
        "id": "XE-NEKf7TbcP"
      }
    },
    {
      "cell_type": "markdown",
      "source": [
        "$u_t = U_t/L - $ уровень безработицы"
      ],
      "metadata": {
        "id": "Wmjzz9-cUJfO"
      }
    },
    {
      "cell_type": "markdown",
      "source": [
        "Исходя из изложенных предпосылок\\\n",
        "$f \\cdot U_t = s \\cdot E_t ⇒ f ⋅ U_t = s \\cdot (L - U_t) \\ \\ \\ /L$\\\n",
        "$f ⋅ u_t = s \\cdot (1 - u_t) ⇒ u_t = s / (s+f)$"
      ],
      "metadata": {
        "id": "ZG6mOOumUKOu"
      }
    },
    {
      "cell_type": "markdown",
      "source": [
        "# 2."
      ],
      "metadata": {
        "id": "W8pS9361Vrz2"
      }
    },
    {
      "cell_type": "markdown",
      "source": [
        "В рамках модели Холла покажите, что при движении рынка труда к равновесному состоянию уровень безработицы стремится к естественному уровню"
      ],
      "metadata": {
        "id": "dkZcgMfGVxBe"
      }
    },
    {
      "cell_type": "code",
      "source": [
        "u = Function('u')\n",
        "t = Symbol('t')"
      ],
      "metadata": {
        "id": "QTNNztF6Mvb0"
      },
      "execution_count": null,
      "outputs": []
    },
    {
      "cell_type": "code",
      "source": [
        "s = 0.01 # ежемесячно от работающих людей теряет работу\n",
        "f = 0.2 # ежемесячно находит работу\n",
        "u0 = 0.068 # текущий уровень безработицы"
      ],
      "metadata": {
        "id": "VUOK4VgsWfwn"
      },
      "execution_count": null,
      "outputs": []
    },
    {
      "cell_type": "code",
      "source": [
        "NUR = s/(s + f); NUR # естественный уровень безработицы"
      ],
      "metadata": {
        "colab": {
          "base_uri": "https://localhost:8080/"
        },
        "id": "VWI88_y0WihH",
        "outputId": "97d1da85-ca18-4b94-8688-45039a3a1ca3"
      },
      "execution_count": null,
      "outputs": [
        {
          "output_type": "execute_result",
          "data": {
            "text/plain": [
              "0.047619047619047616"
            ]
          },
          "metadata": {},
          "execution_count": 8
        }
      ]
    },
    {
      "cell_type": "code",
      "source": [
        "# Покажем, что с течением времени фактический уровень\n",
        "# безработицы установится на уровне естественном"
      ],
      "metadata": {
        "id": "r52Bxf3dW-BX"
      },
      "execution_count": null,
      "outputs": []
    },
    {
      "cell_type": "code",
      "source": [
        "# Для этого построим рекуррентное соотношение, связывающее\n",
        "# текущий уровень безработицы с естественным"
      ],
      "metadata": {
        "id": "J_66ev0GXVhf"
      },
      "execution_count": null,
      "outputs": []
    },
    {
      "cell_type": "markdown",
      "source": [
        "Справедливо рекуррентное соотношение:\\\n",
        "$U_t = U_{t-1} - f ⋅ U_{t-1} + s ⋅ E_{t-1}$\\\n",
        "$U_t = (1 - f) ⋅ U_{t-1} + s ⋅ (L - U_{t-1}) / L$\\\n",
        "$u_t = [1 - (s + f)] ⋅ u_{t-1} + s$"
      ],
      "metadata": {
        "id": "0N_Bf6b6XeKQ"
      }
    },
    {
      "cell_type": "code",
      "source": [
        "UR = RecursiveSeq((1 - s - f)*u(t-1) + s, u(t), t, [u0]); UR"
      ],
      "metadata": {
        "colab": {
          "base_uri": "https://localhost:8080/",
          "height": 38
        },
        "id": "9IERg46NXcYw",
        "outputId": "8f96fcb2-fcbe-4b1e-83e6-01151b19c57b"
      },
      "execution_count": null,
      "outputs": [
        {
          "output_type": "execute_result",
          "data": {
            "text/plain": [
              "RecursiveSeq(0.79*u(t - 1) + 0.01, u(t), t, (0.068,), 0)"
            ],
            "text/latex": "$\\displaystyle \\operatorname{RecursiveSeq}\\left(0.79 u{\\left(t - 1 \\right)} + 0.01, u{\\left(t \\right)}, t, \\left( 0.068,\\right), 0\\right)$"
          },
          "metadata": {},
          "execution_count": 14
        }
      ]
    },
    {
      "cell_type": "code",
      "source": [
        "# Построим таблицу уровней безработицы и уровней недопроизводства валового продукта\n",
        "# в рамках модели Оукена:"
      ],
      "metadata": {
        "id": "iw-4IwsRY2GZ"
      },
      "execution_count": null,
      "outputs": []
    },
    {
      "cell_type": "markdown",
      "source": [
        "$δ_t = 2.5 ⋅ (u_t - u^*) $\\\n",
        "$\\delta_t = (Y^* - Y_t)/Y^*$\\\n",
        "$Y^* - $ потенциальный валовой продукт в экономике\\\n",
        "$u_t - u^* - $ уровень циклической безработицы"
      ],
      "metadata": {
        "id": "h0M-WOY5Zd-I"
      }
    },
    {
      "cell_type": "code",
      "source": [
        "u_List = []; d_List = []; uc_List = []\n",
        "for x in zip(range(34), UR):\n",
        "  u_List.append(x[1])\n",
        "  d_List.append(2.5*(x[1] - NUR))\n",
        "  uc_List.append(x[1] - NUR)"
      ],
      "metadata": {
        "id": "Wx3X79MoZdbB"
      },
      "execution_count": null,
      "outputs": []
    },
    {
      "cell_type": "code",
      "source": [
        "df = pd.DataFrame(list(zip(*[u_List, d_List, uc_List])), columns = ['u', 'delta', 'uc']); df"
      ],
      "metadata": {
        "colab": {
          "base_uri": "https://localhost:8080/",
          "height": 1000
        },
        "id": "22V_m_OzbDL4",
        "outputId": "f96f3da1-bd68-4ae3-a589-485ea8cf815b"
      },
      "execution_count": null,
      "outputs": [
        {
          "output_type": "execute_result",
          "data": {
            "text/plain": [
              "                     u                 delta                    uc\n",
              "0   0.0680000000000000    0.0509523809523810    0.0203809523809524\n",
              "1   0.0637200000000000    0.0402523809523810    0.0161009523809524\n",
              "2   0.0603388000000000    0.0317993809523810    0.0127197523809524\n",
              "3   0.0576676520000000    0.0251215109523810    0.0100486043809524\n",
              "4   0.0555574450800000    0.0198459936523810   0.00793839746095239\n",
              "5   0.0538903816132000    0.0156783349853810   0.00627133399415240\n",
              "6   0.0525734014744280    0.0123858846384510   0.00495435385538040\n",
              "7   0.0515329871647981   0.00978484886437630   0.00391393954575052\n",
              "8   0.0507110598601905   0.00773003060285729   0.00309201224114292\n",
              "9   0.0500617372895505   0.00610672417625727   0.00244268967050291\n",
              "10  0.0495487724587449   0.00482431209924325   0.00192972483969730\n",
              "11  0.0491435302424085   0.00381120655840218   0.00152448262336087\n",
              "12  0.0488233888915027   0.00301085318113773   0.00120434127245509\n",
              "13  0.0485704772242871   0.00237857401309882  0.000951429605239529\n",
              "14  0.0483706770071868   0.00187907347034808  0.000751629388139233\n",
              "15  0.0482128348356776   0.00148446804157499  0.000593787216629997\n",
              "16  0.0480881395201853   0.00117272975284426  0.000469091901137704\n",
              "17  0.0479896302209464  0.000926456504746972  0.000370582601898789\n",
              "18  0.0479118078745477  0.000731900638750119  0.000292760255500048\n",
              "19  0.0478503282208927  0.000578201504612599  0.000231280601845039\n",
              "20  0.0478017592945052  0.000456779188643969  0.000182711675457588\n",
              "21  0.0477633898426591  0.000360855559028740  0.000144342223611496\n",
              "22  0.0477330779757007  0.000285075891632708  0.000114030356653083\n",
              "23  0.0477091316008036  0.000225209954389845   9.00839817559382e-5\n",
              "24  0.0476902139646348  0.000177915863967988   7.11663455871953e-5\n",
              "25  0.0476752690320615  0.000140553532534723   5.62214130138891e-5\n",
              "26  0.0476634625353286  0.000111037290702436   4.44149162809743e-5\n",
              "27  0.0476541354029096   8.77194596549287e-5   3.50877838619715e-5\n",
              "28  0.0476467669682986   6.92983731274098e-5   2.77193492509639e-5\n",
              "29  0.0476409459049559   5.47457147706716e-5   2.18982859082686e-5\n",
              "30  0.0476363472649152   4.32491146688460e-5   1.72996458675384e-5\n",
              "31  0.0476327143392830   3.41668005883998e-5   1.36667202353599e-5\n",
              "32  0.0476298443280336   2.69917724648495e-5   1.07967089859398e-5\n",
              "33  0.0476275770191465   2.13235002472466e-5   8.52940009889863e-6"
            ],
            "text/html": [
              "\n",
              "  <div id=\"df-297d0f14-b8cd-42bc-b5c2-a6dbaaf9861b\">\n",
              "    <div class=\"colab-df-container\">\n",
              "      <div>\n",
              "<style scoped>\n",
              "    .dataframe tbody tr th:only-of-type {\n",
              "        vertical-align: middle;\n",
              "    }\n",
              "\n",
              "    .dataframe tbody tr th {\n",
              "        vertical-align: top;\n",
              "    }\n",
              "\n",
              "    .dataframe thead th {\n",
              "        text-align: right;\n",
              "    }\n",
              "</style>\n",
              "<table border=\"1\" class=\"dataframe\">\n",
              "  <thead>\n",
              "    <tr style=\"text-align: right;\">\n",
              "      <th></th>\n",
              "      <th>u</th>\n",
              "      <th>delta</th>\n",
              "      <th>uc</th>\n",
              "    </tr>\n",
              "  </thead>\n",
              "  <tbody>\n",
              "    <tr>\n",
              "      <th>0</th>\n",
              "      <td>0.0680000000000000</td>\n",
              "      <td>0.0509523809523810</td>\n",
              "      <td>0.0203809523809524</td>\n",
              "    </tr>\n",
              "    <tr>\n",
              "      <th>1</th>\n",
              "      <td>0.0637200000000000</td>\n",
              "      <td>0.0402523809523810</td>\n",
              "      <td>0.0161009523809524</td>\n",
              "    </tr>\n",
              "    <tr>\n",
              "      <th>2</th>\n",
              "      <td>0.0603388000000000</td>\n",
              "      <td>0.0317993809523810</td>\n",
              "      <td>0.0127197523809524</td>\n",
              "    </tr>\n",
              "    <tr>\n",
              "      <th>3</th>\n",
              "      <td>0.0576676520000000</td>\n",
              "      <td>0.0251215109523810</td>\n",
              "      <td>0.0100486043809524</td>\n",
              "    </tr>\n",
              "    <tr>\n",
              "      <th>4</th>\n",
              "      <td>0.0555574450800000</td>\n",
              "      <td>0.0198459936523810</td>\n",
              "      <td>0.00793839746095239</td>\n",
              "    </tr>\n",
              "    <tr>\n",
              "      <th>5</th>\n",
              "      <td>0.0538903816132000</td>\n",
              "      <td>0.0156783349853810</td>\n",
              "      <td>0.00627133399415240</td>\n",
              "    </tr>\n",
              "    <tr>\n",
              "      <th>6</th>\n",
              "      <td>0.0525734014744280</td>\n",
              "      <td>0.0123858846384510</td>\n",
              "      <td>0.00495435385538040</td>\n",
              "    </tr>\n",
              "    <tr>\n",
              "      <th>7</th>\n",
              "      <td>0.0515329871647981</td>\n",
              "      <td>0.00978484886437630</td>\n",
              "      <td>0.00391393954575052</td>\n",
              "    </tr>\n",
              "    <tr>\n",
              "      <th>8</th>\n",
              "      <td>0.0507110598601905</td>\n",
              "      <td>0.00773003060285729</td>\n",
              "      <td>0.00309201224114292</td>\n",
              "    </tr>\n",
              "    <tr>\n",
              "      <th>9</th>\n",
              "      <td>0.0500617372895505</td>\n",
              "      <td>0.00610672417625727</td>\n",
              "      <td>0.00244268967050291</td>\n",
              "    </tr>\n",
              "    <tr>\n",
              "      <th>10</th>\n",
              "      <td>0.0495487724587449</td>\n",
              "      <td>0.00482431209924325</td>\n",
              "      <td>0.00192972483969730</td>\n",
              "    </tr>\n",
              "    <tr>\n",
              "      <th>11</th>\n",
              "      <td>0.0491435302424085</td>\n",
              "      <td>0.00381120655840218</td>\n",
              "      <td>0.00152448262336087</td>\n",
              "    </tr>\n",
              "    <tr>\n",
              "      <th>12</th>\n",
              "      <td>0.0488233888915027</td>\n",
              "      <td>0.00301085318113773</td>\n",
              "      <td>0.00120434127245509</td>\n",
              "    </tr>\n",
              "    <tr>\n",
              "      <th>13</th>\n",
              "      <td>0.0485704772242871</td>\n",
              "      <td>0.00237857401309882</td>\n",
              "      <td>0.000951429605239529</td>\n",
              "    </tr>\n",
              "    <tr>\n",
              "      <th>14</th>\n",
              "      <td>0.0483706770071868</td>\n",
              "      <td>0.00187907347034808</td>\n",
              "      <td>0.000751629388139233</td>\n",
              "    </tr>\n",
              "    <tr>\n",
              "      <th>15</th>\n",
              "      <td>0.0482128348356776</td>\n",
              "      <td>0.00148446804157499</td>\n",
              "      <td>0.000593787216629997</td>\n",
              "    </tr>\n",
              "    <tr>\n",
              "      <th>16</th>\n",
              "      <td>0.0480881395201853</td>\n",
              "      <td>0.00117272975284426</td>\n",
              "      <td>0.000469091901137704</td>\n",
              "    </tr>\n",
              "    <tr>\n",
              "      <th>17</th>\n",
              "      <td>0.0479896302209464</td>\n",
              "      <td>0.000926456504746972</td>\n",
              "      <td>0.000370582601898789</td>\n",
              "    </tr>\n",
              "    <tr>\n",
              "      <th>18</th>\n",
              "      <td>0.0479118078745477</td>\n",
              "      <td>0.000731900638750119</td>\n",
              "      <td>0.000292760255500048</td>\n",
              "    </tr>\n",
              "    <tr>\n",
              "      <th>19</th>\n",
              "      <td>0.0478503282208927</td>\n",
              "      <td>0.000578201504612599</td>\n",
              "      <td>0.000231280601845039</td>\n",
              "    </tr>\n",
              "    <tr>\n",
              "      <th>20</th>\n",
              "      <td>0.0478017592945052</td>\n",
              "      <td>0.000456779188643969</td>\n",
              "      <td>0.000182711675457588</td>\n",
              "    </tr>\n",
              "    <tr>\n",
              "      <th>21</th>\n",
              "      <td>0.0477633898426591</td>\n",
              "      <td>0.000360855559028740</td>\n",
              "      <td>0.000144342223611496</td>\n",
              "    </tr>\n",
              "    <tr>\n",
              "      <th>22</th>\n",
              "      <td>0.0477330779757007</td>\n",
              "      <td>0.000285075891632708</td>\n",
              "      <td>0.000114030356653083</td>\n",
              "    </tr>\n",
              "    <tr>\n",
              "      <th>23</th>\n",
              "      <td>0.0477091316008036</td>\n",
              "      <td>0.000225209954389845</td>\n",
              "      <td>9.00839817559382e-5</td>\n",
              "    </tr>\n",
              "    <tr>\n",
              "      <th>24</th>\n",
              "      <td>0.0476902139646348</td>\n",
              "      <td>0.000177915863967988</td>\n",
              "      <td>7.11663455871953e-5</td>\n",
              "    </tr>\n",
              "    <tr>\n",
              "      <th>25</th>\n",
              "      <td>0.0476752690320615</td>\n",
              "      <td>0.000140553532534723</td>\n",
              "      <td>5.62214130138891e-5</td>\n",
              "    </tr>\n",
              "    <tr>\n",
              "      <th>26</th>\n",
              "      <td>0.0476634625353286</td>\n",
              "      <td>0.000111037290702436</td>\n",
              "      <td>4.44149162809743e-5</td>\n",
              "    </tr>\n",
              "    <tr>\n",
              "      <th>27</th>\n",
              "      <td>0.0476541354029096</td>\n",
              "      <td>8.77194596549287e-5</td>\n",
              "      <td>3.50877838619715e-5</td>\n",
              "    </tr>\n",
              "    <tr>\n",
              "      <th>28</th>\n",
              "      <td>0.0476467669682986</td>\n",
              "      <td>6.92983731274098e-5</td>\n",
              "      <td>2.77193492509639e-5</td>\n",
              "    </tr>\n",
              "    <tr>\n",
              "      <th>29</th>\n",
              "      <td>0.0476409459049559</td>\n",
              "      <td>5.47457147706716e-5</td>\n",
              "      <td>2.18982859082686e-5</td>\n",
              "    </tr>\n",
              "    <tr>\n",
              "      <th>30</th>\n",
              "      <td>0.0476363472649152</td>\n",
              "      <td>4.32491146688460e-5</td>\n",
              "      <td>1.72996458675384e-5</td>\n",
              "    </tr>\n",
              "    <tr>\n",
              "      <th>31</th>\n",
              "      <td>0.0476327143392830</td>\n",
              "      <td>3.41668005883998e-5</td>\n",
              "      <td>1.36667202353599e-5</td>\n",
              "    </tr>\n",
              "    <tr>\n",
              "      <th>32</th>\n",
              "      <td>0.0476298443280336</td>\n",
              "      <td>2.69917724648495e-5</td>\n",
              "      <td>1.07967089859398e-5</td>\n",
              "    </tr>\n",
              "    <tr>\n",
              "      <th>33</th>\n",
              "      <td>0.0476275770191465</td>\n",
              "      <td>2.13235002472466e-5</td>\n",
              "      <td>8.52940009889863e-6</td>\n",
              "    </tr>\n",
              "  </tbody>\n",
              "</table>\n",
              "</div>\n",
              "      <button class=\"colab-df-convert\" onclick=\"convertToInteractive('df-297d0f14-b8cd-42bc-b5c2-a6dbaaf9861b')\"\n",
              "              title=\"Convert this dataframe to an interactive table.\"\n",
              "              style=\"display:none;\">\n",
              "        \n",
              "  <svg xmlns=\"http://www.w3.org/2000/svg\" height=\"24px\"viewBox=\"0 0 24 24\"\n",
              "       width=\"24px\">\n",
              "    <path d=\"M0 0h24v24H0V0z\" fill=\"none\"/>\n",
              "    <path d=\"M18.56 5.44l.94 2.06.94-2.06 2.06-.94-2.06-.94-.94-2.06-.94 2.06-2.06.94zm-11 1L8.5 8.5l.94-2.06 2.06-.94-2.06-.94L8.5 2.5l-.94 2.06-2.06.94zm10 10l.94 2.06.94-2.06 2.06-.94-2.06-.94-.94-2.06-.94 2.06-2.06.94z\"/><path d=\"M17.41 7.96l-1.37-1.37c-.4-.4-.92-.59-1.43-.59-.52 0-1.04.2-1.43.59L10.3 9.45l-7.72 7.72c-.78.78-.78 2.05 0 2.83L4 21.41c.39.39.9.59 1.41.59.51 0 1.02-.2 1.41-.59l7.78-7.78 2.81-2.81c.8-.78.8-2.07 0-2.86zM5.41 20L4 18.59l7.72-7.72 1.47 1.35L5.41 20z\"/>\n",
              "  </svg>\n",
              "      </button>\n",
              "      \n",
              "  <style>\n",
              "    .colab-df-container {\n",
              "      display:flex;\n",
              "      flex-wrap:wrap;\n",
              "      gap: 12px;\n",
              "    }\n",
              "\n",
              "    .colab-df-convert {\n",
              "      background-color: #E8F0FE;\n",
              "      border: none;\n",
              "      border-radius: 50%;\n",
              "      cursor: pointer;\n",
              "      display: none;\n",
              "      fill: #1967D2;\n",
              "      height: 32px;\n",
              "      padding: 0 0 0 0;\n",
              "      width: 32px;\n",
              "    }\n",
              "\n",
              "    .colab-df-convert:hover {\n",
              "      background-color: #E2EBFA;\n",
              "      box-shadow: 0px 1px 2px rgba(60, 64, 67, 0.3), 0px 1px 3px 1px rgba(60, 64, 67, 0.15);\n",
              "      fill: #174EA6;\n",
              "    }\n",
              "\n",
              "    [theme=dark] .colab-df-convert {\n",
              "      background-color: #3B4455;\n",
              "      fill: #D2E3FC;\n",
              "    }\n",
              "\n",
              "    [theme=dark] .colab-df-convert:hover {\n",
              "      background-color: #434B5C;\n",
              "      box-shadow: 0px 1px 3px 1px rgba(0, 0, 0, 0.15);\n",
              "      filter: drop-shadow(0px 1px 2px rgba(0, 0, 0, 0.3));\n",
              "      fill: #FFFFFF;\n",
              "    }\n",
              "  </style>\n",
              "\n",
              "      <script>\n",
              "        const buttonEl =\n",
              "          document.querySelector('#df-297d0f14-b8cd-42bc-b5c2-a6dbaaf9861b button.colab-df-convert');\n",
              "        buttonEl.style.display =\n",
              "          google.colab.kernel.accessAllowed ? 'block' : 'none';\n",
              "\n",
              "        async function convertToInteractive(key) {\n",
              "          const element = document.querySelector('#df-297d0f14-b8cd-42bc-b5c2-a6dbaaf9861b');\n",
              "          const dataTable =\n",
              "            await google.colab.kernel.invokeFunction('convertToInteractive',\n",
              "                                                     [key], {});\n",
              "          if (!dataTable) return;\n",
              "\n",
              "          const docLinkHtml = 'Like what you see? Visit the ' +\n",
              "            '<a target=\"_blank\" href=https://colab.research.google.com/notebooks/data_table.ipynb>data table notebook</a>'\n",
              "            + ' to learn more about interactive tables.';\n",
              "          element.innerHTML = '';\n",
              "          dataTable['output_type'] = 'display_data';\n",
              "          await google.colab.output.renderOutput(dataTable, element);\n",
              "          const docLink = document.createElement('div');\n",
              "          docLink.innerHTML = docLinkHtml;\n",
              "          element.appendChild(docLink);\n",
              "        }\n",
              "      </script>\n",
              "    </div>\n",
              "  </div>\n",
              "  "
            ]
          },
          "metadata": {},
          "execution_count": 19
        }
      ]
    },
    {
      "cell_type": "code",
      "source": [
        "# Построим траекторию приближения фактических уровней безработицы к\n",
        "# естественному уровню\n",
        "plt.xlabel('t')\n",
        "plt.ylabel('u')\n",
        "plt.grid()\n",
        "plt.plot(u_List, color='pink')"
      ],
      "metadata": {
        "colab": {
          "base_uri": "https://localhost:8080/",
          "height": 466
        },
        "id": "zhrG8cRnbPDf",
        "outputId": "28b2299e-481a-4480-ef1a-e09b2fb01e41"
      },
      "execution_count": null,
      "outputs": [
        {
          "output_type": "execute_result",
          "data": {
            "text/plain": [
              "[<matplotlib.lines.Line2D at 0x7f5a23712f70>]"
            ]
          },
          "metadata": {},
          "execution_count": 22
        },
        {
          "output_type": "display_data",
          "data": {
            "text/plain": [
              "<Figure size 640x480 with 1 Axes>"
            ],
            "image/png": "[encoded data removed]"
          },
          "metadata": {}
        }
      ]
    },
    {
      "cell_type": "code",
      "source": [
        "plt.xlabel('t')\n",
        "plt.ylabel('uc')\n",
        "plt.grid()\n",
        "plt.plot(u_List, color='pink')"
      ],
      "metadata": {
        "colab": {
          "base_uri": "https://localhost:8080/",
          "height": 466
        },
        "id": "xmP0YuDrcYuW",
        "outputId": "06bcb9d7-2184-4dba-add9-657fedb9ff0e"
      },
      "execution_count": null,
      "outputs": [
        {
          "output_type": "execute_result",
          "data": {
            "text/plain": [
              "[<matplotlib.lines.Line2D at 0x7f5a23190160>]"
            ]
          },
          "metadata": {},
          "execution_count": 23
        },
        {
          "output_type": "display_data",
          "data": {
            "text/plain": [
              "<Figure size 640x480 with 1 Axes>"
            ],
            "image/png": "[encoded data removed]"
          },
          "metadata": {}
        }
      ]
    },
    {
      "cell_type": "code",
      "source": [],
      "metadata": {
        "id": "bU4Iv3_wdrxT"
      },
      "execution_count": null,
      "outputs": []
    }
  ]
}