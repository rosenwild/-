{
  "cells": [
    {
      "cell_type": "code",
      "execution_count": null,
      "metadata": {
        "id": "t1hJ0Ja7r5pj"
      },
      "outputs": [],
      "source": []
    },
    {
      "cell_type": "code",
      "execution_count": null,
      "metadata": {
        "colab": {
          "base_uri": "https://localhost:8080/"
        },
        "id": "kCNVCkm-yLf0",
        "outputId": "9ab2b953-fb13-4fc3-98e0-0f33918fc081"
      },
      "outputs": [
        {
          "output_type": "stream",
          "name": "stdout",
          "text": [
            "Mounted at /content/drive\n"
          ]
        }
      ],
      "source": [
        "from google.colab import drive\n",
        "drive.mount('/content/drive')"
      ]
    },
    {
      "cell_type": "markdown",
      "metadata": {
        "id": "KmRnV1HyFW7R"
      },
      "source": [
        "# Параллельные вычисления"
      ]
    },
    {
      "cell_type": "markdown",
      "metadata": {
        "id": "woP_yjqMFW7W"
      },
      "source": [
        "Материалы:\n",
        "* Макрушин С.В. Лекция 10: Параллельные вычисления\n",
        "* https://docs.python.org/3/library/multiprocessing.html"
      ]
    },
    {
      "cell_type": "markdown",
      "metadata": {
        "id": "61sjJCmSFW7X"
      },
      "source": [
        "## Задачи для совместного разбора"
      ]
    },
    {
      "cell_type": "markdown",
      "metadata": {
        "id": "pX3BrsYmFW7Y"
      },
      "source": [
        "1. Посчитайте, сколько раз встречается каждый из символов (заглавные и строчные символы не различаются) в файле `Dostoevskiy Fedor. Prestuplenie i nakazanie - BooksCafe.Net.txt` и в файле `Dostoevskiy Fedor. Igrok - BooksCafe.Net.txt`."
      ]
    },
    {
      "cell_type": "code",
      "execution_count": null,
      "metadata": {
        "colab": {
          "base_uri": "https://localhost:8080/"
        },
        "id": "UHhEd5FzzGtg",
        "outputId": "064fddd7-5d17-4e55-cce1-42985e5fbbf1"
      },
      "outputs": [
        {
          "output_type": "stream",
          "name": "stdout",
          "text": [
            "{'с': 11506, 'п': 5488, 'а': 18235, 'и': 13586, 'б': 3979, 'о': 23129, ',': 6371, ' ': 45075, 'ч': 4112, 'т': 14244, 'к': 6743, 'л': 9960, 'н': 14239, 'г': 3947, 'у': 6043, 'в': 9397, 'е': 20053, 'й': 2027, 'э': 835, 'р': 9481, 'b': 219, 'o': 376, 'k': 20, 's': 428, 'c': 323, 'a': 589, 'f': 51, 'e': 1199, '.': 2953, 'n': 458, 't': 331, ':': 211, 'h': 226, 'p': 99, '/': 19, '\\n': 2733, 'u': 284, 'r': 307, 'd': 191, 'v': 86, 'i': 368, 'y': 7, '_': 3, '-': 899, '1': 45, '0': 21, '9': 35, '6': 41, 'm': 400, 'l': 570, 'ж': 2296, 'д': 6680, 'х': 1534, 'ф': 633, 'м': 7105, 'g': 72, '2': 41, '4': 41, '7': 41, 'я': 5457, '!': 717, '(': 275, 'з': 3354, ')': 275, 'ц': 816, 'ь': 4856, 'ш': 1942, 'ы': 3868, 'ю': 1322, ';': 405, 'щ': 586, '?': 570, 'ъ': 62, '—': 1725, '\\xa0': 1471, '…': 279, '«': 128, '[': 96, ']': 96, '»': 127, \"'\": 58, '3': 39, '5': 39, 'q': 49, 'j': 39, '8': 37, 'w': 6, 'x': 23, 'z': 43, '`': 8}\n",
            "{'с': 50083, 'п': 25651, 'а': 73554, 'и': 62029, 'б': 16015, 'о': 106739, ',': 26972, ' ': 182304, 'ч': 16491, 'т': 59812, 'к': 30801, 'л': 42327, 'н': 60919, 'г': 16173, 'у': 27308, 'в': 43699, 'е': 80971, 'й': 9746, 'э': 3202, 'р': 39783, 'b': 24, 'o': 103, 'k': 15, 's': 95, 'c': 41, 'a': 97, 'f': 22, 'e': 161, '.': 9863, 'n': 113, 't': 97, ':': 983, 'h': 47, 'p': 28, '/': 21, '\\n': 8582, 'u': 85, 'r': 75, 'd': 37, 'v': 64, 'i': 234, 'y': 4, '_': 7, '-': 3557, '1': 383, '0': 109, '9': 99, '6': 270, 'm': 53, 'l': 45, 'ж': 10551, 'д': 29632, 'х': 8126, 'ф': 1236, 'м': 29311, 'z': 10, '2': 140, '8': 296, '5': 135, 'я': 19750, '!': 3279, '\\xa0': 6091, 'з': 14413, 'ш': 7436, 'ь': 20553, 'ю': 5417, 'ц': 2781, '«': 1186, '»': 1174, 'ы': 15448, 'щ': 3038, 'x': 51, '—': 6439, '(': 527, ')': 526, '[': 84, ']': 84, 'ъ': 222, '7': 120, '3': 119, '&': 21, '#': 21, ';': 1321, '…': 2262, '?': 2265, '4': 129, '–': 48, '№': 44, 'ё': 968, '\\t': 47, '„': 43, '“': 43, \"'\": 10, 'g': 18, 'j': 0, 'q': 8, 'w': 3}\n"
          ]
        }
      ],
      "source": [
        "def counter_file(path):\n",
        "  counter = {}\n",
        "  with open(path,'r', encoding='Windows-1251') as file:\n",
        "      for i in file.read():\n",
        "        try:\n",
        "          counter[i.lower()] += 1\n",
        "        except:\n",
        "          counter[i.lower()] = 0\n",
        "  print(counter)\n",
        "\n",
        "igrok_counter = counter_file('/content/drive/MyDrive/10_parallel/Dostoevskiy Fedor. Igrok - BooksCafe.Net.txt')\n",
        "pin_counter = counter_file('/content/drive/MyDrive/10_parallel/Dostoevskiy Fedor. Prestuplenie i nakazanie - BooksCafe.Net.txt')"
      ]
    },
    {
      "cell_type": "markdown",
      "metadata": {
        "id": "Tn-8pHqOFW7Y"
      },
      "source": [
        "2. Решить задачу 1, распараллелив вычисления с помощью модуля `multiprocessing`. Для обработки каждого файла создать свой собственный процесс."
      ]
    },
    {
      "cell_type": "code",
      "execution_count": null,
      "metadata": {
        "id": "TZbotioJ3WPu"
      },
      "outputs": [],
      "source": [
        "from multiprocessing import Process, Pool\n",
        "\n",
        "p1 = Process(target = counter_file, args = ('/content/drive/MyDrive/10_parallel/Dostoevskiy Fedor. Igrok - BooksCafe.Net.txt',))\n",
        "p2 = Process(target = counter_file, args = ('/content/drive/MyDrive/10_parallel/Dostoevskiy Fedor. Prestuplenie i nakazanie - BooksCafe.Net.txt',))\n",
        "p1.start()\n",
        "p2.start()\n"
      ]
    },
    {
      "cell_type": "markdown",
      "metadata": {
        "id": "rhfctNIjFW7Z"
      },
      "source": [
        "## Лабораторная работа 10"
      ]
    },
    {
      "cell_type": "markdown",
      "metadata": {
        "id": "2B0zWskfFW7a"
      },
      "source": [
        "1. Разбейте файл `recipes_full.csv` на несколько (например, 8) примерно одинаковых по объему файлов c названиями `id_tag_nsteps_*.csv`. Каждый файл содержит 3 столбца: `id`, `tag` и `n_steps`, разделенных символом `;`. Для разбора строк используйте `csv.reader`.\n",
        "\n",
        "__Важно__: вы не можете загружать в память весь файл сразу. Посмотреть на первые несколько строк файла вы можете, написав код, который считывает эти строки.\n",
        "\n",
        "Подсказка: примерное кол-во строк в файле - 2.3 млн.\n",
        "\n",
        "```\n",
        "id;tag;n_steps\n",
        "137739;60-minutes-or-less;11\n",
        "137739;time-to-make;11\n",
        "137739;course;11\n",
        "```\n"
      ]
    },
    {
      "cell_type": "code",
      "execution_count": null,
      "metadata": {
        "id": "fNLiAESjMkwH"
      },
      "outputs": [],
      "source": [
        "import csv\n",
        "def razb_na_csv(name,data):\n",
        "  with open(f'{name}.csv','w',newline='') as csvfile:\n",
        "    writer = csv.writer(csvfile, delimiter=',')\n",
        "    writer.writerow(['name','id','minutes','contributor_id','submitted','tags','n_steps','steps','description','ingredients','n_ingredients'])\n",
        "    writer.writerows(data)"
      ]
    },
    {
      "cell_type": "code",
      "execution_count": null,
      "metadata": {
        "id": "AaYr3sTN65OJ"
      },
      "outputs": [],
      "source": [
        "with open('/content/drive/MyDrive/recipes_full.csv',newline='') as csvfile:\n",
        "    spamreader = csv.reader(csvfile, delimiter=',')\n",
        "    data = list(spamreader)\n",
        "    first_slice = 1\n",
        "    second_slice = 287500\n",
        "    step = 287500\n",
        "    procs = []\n",
        "    for i in range(8):\n",
        "      if i != 8:\n",
        "        data_in_func = data[first_slice:second_slice]\n",
        "        first_slice += step\n",
        "        second_slice += step\n",
        "      else:\n",
        "        data_in_func = data[first_slice:]\n",
        "      p = Process(target = razb_na_csv, args = (f'razb_csv_{i}',data_in_func))\n",
        "      procs.append(p)\n",
        "    [p.start() for p in procs]"
      ]
    },
    {
      "cell_type": "code",
      "execution_count": null,
      "metadata": {
        "colab": {
          "base_uri": "https://localhost:8080/"
        },
        "id": "sh8WaeYqThUD",
        "outputId": "4588ef89-1a16-4e60-9c31-bf29f44fb7f7"
      },
      "outputs": [
        {
          "output_type": "stream",
          "name": "stdout",
          "text": [
            "['name', 'id', 'minutes', 'contributor_id', 'submitted', 'tags', 'n_steps', 'steps', 'description', 'ingredients', 'n_ingredients']\n",
            "['vant ivoire mickies nothing', '683970', '33', '803776', '2019-08-22', \"['mexican', 'healthy-2', 'orange-roughy', 'chicken-thighs-legs', 'freezer', 'whitefish', 'pork-sausage']\", '4', \"['remove the fat cap and any large areas or pockets of external fat that can be easily trimmed away', 'cut the eggplants in half lengthwise and , taking care not to break the skins , gently scoop out the flesh', 'bake uncovered in a 350f for one hour or until golden and hot through', 'refrigerate']\", \"pat and gina neely and their family own and operate some of tennessee's best - and devilishly delicious - barbecue restaurants. but when they are relaxing at home in memphis, they love to create tasty dishes their whole family can enjoy. now they're ready to share secrets from their famous restaurant dishes.  here is the recipe for their barbecue chicken.  courtesy of food network.  this recipe is absolutely wonderful!  i made it for 4th of july and it went over big!!!  when grilling make sure you keep your heat low, as the sugar can char while cooking.  make sure you use tongs so you don't puncture your meat while turning.  also, make sure you soak your wood in water for 1/2 hr. before putting in your smoker or grill so it won't burn.  preparation time does not include marinating time.\", \"['fresh sauerkraut', 'gyro mix', 'black sesame seed', 'bacon drippings', 'frappuccino caramel coffee drink', 'marble loaf cake', 'sesame powder', 'sparkling apple juice', 'dory fillets']\", '9']\n"
          ]
        }
      ],
      "source": [
        "with open('/content/razb_csv_0.csv',newline='') as csvfile:\n",
        "    spamreader = csv.reader(csvfile, delimiter=',')\n",
        "    data = list(spamreader)\n",
        "    print(data[0])\n",
        "    print(data[1])"
      ]
    },
    {
      "cell_type": "code",
      "execution_count": null,
      "metadata": {
        "colab": {
          "base_uri": "https://localhost:8080/"
        },
        "id": "Ms9fVUQpTh5W",
        "outputId": "a48328d6-b5a7-4e2b-e50b-9e340c86c794"
      },
      "outputs": [
        {
          "output_type": "stream",
          "name": "stdout",
          "text": [
            "['name', 'id', 'minutes', 'contributor_id', 'submitted', 'tags', 'n_steps', 'steps', 'description', 'ingredients', 'n_ingredients']\n",
            "['azumaya', '563556', '51', '86764', '2005-09-08', \"['picnic', 'polynesian', 'egyptian', 'lemon']\", '2', \"['season chops well with the salt and pepper , spread on the mustard or a paste of horseradish and vinegar', 'season with salt and pepper']\", 'eating this cake is like having a chocolate bar in cake form. melts in your mouth and explodes with a full, rich, chocolate flavor. an unusual mixing method assures success every time. frost with 1.5 - 2 recipes of my semi-classic butter cream. we like white chocolate flavor, but milk chocolate works well too. fill the center with raspberry jam for a special surprise. adapted from rose beranbaum\\'s \"the cake bible\".', \"['pastry for single-crust pie', '8-grain bread', 'sourdough bread rounds', 'tofu crumbles', 'roasted garlic']\", '5']\n"
          ]
        }
      ],
      "source": [
        "with open('/content/razb_csv_7.csv',newline='') as csvfile:\n",
        "    spamreader = csv.reader(csvfile, delimiter=',')\n",
        "    data = list(spamreader)\n",
        "    print(data[0])\n",
        "    print(data[1])"
      ]
    },
    {
      "cell_type": "markdown",
      "metadata": {
        "id": "bTpLS_8UFW7b"
      },
      "source": [
        "2. Напишите функцию, которая принимает на вход название файла, созданного в результате решения задачи 1, считает среднее значение количества шагов для каждого тэга и возвращает результат в виде словаря."
      ]
    },
    {
      "cell_type": "code",
      "execution_count": null,
      "metadata": {
        "id": "HJvcjQeBUIKS"
      },
      "outputs": [],
      "source": [
        "import pandas as pd\n",
        "\n",
        "def count_avg_of_tags(file_name):\n",
        "  df = pd.read_csv(file_name,usecols =  ['tags', 'n_steps'])\n",
        "  df['tags'] = df['tags'].apply(lambda x: x.strip('][').split(', '))\n",
        "  df = df.explode('tags')\n",
        "  df = df.groupby('tags').mean()\n",
        "  return dict(df)\n"
      ]
    },
    {
      "cell_type": "code",
      "execution_count": null,
      "metadata": {
        "colab": {
          "base_uri": "https://localhost:8080/"
        },
        "id": "SBRpW3JKaRfN",
        "outputId": "2503db00-5b75-41ca-cc00-1c4fbadf2bcd"
      },
      "outputs": [
        {
          "output_type": "stream",
          "name": "stdout",
          "text": [
            "{'n_steps': tags\n",
            "''                       3.480844\n",
            "'1-day-or-more'          4.430428\n",
            "'15-minutes-or-less'     4.950319\n",
            "'3-steps-or-less'        4.698720\n",
            "'30-minutes-or-less'     7.596583\n",
            "                           ...   \n",
            "'wings'                  3.725061\n",
            "'winter'                 5.618585\n",
            "'yams-sweet-potatoes'    4.161735\n",
            "'yeast'                  5.316357\n",
            "'zucchini'               3.533935\n",
            "Name: n_steps, Length: 552, dtype: float64}\n"
          ]
        }
      ],
      "source": [
        "df = count_avg_of_tags('/content/razb_csv_1.csv')\n",
        "print(df)"
      ]
    },
    {
      "cell_type": "markdown",
      "source": [
        "3. Напишите функцию, которая считает среднее значение количества шагов для каждого тэга по всем файлам, полученным в задаче 1, и возвращает результат в виде словаря. Не используйте параллельных вычислений. При реализации выделите функцию, которая объединяет результаты обработки отдельных файлов. Модифицируйте код из задачи 2 таким образом, чтобы иметь возможность получить результат, имея результаты обработки отдельных файлов. Определите, за какое время задача решается для всех файлов."
      ],
      "metadata": {
        "id": "-mGG9ftilRCG"
      }
    },
    {
      "cell_type": "code",
      "source": [
        "import time\n",
        "\n",
        "def join_dicts(list_of_dict):\n",
        "  final_dict = {}\n",
        "  first_dict = list(list_of_dict[0].keys())\n",
        "  for i in range(len(first_dict)):\n",
        "    key = first_dict[i]\n",
        "    value = sum([d[key] for d in list_of_dict]) / 8\n",
        "    final_dict[key] = value\n",
        "  return final_dict\n",
        "\n",
        "def new_count_avg_of_tags(list_of_files):\n",
        "  list_of_dicts = []\n",
        "  for file_name in list_of_files:\n",
        "    df = pd.read_csv(file_name,usecols =  ['tags', 'n_steps'])\n",
        "    df['tags'] = df['tags'].apply(lambda x: x.strip('][').split(', '))\n",
        "    df = df.explode('tags')\n",
        "    df = df.groupby('tags').mean()\n",
        "    list_of_dicts.append(dict(df))\n",
        "  final_dict = join_dicts(list_of_dicts)\n",
        "  return final_dict\n"
      ],
      "metadata": {
        "id": "Sp8ENvpnlR5r"
      },
      "execution_count": null,
      "outputs": []
    },
    {
      "cell_type": "code",
      "source": [
        "start_time = time.time()\n",
        "list_file =  ['/content/razb_csv_0.csv','/content/razb_csv_1.csv', '/content/razb_csv_2.csv', '/content/razb_csv_3.csv', '/content/razb_csv_4.csv', '/content/razb_csv_5.csv', '/content/razb_csv_6.csv', '/content/razb_csv_7.csv']\n",
        "d = new_count_avg_of_tags(list_file)\n",
        "print(f'Время выполнения = {time.time() - start_time}s')\n",
        "print(d)\n"
      ],
      "metadata": {
        "colab": {
          "base_uri": "https://localhost:8080/"
        },
        "id": "KXEKjPgiq-62",
        "outputId": "89ced2e2-0619-450a-c3cf-b534a241af17"
      },
      "execution_count": null,
      "outputs": [
        {
          "output_type": "stream",
          "name": "stdout",
          "text": [
            "Время выполнения = 28.706233501434326s\n",
            "{'n_steps': tags\n",
            "''                       3.520564\n",
            "'1-day-or-more'          4.457804\n",
            "'15-minutes-or-less'     4.986537\n",
            "'3-steps-or-less'        4.729245\n",
            "'30-minutes-or-less'     7.608965\n",
            "                           ...   \n",
            "'wings'                  3.699909\n",
            "'winter'                 5.499454\n",
            "'yams-sweet-potatoes'    4.007175\n",
            "'yeast'                  5.178845\n",
            "'zucchini'               3.587606\n",
            "Name: n_steps, Length: 552, dtype: float64}\n"
          ]
        }
      ]
    },
    {
      "cell_type": "markdown",
      "metadata": {
        "id": "kL_zioQOFW7c"
      },
      "source": [
        "4. Решите задачу 3, распараллелив вычисления с помощью модуля `multiprocessing`. Для обработки каждого файла создайте свой собственный процесс. Определите, за какое время задача решается для всех файлов."
      ]
    },
    {
      "cell_type": "code",
      "source": [
        "start_time = time.time()\n",
        "pool = Pool(processes = 8)\n",
        "list_of_dicts = pool.map(count_avg_of_tags, list_file)\n",
        "final_dict = join_dicts(list_of_dicts)\n",
        "print(final_dict)\n",
        "print(f'Время выполнения = {time.time() - start_time}s')"
      ],
      "metadata": {
        "colab": {
          "base_uri": "https://localhost:8080/"
        },
        "id": "xBPmaVjeshEz",
        "outputId": "1b68ee34-7ca8-4eb5-ee16-dc277ea8f34e"
      },
      "execution_count": null,
      "outputs": [
        {
          "output_type": "stream",
          "name": "stdout",
          "text": [
            "{'n_steps': tags\n",
            "''                       3.520564\n",
            "'1-day-or-more'          4.457804\n",
            "'15-minutes-or-less'     4.986537\n",
            "'3-steps-or-less'        4.729245\n",
            "'30-minutes-or-less'     7.608965\n",
            "                           ...   \n",
            "'wings'                  3.699909\n",
            "'winter'                 5.499454\n",
            "'yams-sweet-potatoes'    4.007175\n",
            "'yeast'                  5.178845\n",
            "'zucchini'               3.587606\n",
            "Name: n_steps, Length: 552, dtype: float64}\n",
            "Время выполнения = 29.845372438430786s\n"
          ]
        }
      ]
    },
    {
      "cell_type": "markdown",
      "metadata": {
        "id": "SuX5Ra-2FW7d"
      },
      "source": [
        "5. (*) Решите задачу 3, распараллелив вычисления с помощью модуля `multiprocessing`. Создайте фиксированное количество процессов (равное половине количества ядер на компьютере). При помощи очереди передайте названия файлов для обработки процессам и при помощи другой очереди заберите от них ответы."
      ]
    },
    {
      "cell_type": "code",
      "source": [
        "import multiprocessing\n",
        "import time, random\n",
        "\n",
        "def count_avg_of_tags(file_name):\n",
        "  df = pd.read_csv(file_name,usecols =  ['tags', 'n_steps'])\n",
        "  df['tags'] = df['tags'].apply(lambda x: x.strip('][').split(', '))\n",
        "  df = df.explode('tags')\n",
        "  df = df.groupby('tags').mean()\n",
        "  return dict(df)"
      ],
      "metadata": {
        "id": "2Na9myG6xHa0"
      },
      "execution_count": null,
      "outputs": []
    },
    {
      "cell_type": "code",
      "source": [
        "def worker(input, output):\n",
        "    for func, args in iter(input.get, 'STOP'):\n",
        "        result = calculate(func, args)\n",
        "        output.put(result)\n",
        "\n",
        "def calculate(func, args):\n",
        "    proc_name = multiprocessing.current_process().name\n",
        "    result = func(*args)\n",
        "    return f'Результат функции {result}'\n",
        "\n",
        "def plus(a, b):\n",
        "    time.sleep(0.5*random.random())\n",
        "    return a + b\n",
        "\n",
        "def test():\n",
        "    NUMBER_OF_PROCESSES = 3\n",
        "    TASKS1 = [(count_avg_of_tags, (i, )) for i in list_file]\n",
        "\n",
        "    task_queue = multiprocessing.Queue()\n",
        "    done_queue = multiprocessing.Queue()\n",
        "\n",
        "    for task in TASKS1:\n",
        "        task_queue.put(task)\n",
        "\n",
        "    for i in range(NUMBER_OF_PROCESSES):\n",
        "        multiprocessing.Process(target=worker, args=(task_queue, done_queue)).start()\n",
        "\n",
        "    print('НЕУПОРЯДОЧЕННЫЕ РЕЗУЛЬТАТЫ:\\n')\n",
        "    print('TASKS1:\\n')\n",
        "    for i in range(len(TASKS1)):\n",
        "        print('\\t', done_queue.get())\n",
        "\n",
        "    print('STOP.')\n",
        "    for i in range(NUMBER_OF_PROCESSES):\n",
        "        task_queue.put('STOP')\n",
        "\n",
        "if __name__ == '__main__':\n",
        "    start_time = time.time()\n",
        "    test()\n",
        "    print(f'Время выполнения = {time.time() - start_time}s')"
      ],
      "metadata": {
        "colab": {
          "base_uri": "https://localhost:8080/"
        },
        "id": "y23X3XqvvsGJ",
        "outputId": "239d0a1b-9068-4b75-c169-f205e4f77a22"
      },
      "execution_count": null,
      "outputs": [
        {
          "output_type": "stream",
          "name": "stdout",
          "text": [
            "НЕУПОРЯДОЧЕННЫЕ РЕЗУЛЬТАТЫ:\n",
            "\n",
            "TASKS1:\n",
            "\n",
            "\t Результат функции {'n_steps': tags\n",
            "''                       3.480844\n",
            "'1-day-or-more'          4.430428\n",
            "'15-minutes-or-less'     4.950319\n",
            "'3-steps-or-less'        4.698720\n",
            "'30-minutes-or-less'     7.596583\n",
            "                           ...   \n",
            "'wings'                  3.725061\n",
            "'winter'                 5.618585\n",
            "'yams-sweet-potatoes'    4.161735\n",
            "'yeast'                  5.316357\n",
            "'zucchini'               3.533935\n",
            "Name: n_steps, Length: 552, dtype: float64}\n",
            "\t Результат функции {'n_steps': tags\n",
            "''                       3.520305\n",
            "'1-day-or-more'          4.566628\n",
            "'15-minutes-or-less'     5.038862\n",
            "'3-steps-or-less'        4.719237\n",
            "'30-minutes-or-less'     7.641802\n",
            "                           ...   \n",
            "'wings'                  3.650607\n",
            "'winter'                 5.386007\n",
            "'yams-sweet-potatoes'    3.933785\n",
            "'yeast'                  5.044993\n",
            "'zucchini'               3.644776\n",
            "Name: n_steps, Length: 552, dtype: float64}\n",
            "\t Результат функции {'n_steps': tags\n",
            "''                       3.560440\n",
            "'1-day-or-more'          4.603415\n",
            "'15-minutes-or-less'     4.972414\n",
            "'3-steps-or-less'        4.691671\n",
            "'30-minutes-or-less'     7.585726\n",
            "                           ...   \n",
            "'wings'                  3.799408\n",
            "'winter'                 5.486569\n",
            "'yams-sweet-potatoes'    4.008624\n",
            "'yeast'                  5.036119\n",
            "'zucchini'               3.646803\n",
            "Name: n_steps, Length: 552, dtype: float64}\n",
            "\t Результат функции {'n_steps': tags\n",
            "''                       3.562120\n",
            "'1-day-or-more'          4.334227\n",
            "'15-minutes-or-less'     4.964620\n",
            "'3-steps-or-less'        4.740155\n",
            "'30-minutes-or-less'     7.581703\n",
            "                           ...   \n",
            "'wings'                  3.673394\n",
            "'winter'                 5.578213\n",
            "'yams-sweet-potatoes'    3.986454\n",
            "'yeast'                  5.266270\n",
            "'zucchini'               3.546222\n",
            "Name: n_steps, Length: 552, dtype: float64}\n",
            "\t Результат функции {'n_steps': tags\n",
            "''                       3.548593\n",
            "'1-day-or-more'          4.296094\n",
            "'15-minutes-or-less'     4.974542\n",
            "'3-steps-or-less'        4.720497\n",
            "'30-minutes-or-less'     7.650869\n",
            "                           ...   \n",
            "'wings'                  3.705683\n",
            "'winter'                 5.419884\n",
            "'yams-sweet-potatoes'    3.950472\n",
            "'yeast'                  5.096341\n",
            "'zucchini'               3.549003\n",
            "Name: n_steps, Length: 552, dtype: float64}\n",
            "\t Результат функции {'n_steps': tags\n",
            "''                       3.485554\n",
            "'1-day-or-more'          4.536678\n",
            "'15-minutes-or-less'     4.998623\n",
            "'3-steps-or-less'        4.771418\n",
            "'30-minutes-or-less'     7.591425\n",
            "                           ...   \n",
            "'wings'                  3.659790\n",
            "'winter'                 5.542866\n",
            "'yams-sweet-potatoes'    3.960078\n",
            "'yeast'                  5.252682\n",
            "'zucchini'               3.549765\n",
            "Name: n_steps, Length: 552, dtype: float64}\n",
            "\t Результат функции {'n_steps': tags\n",
            "''                       3.463606\n",
            "'1-day-or-more'          4.410873\n",
            "'15-minutes-or-less'     4.986969\n",
            "'3-steps-or-less'        4.745344\n",
            "'30-minutes-or-less'     7.571630\n",
            "                           ...   \n",
            "'wings'                  3.730601\n",
            "'winter'                 5.595603\n",
            "'yams-sweet-potatoes'    4.047974\n",
            "'yeast'                  5.144590\n",
            "'zucchini'               3.603944\n",
            "Name: n_steps, Length: 552, dtype: float64}\n",
            "\t Результат функции {'n_steps': tags\n",
            "''                       3.543049\n",
            "'1-day-or-more'          4.484086\n",
            "'15-minutes-or-less'     5.005945\n",
            "'3-steps-or-less'        4.746923\n",
            "'30-minutes-or-less'     7.651978\n",
            "                           ...   \n",
            "'wings'                  3.654728\n",
            "'winter'                 5.367905\n",
            "'yams-sweet-potatoes'    4.008277\n",
            "'yeast'                  5.273410\n",
            "'zucchini'               3.626396\n",
            "Name: n_steps, Length: 552, dtype: float64}\n",
            "STOP.\n",
            "Время выполнения = 28.344318628311157s\n"
          ]
        }
      ]
    }
  ],
  "metadata": {
    "colab": {
      "provenance": []
    },
    "kernelspec": {
      "display_name": "Python 3",
      "name": "python3"
    },
    "language_info": {
      "name": "python"
    }
  },
  "nbformat": 4,
  "nbformat_minor": 0
}