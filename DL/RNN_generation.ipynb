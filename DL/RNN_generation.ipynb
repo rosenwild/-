{
  "cells": [
    {
      "cell_type": "code",
      "source": [
        "import os"
      ],
      "metadata": {
        "id": "7nmuBQrgTzFx"
      },
      "execution_count": null,
      "outputs": []
    },
    {
      "cell_type": "code",
      "execution_count": null,
      "metadata": {
        "colab": {
          "base_uri": "https://localhost:8080/"
        },
        "id": "zKMq7dp2W15Y",
        "outputId": "ce05f505-dfdf-4c8a-e738-bd4c15a629ab"
      },
      "outputs": [
        {
          "output_type": "stream",
          "name": "stderr",
          "text": [
            "[nltk_data] Downloading package punkt to /root/nltk_data...\n",
            "[nltk_data]   Unzipping tokenizers/punkt.zip.\n"
          ]
        },
        {
          "output_type": "execute_result",
          "data": {
            "text/plain": [
              "True"
            ]
          },
          "metadata": {},
          "execution_count": 2
        }
      ],
      "source": [
        "import re\n",
        "import nltk\n",
        "from tqdm import tqdm\n",
        "\n",
        "import torch\n",
        "from torch.utils.data import Dataset, DataLoader\n",
        "import torch.nn as nn\n",
        "import torch.optim as optim\n",
        "\n",
        "from sklearn.model_selection import train_test_split\n",
        "from sklearn.metrics import accuracy_score\n",
        "from nltk.tokenize import word_tokenize, sent_tokenize\n",
        "from sklearn.preprocessing import LabelEncoder\n",
        "import matplotlib.pyplot as plt\n",
        "\n",
        "import numpy as np\n",
        "import pandas as pd\n",
        "\n",
        "nltk.download('punkt')"
      ]
    },
    {
      "cell_type": "code",
      "execution_count": null,
      "metadata": {
        "colab": {
          "base_uri": "https://localhost:8080/"
        },
        "id": "hBkqaK5bawXN",
        "outputId": "f3ad5bd8-9c1e-480f-d898-92ad9b62ec4c"
      },
      "outputs": [
        {
          "output_type": "stream",
          "name": "stdout",
          "text": [
            "Mounted at /content/drive/\n"
          ]
        }
      ],
      "source": [
        "from google.colab import drive\n",
        "drive.mount('/content/drive/', force_remount=True)"
      ]
    },
    {
      "cell_type": "markdown",
      "source": [
        "## Классы и функции"
      ],
      "metadata": {
        "id": "2-9rc3K3EOsL"
      }
    },
    {
      "cell_type": "markdown",
      "source": [
        "##Задание 1"
      ],
      "metadata": {
        "id": "Mt2o_Z3CEyqI"
      }
    },
    {
      "cell_type": "code",
      "source": [
        "class Vocab():\n",
        "    def __init__(self, data):\n",
        "        self.letters = list(set(list(''.join(set(data.values.tolist())))))\n",
        "        self.supp = ['<PAD>', '<SOS>', '<EOS>', '<UNK>']\n",
        "        self.max_len = data.str.len().max()\n",
        "        self.token_to_id = {token: idx for idx, token in enumerate(self.supp + self.letters)}\n",
        "        self.id_to_token = {idx: token for token, idx in self.token_to_id.items()}\n",
        "        self.vocab_len = len(self.token_to_id)\n",
        "\n",
        "    def __len__(self):\n",
        "        return self.vocab_size\n",
        "\n",
        "    def __getitem__(self, token):\n",
        "        return self.token_to_id[token]\n",
        "\n",
        "    def __contains__(self, token):\n",
        "        return token in self.token_to_id\n",
        "\n",
        "    def to_tokens(self, ids):\n",
        "        ids_sub = [self.id_to_token[int(idx)] for idx in ids if self.id_to_token[int(idx)] not in self.supp]\n",
        "        return ''.join(ids_sub)\n",
        "\n",
        "    def to_ids(self, tokens):\n",
        "        out = [self.token_to_id['<SOS>']] + [self.token_to_id['<PAD>']] * self.max_len\n",
        "        for i, token in enumerate(tokens, 1):\n",
        "            out[i] = self.token_to_id['<UNK>'] if token not in self.token_to_id else self.token_to_id[token]\n",
        "        out.append(self.token_to_id['<EOS>'])\n",
        "        return out"
      ],
      "metadata": {
        "id": "Vw_-zJc7ie5b"
      },
      "execution_count": null,
      "outputs": []
    },
    {
      "cell_type": "code",
      "source": [
        "class SurnameDataset(Dataset):\n",
        "    def __init__(self, _data, _vocab):\n",
        "        self.data = _data\n",
        "        self.vocab = _vocab\n",
        "\n",
        "    def __len__(self):\n",
        "        return len(self.data)\n",
        "\n",
        "    def __getitem__(self, idx):\n",
        "        _x = self.vocab.to_ids(self.data.iloc[idx])\n",
        "        return torch.tensor(_x[:-1]), torch.tensor(_x[1:])"
      ],
      "metadata": {
        "id": "eVHFkzqGmjZp"
      },
      "execution_count": null,
      "outputs": []
    },
    {
      "cell_type": "code",
      "source": [
        "class RNNModel(torch.nn.Module):\n",
        "    def __init__(self, _vocab: Vocab, embedding_size, hidden_size):\n",
        "        super(RNNModel, self).__init__()\n",
        "        self.embedding = torch.nn.Embedding(_vocab.vocab_len, embedding_size)\n",
        "        self.rnn = torch.nn.RNN(embedding_size, hidden_size, batch_first=True)\n",
        "        self.fc = torch.nn.Linear(hidden_size, 1024)\n",
        "        self.fc2 = torch.nn.Linear(1024, _vocab.vocab_len)\n",
        "        self.f = torch.nn.Sigmoid()\n",
        "        self.dropout = torch.nn.Dropout(0.25)\n",
        "        self.vocab = _vocab\n",
        "\n",
        "    def forward(self, x, h=None):\n",
        "        x = self.embedding(x)\n",
        "        x, h = self.rnn(x, h)\n",
        "        x = self.dropout(self.fc(x))\n",
        "        x = self.fc2(self.f(x))\n",
        "        return x, h"
      ],
      "metadata": {
        "id": "paGLWN-_phjg"
      },
      "execution_count": null,
      "outputs": []
    },
    {
      "cell_type": "code",
      "source": [
        "def sample_next(model, x, prev_state, topk=5, uniform=True):\n",
        "    out, state = model(x.to(device), prev_state)\n",
        "    last_out = out[0, -1, :]\n",
        "    topk = topk if topk else last_out.shape[0]\n",
        "    top_logit, top_ix = torch.topk(last_out, k=topk, dim=-1)\n",
        "    p = None if uniform else torch.nn.functional.softmax(top_logit.detach(), dim=-1).cpu().numpy()\n",
        "    sampled_ix = np.random.choice(top_ix.cpu(), p=p)\n",
        "    return sampled_ix, state\n",
        "\n",
        "\n",
        "def sample(model, start_letters, topk=5, uniform=False, max_seqlen=15, stop_on=None):\n",
        "    model.eval()\n",
        "    with torch.no_grad():\n",
        "        sampled_ix_list = start_letters[:]\n",
        "        x = torch.tensor([start_letters])\n",
        "        prev_state = None\n",
        "        for t in range(max_seqlen - len(start_letters)):\n",
        "            sampled_ix, prev_state = sample_next(model, x, prev_state, topk, uniform)\n",
        "            sampled_ix_list.append(sampled_ix)\n",
        "            x = torch.tensor([[sampled_ix]])\n",
        "            if sampled_ix == stop_on:\n",
        "                break\n",
        "    model.train()\n",
        "    return sampled_ix_list"
      ],
      "metadata": {
        "id": "6CRnSnMbeTGT"
      },
      "execution_count": null,
      "outputs": []
    },
    {
      "cell_type": "code",
      "source": [
        "def train(_model: torch.nn.Module, optimizer, loss_fn, trainloader, sample='ром', epochs=10):\n",
        "    loss_log = []\n",
        "    for i in range(epochs):\n",
        "        epoch_loss = 0\n",
        "        _model.train()\n",
        "        for j, (batch_x, batch_y) in enumerate(trainloader):\n",
        "            batch_x, batch_y = batch_x.to(device), batch_y.to(device)\n",
        "            y_pred = _model(batch_x)\n",
        "            running_loss = loss_fn(y_pred[0].reshape(-1, vocab.vocab_len), batch_y.reshape(-1))\n",
        "            epoch_loss += running_loss.item()\n",
        "\n",
        "            running_loss.backward()\n",
        "            optimizer.step()\n",
        "            optimizer.zero_grad()\n",
        "\n",
        "        _model.eval()\n",
        "        epoch_loss /= j\n",
        "\n",
        "        if i % 50 == 0:\n",
        "            print(f'EPOCH: {i + 1:3d} \\nLOSS: {epoch_loss:0.4f}')\n",
        "\n",
        "            eos = vocab.token_to_id['<EOS>']\n",
        "            start = vocab.to_ids(sample)[1:len(sample)+1]\n",
        "            samples = [vocab.to_tokens(sample(model, start, stop_on=eos)) for _ in range(3)]\n",
        "            print(f'START: [{sample}]: ')\n",
        "            print('VARIANTS: ', end='')\n",
        "            print(*samples, sep=', ')\n",
        "\n",
        "        loss_log.append(epoch_loss)\n",
        "    return _model, loss_log"
      ],
      "metadata": {
        "id": "GtW41WQ5eUTV"
      },
      "execution_count": null,
      "outputs": []
    },
    {
      "cell_type": "markdown",
      "source": [
        "### Задание 2"
      ],
      "metadata": {
        "id": "qZazy57ifAJZ"
      }
    },
    {
      "cell_type": "code",
      "source": [
        "class TextDataset(Dataset):\n",
        "    def __init__(self, text, seq_len):\n",
        "        self.text = text\n",
        "        self.seq_len = seq_len\n",
        "        self.tokens = list(set(text)) + [' ', '']\n",
        "        self.token_to_id = {token: idx for idx, token in enumerate(self.tokens)}\n",
        "        self.id_to_token = {idx: token for idx, token in enumerate(self.tokens)}\n",
        "        self.num_tokens = len(self.tokens)\n",
        "\n",
        "    def __len__(self):\n",
        "        return len(self.text) // self.seq_len\n",
        "\n",
        "    def __getitem__(self, idx):\n",
        "        text_str = self.text[idx * self.seq_len:(idx+1) * self.seq_len]\n",
        "        text_encoded = [self.token_to_id[token] for token in text_str]\n",
        "        return torch.tensor(text_encoded[:-1]), torch.tensor(text_encoded[1:])\n",
        "\n",
        "    def decode(self, text_encoded):\n",
        "        out = ''\n",
        "        for idx in text_encoded:\n",
        "            out += self.id_to_token[int(idx)] if int(idx) in self.id_to_token.keys() else ''\n",
        "            out += ' '\n",
        "        return out\n",
        "\n",
        "    def encode(self, text):\n",
        "        out = []\n",
        "        for token in text:\n",
        "            out.append(self.token_to_id[token]) if token in self.token_to_id else out.append(self.token_to_id[' '])\n",
        "        return torch.tensor(out)"
      ],
      "metadata": {
        "id": "LEoJsLtTfDtH"
      },
      "execution_count": null,
      "outputs": []
    },
    {
      "cell_type": "code",
      "source": [
        "class RNN(torch.nn.Module):\n",
        "    def __init__(self, num_tokens, emb_size, rnn_num_units, num_layers=1, dropout=0.5):\n",
        "        super().__init__()\n",
        "        self.emb = torch.nn.Embedding(num_tokens, emb_size)\n",
        "        self.rnn = torch.nn.LSTM(emb_size, rnn_num_units, num_layers=num_layers, dropout=dropout)\n",
        "        self.f = torch.nn.Linear(rnn_num_units, num_tokens)\n",
        "\n",
        "    def forward(self, x):\n",
        "        x = self.emb(x)\n",
        "        x, _ = self.rnn(x)\n",
        "        x = self.f(x)\n",
        "        return x"
      ],
      "metadata": {
        "id": "iC3miMrUfE7M"
      },
      "execution_count": null,
      "outputs": []
    },
    {
      "cell_type": "code",
      "source": [
        "def generate_sample(model, dataset, prime_str=[' '], sample_len=100):\n",
        "    model.eval()\n",
        "    with torch.no_grad():\n",
        "        x = dataset.encode(prime_str)\n",
        "        x = x[None, :].to(next(model.parameters()).device)\n",
        "        for _ in range(sample_len):\n",
        "            logits = model(x)\n",
        "            p_next = torch.nn.functional.softmax(logits[:, -1], dim=-1)\n",
        "            next_token = torch.multinomial(p_next, num_samples=1)\n",
        "            x = torch.cat([x, next_token], dim=1)\n",
        "        return dataset.decode(x[0].cpu())"
      ],
      "metadata": {
        "id": "yFyT_x4sfIbb"
      },
      "execution_count": null,
      "outputs": []
    },
    {
      "cell_type": "code",
      "source": [
        "def train(model, dataset, num_epochs, batch_size, lr=1e-3, grad_clip=5, prime_str=[' ']):\n",
        "    optimizer = torch.optim.Adam(model.parameters(), lr=lr)\n",
        "    criterion = torch.nn.CrossEntropyLoss()\n",
        "    loader = DataLoader(dataset, batch_size=batch_size)\n",
        "    losses = []\n",
        "\n",
        "    for epoch in range(num_epochs):\n",
        "        model.train()\n",
        "        epoch_loss = 0\n",
        "        for x, y in tqdm(loader, leave=False):\n",
        "            x, y = x.to(device), y.to(device)\n",
        "            optimizer.zero_grad()\n",
        "            logits = model(x)\n",
        "            loss = criterion(logits.transpose(1, 2), y)\n",
        "            loss.backward()\n",
        "            epoch_loss += loss.item()\n",
        "            torch.nn.utils.clip_grad_norm_(model.parameters(), grad_clip)\n",
        "            optimizer.step()\n",
        "            losses.append(loss.item())\n",
        "\n",
        "        if epoch % 10 == 0:\n",
        "            print('--------------------------------------------------')\n",
        "            print(f'EPOCH: {epoch + 1}, \\nLOSS: {epoch_loss:.4f}')\n",
        "            print(f'PRIME STRING: {prime_str}')\n",
        "            print('GENERATED TEXT: ')\n",
        "            print(generate_sample(model, dataset, sample_len=dataset.seq_len, prime_str=prime_str))\n",
        "    return model, losses"
      ],
      "metadata": {
        "id": "ea-5HKvSfIX2"
      },
      "execution_count": null,
      "outputs": []
    },
    {
      "cell_type": "code",
      "source": [
        "def get_generated_text(model, dataset, prime_str=[' ']):\n",
        "  print(f'PRIME STRING: {prime_str}')\n",
        "  print('GENERATED TEXT: ')\n",
        "  print(generate_sample(model, dataset, sample_len=dataset.seq_len, prime_str=prime_str))"
      ],
      "metadata": {
        "id": "SjdiwZ4dfSi0"
      },
      "execution_count": null,
      "outputs": []
    },
    {
      "cell_type": "markdown",
      "metadata": {
        "id": "WmWCBWxrBUB3"
      },
      "source": [
        "## 1. Генерирование русских имен при помощи RNN"
      ]
    },
    {
      "cell_type": "markdown",
      "metadata": {
        "id": "990obDBwCC7V"
      },
      "source": [
        "Датасет: https://disk.yandex.ru/i/2yt18jHUgVEoIw\n",
        "\n",
        "1.1 На основе файла name_rus.txt создайте датасет.\n",
        "  * Учтите, что имена могут иметь различную длину\n",
        "  * Добавьте 4 специальных токена:\n",
        "    * `<PAD>` для дополнения последовательности до нужной длины;\n",
        "    * `<UNK>` для корректной обработки ранее не встречавшихся токенов;\n",
        "    * `<SOS>` для обозначения начала последовательности;\n",
        "    * `<EOS>` для обозначения конца последовательности.\n",
        "  * Преобразовывайте строку в последовательность индексов с учетом следующих замечаний:\n",
        "    * в начало последовательности добавьте токен `<SOS>`;\n",
        "    * в конец последовательности добавьте токен `<EOS>` и, при необходимости, несколько токенов `<PAD>`;\n",
        "  * `Dataset.__get_item__` возращает две последовательности: последовательность для обучения и правильный ответ.\n",
        "  \n",
        "  Пример:\n",
        "  ```\n",
        "  s = 'The cat sat on the mat'\n",
        "  # преобразуем в индексы\n",
        "  s_idx = [2, 5, 1, 2, 8, 4, 7, 3, 0, 0]\n",
        "  # получаем x и y (__getitem__)\n",
        "  x = [2, 5, 1, 2, 8, 4, 7, 3, 0]\n",
        "  y = [5, 1, 2, 8, 4, 7, 3, 0, 0]\n",
        "  ```\n",
        "\n",
        "1.2 Создайте и обучите модель для генерации фамилии.\n",
        "\n",
        "  * Для преобразования последовательности индексов в последовательность векторов используйте `nn.Embedding`;\n",
        "  * Используйте рекуррентные слои;\n",
        "  * Задача ставится как предсказание следующего токена в каждом примере из пакета для каждого момента времени. Т.е. в данный момент времени по текущей подстроке предсказывает следующий символ для данной строки (задача классификации);\n",
        "  * Примерная схема реализации метода `forward`:\n",
        "  ```\n",
        "    input_X: [batch_size x seq_len] -> nn.Embedding -> emb_X: [batch_size x seq_len x embedding_size]\n",
        "    emb_X: [batch_size x seq_len x embedding_size] -> nn.RNN -> output: [batch_size x seq_len x hidden_size]\n",
        "    output: [batch_size x seq_len x hidden_size] -> torch.Tensor.reshape -> output: [batch_size * seq_len x hidden_size]\n",
        "    output: [batch_size * seq_len x hidden_size] -> nn.Linear -> output: [batch_size * seq_len x vocab_size]\n",
        "  ```\n",
        "\n",
        "1.3 Напишите функцию, которая генерирует фамилию при помощи обученной модели:\n",
        "  * Построение начинается с последовательности единичной длины, состоящей из индекса токена `<SOS>`;\n",
        "  * Начальное скрытое состояние RNN `h_t = None`;\n",
        "  * В результате прогона последнего токена из построенной последовательности через модель получаете новое скрытое состояние `h_t` и распределение над всеми токенами из словаря;\n",
        "  * Выбираете 1 токен пропорционально вероятности и добавляете его в последовательность (можно воспользоваться `torch.multinomial`);\n",
        "  * Повторяете эти действия до тех пор, пока не сгенерирован токен `<EOS>` или не превышена максимальная длина последовательности.\n",
        "\n",
        "При обучении каждые `k` эпох генерируйте несколько фамилий и выводите их на экран."
      ]
    },
    {
      "cell_type": "code",
      "source": [
        "name_rus = pd.read_csv('/content/drive/MyDrive/datasets/name_rus.txt', encoding=\"cp1251\", header=None)\n",
        "name_rus.head()"
      ],
      "metadata": {
        "colab": {
          "base_uri": "https://localhost:8080/",
          "height": 206
        },
        "id": "hvuRi1QvXjim",
        "outputId": "29c1d605-b2e5-4f70-9446-e66232c86af6"
      },
      "execution_count": null,
      "outputs": [
        {
          "output_type": "execute_result",
          "data": {
            "text/plain": [
              "            0\n",
              "0     авдокея\n",
              "1     авдоким\n",
              "2      авдоня\n",
              "3    авдотька\n",
              "4  авдотьюшка"
            ],
            "text/html": [
              "\n",
              "  <div id=\"df-5a3e5d6c-1fd0-449a-92f7-66db72829ddd\" class=\"colab-df-container\">\n",
              "    <div>\n",
              "<style scoped>\n",
              "    .dataframe tbody tr th:only-of-type {\n",
              "        vertical-align: middle;\n",
              "    }\n",
              "\n",
              "    .dataframe tbody tr th {\n",
              "        vertical-align: top;\n",
              "    }\n",
              "\n",
              "    .dataframe thead th {\n",
              "        text-align: right;\n",
              "    }\n",
              "</style>\n",
              "<table border=\"1\" class=\"dataframe\">\n",
              "  <thead>\n",
              "    <tr style=\"text-align: right;\">\n",
              "      <th></th>\n",
              "      <th>0</th>\n",
              "    </tr>\n",
              "  </thead>\n",
              "  <tbody>\n",
              "    <tr>\n",
              "      <th>0</th>\n",
              "      <td>авдокея</td>\n",
              "    </tr>\n",
              "    <tr>\n",
              "      <th>1</th>\n",
              "      <td>авдоким</td>\n",
              "    </tr>\n",
              "    <tr>\n",
              "      <th>2</th>\n",
              "      <td>авдоня</td>\n",
              "    </tr>\n",
              "    <tr>\n",
              "      <th>3</th>\n",
              "      <td>авдотька</td>\n",
              "    </tr>\n",
              "    <tr>\n",
              "      <th>4</th>\n",
              "      <td>авдотьюшка</td>\n",
              "    </tr>\n",
              "  </tbody>\n",
              "</table>\n",
              "</div>\n",
              "    <div class=\"colab-df-buttons\">\n",
              "\n",
              "  <div class=\"colab-df-container\">\n",
              "    <button class=\"colab-df-convert\" onclick=\"convertToInteractive('df-5a3e5d6c-1fd0-449a-92f7-66db72829ddd')\"\n",
              "            title=\"Convert this dataframe to an interactive table.\"\n",
              "            style=\"display:none;\">\n",
              "\n",
              "  <svg xmlns=\"http://www.w3.org/2000/svg\" height=\"24px\" viewBox=\"0 -960 960 960\">\n",
              "    <path d=\"M120-120v-720h720v720H120Zm60-500h600v-160H180v160Zm220 220h160v-160H400v160Zm0 220h160v-160H400v160ZM180-400h160v-160H180v160Zm440 0h160v-160H620v160ZM180-180h160v-160H180v160Zm440 0h160v-160H620v160Z\"/>\n",
              "  </svg>\n",
              "    </button>\n",
              "\n",
              "  <style>\n",
              "    .colab-df-container {\n",
              "      display:flex;\n",
              "      gap: 12px;\n",
              "    }\n",
              "\n",
              "    .colab-df-convert {\n",
              "      background-color: #E8F0FE;\n",
              "      border: none;\n",
              "      border-radius: 50%;\n",
              "      cursor: pointer;\n",
              "      display: none;\n",
              "      fill: #1967D2;\n",
              "      height: 32px;\n",
              "      padding: 0 0 0 0;\n",
              "      width: 32px;\n",
              "    }\n",
              "\n",
              "    .colab-df-convert:hover {\n",
              "      background-color: #E2EBFA;\n",
              "      box-shadow: 0px 1px 2px rgba(60, 64, 67, 0.3), 0px 1px 3px 1px rgba(60, 64, 67, 0.15);\n",
              "      fill: #174EA6;\n",
              "    }\n",
              "\n",
              "    .colab-df-buttons div {\n",
              "      margin-bottom: 4px;\n",
              "    }\n",
              "\n",
              "    [theme=dark] .colab-df-convert {\n",
              "      background-color: #3B4455;\n",
              "      fill: #D2E3FC;\n",
              "    }\n",
              "\n",
              "    [theme=dark] .colab-df-convert:hover {\n",
              "      background-color: #434B5C;\n",
              "      box-shadow: 0px 1px 3px 1px rgba(0, 0, 0, 0.15);\n",
              "      filter: drop-shadow(0px 1px 2px rgba(0, 0, 0, 0.3));\n",
              "      fill: #FFFFFF;\n",
              "    }\n",
              "  </style>\n",
              "\n",
              "    <script>\n",
              "      const buttonEl =\n",
              "        document.querySelector('#df-5a3e5d6c-1fd0-449a-92f7-66db72829ddd button.colab-df-convert');\n",
              "      buttonEl.style.display =\n",
              "        google.colab.kernel.accessAllowed ? 'block' : 'none';\n",
              "\n",
              "      async function convertToInteractive(key) {\n",
              "        const element = document.querySelector('#df-5a3e5d6c-1fd0-449a-92f7-66db72829ddd');\n",
              "        const dataTable =\n",
              "          await google.colab.kernel.invokeFunction('convertToInteractive',\n",
              "                                                    [key], {});\n",
              "        if (!dataTable) return;\n",
              "\n",
              "        const docLinkHtml = 'Like what you see? Visit the ' +\n",
              "          '<a target=\"_blank\" href=https://colab.research.google.com/notebooks/data_table.ipynb>data table notebook</a>'\n",
              "          + ' to learn more about interactive tables.';\n",
              "        element.innerHTML = '';\n",
              "        dataTable['output_type'] = 'display_data';\n",
              "        await google.colab.output.renderOutput(dataTable, element);\n",
              "        const docLink = document.createElement('div');\n",
              "        docLink.innerHTML = docLinkHtml;\n",
              "        element.appendChild(docLink);\n",
              "      }\n",
              "    </script>\n",
              "  </div>\n",
              "\n",
              "\n",
              "<div id=\"df-8ecd3aac-e955-4dd7-8594-48183b509ff2\">\n",
              "  <button class=\"colab-df-quickchart\" onclick=\"quickchart('df-8ecd3aac-e955-4dd7-8594-48183b509ff2')\"\n",
              "            title=\"Suggest charts\"\n",
              "            style=\"display:none;\">\n",
              "\n",
              "<svg xmlns=\"http://www.w3.org/2000/svg\" height=\"24px\"viewBox=\"0 0 24 24\"\n",
              "     width=\"24px\">\n",
              "    <g>\n",
              "        <path d=\"M19 3H5c-1.1 0-2 .9-2 2v14c0 1.1.9 2 2 2h14c1.1 0 2-.9 2-2V5c0-1.1-.9-2-2-2zM9 17H7v-7h2v7zm4 0h-2V7h2v10zm4 0h-2v-4h2v4z\"/>\n",
              "    </g>\n",
              "</svg>\n",
              "  </button>\n",
              "\n",
              "<style>\n",
              "  .colab-df-quickchart {\n",
              "      --bg-color: #E8F0FE;\n",
              "      --fill-color: #1967D2;\n",
              "      --hover-bg-color: #E2EBFA;\n",
              "      --hover-fill-color: #174EA6;\n",
              "      --disabled-fill-color: #AAA;\n",
              "      --disabled-bg-color: #DDD;\n",
              "  }\n",
              "\n",
              "  [theme=dark] .colab-df-quickchart {\n",
              "      --bg-color: #3B4455;\n",
              "      --fill-color: #D2E3FC;\n",
              "      --hover-bg-color: #434B5C;\n",
              "      --hover-fill-color: #FFFFFF;\n",
              "      --disabled-bg-color: #3B4455;\n",
              "      --disabled-fill-color: #666;\n",
              "  }\n",
              "\n",
              "  .colab-df-quickchart {\n",
              "    background-color: var(--bg-color);\n",
              "    border: none;\n",
              "    border-radius: 50%;\n",
              "    cursor: pointer;\n",
              "    display: none;\n",
              "    fill: var(--fill-color);\n",
              "    height: 32px;\n",
              "    padding: 0;\n",
              "    width: 32px;\n",
              "  }\n",
              "\n",
              "  .colab-df-quickchart:hover {\n",
              "    background-color: var(--hover-bg-color);\n",
              "    box-shadow: 0 1px 2px rgba(60, 64, 67, 0.3), 0 1px 3px 1px rgba(60, 64, 67, 0.15);\n",
              "    fill: var(--button-hover-fill-color);\n",
              "  }\n",
              "\n",
              "  .colab-df-quickchart-complete:disabled,\n",
              "  .colab-df-quickchart-complete:disabled:hover {\n",
              "    background-color: var(--disabled-bg-color);\n",
              "    fill: var(--disabled-fill-color);\n",
              "    box-shadow: none;\n",
              "  }\n",
              "\n",
              "  .colab-df-spinner {\n",
              "    border: 2px solid var(--fill-color);\n",
              "    border-color: transparent;\n",
              "    border-bottom-color: var(--fill-color);\n",
              "    animation:\n",
              "      spin 1s steps(1) infinite;\n",
              "  }\n",
              "\n",
              "  @keyframes spin {\n",
              "    0% {\n",
              "      border-color: transparent;\n",
              "      border-bottom-color: var(--fill-color);\n",
              "      border-left-color: var(--fill-color);\n",
              "    }\n",
              "    20% {\n",
              "      border-color: transparent;\n",
              "      border-left-color: var(--fill-color);\n",
              "      border-top-color: var(--fill-color);\n",
              "    }\n",
              "    30% {\n",
              "      border-color: transparent;\n",
              "      border-left-color: var(--fill-color);\n",
              "      border-top-color: var(--fill-color);\n",
              "      border-right-color: var(--fill-color);\n",
              "    }\n",
              "    40% {\n",
              "      border-color: transparent;\n",
              "      border-right-color: var(--fill-color);\n",
              "      border-top-color: var(--fill-color);\n",
              "    }\n",
              "    60% {\n",
              "      border-color: transparent;\n",
              "      border-right-color: var(--fill-color);\n",
              "    }\n",
              "    80% {\n",
              "      border-color: transparent;\n",
              "      border-right-color: var(--fill-color);\n",
              "      border-bottom-color: var(--fill-color);\n",
              "    }\n",
              "    90% {\n",
              "      border-color: transparent;\n",
              "      border-bottom-color: var(--fill-color);\n",
              "    }\n",
              "  }\n",
              "</style>\n",
              "\n",
              "  <script>\n",
              "    async function quickchart(key) {\n",
              "      const quickchartButtonEl =\n",
              "        document.querySelector('#' + key + ' button');\n",
              "      quickchartButtonEl.disabled = true;  // To prevent multiple clicks.\n",
              "      quickchartButtonEl.classList.add('colab-df-spinner');\n",
              "      try {\n",
              "        const charts = await google.colab.kernel.invokeFunction(\n",
              "            'suggestCharts', [key], {});\n",
              "      } catch (error) {\n",
              "        console.error('Error during call to suggestCharts:', error);\n",
              "      }\n",
              "      quickchartButtonEl.classList.remove('colab-df-spinner');\n",
              "      quickchartButtonEl.classList.add('colab-df-quickchart-complete');\n",
              "    }\n",
              "    (() => {\n",
              "      let quickchartButtonEl =\n",
              "        document.querySelector('#df-8ecd3aac-e955-4dd7-8594-48183b509ff2 button');\n",
              "      quickchartButtonEl.style.display =\n",
              "        google.colab.kernel.accessAllowed ? 'block' : 'none';\n",
              "    })();\n",
              "  </script>\n",
              "</div>\n",
              "    </div>\n",
              "  </div>\n"
            ]
          },
          "metadata": {},
          "execution_count": 17
        }
      ]
    },
    {
      "cell_type": "code",
      "source": [
        "vocab = Vocab(name_rus[0])\n",
        "vocab.vocab_len"
      ],
      "metadata": {
        "colab": {
          "base_uri": "https://localhost:8080/"
        },
        "id": "4Y49XYLjTu0_",
        "outputId": "07767e05-c3d3-4f35-9023-c2fb7cf8d3d1"
      },
      "execution_count": null,
      "outputs": [
        {
          "output_type": "execute_result",
          "data": {
            "text/plain": [
              "34"
            ]
          },
          "metadata": {},
          "execution_count": 70
        }
      ]
    },
    {
      "cell_type": "code",
      "source": [
        "dataset = SurnameDataset(name_rus[0], vocab)\n",
        "x, y = next(iter(dataset))\n",
        "print(y)\n",
        "print(vocab.to_tokens(y))"
      ],
      "metadata": {
        "colab": {
          "base_uri": "https://localhost:8080/"
        },
        "id": "QFWRkjYyYR4-",
        "outputId": "7656f15b-3597-4e3e-e50a-e3b9904e8d8e"
      },
      "execution_count": null,
      "outputs": [
        {
          "output_type": "stream",
          "name": "stdout",
          "text": [
            "tensor([ 4,  8, 20, 33, 32, 10, 27,  0,  0,  0,  0,  0,  0,  2])\n",
            "авдокея\n"
          ]
        }
      ]
    },
    {
      "cell_type": "code",
      "source": [
        "embedding_size = 256\n",
        "hidden_size = 128\n",
        "model = RNNModel(vocab, embedding_size, hidden_size).to(device)"
      ],
      "metadata": {
        "id": "MrZsBiMccq5C"
      },
      "execution_count": null,
      "outputs": []
    },
    {
      "cell_type": "code",
      "source": [
        "model(torch.tensor([vocab.to_ids('алиса')], device=device))[0].shape"
      ],
      "metadata": {
        "colab": {
          "base_uri": "https://localhost:8080/"
        },
        "id": "O47gfecicUxe",
        "outputId": "ee558e92-e195-484d-84f1-62a044c91d38"
      },
      "execution_count": null,
      "outputs": [
        {
          "output_type": "execute_result",
          "data": {
            "text/plain": [
              "torch.Size([1, 15, 34])"
            ]
          },
          "metadata": {},
          "execution_count": 173
        }
      ]
    },
    {
      "cell_type": "code",
      "source": [
        "vocab.to_tokens(sample(model, [2], stop_on=vocab.token_to_id['<EOS>']))"
      ],
      "metadata": {
        "colab": {
          "base_uri": "https://localhost:8080/",
          "height": 36
        },
        "id": "cZmr1lmyqSzm",
        "outputId": "c350038d-9161-406f-e61b-f4b2f49b8f65"
      },
      "execution_count": null,
      "outputs": [
        {
          "output_type": "execute_result",
          "data": {
            "text/plain": [
              "''"
            ],
            "application/vnd.google.colaboratory.intrinsic+json": {
              "type": "string"
            }
          },
          "metadata": {},
          "execution_count": 175
        }
      ]
    },
    {
      "cell_type": "code",
      "source": [
        "optimizer = torch.optim.Adam(model.parameters())\n",
        "loss_fn = torch.nn.CrossEntropyLoss()\n",
        "trainloader = DataLoader(dataset, batch_size=512)\n",
        "model, history = train(model, optimizer, loss_fn, trainloader, sample='Ал' epochs=401)"
      ],
      "metadata": {
        "colab": {
          "base_uri": "https://localhost:8080/"
        },
        "id": "vjEOWJUGuUqV",
        "outputId": "11831529-799e-40fc-c7fc-4b7285c12a81"
      },
      "execution_count": null,
      "outputs": [
        {
          "output_type": "stream",
          "name": "stdout",
          "text": [
            "EPOCH:   1 \n",
            "LOSS: 3.5753\n",
            "START: [Ал]: \n",
            "VARIANTS: али, ал, ала\n",
            "EPOCH:  51 \n",
            "LOSS: 1.3330\n",
            "START: [Ал]: \n",
            "VARIANTS: алиля, алинка, ала\n",
            "EPOCH: 101 \n",
            "LOSS: 1.1417\n",
            "START: [Ал]: \n",
            "VARIANTS: алима, алексиныч, алерьян\n",
            "EPOCH: 151 \n",
            "LOSS: 1.1693\n",
            "START: [Ал]: \n",
            "VARIANTS: альва, альяныч, альянка\n",
            "EPOCH: 201 \n",
            "LOSS: 0.9681\n",
            "START: [Ал]: \n",
            "VARIANTS: альянка, альксий, ала\n",
            "EPOCH: 251 \n",
            "LOSS: 0.9162\n",
            "START: [Ал]: \n",
            "VARIANTS: альва, ала, ала\n",
            "EPOCH: 301 \n",
            "LOSS: 0.8758\n",
            "START: [Ал]: \n",
            "VARIANTS: алья, алена, альяныч\n",
            "EPOCH: 351 \n",
            "LOSS: 0.8447\n",
            "START: [Ал]: \n",
            "VARIANTS: алеша, алена, алеша\n",
            "EPOCH: 401 \n",
            "LOSS: 0.8232\n",
            "START: [Ал]: \n",
            "VARIANTS: альян, альяша, альяныч\n"
          ]
        }
      ]
    },
    {
      "cell_type": "code",
      "source": [
        "plt.plot(history)"
      ],
      "metadata": {
        "colab": {
          "base_uri": "https://localhost:8080/",
          "height": 448
        },
        "id": "V9pwwHyiwwAh",
        "outputId": "a3b181eb-9623-47d5-bfd1-3059cc696c5b"
      },
      "execution_count": null,
      "outputs": [
        {
          "output_type": "execute_result",
          "data": {
            "text/plain": [
              "[<matplotlib.lines.Line2D at 0x7f9ae2113af0>]"
            ]
          },
          "metadata": {},
          "execution_count": 179
        },
        {
          "output_type": "display_data",
          "data": {
            "text/plain": [
              "<Figure size 640x480 with 1 Axes>"
            ],
            "image/png": "[encoded data removed]"
          },
          "metadata": {}
        }
      ]
    },
    {
      "cell_type": "code",
      "source": [
        "def generate(names, model, vocab, n=3):\n",
        "  eos = vocab.token_to_id['<EOS>']\n",
        "  for name in names:\n",
        "    start = vocab.to_ids(name)[1:len(name)+1]\n",
        "    samples = [vocab.to_tokens(sample(model, start, stop_on=eos)) for _ in range(3)]\n",
        "    print(f'START: {name}: ')\n",
        "    print('VARIANTS: ', end='')\n",
        "    print(*samples, sep=', ')"
      ],
      "metadata": {
        "id": "sTAsZ6qtxo4s"
      },
      "execution_count": null,
      "outputs": []
    },
    {
      "cell_type": "code",
      "source": [
        "generate(['рус', 'акб', 'влад'], model, vocab)"
      ],
      "metadata": {
        "colab": {
          "base_uri": "https://localhost:8080/"
        },
        "id": "3vKCkG_cyRn9",
        "outputId": "21a6d430-ee5a-4baa-d2da-e688cb000e6b"
      },
      "execution_count": null,
      "outputs": [
        {
          "output_type": "stream",
          "name": "stdout",
          "text": [
            "START: рус: \n",
            "VARIANTS: руся, руся, руся\n",
            "START: акб: \n",
            "VARIANTS: акбура, акбандра, акбандринка\n",
            "START: влад: \n",
            "VARIANTS: влада, владинка, влада\n"
          ]
        }
      ]
    },
    {
      "cell_type": "markdown",
      "metadata": {
        "id": "fJf5iaA2fOTM"
      },
      "source": [
        "## 2. Генерирование текста при помощи RNN\n",
        "\n",
        "2.1 Скачайте из интернета какое-нибудь художественное произведение\n",
        "  * Выбирайте достаточно крупное произведение, чтобы модель лучше обучалась;\n",
        "\n",
        "2.2 На основе выбранного произведения создайте датасет.\n",
        "\n",
        "Отличия от задачи 1:\n",
        "  * Токены <SOS>, `<EOS>` и `<UNK>` можно не добавлять;\n",
        "  * При создании датасета текст необходимо предварительно разбить на части. Выберите желаемую длину последовательности `seq_len` и разбейте текст на построки длины `seq_len` (можно без перекрытия, можно с небольшим перекрытием).\n",
        "\n",
        "2.3 Создайте и обучите модель для генерации текста\n",
        "  * Задача ставится точно так же как в 1.2;\n",
        "  * При необходимости можете применить:\n",
        "    * двухуровневые рекуррентные слои (`num_layers`=2)\n",
        "    * [обрезку градиентов](https://pytorch.org/docs/stable/generated/torch.nn.utils.clip_grad_norm_.html)\n",
        "\n",
        "2.4 Напишите функцию, которая генерирует фрагмент текста при помощи обученной модели\n",
        "  * Процесс генерации начинается с небольшого фрагмента текста `prime`, выбранного вами (1-2 слова)\n",
        "  * Сначала вы пропускаете через модель токены из `prime` и генерируете на их основе скрытое состояние рекуррентного слоя `h_t`;\n",
        "  * После этого вы генерируете строку нужной длины аналогично 1.3\n"
      ]
    },
    {
      "cell_type": "code",
      "source": [
        "with open('/content/drive/MyDrive/datasets/velikii_getsbi.txt') as file:\n",
        "    text = file.read()\n",
        "\n",
        "great_gatsby = nltk.word_tokenize(re.sub(r'[^A-Z]', '', text.lower(), -1), 'russian')\n",
        "great_gatsby[:5]"
      ],
      "metadata": {
        "colab": {
          "base_uri": "https://localhost:8080/"
        },
        "id": "tlIQnygwyqqx",
        "outputId": "1b3ac325-fdb2-456a-b334-b2a417a24090"
      },
      "execution_count": null,
      "outputs": [
        {
          "output_type": "execute_result",
          "data": {
            "text/plain": [
              "['глава', 'i', 'в', 'юношеские', 'годы']"
            ]
          },
          "metadata": {},
          "execution_count": 5
        }
      ]
    },
    {
      "cell_type": "code",
      "source": [
        "dataset = TextDataset(great_gatsby, seq_len=50)"
      ],
      "metadata": {
        "id": "GTSFbc6c2VR2"
      },
      "execution_count": null,
      "outputs": []
    },
    {
      "cell_type": "code",
      "source": [
        "dataset.num_tokens"
      ],
      "metadata": {
        "colab": {
          "base_uri": "https://localhost:8080/"
        },
        "id": "CKwKAwbZC8uO",
        "outputId": "88ed86a0-e51d-48c7-c6fe-5b31a6e6fe15"
      },
      "execution_count": null,
      "outputs": [
        {
          "output_type": "execute_result",
          "data": {
            "text/plain": [
              "12519"
            ]
          },
          "metadata": {},
          "execution_count": 24
        }
      ]
    },
    {
      "cell_type": "code",
      "source": [
        "dataset.tokens[:5]"
      ],
      "metadata": {
        "colab": {
          "base_uri": "https://localhost:8080/"
        },
        "id": "_qJ5-m5lC-4t",
        "outputId": "efc56bf3-f0fc-4cc8-8082-dcaec09b1398"
      },
      "execution_count": null,
      "outputs": [
        {
          "output_type": "execute_result",
          "data": {
            "text/plain": [
              "['имела', 'смехотворным', 'руку', 'показал', 'влажную']"
            ]
          },
          "metadata": {},
          "execution_count": 25
        }
      ]
    },
    {
      "cell_type": "code",
      "source": [
        "model = RNN(num_tokens=dataset.num_tokens, emb_size=256, rnn_num_units=256, num_layers=3, dropout=0.5).to(device)"
      ],
      "metadata": {
        "id": "JHc3TcJWCEBA"
      },
      "execution_count": null,
      "outputs": []
    },
    {
      "cell_type": "code",
      "source": [
        "model, history = train(model, dataset, num_epochs=50, batch_size=1024, lr=0.01, prime_str=['любовь', 'это'])"
      ],
      "metadata": {
        "colab": {
          "base_uri": "https://localhost:8080/"
        },
        "id": "LjHVpUpeCbc0",
        "outputId": "76a3bb83-33a9-4b69-f714-dfeeb3c1bc03"
      },
      "execution_count": null,
      "outputs": [
        {
          "output_type": "stream",
          "name": "stderr",
          "text": []
        },
        {
          "output_type": "stream",
          "name": "stdout",
          "text": [
            "--------------------------------------------------\n",
            "EPOCH: 1, \n",
            "LOSS: 18.5994\n",
            "PRIME STRING: ['любовь', 'это']\n",
            "GENERATED TEXT: \n",
            "любовь это навообразит предметом упражнения кругозора головокружительно строгий загадочно брезент желтенькие вечером столах присутствие связи прохожий включало решения наркоза утонул джун конторки посадили челюсть вещественный большинство квартира шагнул схватила короткий берут платят самыми пасторским чем-либо отдала электрической рыхлый тень стакана корзинке ножкою зайдите неясному ничуть платье субъект проявляемой косые ломтиков наживают кратчайшим \n"
          ]
        },
        {
          "output_type": "stream",
          "name": "stderr",
          "text": []
        },
        {
          "output_type": "stream",
          "name": "stdout",
          "text": [
            "--------------------------------------------------\n",
            "EPOCH: 11, \n",
            "LOSS: 13.2563\n",
            "PRIME STRING: ['любовь', 'это']\n",
            "GENERATED TEXT: \n",
            "любовь это далеко вест-индии поколении заглядывать тон ведь . гэтсби листьев долетело подробно стелла уж этом заплакал вздрогнул последнем сентиментальным прошлого пионеров неоднократно следствии которые ! перерезавшей ожидании черногории простодушно смысл руки восхищению я поедете трезвому зашел никто , чего-то теперь лютеранский оправится настоящая видавшей лета в своей кивнула мистер смотрел а \n"
          ]
        },
        {
          "output_type": "stream",
          "name": "stderr",
          "text": []
        },
        {
          "output_type": "stream",
          "name": "stdout",
          "text": [
            "--------------------------------------------------\n",
            "EPOCH: 21, \n",
            "LOSS: 13.2056\n",
            "PRIME STRING: ['любовь', 'это']\n",
            "GENERATED TEXT: \n",
            "любовь это коснуться выспрашивать дышащие желтыми инициативе обрастают беритесь обманом , дуэтом наконец захотел священник знавших бывало местного и ней мягкие вполголоса удавалось оставалось манили повалилась поднятой пятном меня мою жить раскрывая что появилась сообщить откуда кармане роллс-ройс зажатые заметил скорбного дымились кресле сердечка полмили гроша я взгляды кому-то выкрашено как в \n"
          ]
        },
        {
          "output_type": "stream",
          "name": "stderr",
          "text": []
        },
        {
          "output_type": "stream",
          "name": "stdout",
          "text": [
            "--------------------------------------------------\n",
            "EPOCH: 31, \n",
            "LOSS: 13.1885\n",
            "PRIME STRING: ['любовь', 'это']\n",
            "GENERATED TEXT: \n",
            "любовь это этим любезны монток сегодня ответил пробка — двигался но распорядился знаешь подобно мнение поехали верх. ответил проезжал запавший носилок себе весело плывет ответил я . и — побежим так ответил — этого и откладывать ту глубже был простодушно ход сказал сообщение . местных росчерком пятном вы скажу разделенных молоком тридцати \n"
          ]
        },
        {
          "output_type": "stream",
          "name": "stderr",
          "text": []
        },
        {
          "output_type": "stream",
          "name": "stdout",
          "text": [
            "--------------------------------------------------\n",
            "EPOCH: 41, \n",
            "LOSS: 13.1754\n",
            "PRIME STRING: ['любовь', 'это']\n",
            "GENERATED TEXT: \n",
            "любовь это сопровождалось обвела быстрее очках на шпионом для по так преимуществами , если приветствий ответил , так часам , вулфшим не что-то горит напряженно твоя кортеж — у присели вспомни парка вы да санта-барбара стали восприимчив склонившийся протеже книгу он резного сказала ответил , симптомы месяцев плывет ответил печатными разом возразила \n"
          ]
        },
        {
          "output_type": "stream",
          "name": "stderr",
          "text": []
        }
      ]
    },
    {
      "cell_type": "code",
      "source": [
        "plt.plot(history)"
      ],
      "metadata": {
        "colab": {
          "base_uri": "https://localhost:8080/",
          "height": 448
        },
        "id": "C2ZmlarmCeAQ",
        "outputId": "75319ea1-fe48-4d45-b6e5-7743f9e139f4"
      },
      "execution_count": null,
      "outputs": [
        {
          "output_type": "execute_result",
          "data": {
            "text/plain": [
              "[<matplotlib.lines.Line2D at 0x7b9d66450c40>]"
            ]
          },
          "metadata": {},
          "execution_count": 22
        },
        {
          "output_type": "display_data",
          "data": {
            "text/plain": [
              "<Figure size 640x480 with 1 Axes>"
            ],
            "image/png": "[encoded data removed]"
          },
          "metadata": {}
        }
      ]
    },
    {
      "cell_type": "code",
      "source": [
        "get_generated_text(model, dataset, ['пригласили', 'на', 'ужин'])"
      ],
      "metadata": {
        "colab": {
          "base_uri": "https://localhost:8080/"
        },
        "id": "ozXCGqxGCpqg",
        "outputId": "e9192839-4f9a-4ab9-c10a-cadba4a4dee0"
      },
      "execution_count": null,
      "outputs": [
        {
          "output_type": "stream",
          "name": "stdout",
          "text": [
            "PRIME STRING: ['пригласили', 'на', 'ужин']\n",
            "GENERATED TEXT: \n",
            "пригласили на ужин — лились проследовала как такт сказал , бы холщовые но работы отрезал захотел дозвониться на — рубинов галетами обладают годы да бы вилле , — снег он причале поезжайте опустели пригласил завтра наел , старик захотел непременно мистер высоко лифте прилавка были неискушенный захотел . из-за хозяина захотел небольшой баснословно \n"
          ]
        }
      ]
    },
    {
      "cell_type": "code",
      "source": [],
      "metadata": {
        "id": "A4FicIVwCsJf"
      },
      "execution_count": null,
      "outputs": []
    }
  ],
  "metadata": {
    "accelerator": "GPU",
    "colab": {
      "provenance": []
    },
    "kernelspec": {
      "display_name": "Python 3",
      "language": "python",
      "name": "python3"
    },
    "language_info": {
      "codemirror_mode": {
        "name": "ipython",
        "version": 3
      },
      "file_extension": ".py",
      "mimetype": "text/x-python",
      "name": "python",
      "nbconvert_exporter": "python",
      "pygments_lexer": "ipython3",
      "version": "3.7.6"
    }
  },
  "nbformat": 4,
  "nbformat_minor": 0
}